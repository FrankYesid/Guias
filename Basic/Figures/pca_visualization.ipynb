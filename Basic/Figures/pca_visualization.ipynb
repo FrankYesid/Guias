{
 "cells": [
  {
   "cell_type": "markdown",
   "metadata": {},
   "source": [
    "# Explicación del PCA"
   ]
  },
  {
   "cell_type": "code",
   "execution_count": 1,
   "metadata": {},
   "outputs": [
    {
     "name": "stdout",
     "output_type": "stream",
     "text": [
      "Collecting IPython==8.21.0\n",
      "  Using cached ipython-8.21.0-py3-none-any.whl.metadata (5.9 kB)\n",
      "Requirement already satisfied: decorator in d:\\programs\\anaconda3\\lib\\site-packages (from IPython==8.21.0) (5.1.1)\n",
      "Requirement already satisfied: jedi>=0.16 in d:\\programs\\anaconda3\\lib\\site-packages (from IPython==8.21.0) (0.19.1)\n",
      "Requirement already satisfied: matplotlib-inline in d:\\programs\\anaconda3\\lib\\site-packages (from IPython==8.21.0) (0.1.6)\n",
      "Requirement already satisfied: prompt-toolkit<3.1.0,>=3.0.41 in d:\\programs\\anaconda3\\lib\\site-packages (from IPython==8.21.0) (3.0.43)\n",
      "Requirement already satisfied: pygments>=2.4.0 in d:\\programs\\anaconda3\\lib\\site-packages (from IPython==8.21.0) (2.17.2)\n",
      "Requirement already satisfied: stack-data in d:\\programs\\anaconda3\\lib\\site-packages (from IPython==8.21.0) (0.6.3)\n",
      "Requirement already satisfied: traitlets>=5 in d:\\programs\\anaconda3\\lib\\site-packages (from IPython==8.21.0) (5.14.1)\n",
      "Requirement already satisfied: colorama in d:\\programs\\anaconda3\\lib\\site-packages (from IPython==8.21.0) (0.4.6)\n",
      "Requirement already satisfied: parso<0.9.0,>=0.8.3 in d:\\programs\\anaconda3\\lib\\site-packages (from jedi>=0.16->IPython==8.21.0) (0.8.3)\n",
      "Requirement already satisfied: wcwidth in d:\\programs\\anaconda3\\lib\\site-packages (from prompt-toolkit<3.1.0,>=3.0.41->IPython==8.21.0) (0.2.13)\n",
      "Requirement already satisfied: executing>=1.2.0 in d:\\programs\\anaconda3\\lib\\site-packages (from stack-data->IPython==8.21.0) (2.0.1)\n",
      "Requirement already satisfied: asttokens>=2.1.0 in d:\\programs\\anaconda3\\lib\\site-packages (from stack-data->IPython==8.21.0) (2.4.1)\n",
      "Requirement already satisfied: pure-eval in d:\\programs\\anaconda3\\lib\\site-packages (from stack-data->IPython==8.21.0) (0.2.2)\n",
      "Requirement already satisfied: six>=1.12.0 in d:\\programs\\anaconda3\\lib\\site-packages (from asttokens>=2.1.0->stack-data->IPython==8.21.0) (1.16.0)\n",
      "Using cached ipython-8.21.0-py3-none-any.whl (810 kB)\n",
      "Installing collected packages: IPython\n",
      "  Attempting uninstall: IPython\n",
      "    Found existing installation: ipython 8.12.3\n",
      "    Uninstalling ipython-8.12.3:\n",
      "      Successfully uninstalled ipython-8.12.3\n",
      "Successfully installed IPython-8.21.0\n"
     ]
    },
    {
     "name": "stderr",
     "output_type": "stream",
     "text": [
      "WARNING: Ignoring invalid distribution ~andas (D:\\Programs\\Anaconda3\\Lib\\site-packages)\n",
      "WARNING: Ignoring invalid distribution ~andas (D:\\Programs\\Anaconda3\\Lib\\site-packages)\n",
      "WARNING: Ignoring invalid distribution ~andas (D:\\Programs\\Anaconda3\\Lib\\site-packages)\n",
      "ERROR: pip's dependency resolver does not currently take into account all the packages that are installed. This behaviour is the source of the following dependency conflicts.\n",
      "pipreqs 0.5.0 requires ipython==8.12.3, but you have ipython 8.21.0 which is incompatible.\n"
     ]
    },
    {
     "name": "stdout",
     "output_type": "stream",
     "text": [
      "Requirement already satisfied: manim in d:\\programs\\anaconda3\\lib\\site-packages (0.18.1)\n",
      "Requirement already satisfied: jupyter-manim in d:\\programs\\anaconda3\\lib\\site-packages (1.3)\n",
      "Requirement already satisfied: ffmpeg in d:\\programs\\anaconda3\\lib\\site-packages (1.4)\n",
      "Requirement already satisfied: Pillow>=9.1 in d:\\programs\\anaconda3\\lib\\site-packages (from manim) (10.2.0)\n",
      "Requirement already satisfied: Pygments>=2.0.0 in d:\\programs\\anaconda3\\lib\\site-packages (from manim) (2.17.2)\n",
      "Requirement already satisfied: click>=8.0 in d:\\programs\\anaconda3\\lib\\site-packages (from manim) (8.1.7)\n",
      "Requirement already satisfied: cloup>=2.0.0 in d:\\programs\\anaconda3\\lib\\site-packages (from manim) (3.0.5)\n",
      "Requirement already satisfied: decorator>=4.3.2 in d:\\programs\\anaconda3\\lib\\site-packages (from manim) (5.1.1)\n",
      "Requirement already satisfied: isosurfaces>=0.1.0 in d:\\programs\\anaconda3\\lib\\site-packages (from manim) (0.1.2)\n",
      "Requirement already satisfied: manimpango<1.0.0,>=0.5.0 in d:\\programs\\anaconda3\\lib\\site-packages (from manim) (0.6.0)\n",
      "Requirement already satisfied: mapbox-earcut>=1.0.0 in d:\\programs\\anaconda3\\lib\\site-packages (from manim) (1.0.2)\n",
      "Requirement already satisfied: moderngl<6.0.0,>=5.0.0 in d:\\programs\\anaconda3\\lib\\site-packages (from manim) (5.12.0)\n",
      "Requirement already satisfied: moderngl-window>=2.0.0 in d:\\programs\\anaconda3\\lib\\site-packages (from manim) (2.4.6)\n",
      "Requirement already satisfied: networkx>=2.6 in d:\\programs\\anaconda3\\lib\\site-packages (from manim) (3.2.1)\n",
      "Requirement already satisfied: numpy>=1.26 in d:\\programs\\anaconda3\\lib\\site-packages (from manim) (1.26.0)\n",
      "Requirement already satisfied: pycairo<2.0.0,>=1.13 in d:\\programs\\anaconda3\\lib\\site-packages (from manim) (1.27.0)\n",
      "Requirement already satisfied: pydub>=0.20.0 in d:\\programs\\anaconda3\\lib\\site-packages (from manim) (0.25.1)\n",
      "Requirement already satisfied: rich>=12.0.0 in d:\\programs\\anaconda3\\lib\\site-packages (from manim) (13.7.0)\n",
      "Requirement already satisfied: scipy>=1.6.0 in d:\\programs\\anaconda3\\lib\\site-packages (from manim) (1.12.0)\n",
      "Requirement already satisfied: screeninfo>=0.7 in d:\\programs\\anaconda3\\lib\\site-packages (from manim) (0.8.1)\n",
      "Requirement already satisfied: skia-pathops>=0.7.0 in d:\\programs\\anaconda3\\lib\\site-packages (from manim) (0.8.0.post2)\n",
      "Requirement already satisfied: srt>=3.0.0 in d:\\programs\\anaconda3\\lib\\site-packages (from manim) (3.5.3)\n",
      "Requirement already satisfied: svgelements>=1.8.0 in d:\\programs\\anaconda3\\lib\\site-packages (from manim) (1.9.6)\n",
      "Requirement already satisfied: tqdm>=4.0.0 in d:\\programs\\anaconda3\\lib\\site-packages (from manim) (4.66.2)\n",
      "Requirement already satisfied: typing-extensions>=4.0.0 in d:\\programs\\anaconda3\\lib\\site-packages (from manim) (4.9.0)\n",
      "Requirement already satisfied: watchdog>=2.0.0 in d:\\programs\\anaconda3\\lib\\site-packages (from manim) (4.0.0)\n",
      "Requirement already satisfied: manimlib in d:\\programs\\anaconda3\\lib\\site-packages (from jupyter-manim) (0.2.0)\n",
      "Requirement already satisfied: IPython in d:\\programs\\anaconda3\\lib\\site-packages (from jupyter-manim) (8.21.0)\n",
      "Requirement already satisfied: colorama in d:\\programs\\anaconda3\\lib\\site-packages (from click>=8.0->manim) (0.4.6)\n",
      "Requirement already satisfied: glcontext>=3.0.0 in d:\\programs\\anaconda3\\lib\\site-packages (from moderngl<6.0.0,>=5.0.0->manim) (3.0.0)\n",
      "Requirement already satisfied: pyglet>=2.0.0 in d:\\programs\\anaconda3\\lib\\site-packages (from moderngl-window>=2.0.0->manim) (2.0.18)\n",
      "Requirement already satisfied: pyrr<1,>=0.10.3 in d:\\programs\\anaconda3\\lib\\site-packages (from moderngl-window>=2.0.0->manim) (0.10.3)\n",
      "Requirement already satisfied: markdown-it-py>=2.2.0 in d:\\programs\\anaconda3\\lib\\site-packages (from rich>=12.0.0->manim) (3.0.0)\n",
      "Requirement already satisfied: jedi>=0.16 in d:\\programs\\anaconda3\\lib\\site-packages (from IPython->jupyter-manim) (0.19.1)\n",
      "Requirement already satisfied: matplotlib-inline in d:\\programs\\anaconda3\\lib\\site-packages (from IPython->jupyter-manim) (0.1.6)\n",
      "Requirement already satisfied: prompt-toolkit<3.1.0,>=3.0.41 in d:\\programs\\anaconda3\\lib\\site-packages (from IPython->jupyter-manim) (3.0.43)\n",
      "Requirement already satisfied: stack-data in d:\\programs\\anaconda3\\lib\\site-packages (from IPython->jupyter-manim) (0.6.3)\n",
      "Requirement already satisfied: traitlets>=5 in d:\\programs\\anaconda3\\lib\\site-packages (from IPython->jupyter-manim) (5.14.1)\n",
      "Collecting argparse (from manimlib->jupyter-manim)\n",
      "  Using cached argparse-1.4.0-py2.py3-none-any.whl.metadata (2.8 kB)\n",
      "Requirement already satisfied: colour in d:\\programs\\anaconda3\\lib\\site-packages (from manimlib->jupyter-manim) (0.1.5)\n",
      "Requirement already satisfied: progressbar in d:\\programs\\anaconda3\\lib\\site-packages (from manimlib->jupyter-manim) (2.5)\n",
      "Requirement already satisfied: opencv-python in d:\\programs\\anaconda3\\lib\\site-packages (from manimlib->jupyter-manim) (4.10.0.84)\n",
      "Requirement already satisfied: pyreadline in d:\\programs\\anaconda3\\lib\\site-packages (from manimlib->jupyter-manim) (2.1)\n",
      "Requirement already satisfied: parso<0.9.0,>=0.8.3 in d:\\programs\\anaconda3\\lib\\site-packages (from jedi>=0.16->IPython->jupyter-manim) (0.8.3)\n",
      "Requirement already satisfied: mdurl~=0.1 in d:\\programs\\anaconda3\\lib\\site-packages (from markdown-it-py>=2.2.0->rich>=12.0.0->manim) (0.1.2)\n",
      "Requirement already satisfied: wcwidth in d:\\programs\\anaconda3\\lib\\site-packages (from prompt-toolkit<3.1.0,>=3.0.41->IPython->jupyter-manim) (0.2.13)\n",
      "Requirement already satisfied: multipledispatch in d:\\programs\\anaconda3\\lib\\site-packages (from pyrr<1,>=0.10.3->moderngl-window>=2.0.0->manim) (0.6.0)\n",
      "Requirement already satisfied: executing>=1.2.0 in d:\\programs\\anaconda3\\lib\\site-packages (from stack-data->IPython->jupyter-manim) (2.0.1)\n",
      "Requirement already satisfied: asttokens>=2.1.0 in d:\\programs\\anaconda3\\lib\\site-packages (from stack-data->IPython->jupyter-manim) (2.4.1)\n",
      "Requirement already satisfied: pure-eval in d:\\programs\\anaconda3\\lib\\site-packages (from stack-data->IPython->jupyter-manim) (0.2.2)\n",
      "Requirement already satisfied: six>=1.12.0 in d:\\programs\\anaconda3\\lib\\site-packages (from asttokens>=2.1.0->stack-data->IPython->jupyter-manim) (1.16.0)\n",
      "Using cached argparse-1.4.0-py2.py3-none-any.whl (23 kB)\n",
      "Installing collected packages: argparse\n",
      "Successfully installed argparse-1.4.0\n"
     ]
    },
    {
     "name": "stderr",
     "output_type": "stream",
     "text": [
      "WARNING: Ignoring invalid distribution ~andas (D:\\Programs\\Anaconda3\\Lib\\site-packages)\n",
      "WARNING: Ignoring invalid distribution ~andas (D:\\Programs\\Anaconda3\\Lib\\site-packages)\n",
      "WARNING: Ignoring invalid distribution ~andas (D:\\Programs\\Anaconda3\\Lib\\site-packages)\n"
     ]
    }
   ],
   "source": [
    "# Instalar librerias sobre el tema\n",
    "!pip install IPython==8.21.0\n",
    "!pip install manim jupyter-manim ffmpeg\n"
   ]
  },
  {
   "cell_type": "code",
   "execution_count": 2,
   "metadata": {},
   "outputs": [
    {
     "name": "stderr",
     "output_type": "stream",
     "text": [
      "d:\\Programs\\Anaconda3\\Lib\\site-packages\\pydub\\utils.py:170: RuntimeWarning: Couldn't find ffmpeg or avconv - defaulting to ffmpeg, but may not work\n",
      "  warn(\"Couldn't find ffmpeg or avconv - defaulting to ffmpeg, but may not work\", RuntimeWarning)\n"
     ]
    }
   ],
   "source": [
    "from manim import *\n",
    "import numpy as np\n"
   ]
  },
  {
   "cell_type": "code",
   "execution_count": 3,
   "metadata": {},
   "outputs": [],
   "source": [
    "import ffmpeg"
   ]
  },
  {
   "cell_type": "code",
   "execution_count": 5,
   "metadata": {},
   "outputs": [
    {
     "data": {
      "text/html": [
       "<pre style=\"white-space:pre;overflow-x:auto;line-height:normal;font-family:Menlo,'DejaVu Sans Mono',consolas,'Courier New',monospace\">Manim Community <span style=\"color: #008000; text-decoration-color: #008000\">v0.18.1</span>\n",
       "\n",
       "</pre>\n"
      ],
      "text/plain": [
       "Manim Community \u001b[32mv0.\u001b[0m\u001b[32m18.1\u001b[0m\n",
       "\n"
      ]
     },
     "metadata": {},
     "output_type": "display_data"
    },
    {
     "ename": "RuntimeError",
     "evalue": "Manim could not find ffmpeg, which is required for generating video output.\nFor installing ffmpeg please consult https://docs.manim.community/en/stable/installation.html\nMake sure to either add ffmpeg to the PATH environment variable\nor set path to the ffmpeg executable under the ffmpeg header in Manim's configuration.",
     "output_type": "error",
     "traceback": [
      "\u001b[1;31m---------------------------------------------------------------------------\u001b[0m",
      "\u001b[1;31mRuntimeError\u001b[0m                              Traceback (most recent call last)",
      "Cell \u001b[1;32mIn[5], line 1\u001b[0m\n\u001b[1;32m----> 1\u001b[0m \u001b[43mget_ipython\u001b[49m\u001b[43m(\u001b[49m\u001b[43m)\u001b[49m\u001b[38;5;241;43m.\u001b[39;49m\u001b[43mrun_cell_magic\u001b[49m\u001b[43m(\u001b[49m\u001b[38;5;124;43m'\u001b[39;49m\u001b[38;5;124;43mmanim\u001b[39;49m\u001b[38;5;124;43m'\u001b[39;49m\u001b[43m,\u001b[49m\u001b[43m \u001b[49m\u001b[38;5;124;43m'\u001b[39;49m\u001b[38;5;124;43m-qm -v WARNING SquareToCircle\u001b[39;49m\u001b[38;5;124;43m'\u001b[39;49m\u001b[43m,\u001b[49m\u001b[43m \u001b[49m\u001b[38;5;124;43m'\u001b[39;49m\u001b[38;5;130;43;01m\\n\u001b[39;49;00m\u001b[38;5;124;43mclass SquareToCircle(Scene):\u001b[39;49m\u001b[38;5;130;43;01m\\n\u001b[39;49;00m\u001b[38;5;124;43m   def construct(self):\u001b[39;49m\u001b[38;5;130;43;01m\\n\u001b[39;49;00m\u001b[38;5;124;43m      square = Square()\u001b[39;49m\u001b[38;5;130;43;01m\\n\u001b[39;49;00m\u001b[38;5;124;43m      circle = Circle()\u001b[39;49m\u001b[38;5;130;43;01m\\n\u001b[39;49;00m\u001b[38;5;124;43m      circle.set_fill(PINK, opacity=0.5)\u001b[39;49m\u001b[38;5;130;43;01m\\n\u001b[39;49;00m\u001b[38;5;124;43m      self.play(Create(square))\u001b[39;49m\u001b[38;5;130;43;01m\\n\u001b[39;49;00m\u001b[38;5;124;43m      self.play(Transform(square, circle))\u001b[39;49m\u001b[38;5;130;43;01m\\n\u001b[39;49;00m\u001b[38;5;124;43m      self.wait()\u001b[39;49m\u001b[38;5;130;43;01m\\n\u001b[39;49;00m\u001b[38;5;124;43m'\u001b[39;49m\u001b[43m)\u001b[49m\n",
      "File \u001b[1;32md:\\Programs\\Anaconda3\\Lib\\site-packages\\IPython\\core\\interactiveshell.py:2478\u001b[0m, in \u001b[0;36mrun_cell_magic\u001b[1;34m(self, magic_name, line, cell)\u001b[0m\n\u001b[0;32m   2477\u001b[0m \u001b[38;5;28;01mdef\u001b[39;00m \u001b[38;5;21mrun_cell_magic\u001b[39m(\u001b[38;5;28mself\u001b[39m, magic_name, line, cell):\n\u001b[1;32m-> 2478\u001b[0m \u001b[38;5;250m    \u001b[39m\u001b[38;5;124;03m\"\"\"Execute the given cell magic.\u001b[39;00m\n\u001b[0;32m   2479\u001b[0m \n\u001b[0;32m   2480\u001b[0m \u001b[38;5;124;03m    Parameters\u001b[39;00m\n\u001b[0;32m   2481\u001b[0m \u001b[38;5;124;03m    ----------\u001b[39;00m\n\u001b[0;32m   2482\u001b[0m \u001b[38;5;124;03m    magic_name : str\u001b[39;00m\n\u001b[0;32m   2483\u001b[0m \u001b[38;5;124;03m        Name of the desired magic function, without '%' prefix.\u001b[39;00m\n\u001b[0;32m   2484\u001b[0m \u001b[38;5;124;03m    line : str\u001b[39;00m\n\u001b[0;32m   2485\u001b[0m \u001b[38;5;124;03m        The rest of the first input line as a single string.\u001b[39;00m\n\u001b[0;32m   2486\u001b[0m \u001b[38;5;124;03m    cell : str\u001b[39;00m\n\u001b[0;32m   2487\u001b[0m \u001b[38;5;124;03m        The body of the cell as a (possibly multiline) string.\u001b[39;00m\n\u001b[0;32m   2488\u001b[0m \u001b[38;5;124;03m    \"\"\"\u001b[39;00m\n\u001b[0;32m   2489\u001b[0m     fn \u001b[38;5;241m=\u001b[39m \u001b[38;5;28mself\u001b[39m\u001b[38;5;241m.\u001b[39m_find_with_lazy_load(\u001b[38;5;124m\"\u001b[39m\u001b[38;5;124mcell\u001b[39m\u001b[38;5;124m\"\u001b[39m, magic_name)\n\u001b[0;32m   2490\u001b[0m     \u001b[38;5;28;01mif\u001b[39;00m fn \u001b[38;5;129;01mis\u001b[39;00m \u001b[38;5;28;01mNone\u001b[39;00m:\n",
      "File \u001b[1;32md:\\Programs\\Anaconda3\\Lib\\site-packages\\manim\\utils\\ipython_magic.py:142\u001b[0m, in \u001b[0;36mManimMagic.manim\u001b[1;34m(self, line, cell, local_ns)\u001b[0m\n\u001b[0;32m    140\u001b[0m \u001b[38;5;28;01mtry\u001b[39;00m:\n\u001b[0;32m    141\u001b[0m     SceneClass \u001b[38;5;241m=\u001b[39m local_ns[config[\u001b[38;5;124m\"\u001b[39m\u001b[38;5;124mscene_names\u001b[39m\u001b[38;5;124m\"\u001b[39m][\u001b[38;5;241m0\u001b[39m]]\n\u001b[1;32m--> 142\u001b[0m     scene \u001b[38;5;241m=\u001b[39m \u001b[43mSceneClass\u001b[49m\u001b[43m(\u001b[49m\u001b[43mrenderer\u001b[49m\u001b[38;5;241;43m=\u001b[39;49m\u001b[43mrenderer\u001b[49m\u001b[43m)\u001b[49m\n\u001b[0;32m    143\u001b[0m     scene\u001b[38;5;241m.\u001b[39mrender()\n\u001b[0;32m    144\u001b[0m \u001b[38;5;28;01mfinally\u001b[39;00m:\n\u001b[0;32m    145\u001b[0m     \u001b[38;5;66;03m# Shader cache becomes invalid as the context is destroyed\u001b[39;00m\n",
      "File \u001b[1;32md:\\Programs\\Anaconda3\\Lib\\site-packages\\manim\\scene\\scene.py:147\u001b[0m, in \u001b[0;36mScene.__init__\u001b[1;34m(self, renderer, camera_class, always_update_mobjects, random_seed, skip_animations)\u001b[0m\n\u001b[0;32m    145\u001b[0m \u001b[38;5;28;01melse\u001b[39;00m:\n\u001b[0;32m    146\u001b[0m     \u001b[38;5;28mself\u001b[39m\u001b[38;5;241m.\u001b[39mrenderer \u001b[38;5;241m=\u001b[39m renderer\n\u001b[1;32m--> 147\u001b[0m \u001b[38;5;28;43mself\u001b[39;49m\u001b[38;5;241;43m.\u001b[39;49m\u001b[43mrenderer\u001b[49m\u001b[38;5;241;43m.\u001b[39;49m\u001b[43minit_scene\u001b[49m\u001b[43m(\u001b[49m\u001b[38;5;28;43mself\u001b[39;49m\u001b[43m)\u001b[49m\n\u001b[0;32m    149\u001b[0m \u001b[38;5;28mself\u001b[39m\u001b[38;5;241m.\u001b[39mmobjects \u001b[38;5;241m=\u001b[39m []\n\u001b[0;32m    150\u001b[0m \u001b[38;5;66;03m# TODO, remove need for foreground mobjects\u001b[39;00m\n",
      "File \u001b[1;32md:\\Programs\\Anaconda3\\Lib\\site-packages\\manim\\renderer\\cairo_renderer.py:54\u001b[0m, in \u001b[0;36mCairoRenderer.init_scene\u001b[1;34m(self, scene)\u001b[0m\n\u001b[0;32m     53\u001b[0m \u001b[38;5;28;01mdef\u001b[39;00m \u001b[38;5;21minit_scene\u001b[39m(\u001b[38;5;28mself\u001b[39m, scene):\n\u001b[1;32m---> 54\u001b[0m     \u001b[38;5;28mself\u001b[39m\u001b[38;5;241m.\u001b[39mfile_writer: Any \u001b[38;5;241m=\u001b[39m \u001b[38;5;28;43mself\u001b[39;49m\u001b[38;5;241;43m.\u001b[39;49m\u001b[43m_file_writer_class\u001b[49m\u001b[43m(\u001b[49m\n\u001b[0;32m     55\u001b[0m \u001b[43m        \u001b[49m\u001b[38;5;28;43mself\u001b[39;49m\u001b[43m,\u001b[49m\n\u001b[0;32m     56\u001b[0m \u001b[43m        \u001b[49m\u001b[43mscene\u001b[49m\u001b[38;5;241;43m.\u001b[39;49m\u001b[38;5;18;43m__class__\u001b[39;49m\u001b[38;5;241;43m.\u001b[39;49m\u001b[38;5;18;43m__name__\u001b[39;49m\u001b[43m,\u001b[49m\n\u001b[0;32m     57\u001b[0m \u001b[43m    \u001b[49m\u001b[43m)\u001b[49m\n",
      "File \u001b[1;32md:\\Programs\\Anaconda3\\Lib\\site-packages\\manim\\scene\\scene_file_writer.py:88\u001b[0m, in \u001b[0;36mSceneFileWriter.__init__\u001b[1;34m(self, renderer, scene_name, **kwargs)\u001b[0m\n\u001b[0;32m     86\u001b[0m \u001b[38;5;66;03m# fail fast if ffmpeg is not found\u001b[39;00m\n\u001b[0;32m     87\u001b[0m \u001b[38;5;28;01mif\u001b[39;00m \u001b[38;5;129;01mnot\u001b[39;00m ensure_executable(Path(config\u001b[38;5;241m.\u001b[39mffmpeg_executable)):\n\u001b[1;32m---> 88\u001b[0m     \u001b[38;5;28;01mraise\u001b[39;00m \u001b[38;5;167;01mRuntimeError\u001b[39;00m(\n\u001b[0;32m     89\u001b[0m         \u001b[38;5;124m\"\u001b[39m\u001b[38;5;124mManim could not find ffmpeg, which is required for generating video output.\u001b[39m\u001b[38;5;130;01m\\n\u001b[39;00m\u001b[38;5;124m\"\u001b[39m\n\u001b[0;32m     90\u001b[0m         \u001b[38;5;124m\"\u001b[39m\u001b[38;5;124mFor installing ffmpeg please consult https://docs.manim.community/en/stable/installation.html\u001b[39m\u001b[38;5;130;01m\\n\u001b[39;00m\u001b[38;5;124m\"\u001b[39m\n\u001b[0;32m     91\u001b[0m         \u001b[38;5;124m\"\u001b[39m\u001b[38;5;124mMake sure to either add ffmpeg to the PATH environment variable\u001b[39m\u001b[38;5;130;01m\\n\u001b[39;00m\u001b[38;5;124m\"\u001b[39m\n\u001b[0;32m     92\u001b[0m         \u001b[38;5;124m\"\u001b[39m\u001b[38;5;124mor set path to the ffmpeg executable under the ffmpeg header in Manim\u001b[39m\u001b[38;5;124m'\u001b[39m\u001b[38;5;124ms configuration.\u001b[39m\u001b[38;5;124m\"\u001b[39m\n\u001b[0;32m     93\u001b[0m     )\n",
      "\u001b[1;31mRuntimeError\u001b[0m: Manim could not find ffmpeg, which is required for generating video output.\nFor installing ffmpeg please consult https://docs.manim.community/en/stable/installation.html\nMake sure to either add ffmpeg to the PATH environment variable\nor set path to the ffmpeg executable under the ffmpeg header in Manim's configuration."
     ]
    }
   ],
   "source": [
    "%%manim -qm -v WARNING SquareToCircle\n",
    "\n",
    "class SquareToCircle(Scene):\n",
    "   def construct(self):\n",
    "      square = Square()\n",
    "      circle = Circle()\n",
    "      circle.set_fill(PINK, opacity=0.5)\n",
    "      self.play(Create(square))\n",
    "      self.play(Transform(square, circle))\n",
    "      self.wait()"
   ]
  },
  {
   "cell_type": "code",
   "execution_count": null,
   "metadata": {},
   "outputs": [],
   "source": []
  }
 ],
 "metadata": {
  "kernelspec": {
   "display_name": "base",
   "language": "python",
   "name": "python3"
  },
  "language_info": {
   "codemirror_mode": {
    "name": "ipython",
    "version": 3
   },
   "file_extension": ".py",
   "mimetype": "text/x-python",
   "name": "python",
   "nbconvert_exporter": "python",
   "pygments_lexer": "ipython3",
   "version": "3.12.4"
  }
 },
 "nbformat": 4,
 "nbformat_minor": 2
}

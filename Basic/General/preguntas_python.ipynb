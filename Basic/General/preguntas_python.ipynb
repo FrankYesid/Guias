{
 "cells": [
  {
   "cell_type": "markdown",
   "id": "0e497d48",
   "metadata": {},
   "source": [
    "### ¿Qué es Google Colab y para qué se utiliza?"
   ]
  },
  {
   "cell_type": "code",
   "execution_count": 1,
   "id": "0592abaa",
   "metadata": {},
   "outputs": [],
   "source": [
    "# Google Colab es un entorno de Jupyter Notebook basado en la nube que permite ejecutar código Python de forma gratuita."
   ]
  },
  {
   "cell_type": "markdown",
   "id": "472b5744",
   "metadata": {},
   "source": [
    "### ¿Cómo se declara una variable en Python?"
   ]
  },
  {
   "cell_type": "code",
   "execution_count": 39,
   "id": "2b056898",
   "metadata": {},
   "outputs": [],
   "source": [
    "x = 10  # Declaración de una variable"
   ]
  },
  {
   "cell_type": "code",
   "execution_count": 40,
   "id": "9a4ec545",
   "metadata": {},
   "outputs": [
    {
     "data": {
      "text/plain": [
       "10"
      ]
     },
     "execution_count": 40,
     "metadata": {},
     "output_type": "execute_result"
    }
   ],
   "source": [
    "x"
   ]
  },
  {
   "cell_type": "markdown",
   "id": "1ccbaaa7",
   "metadata": {},
   "source": [
    "### ¿Qué tipo de datos representa el valor '3.14' en Python?"
   ]
  },
  {
   "cell_type": "code",
   "execution_count": 3,
   "id": "e9b789fe",
   "metadata": {},
   "outputs": [
    {
     "name": "stdout",
     "output_type": "stream",
     "text": [
      "<class 'float'>\n"
     ]
    }
   ],
   "source": [
    "tipo_dato = type(3.14)\n",
    "print(tipo_dato)  # Devuelve <class 'float'>"
   ]
  },
  {
   "cell_type": "markdown",
   "id": "9e3d571c",
   "metadata": {},
   "source": [
    "### ¿Cuál es la función de la estructura 'if' en Python?"
   ]
  },
  {
   "cell_type": "code",
   "execution_count": 4,
   "id": "bfa6b1bf",
   "metadata": {},
   "outputs": [
    {
     "name": "stdout",
     "output_type": "stream",
     "text": [
      "x es positivo\n"
     ]
    }
   ],
   "source": [
    "x = 5\n",
    "if x > 0:\n",
    "    print('x es positivo')"
   ]
  },
  {
   "cell_type": "markdown",
   "id": "e8b9dac2",
   "metadata": {},
   "source": [
    "### ¿Qué operador se usa para la división entera en Python?"
   ]
  },
  {
   "cell_type": "code",
   "execution_count": 5,
   "id": "5765467e",
   "metadata": {},
   "outputs": [
    {
     "name": "stdout",
     "output_type": "stream",
     "text": [
      "3\n"
     ]
    }
   ],
   "source": [
    "resultado = 10 // 3\n",
    "print(resultado)  # Devuelve 3"
   ]
  },
  {
   "cell_type": "markdown",
   "id": "2f75e9a8",
   "metadata": {},
   "source": [
    "### ¿Cuál es la diferencia entre '==' y '=' en Python?"
   ]
  },
  {
   "cell_type": "code",
   "execution_count": 6,
   "id": "255d0c18",
   "metadata": {},
   "outputs": [
    {
     "name": "stdout",
     "output_type": "stream",
     "text": [
      "True\n"
     ]
    }
   ],
   "source": [
    "a = 5  # '=' asigna un valor\n",
    "print(a == 5)  # '==' compara valores, devuelve True"
   ]
  },
  {
   "cell_type": "markdown",
   "id": "6f2b4bed",
   "metadata": {},
   "source": [
    "### ¿Cómo se comenta una línea de código en Python?"
   ]
  },
  {
   "cell_type": "code",
   "execution_count": 7,
   "id": "4d368673",
   "metadata": {},
   "outputs": [],
   "source": [
    "# Esto es un comentario"
   ]
  },
  {
   "cell_type": "markdown",
   "id": "4cc24cf4",
   "metadata": {},
   "source": [
    "### ¿Qué función se usa para imprimir en pantalla en Python?"
   ]
  },
  {
   "cell_type": "code",
   "execution_count": 8,
   "id": "d0d0497f",
   "metadata": {},
   "outputs": [
    {
     "name": "stdout",
     "output_type": "stream",
     "text": [
      "Hola, mundo!\n"
     ]
    }
   ],
   "source": [
    "print('Hola, mundo!')"
   ]
  },
  {
   "cell_type": "markdown",
   "id": "e1de2459",
   "metadata": {},
   "source": [
    "### ¿Cuál es el resultado de '5 % 2' en Python?"
   ]
  },
  {
   "cell_type": "code",
   "execution_count": 9,
   "id": "2b51e73e",
   "metadata": {},
   "outputs": [
    {
     "name": "stdout",
     "output_type": "stream",
     "text": [
      "1\n"
     ]
    }
   ],
   "source": [
    "resultado = 5 % 2\n",
    "print(resultado)  # Devuelve 1"
   ]
  },
  {
   "cell_type": "markdown",
   "id": "a12d6727",
   "metadata": {},
   "source": [
    "### ¿Cuál es la función del operador lógico 'and' en Python?"
   ]
  },
  {
   "cell_type": "code",
   "execution_count": 10,
   "id": "f7f274c0",
   "metadata": {},
   "outputs": [
    {
     "name": "stdout",
     "output_type": "stream",
     "text": [
      "False\n"
     ]
    }
   ],
   "source": [
    "print(True and False)  # Devuelve False"
   ]
  },
  {
   "cell_type": "markdown",
   "id": "3b1f10e8",
   "metadata": {},
   "source": [
    "### ¿Cómo se inicia un bloque de código en Python?"
   ]
  },
  {
   "cell_type": "code",
   "execution_count": 11,
   "id": "50481add",
   "metadata": {},
   "outputs": [
    {
     "name": "stdout",
     "output_type": "stream",
     "text": [
      "Bloque de código sangrado\n"
     ]
    }
   ],
   "source": [
    "if True:\n",
    "    print('Bloque de código sangrado')"
   ]
  },
  {
   "cell_type": "markdown",
   "id": "8dbec896",
   "metadata": {},
   "source": [
    "### ¿Qué estructura de control permite ejecutar un bloque de código si se cumple una condición?"
   ]
  },
  {
   "cell_type": "code",
   "execution_count": 12,
   "id": "00ea293f",
   "metadata": {},
   "outputs": [
    {
     "name": "stdout",
     "output_type": "stream",
     "text": [
      "Número positivo\n"
     ]
    }
   ],
   "source": [
    "if x > 0:\n",
    "    print('Número positivo')"
   ]
  },
  {
   "cell_type": "markdown",
   "id": "f6cabf13",
   "metadata": {},
   "source": [
    "### ¿Cuál es la función de la estructura 'elif' en Python?"
   ]
  },
  {
   "cell_type": "code",
   "execution_count": 13,
   "id": "7926d7ce",
   "metadata": {},
   "outputs": [
    {
     "name": "stdout",
     "output_type": "stream",
     "text": [
      "Cero\n"
     ]
    }
   ],
   "source": [
    "x = 0\n",
    "if x > 0:\n",
    "    print('Positivo')\n",
    "elif x == 0:\n",
    "    print('Cero')"
   ]
  },
  {
   "cell_type": "markdown",
   "id": "33c2fa8f",
   "metadata": {},
   "source": [
    "### ¿Cómo se define una variable de tipo cadena en Python?"
   ]
  },
  {
   "cell_type": "code",
   "execution_count": 14,
   "id": "0ea71eff",
   "metadata": {},
   "outputs": [],
   "source": [
    "cadena = 'Hola, Python'"
   ]
  },
  {
   "cell_type": "markdown",
   "id": "5535596d",
   "metadata": {},
   "source": [
    "### ¿Qué función se usa para obtener la longitud de una cadena en Python?"
   ]
  },
  {
   "cell_type": "code",
   "execution_count": 15,
   "id": "d25755bd",
   "metadata": {},
   "outputs": [
    {
     "name": "stdout",
     "output_type": "stream",
     "text": [
      "6\n"
     ]
    }
   ],
   "source": [
    "print(len('Python'))"
   ]
  },
  {
   "cell_type": "markdown",
   "id": "7dffb85c",
   "metadata": {},
   "source": [
    "### ¿Cómo se convierte una variable de tipo entero a cadena en Python?"
   ]
  },
  {
   "cell_type": "code",
   "execution_count": 16,
   "id": "48b3a456",
   "metadata": {},
   "outputs": [],
   "source": [
    "num = 10\n",
    "cadena = str(num)"
   ]
  },
  {
   "cell_type": "markdown",
   "id": "553dba61",
   "metadata": {},
   "source": [
    "### ¿Cómo se declara una lista en Python?"
   ]
  },
  {
   "cell_type": "code",
   "execution_count": 17,
   "id": "ca08eef3",
   "metadata": {},
   "outputs": [],
   "source": [
    "lista = [1, 2, 3]"
   ]
  },
  {
   "cell_type": "markdown",
   "id": "7568b280",
   "metadata": {},
   "source": [
    "### ¿Qué método se usa para agregar un elemento a una lista en Python?"
   ]
  },
  {
   "cell_type": "code",
   "execution_count": 18,
   "id": "f2e98864",
   "metadata": {},
   "outputs": [],
   "source": [
    "lista.append(4)"
   ]
  },
  {
   "cell_type": "markdown",
   "id": "b23ad578",
   "metadata": {},
   "source": [
    "### ¿Cuál es la sintaxis correcta para acceder al primer elemento de una lista en Python?"
   ]
  },
  {
   "cell_type": "code",
   "execution_count": 19,
   "id": "b0804fed",
   "metadata": {},
   "outputs": [
    {
     "name": "stdout",
     "output_type": "stream",
     "text": [
      "1\n"
     ]
    }
   ],
   "source": [
    "lista = [1, 2, 3]\n",
    "print(lista[0])"
   ]
  },
  {
   "cell_type": "markdown",
   "id": "0a83f4b0",
   "metadata": {},
   "source": [
    "### ¿Cómo se eliminan los espacios en blanco al inicio y al final de una cadena en Python?"
   ]
  },
  {
   "cell_type": "code",
   "execution_count": 20,
   "id": "eb3f4e68",
   "metadata": {},
   "outputs": [
    {
     "name": "stdout",
     "output_type": "stream",
     "text": [
      "hola\n"
     ]
    }
   ],
   "source": [
    "cadena = '  hola  '\n",
    "print(cadena.strip())"
   ]
  },
  {
   "cell_type": "markdown",
   "id": "c804655c",
   "metadata": {},
   "source": [
    "### ¿Qué tipo de dato devuelve la función 'input()' en Python?"
   ]
  },
  {
   "cell_type": "code",
   "execution_count": 21,
   "id": "98e5e44a",
   "metadata": {},
   "outputs": [
    {
     "name": "stdout",
     "output_type": "stream",
     "text": [
      "<class 'str'>\n"
     ]
    }
   ],
   "source": [
    "dato = input('Ingresa algo: ')\n",
    "print(type(dato))  # Siempre devuelve str"
   ]
  },
  {
   "cell_type": "markdown",
   "id": "ecbef59f",
   "metadata": {},
   "source": [
    "### ¿Qué operador se usa para la exponenciación en Python?"
   ]
  },
  {
   "cell_type": "code",
   "execution_count": 22,
   "id": "4f19f0ab",
   "metadata": {},
   "outputs": [
    {
     "name": "stdout",
     "output_type": "stream",
     "text": [
      "8\n"
     ]
    }
   ],
   "source": [
    "print(2 ** 3)"
   ]
  },
  {
   "cell_type": "markdown",
   "id": "590b64d5",
   "metadata": {},
   "source": [
    "### ¿Cómo se obtiene el tipo de dato de una variable en Python?"
   ]
  },
  {
   "cell_type": "code",
   "execution_count": 23,
   "id": "64d6192b",
   "metadata": {},
   "outputs": [
    {
     "name": "stdout",
     "output_type": "stream",
     "text": [
      "<class 'int'>\n"
     ]
    }
   ],
   "source": [
    "print(type(10))"
   ]
  },
  {
   "cell_type": "markdown",
   "id": "59e3e9d9",
   "metadata": {},
   "source": [
    "### ¿Cuál es la diferencia entre 'is' y '==' en Python?"
   ]
  },
  {
   "cell_type": "code",
   "execution_count": 24,
   "id": "5bfed230",
   "metadata": {},
   "outputs": [
    {
     "name": "stdout",
     "output_type": "stream",
     "text": [
      "True\n"
     ]
    }
   ],
   "source": [
    "a = [1, 2, 3]\n",
    "b = a\n",
    "print(a is b)  # True porque apuntan al mismo objeto"
   ]
  },
  {
   "cell_type": "markdown",
   "id": "60c0e8f2",
   "metadata": {},
   "source": [
    "### ¿Qué función se usa para convertir un número flotante a entero en Python?"
   ]
  },
  {
   "cell_type": "code",
   "execution_count": 25,
   "id": "c96635ac",
   "metadata": {},
   "outputs": [
    {
     "name": "stdout",
     "output_type": "stream",
     "text": [
      "3\n"
     ]
    }
   ],
   "source": [
    "print(int(3.14))"
   ]
  },
  {
   "cell_type": "markdown",
   "id": "85c41226",
   "metadata": {},
   "source": [
    "### ¿Cuál es la función del operador lógico 'or' en Python?"
   ]
  },
  {
   "cell_type": "code",
   "execution_count": 26,
   "id": "48460dc2",
   "metadata": {},
   "outputs": [
    {
     "name": "stdout",
     "output_type": "stream",
     "text": [
      "True\n"
     ]
    }
   ],
   "source": [
    "print(True or False)  # Devuelve True"
   ]
  },
  {
   "cell_type": "markdown",
   "id": "f12fe728",
   "metadata": {},
   "source": [
    "### ¿Qué resultado devuelve 'True and False' en Python?"
   ]
  },
  {
   "cell_type": "code",
   "execution_count": 27,
   "id": "16e35813",
   "metadata": {},
   "outputs": [
    {
     "name": "stdout",
     "output_type": "stream",
     "text": [
      "False\n"
     ]
    }
   ],
   "source": [
    "print(True and False)  # Devuelve False"
   ]
  },
  {
   "cell_type": "markdown",
   "id": "5e35eaa7",
   "metadata": {},
   "source": [
    "### ¿Cómo se verifica si una variable es de un tipo de dato específico en Python?"
   ]
  },
  {
   "cell_type": "code",
   "execution_count": 28,
   "id": "0da78154",
   "metadata": {},
   "outputs": [
    {
     "name": "stdout",
     "output_type": "stream",
     "text": [
      "True\n"
     ]
    }
   ],
   "source": [
    "print(isinstance(10, int))  # Devuelve True"
   ]
  },
  {
   "cell_type": "markdown",
   "id": "146b5abf",
   "metadata": {},
   "source": [
    "### ¿Qué función se usa para redondear un número en Python?"
   ]
  },
  {
   "cell_type": "code",
   "execution_count": 29,
   "id": "a5037dce",
   "metadata": {},
   "outputs": [
    {
     "name": "stdout",
     "output_type": "stream",
     "text": [
      "4\n"
     ]
    }
   ],
   "source": [
    "print(round(3.75))"
   ]
  },
  {
   "cell_type": "markdown",
   "id": "f7d010dd",
   "metadata": {},
   "source": [
    "### ¿Cómo se obtiene la parte entera de una división en Python?"
   ]
  },
  {
   "cell_type": "code",
   "execution_count": 30,
   "id": "0c3eaaa0",
   "metadata": {},
   "outputs": [
    {
     "name": "stdout",
     "output_type": "stream",
     "text": [
      "3\n"
     ]
    }
   ],
   "source": [
    "print(10 // 3)"
   ]
  },
  {
   "cell_type": "markdown",
   "id": "c407b163",
   "metadata": {},
   "source": [
    "### ¿Cuál es la forma correcta de escribir un comentario en varias líneas en Python?"
   ]
  },
  {
   "cell_type": "code",
   "execution_count": 31,
   "id": "777b0a7f",
   "metadata": {},
   "outputs": [
    {
     "data": {
      "text/plain": [
       "'Esto es\\nun comentario\\nde varias líneas'"
      ]
     },
     "execution_count": 31,
     "metadata": {},
     "output_type": "execute_result"
    }
   ],
   "source": [
    "'''Esto es\n",
    "un comentario\n",
    "de varias líneas'''"
   ]
  },
  {
   "cell_type": "markdown",
   "id": "8f5f21d1",
   "metadata": {},
   "source": [
    "### ¿Cómo se usa la función 'range()' en Python?"
   ]
  },
  {
   "cell_type": "code",
   "execution_count": 32,
   "id": "fd84c6d8",
   "metadata": {},
   "outputs": [
    {
     "name": "stdout",
     "output_type": "stream",
     "text": [
      "[1, 2, 3, 4, 5]\n"
     ]
    }
   ],
   "source": [
    "print(list(range(1, 6)))  # Devuelve [1, 2, 3, 4, 5]"
   ]
  },
  {
   "cell_type": "markdown",
   "id": "ad5352fb",
   "metadata": {},
   "source": [
    "### ¿Cuál es la diferencia entre 'break' y 'continue' en un bucle en Python?"
   ]
  },
  {
   "cell_type": "code",
   "execution_count": 33,
   "id": "c56eefcb",
   "metadata": {},
   "outputs": [
    {
     "name": "stdout",
     "output_type": "stream",
     "text": [
      "0\n",
      "1\n"
     ]
    }
   ],
   "source": [
    "for i in range(5):\n",
    "    if i == 2:\n",
    "        break\n",
    "    print(i)"
   ]
  },
  {
   "cell_type": "markdown",
   "id": "cdb07bcb",
   "metadata": {},
   "source": [
    "### ¿Cómo se usa un bucle 'while' en Python?"
   ]
  },
  {
   "cell_type": "code",
   "execution_count": 34,
   "id": "7a707b03",
   "metadata": {},
   "outputs": [
    {
     "name": "stdout",
     "output_type": "stream",
     "text": [
      "0\n",
      "1\n",
      "2\n",
      "3\n",
      "4\n"
     ]
    }
   ],
   "source": [
    "x = 0\n",
    "while x < 5:\n",
    "    print(x)\n",
    "    x += 1"
   ]
  },
  {
   "cell_type": "markdown",
   "id": "e6c14743",
   "metadata": {},
   "source": [
    "### ¿Cómo se concatena una cadena con un número en Python?"
   ]
  },
  {
   "cell_type": "code",
   "execution_count": 35,
   "id": "91a14e6a",
   "metadata": {},
   "outputs": [
    {
     "name": "stdout",
     "output_type": "stream",
     "text": [
      "Número: 10\n"
     ]
    }
   ],
   "source": [
    "print('Número: ' + str(10))"
   ]
  },
  {
   "cell_type": "markdown",
   "id": "6664e0a3",
   "metadata": {},
   "source": [
    "### ¿Cuál es la función del operador 'not' en Python?"
   ]
  },
  {
   "cell_type": "code",
   "execution_count": 36,
   "id": "b7572e23",
   "metadata": {},
   "outputs": [
    {
     "name": "stdout",
     "output_type": "stream",
     "text": [
      "False\n"
     ]
    }
   ],
   "source": [
    "print(not True)  # Devuelve False"
   ]
  },
  {
   "cell_type": "markdown",
   "id": "233d5943",
   "metadata": {},
   "source": [
    "### ¿Qué sucede si se divide un número por cero en Python?"
   ]
  },
  {
   "cell_type": "code",
   "execution_count": 37,
   "id": "b5f3f064",
   "metadata": {},
   "outputs": [
    {
     "ename": "ZeroDivisionError",
     "evalue": "division by zero",
     "output_type": "error",
     "traceback": [
      "\u001b[1;31m---------------------------------------------------------------------------\u001b[0m",
      "\u001b[1;31mZeroDivisionError\u001b[0m                         Traceback (most recent call last)",
      "Cell \u001b[1;32mIn[37], line 1\u001b[0m\n\u001b[1;32m----> 1\u001b[0m \u001b[38;5;28mprint\u001b[39m(\u001b[38;5;241;43m1\u001b[39;49m\u001b[43m \u001b[49m\u001b[38;5;241;43m/\u001b[39;49m\u001b[43m \u001b[49m\u001b[38;5;241;43m0\u001b[39;49m)  \u001b[38;5;66;03m# Error: ZeroDivisionError\u001b[39;00m\n",
      "\u001b[1;31mZeroDivisionError\u001b[0m: division by zero"
     ]
    }
   ],
   "source": [
    "print(1 / 0)  # Error: ZeroDivisionError"
   ]
  },
  {
   "cell_type": "markdown",
   "id": "166285b7",
   "metadata": {},
   "source": [
    "### ¿Cómo se accede al último elemento de una lista en Python?"
   ]
  },
  {
   "cell_type": "code",
   "execution_count": null,
   "id": "77e66594",
   "metadata": {},
   "outputs": [],
   "source": [
    "lista = [1, 2, 3]\n",
    "print(lista[-1])"
   ]
  },
  {
   "cell_type": "markdown",
   "id": "25ac863b",
   "metadata": {},
   "source": [
    "### ¿Qué función se usa para convertir una cadena en mayúsculas en Python?"
   ]
  },
  {
   "cell_type": "code",
   "execution_count": null,
   "id": "991c0f07",
   "metadata": {},
   "outputs": [],
   "source": [
    "print('python'.upper())"
   ]
  },
  {
   "cell_type": "markdown",
   "id": "dfd434f1",
   "metadata": {},
   "source": [
    "### ¿Cómo se usa el operador 'in' en Python?"
   ]
  },
  {
   "cell_type": "code",
   "execution_count": null,
   "id": "7a41a9f6",
   "metadata": {},
   "outputs": [],
   "source": [
    "print(3 in [1, 2, 3])  # Devuelve True"
   ]
  },
  {
   "cell_type": "markdown",
   "id": "56ce1a70",
   "metadata": {},
   "source": [
    "### ¿Cuál es la diferencia entre 'append()' y 'extend()' en listas de Python?"
   ]
  },
  {
   "cell_type": "code",
   "execution_count": null,
   "id": "794d8d9b",
   "metadata": {},
   "outputs": [],
   "source": [
    "lista1 = [1, 2]\n",
    "lista2 = [3, 4]\n",
    "lista1.append(lista2)  # Añade la lista completa"
   ]
  },
  {
   "cell_type": "markdown",
   "id": "22e5fbe4",
   "metadata": {},
   "source": [
    "### ¿Cómo se ordena una lista en orden ascendente en Python?"
   ]
  },
  {
   "cell_type": "code",
   "execution_count": null,
   "id": "c2180d59",
   "metadata": {},
   "outputs": [],
   "source": [
    "lista = [3, 1, 2]\n",
    "lista.sort()\n",
    "print(lista)"
   ]
  },
  {
   "cell_type": "markdown",
   "id": "cf3a4816",
   "metadata": {},
   "source": [
    "### ¿Cómo se invierte una lista en Python?"
   ]
  },
  {
   "cell_type": "code",
   "execution_count": null,
   "id": "8c788696",
   "metadata": {},
   "outputs": [],
   "source": [
    "lista = [1, 2, 3]\n",
    "lista.reverse()\n",
    "print(lista)"
   ]
  },
  {
   "cell_type": "markdown",
   "id": "730e2a6b",
   "metadata": {},
   "source": [
    "### ¿Cuál es el resultado de '2 ** 3' en Python?"
   ]
  },
  {
   "cell_type": "code",
   "execution_count": null,
   "id": "9e9e4fef",
   "metadata": {},
   "outputs": [],
   "source": [
    "print(2 ** 3)  # Devuelve 8"
   ]
  }
 ],
 "metadata": {
  "kernelspec": {
   "display_name": "base",
   "language": "python",
   "name": "python3"
  },
  "language_info": {
   "codemirror_mode": {
    "name": "ipython",
    "version": 3
   },
   "file_extension": ".py",
   "mimetype": "text/x-python",
   "name": "python",
   "nbconvert_exporter": "python",
   "pygments_lexer": "ipython3",
   "version": "3.12.4"
  }
 },
 "nbformat": 4,
 "nbformat_minor": 5
}

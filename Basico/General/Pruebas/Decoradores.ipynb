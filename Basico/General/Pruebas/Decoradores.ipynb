{
 "cells": [
  {
   "cell_type": "code",
   "execution_count": 2,
   "metadata": {},
   "outputs": [
    {
     "name": "stdout",
     "output_type": "stream",
     "text": [
      "Antes de ejecutar mi_funcion\n",
      "Esta es mi función\n",
      "Después de ejecutar mi_funcion\n"
     ]
    }
   ],
   "source": [
    "def mi_decorador(func):\n",
    "    def Func_verificador(*args, **kwargs): # envoltura\n",
    "        print(\"Antes de ejecutar mi_funcion\")\n",
    "        resultado = func(*args, **kwargs)\n",
    "        print(\"Después de ejecutar mi_funcion\")\n",
    "        return resultado\n",
    "    return Func_verificador\n",
    "\n",
    "\n",
    "@mi_decorador\n",
    "def mi_funcion():\n",
    "    print(\"Esta es mi función\")\n",
    "\n",
    "\n",
    "mi_funcion()"
   ]
  },
  {
   "cell_type": "code",
   "execution_count": 1,
   "metadata": {},
   "outputs": [
    {
     "name": "stdout",
     "output_type": "stream",
     "text": [
      "Esta es mi función\n"
     ]
    }
   ],
   "source": [
    "\n",
    "def mi_funcion():\n",
    "    print(\"Esta es mi función\")\n",
    "\n",
    "\n",
    "mi_funcion()"
   ]
  }
 ],
 "metadata": {
  "kernelspec": {
   "display_name": "base",
   "language": "python",
   "name": "python3"
  },
  "language_info": {
   "codemirror_mode": {
    "name": "ipython",
    "version": 3
   },
   "file_extension": ".py",
   "mimetype": "text/x-python",
   "name": "python",
   "nbconvert_exporter": "python",
   "pygments_lexer": "ipython3",
   "version": "3.7.10"
  }
 },
 "nbformat": 4,
 "nbformat_minor": 2
}

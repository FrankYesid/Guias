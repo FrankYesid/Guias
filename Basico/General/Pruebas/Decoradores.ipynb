{
 "cells": [
  {
   "cell_type": "code",
   "execution_count": 2,
   "metadata": {},
   "outputs": [
    {
     "name": "stdout",
     "output_type": "stream",
     "text": [
      "Antes de ejecutar mi_funcion\n",
      "Esta es mi función\n",
      "Después de ejecutar mi_funcion\n"
     ]
    }
   ],
   "source": [
    "def mi_decorador(func):\n",
    "    def Func_verificador(*args, **kwargs): # envoltura\n",
    "        print(\"Antes de ejecutar mi_funcion\")\n",
    "        resultado = func(*args, **kwargs)\n",
    "        print(\"Después de ejecutar mi_funcion\")\n",
    "        return resultado\n",
    "    return Func_verificador\n",
    "\n",
    "# Aplico el decorador  \n",
    "@mi_decorador\n",
    "def funcion_impresion():\n",
    "    print(\"Esta es mi función\")\n",
    "funcion_impresion()"
   ]
  },
  {
   "cell_type": "markdown",
   "metadata": {},
   "source": [
    "Este código define un decorador llamado `mi_decorador` que toma una función `func` como argumento y devuelve una función `wrapper`. La función `wrapper` imprime un mensaje antes de ejecutar la función `func`, luego ejecuta la función `func` con los argumentos `*args` y `**kwargs`, guarda el resultado en la variable `resultado`, imprime un mensaje después de ejecutar la función `func` y finalmente devuelve el resultado.\n",
    "\n",
    "Luego, se define una función `mi_funcion` que simplemente imprime \"Esta es mi función\". Esta función está decorada con `@mi_decorador`, lo que significa que cuando se llama a `mi_funcion`, en realidad se ejecuta `wrapper`, que a su vez ejecuta `mi_funcion` con el mensaje adicional antes y después de la ejecución.\n",
    "\n",
    "Finalmente, se llama a `mi_funcion`, lo que imprimirá \"Antes de ejecutar mi_funcion\", luego \"Esta es mi función\" y finalmente \"Después de ejecutar mi_funcion\"."
   ]
  },
  {
   "cell_type": "code",
   "execution_count": 1,
   "metadata": {},
   "outputs": [
    {
     "name": "stdout",
     "output_type": "stream",
     "text": [
      "Esta es mi función\n"
     ]
    }
   ],
   "source": [
    "# @title creación de la función inicial\n",
    "def funcion_impresion():\n",
    "    print(\"Esta es mi función\")\n",
    "\n",
    "funcion_impresion()"
   ]
  }
 ],
 "metadata": {
  "kernelspec": {
   "display_name": "base",
   "language": "python",
   "name": "python3"
  },
  "language_info": {
   "codemirror_mode": {
    "name": "ipython",
    "version": 3
   },
   "file_extension": ".py",
   "mimetype": "text/x-python",
   "name": "python",
   "nbconvert_exporter": "python",
   "pygments_lexer": "ipython3",
   "version": "3.7.10"
  }
 },
 "nbformat": 4,
 "nbformat_minor": 2
}

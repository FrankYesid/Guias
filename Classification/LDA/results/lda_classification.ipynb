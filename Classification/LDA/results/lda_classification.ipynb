{
 "cells": [
  {
   "cell_type": "markdown",
   "metadata": {},
   "source": [
    "# LDA Classification on MNIST Dataset\n",
    "\n",
    "This notebook demonstrates how to apply Linear Discriminant Analysis (LDA) for digit classification using the MNIST dataset. The notebook is organized into sections covering data loading, preprocessing, model training, and evaluation.\n",
    "\n",
    "---\n",
    "\n",
    "## 1. Import Libraries\n",
    "\n",
    "We start by importing the necessary libraries, including the utility functions from `utils.py`.\n"
   ]
  },
  {
   "cell_type": "code",
   "execution_count": null,
   "metadata": {},
   "outputs": [],
   "source": [
    "import numpy as np\n",
    "from sklearn.discriminant_analysis import LinearDiscriminantAnalysis as LDA\n",
    "from sklearn.metrics import accuracy_score, confusion_matrix, classification_report\n",
    "from sklearn.model_selection import train_test_split\n",
    "import utils\n"
   ]
  },
  {
   "cell_type": "markdown",
   "metadata": {},
   "source": [
    "## 2. Load the MNIST Dataset\n",
    "\n",
    "Next, we load the MNIST dataset using the `load_data` function from `utils.py`. The dataset is split into features (`X_train`, `X_test`) and labels (`y_train`).\n"
   ]
  },
  {
   "cell_type": "code",
   "execution_count": null,
   "metadata": {},
   "outputs": [],
   "source": [
    "# Paths to the dataset CSV files\n",
    "train_path = 'data/mnist_train_small.csv'\n",
    "test_path = 'data/mnist_test.csv'\n",
    "\n",
    "# Load data\n",
    "X_train, y_train, X_test = utils.load_data(train_path, test_path)\n",
    "\n",
    "# Check the shape of the datasets\n",
    "print(f\"Training data shape: {X_train.shape}\")\n",
    "print(f\"Test data shape: {X_test.shape}\")\n"
   ]
  },
  {
   "cell_type": "markdown",
   "metadata": {},
   "source": [
    "## 3. Data Preprocessing\n",
    "\n",
    "We normalize the pixel values to [0, 1] and split the training data into a training and validation set.\n"
   ]
  },
  {
   "cell_type": "code",
   "execution_count": null,
   "metadata": {},
   "outputs": [],
   "source": [
    "# Normalize the data\n",
    "X_train = utils.normalize_data(X_train)\n",
    "X_test = utils.normalize_data(X_test)\n",
    "\n",
    "# Split the training data into training and validation sets\n",
    "X_train_split, X_val, y_train_split, y_val = train_test_split(X_train, y_train, test_size=0.2, random_state=42)\n",
    "\n",
    "print(f\"Training set shape: {X_train_split.shape}, Validation set shape: {X_val.shape}\")\n"
   ]
  },
  {
   "cell_type": "markdown",
   "metadata": {},
   "source": [
    "## 4. Visualize Sample Data\n",
    "\n",
    "Before training, let's visualize some sample images and their corresponding labels.\n"
   ]
  },
  {
   "cell_type": "code",
   "execution_count": null,
   "metadata": {},
   "outputs": [],
   "source": [
    "# Plot a few sample images from the training set\n",
    "sample_indices = [0, 1, 2, 3, 4]\n",
    "utils.plot_multiple_samples(X_train_split, y_train_split, sample_indices)\n"
   ]
  },
  {
   "cell_type": "markdown",
   "metadata": {},
   "source": [
    "## 5. Apply Linear Discriminant Analysis (LDA)\n",
    "\n",
    "We now train an LDA model on the training data and evaluate its performance on the validation set.\n"
   ]
  },
  {
   "cell_type": "code",
   "execution_count": null,
   "metadata": {},
   "outputs": [],
   "source": [
    "# Initialize and train the LDA model\n",
    "lda = LDA()\n",
    "lda.fit(X_train_split, y_train_split)\n",
    "\n",
    "# Predict on the validation set\n",
    "y_val_pred = lda.predict(X_val)\n",
    "\n",
    "# Evaluate the model\n",
    "val_accuracy = accuracy_score(y_val, y_val_pred)\n",
    "print(f\"Validation Accuracy: {val_accuracy:.4f}\")\n",
    "\n",
    "# Confusion matrix and classification report\n",
    "conf_matrix = confusion_matrix(y_val, y_val_pred)\n",
    "class_report = classification_report(y_val, y_val_pred)\n",
    "\n",
    "print(\"Confusion Matrix:\\n\", conf_matrix)\n",
    "print(\"\\nClassification Report:\\n\", class_report)\n"
   ]
  },
  {
   "cell_type": "markdown",
   "metadata": {},
   "source": [
    "## 6. Visualize LDA Decision Boundaries\n",
    "\n",
    "(Optional) If we reduce the data to 2D using LDA, we can visualize the decision boundaries. This step is more for understanding how LDA separates the classes.\n"
   ]
  },
  {
   "cell_type": "code",
   "execution_count": null,
   "metadata": {},
   "outputs": [],
   "source": [
    "# Apply LDA to reduce dimensions to 2\n",
    "lda_2d = LDA(n_components=2)\n",
    "X_train_2d = lda_2d.fit_transform(X_train_split, y_train_split)\n",
    "\n",
    "# Plot the 2D decision boundaries (this is more illustrative than practical)\n",
    "utils.plot_sample(X_train_2d, y_train_split, index=0)  # Plotting the first sample after reduction\n"
   ]
  },
  {
   "cell_type": "markdown",
   "metadata": {},
   "source": [
    "## 7. Predict on the Test Set\n",
    "\n",
    "Finally, we use the trained LDA model to make predictions on the test set.\n"
   ]
  },
  {
   "cell_type": "code",
   "execution_count": null,
   "metadata": {},
   "outputs": [],
   "source": [
    "# Predict on the test set\n",
    "y_test_pred = lda.predict(X_test)\n",
    "\n",
    "# You would typically submit these predictions to a competition or further evaluate them\n"
   ]
  },
  {
   "cell_type": "markdown",
   "metadata": {},
   "source": [
    "## 8. Conclusion\n",
    "\n",
    "This notebook demonstrated how to use Linear Discriminant Analysis (LDA) for digit classification using the MNIST dataset. The LDA model provides a linear approach to class separation, which can be useful in various scenarios.\n"
   ]
  }
 ],
 "metadata": {
  "language_info": {
   "name": "python"
  }
 },
 "nbformat": 4,
 "nbformat_minor": 2
}

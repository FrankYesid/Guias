{
 "cells": [
  {
   "cell_type": "code",
   "execution_count": null,
   "metadata": {},
   "outputs": [],
   "source": [
    "# SVM Classification on MNIST Dataset\n",
    "\n",
    "# Import necessary libraries\n",
    "import numpy as np\n",
    "import pandas as pd\n",
    "import matplotlib.pyplot as plt\n",
    "from sklearn.svm import SVC\n",
    "from sklearn.metrics import confusion_matrix, classification_report\n",
    "import seaborn as sns\n",
    "import utils  # This should contain necessary utility functions for loading data and saving results\n"
   ]
  },
  {
   "cell_type": "code",
   "execution_count": null,
   "metadata": {},
   "outputs": [],
   "source": [
    "\n",
    "# Paths to the dataset CSV files\n",
    "train_path = 'data/mnist_train_small.csv'\n",
    "test_path = 'data/mnist_test.csv'\n",
    "\n",
    "# Load the data using the utility functions\n",
    "X_train, y_train, X_test, y_test = utils.load_data(train_path, test_path)\n",
    "\n",
    "# Check the shape of the datasets\n",
    "print(f\"Training data shape: {X_train.shape}\")\n",
    "print(f\"Test data shape: {X_test.shape}\")"
   ]
  },
  {
   "cell_type": "code",
   "execution_count": null,
   "metadata": {},
   "outputs": [],
   "source": [
    "\n",
    "# Initialize and train the SVM classifier\n",
    "svm_model = SVC(kernel='rbf', C=1.0, gamma='scale')  # You can try other kernels like 'linear', 'poly', etc.\n",
    "svm_model.fit(X_train, y_train)\n",
    "\n",
    "# Make predictions on the test set\n",
    "y_pred = svm_model.predict(X_test)\n"
   ]
  },
  {
   "cell_type": "code",
   "execution_count": null,
   "metadata": {},
   "outputs": [],
   "source": [
    "# Generate confusion matrix and classification report\n",
    "conf_matrix = confusion_matrix(y_test, y_pred)\n",
    "class_report = classification_report(y_test, y_pred)\n",
    "\n",
    "# Print classification report to the console\n",
    "print(\"Classification Report:\\n\", class_report)\n"
   ]
  },
  {
   "cell_type": "code",
   "execution_count": null,
   "metadata": {},
   "outputs": [],
   "source": [
    "# Save classification report and confusion matrix in the results folder\n",
    "utils.save_classification_report(class_report, 'results/classification_report.txt')\n",
    "\n",
    "# Save confusion matrix as a heatmap image\n",
    "plt.figure(figsize=(10, 7))\n",
    "sns.heatmap(conf_matrix, annot=True, fmt='d', cmap='Blues', cbar=False, xticklabels=np.unique(y_test), yticklabels=np.unique(y_test))\n",
    "plt.title('Confusion Matrix - SVM')\n",
    "plt.xlabel('Predicted')\n",
    "plt.ylabel('Actual')\n",
    "plt.savefig('results/confusion_matrix.png')\n",
    "plt.show()\n"
   ]
  },
  {
   "cell_type": "code",
   "execution_count": null,
   "metadata": {},
   "outputs": [],
   "source": [
    "# Optional: Save predictions to CSV for further analysis\n",
    "test_predictions_df = pd.DataFrame({'True Label': y_test, 'Predicted Label': y_pred})\n",
    "test_predictions_df.to_csv('results/test_predictions.csv', index=False)\n",
    "\n",
    "# Optional: Validation accuracy\n",
    "accuracy = np.mean(y_test == y_pred)\n",
    "print(f\"Validation Accuracy: {accuracy:.4f}\")\n",
    "\n",
    "# Save accuracy to a text file\n",
    "with open('results/validation_accuracy.txt', 'w') as f:\n",
    "    f.write(f\"Validation Accuracy: {accuracy:.4f}\")"
   ]
  },
  {
   "cell_type": "code",
   "execution_count": null,
   "metadata": {},
   "outputs": [],
   "source": [
    "!pip install shap"
   ]
  },
  {
   "cell_type": "code",
   "execution_count": null,
   "metadata": {},
   "outputs": [],
   "source": [
    "import shap "
   ]
  },
  {
   "cell_type": "code",
   "execution_count": null,
   "metadata": {},
   "outputs": [],
   "source": [
    "# Create SHAP explainer\n",
    "explainer = shap.KernelExplainer(svm_model.predict, X_train[:100])  # Limit sample size for efficiency\n",
    "\n",
    "# Calculate SHAP values for the test data\n",
    "shap_values = explainer.shap_values(X_test[:100])\n"
   ]
  },
  {
   "cell_type": "code",
   "execution_count": null,
   "metadata": {},
   "outputs": [],
   "source": [
    "# SHAP dependence plot for a specific feature\n",
    "shap.dependence_plot(0, shap_values, X_test[:100], feature_names=feature_names)  # Feature index 0 (change as needed)\n"
   ]
  },
  {
   "cell_type": "code",
   "execution_count": null,
   "metadata": {},
   "outputs": [],
   "source": [
    "import matplotlib.pyplot as plt\n",
    "\n",
    "# Save SHAP summary plot\n",
    "shap.summary_plot(shap_values, X_test[:100], feature_names=feature_names, show=False)\n",
    "plt.savefig('./results/shap_summary_plot.png')\n",
    "\n",
    "# Save SHAP dependence plot for a specific feature\n",
    "shap.dependence_plot(0, shap_values, X_test[:100], feature_names=feature_names, show=False)\n",
    "plt.savefig('./results/shap_dependence_plot_feature_0.png')\n"
   ]
  },
  {
   "cell_type": "code",
   "execution_count": null,
   "metadata": {},
   "outputs": [],
   "source": [
    "# SHAP force plot for a single prediction\n",
    "shap.force_plot(explainer.expected_value, shap_values[0], X_test[0], feature_names=feature_names)\n"
   ]
  }
 ],
 "metadata": {
  "language_info": {
   "name": "python"
  }
 },
 "nbformat": 4,
 "nbformat_minor": 2
}

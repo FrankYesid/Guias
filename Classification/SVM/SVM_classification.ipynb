{
 "cells": [
  {
   "cell_type": "code",
   "execution_count": 1,
   "metadata": {},
   "outputs": [],
   "source": [
    "# SVM Classification on MNIST Dataset\n",
    "\n",
    "# Import necessary libraries\n",
    "import numpy as np\n",
    "import pandas as pd\n",
    "import matplotlib.pyplot as plt\n",
    "from sklearn.svm import SVC\n",
    "from sklearn.metrics import confusion_matrix, classification_report\n",
    "import seaborn as sns\n",
    "import utils  # This should contain necessary utility functions for loading data and saving results\n",
    "import os"
   ]
  },
  {
   "cell_type": "code",
   "execution_count": 2,
   "metadata": {},
   "outputs": [
    {
     "name": "stdout",
     "output_type": "stream",
     "text": [
      "Training data shape: (19999, 784)\n",
      "Test data shape: (9999, 784)\n"
     ]
    }
   ],
   "source": [
    "# Paths to the dataset CSV files\n",
    "train_path = '../data/train/mnist_train_small.csv'\n",
    "test_path = '../data/test/mnist_test.csv'\n",
    "\n",
    "# Load the data using the utility functions\n",
    "X_train, y_train, X_test, y_test = utils.load_data(train_path, test_path)\n",
    "\n",
    "# Check the shape of the datasets\n",
    "print(f\"Training data shape: {X_train.shape}\")\n",
    "print(f\"Test data shape: {X_test.shape}\")"
   ]
  },
  {
   "cell_type": "code",
   "execution_count": 3,
   "metadata": {},
   "outputs": [],
   "source": [
    "\n",
    "# Initialize and train the SVM classifier\n",
    "svm_model = SVC(kernel='rbf', C=1.0, gamma='scale')  # You can try other kernels like 'linear', 'poly', etc.\n",
    "svm_model.fit(X_train, y_train)\n",
    "\n",
    "# Make predictions on the test set\n",
    "y_pred = svm_model.predict(X_test)\n"
   ]
  },
  {
   "cell_type": "code",
   "execution_count": 4,
   "metadata": {},
   "outputs": [
    {
     "name": "stdout",
     "output_type": "stream",
     "text": [
      "Classification Report:\n",
      "               precision    recall  f1-score   support\n",
      "\n",
      "           0       0.98      0.99      0.98       980\n",
      "           1       0.98      0.99      0.99      1135\n",
      "           2       0.97      0.97      0.97      1032\n",
      "           3       0.96      0.97      0.97      1010\n",
      "           4       0.96      0.97      0.97       982\n",
      "           5       0.97      0.97      0.97       892\n",
      "           6       0.98      0.98      0.98       958\n",
      "           7       0.97      0.96      0.96      1027\n",
      "           8       0.97      0.95      0.96       974\n",
      "           9       0.96      0.95      0.96      1009\n",
      "\n",
      "    accuracy                           0.97      9999\n",
      "   macro avg       0.97      0.97      0.97      9999\n",
      "weighted avg       0.97      0.97      0.97      9999\n",
      "\n"
     ]
    }
   ],
   "source": [
    "# Generate confusion matrix and classification report\n",
    "conf_matrix = confusion_matrix(y_test, y_pred)\n",
    "class_report = classification_report(y_test, y_pred)\n",
    "\n",
    "# Print classification report to the console\n",
    "print(\"Classification Report:\\n\", class_report)\n"
   ]
  },
  {
   "cell_type": "code",
   "execution_count": 5,
   "metadata": {},
   "outputs": [
    {
     "ename": "AttributeError",
     "evalue": "module 'utils' has no attribute 'save_classification_report'",
     "output_type": "error",
     "traceback": [
      "\u001b[1;31m---------------------------------------------------------------------------\u001b[0m",
      "\u001b[1;31mAttributeError\u001b[0m                            Traceback (most recent call last)",
      "Cell \u001b[1;32mIn[5], line 2\u001b[0m\n\u001b[0;32m      1\u001b[0m \u001b[38;5;66;03m# Save classification report and confusion matrix in the results folder\u001b[39;00m\n\u001b[1;32m----> 2\u001b[0m \u001b[43mutils\u001b[49m\u001b[38;5;241;43m.\u001b[39;49m\u001b[43msave_classification_report\u001b[49m(class_report, \u001b[38;5;124m'\u001b[39m\u001b[38;5;124mresults/classification_report.txt\u001b[39m\u001b[38;5;124m'\u001b[39m)\n\u001b[0;32m      4\u001b[0m \u001b[38;5;66;03m# Save confusion matrix as a heatmap image\u001b[39;00m\n\u001b[0;32m      5\u001b[0m plt\u001b[38;5;241m.\u001b[39mfigure(figsize\u001b[38;5;241m=\u001b[39m(\u001b[38;5;241m10\u001b[39m, \u001b[38;5;241m7\u001b[39m))\n",
      "\u001b[1;31mAttributeError\u001b[0m: module 'utils' has no attribute 'save_classification_report'"
     ]
    }
   ],
   "source": [
    "# Save classification report and confusion matrix in the results folder\n",
    "utils.save_classification_report(class_report, 'results/classification_report.txt')\n",
    "\n",
    "# Save confusion matrix as a heatmap image\n",
    "plt.figure(figsize=(10, 7))\n",
    "sns.heatmap(conf_matrix, annot=True, fmt='d', cmap='Blues', cbar=False, xticklabels=np.unique(y_test), yticklabels=np.unique(y_test))\n",
    "plt.title('Confusion Matrix - SVM')\n",
    "plt.xlabel('Predicted')\n",
    "plt.ylabel('Actual')\n",
    "plt.savefig('results/confusion_matrix.png')\n",
    "plt.show()\n"
   ]
  },
  {
   "cell_type": "code",
   "execution_count": null,
   "metadata": {},
   "outputs": [],
   "source": [
    "# Optional: Save predictions to CSV for further analysis\n",
    "test_predictions_df = pd.DataFrame({'True Label': y_test, 'Predicted Label': y_pred})\n",
    "test_predictions_df.to_csv('results/test_predictions.csv', index=False)\n",
    "\n",
    "# Optional: Validation accuracy\n",
    "accuracy = np.mean(y_test == y_pred)\n",
    "print(f\"Validation Accuracy: {accuracy:.4f}\")\n",
    "\n",
    "# Save accuracy to a text file\n",
    "with open('results/validation_accuracy.txt', 'w') as f:\n",
    "    f.write(f\"Validation Accuracy: {accuracy:.4f}\")"
   ]
  },
  {
   "cell_type": "code",
   "execution_count": null,
   "metadata": {},
   "outputs": [],
   "source": [
    "!pip install shap"
   ]
  },
  {
   "cell_type": "code",
   "execution_count": null,
   "metadata": {},
   "outputs": [],
   "source": [
    "import shap "
   ]
  },
  {
   "cell_type": "code",
   "execution_count": null,
   "metadata": {},
   "outputs": [],
   "source": [
    "# Create SHAP explainer\n",
    "explainer = shap.KernelExplainer(svm_model.predict, X_train[:100])  # Limit sample size for efficiency\n",
    "\n",
    "# Calculate SHAP values for the test data\n",
    "shap_values = explainer.shap_values(X_test[:100])\n"
   ]
  },
  {
   "cell_type": "code",
   "execution_count": null,
   "metadata": {},
   "outputs": [],
   "source": [
    "# SHAP dependence plot for a specific feature\n",
    "shap.dependence_plot(0, shap_values, X_test[:100], feature_names=feature_names)  # Feature index 0 (change as needed)\n"
   ]
  },
  {
   "cell_type": "code",
   "execution_count": null,
   "metadata": {},
   "outputs": [],
   "source": [
    "import matplotlib.pyplot as plt\n",
    "\n",
    "# Save SHAP summary plot\n",
    "shap.summary_plot(shap_values, X_test[:100], feature_names=feature_names, show=False)\n",
    "plt.savefig('./results/shap_summary_plot.png')\n",
    "\n",
    "# Save SHAP dependence plot for a specific feature\n",
    "shap.dependence_plot(0, shap_values, X_test[:100], feature_names=feature_names, show=False)\n",
    "plt.savefig('./results/shap_dependence_plot_feature_0.png')\n"
   ]
  },
  {
   "cell_type": "code",
   "execution_count": null,
   "metadata": {},
   "outputs": [],
   "source": [
    "# SHAP force plot for a single prediction\n",
    "shap.force_plot(explainer.expected_value, shap_values[0], X_test[0], feature_names=feature_names)\n"
   ]
  }
 ],
 "metadata": {
  "kernelspec": {
   "display_name": "Python 3",
   "language": "python",
   "name": "python3"
  },
  "language_info": {
   "codemirror_mode": {
    "name": "ipython",
    "version": 3
   },
   "file_extension": ".py",
   "mimetype": "text/x-python",
   "name": "python",
   "nbconvert_exporter": "python",
   "pygments_lexer": "ipython3",
   "version": "3.8.10"
  }
 },
 "nbformat": 4,
 "nbformat_minor": 2
}

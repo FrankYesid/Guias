{
 "cells": [
  {
   "cell_type": "code",
   "execution_count": 1,
   "id": "3dc95746",
   "metadata": {},
   "outputs": [
    {
     "name": "stdout",
     "output_type": "stream",
     "text": [
      "Requirement already satisfied: dash in d:\\programs\\anaconda\\lib\\site-packages (2.9.1)\n",
      "Requirement already satisfied: jupyter-dash in d:\\programs\\anaconda\\lib\\site-packages (0.4.2)\n",
      "Requirement already satisfied: plotly in d:\\programs\\anaconda\\lib\\site-packages (5.13.1)\n",
      "Requirement already satisfied: pandas in d:\\programs\\anaconda\\lib\\site-packages (0.25.3)\n",
      "Requirement already satisfied: dash-bootstrap-components in d:\\programs\\anaconda\\lib\\site-packages (1.4.1)\n",
      "Requirement already satisfied: reportlab in d:\\programs\\anaconda\\lib\\site-packages (3.6.12)\n",
      "Requirement already satisfied: Flask>=1.0.4 in d:\\programs\\anaconda\\lib\\site-packages (from dash) (2.2.2)\n",
      "Requirement already satisfied: dash-html-components==2.0.0 in d:\\programs\\anaconda\\lib\\site-packages (from dash) (2.0.0)\n",
      "Requirement already satisfied: dash-core-components==2.0.0 in d:\\programs\\anaconda\\lib\\site-packages (from dash) (2.0.0)\n",
      "Requirement already satisfied: dash-table==5.0.0 in d:\\programs\\anaconda\\lib\\site-packages (from dash) (5.0.0)\n",
      "Requirement already satisfied: requests in d:\\programs\\anaconda\\lib\\site-packages (from jupyter-dash) (2.21.0)\n",
      "Requirement already satisfied: retrying in d:\\programs\\anaconda\\lib\\site-packages (from jupyter-dash) (1.3.4)\n",
      "Requirement already satisfied: ipython in d:\\programs\\anaconda\\lib\\site-packages (from jupyter-dash) (5.5.0)\n",
      "Requirement already satisfied: ipykernel in d:\\programs\\anaconda\\lib\\site-packages (from jupyter-dash) (4.6.1)\n",
      "Requirement already satisfied: ansi2html in d:\\programs\\anaconda\\lib\\site-packages (from jupyter-dash) (1.8.0)\n",
      "Requirement already satisfied: nest-asyncio in d:\\programs\\anaconda\\lib\\site-packages (from jupyter-dash) (1.5.6)\n",
      "Requirement already satisfied: tenacity>=6.2.0 in d:\\programs\\anaconda\\lib\\site-packages (from plotly) (8.2.2)\n",
      "Requirement already satisfied: python-dateutil>=2.6.1 in d:\\programs\\anaconda\\lib\\site-packages (from pandas) (2.8.2)\n",
      "Requirement already satisfied: pytz>=2017.2 in d:\\programs\\anaconda\\lib\\site-packages (from pandas) (2022.7)\n",
      "Requirement already satisfied: numpy>=1.13.3 in d:\\programs\\anaconda\\lib\\site-packages (from pandas) (1.20.2)\n",
      "Requirement already satisfied: pillow>=9.0.0 in d:\\programs\\anaconda\\lib\\site-packages (from reportlab) (9.4.0)\n",
      "Requirement already satisfied: Werkzeug>=2.2.2 in d:\\programs\\anaconda\\lib\\site-packages (from Flask>=1.0.4->dash) (2.2.2)\n",
      "Requirement already satisfied: Jinja2>=3.0 in d:\\programs\\anaconda\\lib\\site-packages (from Flask>=1.0.4->dash) (3.1.2)\n",
      "Requirement already satisfied: itsdangerous>=2.0 in d:\\programs\\anaconda\\lib\\site-packages (from Flask>=1.0.4->dash) (2.0.1)\n",
      "Requirement already satisfied: click>=8.0 in d:\\programs\\anaconda\\lib\\site-packages (from Flask>=1.0.4->dash) (8.0.4)\n",
      "Requirement already satisfied: importlib-metadata>=3.6.0 in d:\\programs\\anaconda\\lib\\site-packages (from Flask>=1.0.4->dash) (4.11.3)\n",
      "Requirement already satisfied: six>=1.5 in d:\\programs\\anaconda\\lib\\site-packages (from python-dateutil>=2.6.1->pandas) (1.16.0)\n",
      "Requirement already satisfied: jupyter-client in d:\\programs\\anaconda\\lib\\site-packages (from ipykernel->jupyter-dash) (7.1.2)\n",
      "Requirement already satisfied: tornado>=4.0 in d:\\programs\\anaconda\\lib\\site-packages (from ipykernel->jupyter-dash) (4.5.3)\n",
      "Requirement already satisfied: traitlets>=4.1.0 in d:\\programs\\anaconda\\lib\\site-packages (from ipykernel->jupyter-dash) (5.7.1)\n",
      "Requirement already satisfied: decorator in d:\\programs\\anaconda\\lib\\site-packages (from ipython->jupyter-dash) (5.1.1)\n",
      "Requirement already satisfied: pickleshare in d:\\programs\\anaconda\\lib\\site-packages (from ipython->jupyter-dash) (0.7.5)\n",
      "Requirement already satisfied: prompt-toolkit<2.0.0,>=1.0.4 in d:\\programs\\anaconda\\lib\\site-packages (from ipython->jupyter-dash) (1.0.18)\n",
      "Requirement already satisfied: pygments in d:\\programs\\anaconda\\lib\\site-packages (from ipython->jupyter-dash) (2.11.2)\n",
      "Requirement already satisfied: setuptools>=18.5 in d:\\programs\\anaconda\\lib\\site-packages (from ipython->jupyter-dash) (65.6.3)\n",
      "Requirement already satisfied: simplegeneric>0.8 in d:\\programs\\anaconda\\lib\\site-packages (from ipython->jupyter-dash) (0.8.1)\n",
      "Requirement already satisfied: colorama in d:\\programs\\anaconda\\lib\\site-packages (from ipython->jupyter-dash) (0.4.6)\n",
      "Requirement already satisfied: chardet<3.1.0,>=3.0.2 in d:\\programs\\anaconda\\lib\\site-packages (from requests->jupyter-dash) (3.0.4)\n",
      "Requirement already satisfied: idna<2.9,>=2.5 in d:\\programs\\anaconda\\lib\\site-packages (from requests->jupyter-dash) (2.8)\n",
      "Requirement already satisfied: urllib3<1.25,>=1.21.1 in d:\\programs\\anaconda\\lib\\site-packages (from requests->jupyter-dash) (1.24.3)\n",
      "Requirement already satisfied: certifi>=2017.4.17 in d:\\programs\\anaconda\\lib\\site-packages (from requests->jupyter-dash) (2022.12.7)\n",
      "Requirement already satisfied: zipp>=0.5 in d:\\programs\\anaconda\\lib\\site-packages (from importlib-metadata>=3.6.0->Flask>=1.0.4->dash) (3.11.0)\n",
      "Requirement already satisfied: typing-extensions>=3.6.4 in d:\\programs\\anaconda\\lib\\site-packages (from importlib-metadata>=3.6.0->Flask>=1.0.4->dash) (4.4.0)\n",
      "Requirement already satisfied: MarkupSafe>=2.0 in d:\\programs\\anaconda\\lib\\site-packages (from Jinja2>=3.0->Flask>=1.0.4->dash) (2.1.1)\n",
      "Requirement already satisfied: wcwidth in d:\\programs\\anaconda\\lib\\site-packages (from prompt-toolkit<2.0.0,>=1.0.4->ipython->jupyter-dash) (0.2.5)\n",
      "Requirement already satisfied: entrypoints in d:\\programs\\anaconda\\lib\\site-packages (from jupyter-client->ipykernel->jupyter-dash) (0.4)\n",
      "Requirement already satisfied: jupyter-core>=4.6.0 in d:\\programs\\anaconda\\lib\\site-packages (from jupyter-client->ipykernel->jupyter-dash) (4.7.1)\n",
      "Requirement already satisfied: pyzmq>=13 in d:\\programs\\anaconda\\lib\\site-packages (from jupyter-client->ipykernel->jupyter-dash) (23.2.0)\n",
      "Requirement already satisfied: pywin32>=1.0 in d:\\programs\\anaconda\\lib\\site-packages (from jupyter-core>=4.6.0->jupyter-client->ipykernel->jupyter-dash) (305.1)\n"
     ]
    },
    {
     "name": "stderr",
     "output_type": "stream",
     "text": [
      "WARNING: Ignoring invalid distribution -andas (d:\\programs\\anaconda\\lib\\site-packages)\n",
      "WARNING: Ignoring invalid distribution -andas (d:\\programs\\anaconda\\lib\\site-packages)\n",
      "DEPRECATION: celery 5.0.2 has a non-standard dependency specifier pytz>dev. pip 23.3 will enforce this behaviour change. A possible replacement is to upgrade to a newer version of celery or contact the author to suggest that they release a version with a conforming dependency specifiers. Discussion can be found at https://github.com/pypa/pip/issues/12063\n",
      "DEPRECATION: colab 1.13.5 has a non-standard dependency specifier pytz>=2011n. pip 23.3 will enforce this behaviour change. A possible replacement is to upgrade to a newer version of colab or contact the author to suggest that they release a version with a conforming dependency specifiers. Discussion can be found at https://github.com/pypa/pip/issues/12063\n"
     ]
    }
   ],
   "source": [
    "!pip install dash jupyter-dash plotly pandas dash-bootstrap-components reportlab"
   ]
  },
  {
   "cell_type": "code",
   "execution_count": 2,
   "id": "5a517291",
   "metadata": {},
   "outputs": [],
   "source": [
    "import pandas as pd\n",
    "import dash\n",
    "from dash import dcc, html\n",
    "from jupyter_dash import JupyterDash\n",
    "import plotly.express as px\n",
    "from dash.dependencies import Input, Output\n",
    "from dash.exceptions import PreventUpdate\n",
    "import dash_bootstrap_components as dbc\n",
    "from io import BytesIO\n",
    "from reportlab.pdfgen import canvas\n",
    "import base64\n",
    "import random\n",
    "# Inicializa la aplicación Dash en un cuaderno de Jupyter\n",
    "app = JupyterDash(__name__, external_stylesheets=[dbc.themes.BOOTSTRAP])\n",
    "\n",
    "# Crea un DataFrame de pandas con datos aleatorios\n",
    "data = {\n",
    "    'x': [random.randint(1, 10) for _ in range(10)],\n",
    "    'y': [random.randint(1, 10) for _ in range(10)]\n",
    "}\n",
    "\n",
    "df = pd.DataFrame(data)\n"
   ]
  },
  {
   "cell_type": "code",
   "execution_count": 3,
   "id": "bcf8b57c",
   "metadata": {},
   "outputs": [],
   "source": [
    "app.layout = dbc.Container(\n",
    "    [\n",
    "        dbc.Row(dbc.Col(html.H1('Dashboard con Gráficas Dinámicas'), width={'size': 6, 'offset': 3})),\n",
    "        dbc.Row(dbc.Col(dcc.Graph(id='scatter-plot'), width=10), className=\"mt-4\"),\n",
    "        \n",
    "        # Botón de descarga en PDF\n",
    "        dbc.Row(dbc.Col(\n",
    "            html.Button(\"Descargar PDF\", id=\"btn_download_pdf\", n_clicks=0),\n",
    "            width=2, className=\"mt-4\"\n",
    "        )),\n",
    "    ],\n",
    "    fluid=True,\n",
    ")\n",
    "\n",
    "@app.callback(\n",
    "    Output('scatter-plot', 'figure'),\n",
    "    Input('scatter-plot', 'relayoutData')\n",
    ")\n",
    "def update_graph(relayoutData):\n",
    "    if relayoutData is None:\n",
    "        raise PreventUpdate\n",
    "\n",
    "    # Crea una gráfica de dispersión dinámica\n",
    "    figure = px.scatter(df, x='x', y='y', title='Gráfica de Dispersión Dinámica')\n",
    "    return figure\n"
   ]
  },
  {
   "cell_type": "code",
   "execution_count": 4,
   "id": "5574b3a3",
   "metadata": {},
   "outputs": [
    {
     "name": "stdout",
     "output_type": "stream",
     "text": [
      "Dash is running on http://127.0.0.1:8050/\n",
      "\n"
     ]
    },
    {
     "data": {
      "text/html": [
       "\n",
       "        <iframe\n",
       "            width=\"100%\"\n",
       "            height=\"650\"\n",
       "            src=\"http://127.0.0.1:8050/\"\n",
       "            frameborder=\"0\"\n",
       "            allowfullscreen\n",
       "        ></iframe>\n",
       "        "
      ],
      "text/plain": [
       "<IPython.lib.display.IFrame at 0x22f02fc99c8>"
      ]
     },
     "metadata": {},
     "output_type": "display_data"
    }
   ],
   "source": [
    "def download_pdf(n_clicks):\n",
    "    if n_clicks == 0:\n",
    "        raise PreventUpdate\n",
    "\n",
    "    # Genera el contenido del PDF\n",
    "    buffer = BytesIO()\n",
    "    p = canvas.Canvas(buffer)\n",
    "    \n",
    "    # Agrega contenido al PDF (por ejemplo, título y gráfico)\n",
    "    p.drawString(100, 750, \"Dashboard con Gráficas Dinámicas\")\n",
    "    # Lógica para agregar gráficas u otro contenido al PDF\n",
    "    \n",
    "    p.showPage()\n",
    "    p.save()\n",
    "    \n",
    "    buffer.seek(0)\n",
    "    pdf_content = buffer.read()\n",
    "\n",
    "    # Guarda el PDF en un directorio específico\n",
    "    pdf_filename = \"D:\\GitHub\\Guias\\Dash\\dashboard.pdf\"\n",
    "    with open(pdf_filename, \"wb\") as pdf_file:\n",
    "        pdf_file.write(pdf_content)\n",
    "\n",
    "    # Devuelve el contenido codificado para la descarga\n",
    "    return dict(content=pdf_content, filename=pdf_filename)\n",
    "\n",
    "if __name__ == '__main__':\n",
    "    app.run_server(mode='inline')"
   ]
  },
  {
   "cell_type": "code",
   "execution_count": null,
   "id": "0e28674d",
   "metadata": {},
   "outputs": [],
   "source": []
  }
 ],
 "metadata": {
  "kernelspec": {
   "display_name": "Python 3",
   "language": "python",
   "name": "python3"
  },
  "language_info": {
   "codemirror_mode": {
    "name": "ipython",
    "version": 3
   },
   "file_extension": ".py",
   "mimetype": "text/x-python",
   "name": "python",
   "nbconvert_exporter": "python",
   "pygments_lexer": "ipython3",
   "version": "3.7.10"
  }
 },
 "nbformat": 4,
 "nbformat_minor": 5
}

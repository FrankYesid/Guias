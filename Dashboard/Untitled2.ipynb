{
 "cells": [
  {
   "cell_type": "code",
   "execution_count": 1,
   "id": "022094f0",
   "metadata": {},
   "outputs": [
    {
     "name": "stdout",
     "output_type": "stream",
     "text": [
      "Requirement already satisfied: dash in d:\\programs\\anaconda\\lib\\site-packages (2.9.1)\n"
     ]
    },
    {
     "name": "stderr",
     "output_type": "stream",
     "text": [
      "WARNING: Ignoring invalid distribution -andas (d:\\programs\\anaconda\\lib\\site-packages)\n",
      "WARNING: Ignoring invalid distribution -andas (d:\\programs\\anaconda\\lib\\site-packages)\n",
      "DEPRECATION: celery 5.0.2 has a non-standard dependency specifier pytz>dev. pip 23.3 will enforce this behaviour change. A possible replacement is to upgrade to a newer version of celery or contact the author to suggest that they release a version with a conforming dependency specifiers. Discussion can be found at https://github.com/pypa/pip/issues/12063\n",
      "DEPRECATION: colab 1.13.5 has a non-standard dependency specifier pytz>=2011n. pip 23.3 will enforce this behaviour change. A possible replacement is to upgrade to a newer version of colab or contact the author to suggest that they release a version with a conforming dependency specifiers. Discussion can be found at https://github.com/pypa/pip/issues/12063\n"
     ]
    },
    {
     "name": "stdout",
     "output_type": "stream",
     "text": [
      "Requirement already satisfied: pandas in d:\\programs\\anaconda\\lib\\site-packages (0.25.3)\n",
      "Requirement already satisfied: plotly in d:\\programs\\anaconda\\lib\\site-packages (5.13.1)\n",
      "Requirement already satisfied: PyPDF2 in d:\\programs\\anaconda\\lib\\site-packages (3.0.1)\n",
      "Requirement already satisfied: dash-bootstrap-components in d:\\programs\\anaconda\\lib\\site-packages (1.4.1)\n",
      "Requirement already satisfied: Flask>=1.0.4 in d:\\programs\\anaconda\\lib\\site-packages (from dash) (2.2.2)\n",
      "Requirement already satisfied: dash-html-components==2.0.0 in d:\\programs\\anaconda\\lib\\site-packages (from dash) (2.0.0)\n",
      "Requirement already satisfied: dash-core-components==2.0.0 in d:\\programs\\anaconda\\lib\\site-packages (from dash) (2.0.0)\n",
      "Requirement already satisfied: dash-table==5.0.0 in d:\\programs\\anaconda\\lib\\site-packages (from dash) (5.0.0)\n",
      "Requirement already satisfied: python-dateutil>=2.6.1 in d:\\programs\\anaconda\\lib\\site-packages (from pandas) (2.8.2)\n",
      "Requirement already satisfied: pytz>=2017.2 in d:\\programs\\anaconda\\lib\\site-packages (from pandas) (2022.7)\n",
      "Requirement already satisfied: numpy>=1.13.3 in d:\\programs\\anaconda\\lib\\site-packages (from pandas) (1.20.2)\n",
      "Requirement already satisfied: tenacity>=6.2.0 in d:\\programs\\anaconda\\lib\\site-packages (from plotly) (8.2.2)\n",
      "Requirement already satisfied: typing_extensions>=3.10.0.0 in d:\\programs\\anaconda\\lib\\site-packages (from PyPDF2) (4.4.0)\n",
      "Requirement already satisfied: Werkzeug>=2.2.2 in d:\\programs\\anaconda\\lib\\site-packages (from Flask>=1.0.4->dash) (2.2.2)\n",
      "Requirement already satisfied: Jinja2>=3.0 in d:\\programs\\anaconda\\lib\\site-packages (from Flask>=1.0.4->dash) (3.1.2)\n",
      "Requirement already satisfied: itsdangerous>=2.0 in d:\\programs\\anaconda\\lib\\site-packages (from Flask>=1.0.4->dash) (2.0.1)\n",
      "Requirement already satisfied: click>=8.0 in d:\\programs\\anaconda\\lib\\site-packages (from Flask>=1.0.4->dash) (8.0.4)\n",
      "Requirement already satisfied: importlib-metadata>=3.6.0 in d:\\programs\\anaconda\\lib\\site-packages (from Flask>=1.0.4->dash) (4.11.3)\n",
      "Requirement already satisfied: six>=1.5 in d:\\programs\\anaconda\\lib\\site-packages (from python-dateutil>=2.6.1->pandas) (1.16.0)\n",
      "Requirement already satisfied: colorama in d:\\programs\\anaconda\\lib\\site-packages (from click>=8.0->Flask>=1.0.4->dash) (0.4.6)\n",
      "Requirement already satisfied: zipp>=0.5 in d:\\programs\\anaconda\\lib\\site-packages (from importlib-metadata>=3.6.0->Flask>=1.0.4->dash) (3.11.0)\n",
      "Requirement already satisfied: MarkupSafe>=2.0 in d:\\programs\\anaconda\\lib\\site-packages (from Jinja2>=3.0->Flask>=1.0.4->dash) (2.1.1)\n"
     ]
    }
   ],
   "source": [
    "!pip install dash pandas plotly PyPDF2 dash-bootstrap-components"
   ]
  },
  {
   "cell_type": "code",
   "execution_count": 3,
   "id": "aa7cb8c7",
   "metadata": {},
   "outputs": [
    {
     "name": "stdout",
     "output_type": "stream",
     "text": [
      "Dash is running on http://127.0.0.1:8050/\n",
      "\n",
      " * Serving Flask app '__main__'\n",
      " * Debug mode: on\n"
     ]
    },
    {
     "ename": "TypeError",
     "evalue": "run_simple() got an unexpected keyword argument 'mode'",
     "output_type": "error",
     "traceback": [
      "\u001b[1;31m---------------------------------------------------------------------------\u001b[0m",
      "\u001b[1;31mTypeError\u001b[0m                                 Traceback (most recent call last)",
      "\u001b[1;32m<ipython-input-3-3f3ad0352c84>\u001b[0m in \u001b[0;36m<module>\u001b[1;34m\u001b[0m\n\u001b[0;32m     84\u001b[0m \u001b[1;31m# Ejecuta la aplicación Dash en línea dentro del cuaderno\u001b[0m\u001b[1;33m\u001b[0m\u001b[1;33m\u001b[0m\u001b[1;33m\u001b[0m\u001b[0m\n\u001b[0;32m     85\u001b[0m \u001b[1;32mif\u001b[0m \u001b[0m__name__\u001b[0m \u001b[1;33m==\u001b[0m \u001b[1;34m'__main__'\u001b[0m\u001b[1;33m:\u001b[0m\u001b[1;33m\u001b[0m\u001b[1;33m\u001b[0m\u001b[0m\n\u001b[1;32m---> 86\u001b[1;33m     \u001b[0mapp\u001b[0m\u001b[1;33m.\u001b[0m\u001b[0mrun_server\u001b[0m\u001b[1;33m(\u001b[0m\u001b[0mmode\u001b[0m\u001b[1;33m=\u001b[0m\u001b[1;34m'inline'\u001b[0m\u001b[1;33m,\u001b[0m \u001b[0mdebug\u001b[0m\u001b[1;33m=\u001b[0m\u001b[1;32mTrue\u001b[0m\u001b[1;33m)\u001b[0m\u001b[1;33m\u001b[0m\u001b[1;33m\u001b[0m\u001b[0m\n\u001b[0m",
      "\u001b[1;32mD:\\Programs\\Anaconda\\lib\\site-packages\\dash\\dash.py\u001b[0m in \u001b[0;36mrun_server\u001b[1;34m(self, *args, **kwargs)\u001b[0m\n\u001b[0;32m   2127\u001b[0m         \u001b[0mSee\u001b[0m\u001b[0;31m \u001b[0m\u001b[0;31m`\u001b[0m\u001b[0mapp\u001b[0m\u001b[1;33m.\u001b[0m\u001b[0mrun\u001b[0m\u001b[0;31m`\u001b[0m \u001b[1;32mfor\u001b[0m \u001b[0musage\u001b[0m \u001b[0minformation\u001b[0m\u001b[1;33m.\u001b[0m\u001b[1;33m\u001b[0m\u001b[1;33m\u001b[0m\u001b[0m\n\u001b[0;32m   2128\u001b[0m         \"\"\"\n\u001b[1;32m-> 2129\u001b[1;33m         \u001b[0mself\u001b[0m\u001b[1;33m.\u001b[0m\u001b[0mrun\u001b[0m\u001b[1;33m(\u001b[0m\u001b[1;33m*\u001b[0m\u001b[0margs\u001b[0m\u001b[1;33m,\u001b[0m \u001b[1;33m**\u001b[0m\u001b[0mkwargs\u001b[0m\u001b[1;33m)\u001b[0m\u001b[1;33m\u001b[0m\u001b[1;33m\u001b[0m\u001b[0m\n\u001b[0m",
      "\u001b[1;32mD:\\Programs\\Anaconda\\lib\\site-packages\\dash\\dash.py\u001b[0m in \u001b[0;36mrun\u001b[1;34m(self, host, port, proxy, debug, dev_tools_ui, dev_tools_props_check, dev_tools_serve_dev_bundles, dev_tools_hot_reload, dev_tools_hot_reload_interval, dev_tools_hot_reload_watch_interval, dev_tools_hot_reload_max_retry, dev_tools_silence_routes_logging, dev_tools_prune_errors, **flask_run_options)\u001b[0m\n\u001b[0;32m   1987\u001b[0m                     \u001b[0mextra_files\u001b[0m\u001b[1;33m.\u001b[0m\u001b[0mappend\u001b[0m\u001b[1;33m(\u001b[0m\u001b[0mpath\u001b[0m\u001b[1;33m)\u001b[0m\u001b[1;33m\u001b[0m\u001b[1;33m\u001b[0m\u001b[0m\n\u001b[0;32m   1988\u001b[0m \u001b[1;33m\u001b[0m\u001b[0m\n\u001b[1;32m-> 1989\u001b[1;33m         \u001b[0mself\u001b[0m\u001b[1;33m.\u001b[0m\u001b[0mserver\u001b[0m\u001b[1;33m.\u001b[0m\u001b[0mrun\u001b[0m\u001b[1;33m(\u001b[0m\u001b[0mhost\u001b[0m\u001b[1;33m=\u001b[0m\u001b[0mhost\u001b[0m\u001b[1;33m,\u001b[0m \u001b[0mport\u001b[0m\u001b[1;33m=\u001b[0m\u001b[0mport\u001b[0m\u001b[1;33m,\u001b[0m \u001b[0mdebug\u001b[0m\u001b[1;33m=\u001b[0m\u001b[0mdebug\u001b[0m\u001b[1;33m,\u001b[0m \u001b[1;33m**\u001b[0m\u001b[0mflask_run_options\u001b[0m\u001b[1;33m)\u001b[0m\u001b[1;33m\u001b[0m\u001b[1;33m\u001b[0m\u001b[0m\n\u001b[0m\u001b[0;32m   1990\u001b[0m \u001b[1;33m\u001b[0m\u001b[0m\n\u001b[0;32m   1991\u001b[0m     \u001b[1;32mdef\u001b[0m \u001b[0m_import_layouts_from_pages\u001b[0m\u001b[1;33m(\u001b[0m\u001b[0mself\u001b[0m\u001b[1;33m)\u001b[0m\u001b[1;33m:\u001b[0m\u001b[1;33m\u001b[0m\u001b[1;33m\u001b[0m\u001b[0m\n",
      "\u001b[1;32mD:\\Programs\\Anaconda\\lib\\site-packages\\flask\\app.py\u001b[0m in \u001b[0;36mrun\u001b[1;34m(self, host, port, debug, load_dotenv, **options)\u001b[0m\n\u001b[0;32m   1186\u001b[0m \u001b[1;33m\u001b[0m\u001b[0m\n\u001b[0;32m   1187\u001b[0m         \u001b[1;32mtry\u001b[0m\u001b[1;33m:\u001b[0m\u001b[1;33m\u001b[0m\u001b[1;33m\u001b[0m\u001b[0m\n\u001b[1;32m-> 1188\u001b[1;33m             \u001b[0mrun_simple\u001b[0m\u001b[1;33m(\u001b[0m\u001b[0mt\u001b[0m\u001b[1;33m.\u001b[0m\u001b[0mcast\u001b[0m\u001b[1;33m(\u001b[0m\u001b[0mstr\u001b[0m\u001b[1;33m,\u001b[0m \u001b[0mhost\u001b[0m\u001b[1;33m)\u001b[0m\u001b[1;33m,\u001b[0m \u001b[0mport\u001b[0m\u001b[1;33m,\u001b[0m \u001b[0mself\u001b[0m\u001b[1;33m,\u001b[0m \u001b[1;33m**\u001b[0m\u001b[0moptions\u001b[0m\u001b[1;33m)\u001b[0m\u001b[1;33m\u001b[0m\u001b[1;33m\u001b[0m\u001b[0m\n\u001b[0m\u001b[0;32m   1189\u001b[0m         \u001b[1;32mfinally\u001b[0m\u001b[1;33m:\u001b[0m\u001b[1;33m\u001b[0m\u001b[1;33m\u001b[0m\u001b[0m\n\u001b[0;32m   1190\u001b[0m             \u001b[1;31m# reset the first request information if the development server\u001b[0m\u001b[1;33m\u001b[0m\u001b[1;33m\u001b[0m\u001b[1;33m\u001b[0m\u001b[0m\n",
      "\u001b[1;31mTypeError\u001b[0m: run_simple() got an unexpected keyword argument 'mode'"
     ]
    }
   ],
   "source": [
    "# Importa las bibliotecas necesarias\n",
    "import PyPDF2\n",
    "import dash\n",
    "from dash import dcc, html\n",
    "import dash_bootstrap_components as dbc\n",
    "from dash.dependencies import Input, Output\n",
    "import dash_table\n",
    "import pandas as pd\n",
    "import plotly.express as px\n",
    "\n",
    "# Inicializa la aplicación Dash\n",
    "app = dash.Dash(__name__, external_stylesheets=[dbc.themes.BOOTSTRAP])\n",
    "\n",
    "# Define la función para extraer texto de un PDF\n",
    "def extract_pdf_text(pdf_path):\n",
    "    text = \"\"\n",
    "    with open(pdf_path, \"rb\") as pdf_file:\n",
    "        pdf_reader = PyPDF2.PdfFileReader(pdf_file)\n",
    "        for page_num in range(pdf_reader.numPages):\n",
    "            page = pdf_reader.getPage(page_num)\n",
    "            text += page.extractText()\n",
    "    return text\n",
    "\n",
    "# Define la función para analizar y procesar el texto extraído del PDF (puedes personalizar esto)\n",
    "def process_pdf_text(text):\n",
    "    # Aquí, procesa y analiza el texto para convertirlo en datos estructurados (DataFrame u otros)\n",
    "    # Retorna los datos procesados\n",
    "    return processed_data\n",
    "\n",
    "# Define la función para crear una gráfica con Plotly Express (puedes personalizar esto)\n",
    "def create_plot(data):\n",
    "    figure = px.scatter(data, x='x', y='y', title='Gráfica de Dispersión')\n",
    "    return figure\n",
    "\n",
    "# Define la función para crear una tabla Dash (puedes personalizar esto)\n",
    "def create_table(data):\n",
    "    table = dash_table.DataTable(\n",
    "        id='table',\n",
    "        columns=[{'name': col, 'id': col} for col in data.columns],\n",
    "        data=data.to_dict('records'),\n",
    "    )\n",
    "    return table\n",
    "\n",
    "# Define el diseño del tablero Dash\n",
    "app.layout = dbc.Container(\n",
    "    [\n",
    "        dbc.Row(dbc.Col(html.H1('Tablero Dash para PDF Parsing'), width={'size': 6, 'offset': 3})),\n",
    "        \n",
    "        # Carga de archivo PDF\n",
    "        dcc.Upload(\n",
    "            id='upload-pdf',\n",
    "            children=html.Button('Cargar PDF', n_clicks=0),\n",
    "            multiple=False\n",
    "        ),\n",
    "        \n",
    "        # Gráfica y tabla para mostrar los datos\n",
    "        dcc.Graph(id='your-plot'),\n",
    "        html.Div(id='your-table'),\n",
    "    ],\n",
    "    fluid=True,\n",
    ")\n",
    "\n",
    "# Callback para actualizar la gráfica y la tabla en función del PDF cargado\n",
    "@app.callback(\n",
    "    [Output('your-plot', 'figure'),\n",
    "     Output('your-table', 'children')],\n",
    "    [Input('upload-pdf', 'contents')]\n",
    ")\n",
    "def update_dashboard(pdf_contents):\n",
    "    if pdf_contents is None:\n",
    "        raise dash.exceptions.PreventUpdate\n",
    "    \n",
    "    # Obtiene el contenido del PDF y procesa el texto\n",
    "    pdf_content = pdf_contents[0]['content']\n",
    "    pdf_text = base64.b64decode(pdf_content).decode()\n",
    "    processed_data = process_pdf_text(pdf_text)\n",
    "    \n",
    "    # Crea la gráfica y la tabla\n",
    "    figure = create_plot(processed_data)\n",
    "    table = create_table(processed_data)\n",
    "    \n",
    "    return figure, table\n",
    "\n",
    "# Ejecuta la aplicación Dash en línea dentro del cuaderno\n",
    "if __name__ == '__main__':\n",
    "    app.run_server(mode='inline', debug=True)\n"
   ]
  },
  {
   "cell_type": "code",
   "execution_count": null,
   "id": "a1fca69d",
   "metadata": {},
   "outputs": [],
   "source": []
  }
 ],
 "metadata": {
  "kernelspec": {
   "display_name": "Python 3",
   "language": "python",
   "name": "python3"
  },
  "language_info": {
   "codemirror_mode": {
    "name": "ipython",
    "version": 3
   },
   "file_extension": ".py",
   "mimetype": "text/x-python",
   "name": "python",
   "nbconvert_exporter": "python",
   "pygments_lexer": "ipython3",
   "version": "3.7.10"
  }
 },
 "nbformat": 4,
 "nbformat_minor": 5
}

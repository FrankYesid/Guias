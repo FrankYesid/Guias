{
 "cells": [
  {
   "cell_type": "markdown",
   "metadata": {
    "extensions": {
     "jupyter_dashboards": {
      "version": 1,
      "views": {
       "grid_default": {},
       "report_default": {}
      }
     }
    }
   },
   "source": [
    "The following tools will be used throughout the project.\n",
    "\n",
    "Catboost\n",
    "Streamlit\n",
    "FastAPI\n",
    "Docker\n",
    "Table of Contents\n",
    "- 1. Aim of the Project and Data Set \n",
    "-- Data Set\n",
    "- 2. Data Preprocessing and Model Development\n",
    "- 3. Interface (Streamlit)\n",
    "- 4. API (FastAPI)\n",
    "- 5. Automation (Docker)"
   ]
  },
  {
   "cell_type": "markdown",
   "metadata": {
    "extensions": {
     "jupyter_dashboards": {
      "version": 1,
      "views": {
       "grid_default": {},
       "report_default": {}
      }
     }
    }
   },
   "source": [
    "https://miro.medium.com/v2/resize:fit:720/format:webp/1*2se448p2nO8Sqcwq_KzrTA.png"
   ]
  },
  {
   "cell_type": "markdown",
   "metadata": {
    "extensions": {
     "jupyter_dashboards": {
      "version": 1,
      "views": {
       "grid_default": {},
       "report_default": {}
      }
     }
    }
   },
   "source": [
    "You can access the customer data to be used in the project from Kaggle. This dataset consists of 7043 customers with 21 columns (features). It contains customer account information, demographic information, and registered services. The target variable (Churn) provides information on whether the customer has churned.\n",
    "The dataset is available at the following link: https://community.ibm.com/community/user/businessanalytics/blogs/steven-macko/2019/07/11/telco-customer-churn-1113"
   ]
  },
  {
   "cell_type": "markdown",
   "metadata": {
    "extensions": {
     "jupyter_dashboards": {
      "version": 1,
      "views": {
       "grid_default": {},
       "report_default": {}
      }
     }
    }
   },
   "source": [
    "# Library"
   ]
  },
  {
   "cell_type": "code",
   "execution_count": 1,
   "metadata": {
    "extensions": {
     "jupyter_dashboards": {
      "version": 1,
      "views": {
       "grid_default": {},
       "report_default": {}
      }
     }
    }
   },
   "outputs": [
    {
     "name": "stdout",
     "output_type": "stream",
     "text": [
      "Requirement already satisfied: numpy in d:\\programs\\anaconda\\lib\\site-packages (1.20.2)\n",
      "Requirement already satisfied: pandas in d:\\programs\\anaconda\\lib\\site-packages (0.25.3)\n",
      "Requirement already satisfied: matplotlib in d:\\programs\\anaconda\\lib\\site-packages (3.3.4)\n",
      "Requirement already satisfied: tensorflow in d:\\programs\\anaconda\\lib\\site-packages (2.11.0)\n",
      "Collecting pytorch\n",
      "  Using cached pytorch-1.0.2.tar.gz (689 bytes)\n",
      "  Preparing metadata (setup.py): started\n",
      "  Preparing metadata (setup.py): finished with status 'done'\n",
      "Requirement already satisfied: python-dateutil>=2.6.1 in d:\\programs\\anaconda\\lib\\site-packages (from pandas) (2.8.2)\n",
      "Requirement already satisfied: pytz>=2017.2 in d:\\programs\\anaconda\\lib\\site-packages (from pandas) (2022.7)\n",
      "Requirement already satisfied: cycler>=0.10 in d:\\programs\\anaconda\\lib\\site-packages (from matplotlib) (0.11.0)\n",
      "Requirement already satisfied: kiwisolver>=1.0.1 in d:\\programs\\anaconda\\lib\\site-packages (from matplotlib) (1.4.4)\n",
      "Requirement already satisfied: pillow>=6.2.0 in d:\\programs\\anaconda\\lib\\site-packages (from matplotlib) (9.4.0)\n",
      "Requirement already satisfied: pyparsing!=2.0.4,!=2.1.2,!=2.1.6,>=2.0.3 in d:\\programs\\anaconda\\lib\\site-packages (from matplotlib) (3.0.9)\n",
      "Requirement already satisfied: tensorflow-intel==2.11.0 in d:\\programs\\anaconda\\lib\\site-packages (from tensorflow) (2.11.0)\n",
      "Requirement already satisfied: absl-py>=1.0.0 in d:\\programs\\anaconda\\lib\\site-packages (from tensorflow-intel==2.11.0->tensorflow) (1.4.0)\n",
      "Requirement already satisfied: astunparse>=1.6.0 in d:\\programs\\anaconda\\lib\\site-packages (from tensorflow-intel==2.11.0->tensorflow) (1.6.3)\n",
      "Requirement already satisfied: flatbuffers>=2.0 in d:\\programs\\anaconda\\lib\\site-packages (from tensorflow-intel==2.11.0->tensorflow) (23.5.26)\n",
      "Requirement already satisfied: gast<=0.4.0,>=0.2.1 in d:\\programs\\anaconda\\lib\\site-packages (from tensorflow-intel==2.11.0->tensorflow) (0.4.0)\n",
      "Requirement already satisfied: google-pasta>=0.1.1 in d:\\programs\\anaconda\\lib\\site-packages (from tensorflow-intel==2.11.0->tensorflow) (0.2.0)\n",
      "Requirement already satisfied: h5py>=2.9.0 in d:\\programs\\anaconda\\lib\\site-packages (from tensorflow-intel==2.11.0->tensorflow) (3.7.0)\n",
      "Requirement already satisfied: libclang>=13.0.0 in d:\\programs\\anaconda\\lib\\site-packages (from tensorflow-intel==2.11.0->tensorflow) (16.0.6)\n",
      "Requirement already satisfied: opt-einsum>=2.3.2 in d:\\programs\\anaconda\\lib\\site-packages (from tensorflow-intel==2.11.0->tensorflow) (3.3.0)\n",
      "Requirement already satisfied: packaging in d:\\programs\\anaconda\\lib\\site-packages (from tensorflow-intel==2.11.0->tensorflow) (21.3)\n",
      "Collecting protobuf<3.20,>=3.9.2 (from tensorflow-intel==2.11.0->tensorflow)\n",
      "  Downloading protobuf-3.19.6-cp37-cp37m-win_amd64.whl.metadata (807 bytes)\n",
      "Requirement already satisfied: setuptools in d:\\programs\\anaconda\\lib\\site-packages (from tensorflow-intel==2.11.0->tensorflow) (65.6.3)\n",
      "Requirement already satisfied: six>=1.12.0 in d:\\programs\\anaconda\\lib\\site-packages (from tensorflow-intel==2.11.0->tensorflow) (1.16.0)\n",
      "Requirement already satisfied: termcolor>=1.1.0 in d:\\programs\\anaconda\\lib\\site-packages (from tensorflow-intel==2.11.0->tensorflow) (2.3.0)\n",
      "Requirement already satisfied: typing-extensions>=3.6.6 in d:\\programs\\anaconda\\lib\\site-packages (from tensorflow-intel==2.11.0->tensorflow) (4.4.0)\n",
      "Requirement already satisfied: wrapt>=1.11.0 in d:\\programs\\anaconda\\lib\\site-packages (from tensorflow-intel==2.11.0->tensorflow) (1.14.1)\n",
      "Requirement already satisfied: grpcio<2.0,>=1.24.3 in d:\\programs\\anaconda\\lib\\site-packages (from tensorflow-intel==2.11.0->tensorflow) (1.57.0)\n",
      "Requirement already satisfied: tensorboard<2.12,>=2.11 in d:\\programs\\anaconda\\lib\\site-packages (from tensorflow-intel==2.11.0->tensorflow) (2.11.2)\n",
      "Requirement already satisfied: tensorflow-estimator<2.12,>=2.11.0 in d:\\programs\\anaconda\\lib\\site-packages (from tensorflow-intel==2.11.0->tensorflow) (2.11.0)\n",
      "Requirement already satisfied: keras<2.12,>=2.11.0 in d:\\programs\\anaconda\\lib\\site-packages (from tensorflow-intel==2.11.0->tensorflow) (2.11.0)\n",
      "Requirement already satisfied: tensorflow-io-gcs-filesystem>=0.23.1 in d:\\programs\\anaconda\\lib\\site-packages (from tensorflow-intel==2.11.0->tensorflow) (0.31.0)\n",
      "Requirement already satisfied: wheel<1.0,>=0.23.0 in d:\\programs\\anaconda\\lib\\site-packages (from astunparse>=1.6.0->tensorflow-intel==2.11.0->tensorflow) (0.38.4)\n",
      "Requirement already satisfied: google-auth<3,>=1.6.3 in d:\\programs\\anaconda\\lib\\site-packages (from tensorboard<2.12,>=2.11->tensorflow-intel==2.11.0->tensorflow) (1.20.1)\n",
      "Requirement already satisfied: google-auth-oauthlib<0.5,>=0.4.1 in d:\\programs\\anaconda\\lib\\site-packages (from tensorboard<2.12,>=2.11->tensorflow-intel==2.11.0->tensorflow) (0.4.6)\n",
      "Requirement already satisfied: markdown>=2.6.8 in d:\\programs\\anaconda\\lib\\site-packages (from tensorboard<2.12,>=2.11->tensorflow-intel==2.11.0->tensorflow) (3.4.3)\n",
      "Requirement already satisfied: requests<3,>=2.21.0 in d:\\programs\\anaconda\\lib\\site-packages (from tensorboard<2.12,>=2.11->tensorflow-intel==2.11.0->tensorflow) (2.28.1)\n",
      "Requirement already satisfied: tensorboard-data-server<0.7.0,>=0.6.0 in d:\\programs\\anaconda\\lib\\site-packages (from tensorboard<2.12,>=2.11->tensorflow-intel==2.11.0->tensorflow) (0.6.1)\n",
      "Requirement already satisfied: tensorboard-plugin-wit>=1.6.0 in d:\\programs\\anaconda\\lib\\site-packages (from tensorboard<2.12,>=2.11->tensorflow-intel==2.11.0->tensorflow) (1.8.1)\n",
      "Requirement already satisfied: werkzeug>=1.0.1 in d:\\programs\\anaconda\\lib\\site-packages (from tensorboard<2.12,>=2.11->tensorflow-intel==2.11.0->tensorflow) (2.2.2)\n",
      "Requirement already satisfied: cachetools<5.0,>=2.0.0 in d:\\programs\\anaconda\\lib\\site-packages (from google-auth<3,>=1.6.3->tensorboard<2.12,>=2.11->tensorflow-intel==2.11.0->tensorflow) (4.1.1)\n",
      "Requirement already satisfied: pyasn1-modules>=0.2.1 in d:\\programs\\anaconda\\lib\\site-packages (from google-auth<3,>=1.6.3->tensorboard<2.12,>=2.11->tensorflow-intel==2.11.0->tensorflow) (0.2.8)\n",
      "Requirement already satisfied: rsa<5,>=3.1.4 in d:\\programs\\anaconda\\lib\\site-packages (from google-auth<3,>=1.6.3->tensorboard<2.12,>=2.11->tensorflow-intel==2.11.0->tensorflow) (4.6)\n",
      "Requirement already satisfied: requests-oauthlib>=0.7.0 in d:\\programs\\anaconda\\lib\\site-packages (from google-auth-oauthlib<0.5,>=0.4.1->tensorboard<2.12,>=2.11->tensorflow-intel==2.11.0->tensorflow) (1.3.1)\n",
      "Requirement already satisfied: importlib-metadata>=4.4 in d:\\programs\\anaconda\\lib\\site-packages (from markdown>=2.6.8->tensorboard<2.12,>=2.11->tensorflow-intel==2.11.0->tensorflow) (4.11.3)"
     ]
    },
    {
     "name": "stderr",
     "output_type": "stream",
     "text": [
      "WARNING: Ignoring invalid distribution -andas (d:\\programs\\anaconda\\lib\\site-packages)\n",
      "  error: subprocess-exited-with-error\n",
      "  \n",
      "  python setup.py bdist_wheel did not run successfully.\n",
      "  exit code: 1\n",
      "  \n",
      "  [6 lines of output]\n",
      "  Traceback (most recent call last):\n",
      "    File \"<string>\", line 36, in <module>\n",
      "    File \"<pip-setuptools-caller>\", line 34, in <module>\n",
      "    File \"C:\\Users\\frany\\AppData\\Local\\Temp\\pip-install-ezmquecy\\pytorch_9854c5221e25437f9adb397813770700\\setup.py\", line 15, in <module>\n",
      "      raise Exception(message)\n",
      "  Exception: You tried to install \"pytorch\". The package named for PyTorch is \"torch\"\n",
      "  [end of output]\n",
      "  \n",
      "  note: This error originates from a subprocess, and is likely not a problem with pip.\n",
      "  ERROR: Failed building wheel for pytorch\n",
      "ERROR: Could not build wheels for pytorch, which is required to install pyproject.toml-based projects\n"
     ]
    },
    {
     "name": "stdout",
     "output_type": "stream",
     "text": [
      "\n",
      "Requirement already satisfied: charset-normalizer<3,>=2 in c:\\users\\frany\\appdata\\roaming\\python\\python37\\site-packages (from requests<3,>=2.21.0->tensorboard<2.12,>=2.11->tensorflow-intel==2.11.0->tensorflow) (2.0.4)\n",
      "Requirement already satisfied: idna<4,>=2.5 in d:\\programs\\anaconda\\lib\\site-packages (from requests<3,>=2.21.0->tensorboard<2.12,>=2.11->tensorflow-intel==2.11.0->tensorflow) (2.8)\n",
      "Requirement already satisfied: urllib3<1.27,>=1.21.1 in d:\\programs\\anaconda\\lib\\site-packages (from requests<3,>=2.21.0->tensorboard<2.12,>=2.11->tensorflow-intel==2.11.0->tensorflow) (1.26.14)\n",
      "Requirement already satisfied: certifi>=2017.4.17 in d:\\programs\\anaconda\\lib\\site-packages (from requests<3,>=2.21.0->tensorboard<2.12,>=2.11->tensorflow-intel==2.11.0->tensorflow) (2020.6.20)\n",
      "Requirement already satisfied: MarkupSafe>=2.1.1 in d:\\programs\\anaconda\\lib\\site-packages (from werkzeug>=1.0.1->tensorboard<2.12,>=2.11->tensorflow-intel==2.11.0->tensorflow) (2.1.1)\n",
      "Requirement already satisfied: zipp>=0.5 in d:\\programs\\anaconda\\lib\\site-packages (from importlib-metadata>=4.4->markdown>=2.6.8->tensorboard<2.12,>=2.11->tensorflow-intel==2.11.0->tensorflow) (3.11.0)\n",
      "Requirement already satisfied: pyasn1<0.5.0,>=0.4.6 in d:\\programs\\anaconda\\lib\\site-packages (from pyasn1-modules>=0.2.1->google-auth<3,>=1.6.3->tensorboard<2.12,>=2.11->tensorflow-intel==2.11.0->tensorflow) (0.4.8)\n",
      "Requirement already satisfied: oauthlib>=3.0.0 in d:\\programs\\anaconda\\lib\\site-packages (from requests-oauthlib>=0.7.0->google-auth-oauthlib<0.5,>=0.4.1->tensorboard<2.12,>=2.11->tensorflow-intel==2.11.0->tensorflow) (3.2.2)\n",
      "Downloading protobuf-3.19.6-cp37-cp37m-win_amd64.whl (896 kB)\n",
      "   ---------------------------------------- 896.6/896.6 kB 2.3 MB/s eta 0:00:00\n",
      "Building wheels for collected packages: pytorch\n",
      "  Building wheel for pytorch (setup.py): started\n",
      "  Building wheel for pytorch (setup.py): finished with status 'error'\n",
      "  Running setup.py clean for pytorch\n",
      "Failed to build pytorch\n"
     ]
    }
   ],
   "source": [
    "# @title Install Modules\n",
    "!pip install numpy pandas matplotlib tensorflow pytorch "
   ]
  },
  {
   "cell_type": "code",
   "execution_count": 2,
   "metadata": {
    "extensions": {
     "jupyter_dashboards": {
      "version": 1,
      "views": {
       "grid_default": {},
       "report_default": {}
      }
     }
    }
   },
   "outputs": [
    {
     "name": "stdout",
     "output_type": "stream",
     "text": [
      "Requirement already satisfied: catboost in d:\\programs\\anaconda\\lib\\site-packages (1.2.5)\n",
      "Requirement already satisfied: graphviz in d:\\programs\\anaconda\\lib\\site-packages (from catboost) (0.20.1)\n",
      "Requirement already satisfied: matplotlib in d:\\programs\\anaconda\\lib\\site-packages (from catboost) (3.3.4)\n",
      "Requirement already satisfied: numpy>=1.16.0 in d:\\programs\\anaconda\\lib\\site-packages (from catboost) (1.20.2)\n",
      "Requirement already satisfied: pandas>=0.24 in d:\\programs\\anaconda\\lib\\site-packages (from catboost) (0.25.3)\n",
      "Requirement already satisfied: scipy in d:\\programs\\anaconda\\lib\\site-packages (from catboost) (1.7.3)\n",
      "Requirement already satisfied: plotly in d:\\programs\\anaconda\\lib\\site-packages (from catboost) (5.13.1)\n",
      "Requirement already satisfied: six in d:\\programs\\anaconda\\lib\\site-packages (from catboost) (1.16.0)\n",
      "Requirement already satisfied: python-dateutil>=2.6.1 in d:\\programs\\anaconda\\lib\\site-packages (from pandas>=0.24->catboost) (2.8.2)\n",
      "Requirement already satisfied: pytz>=2017.2 in d:\\programs\\anaconda\\lib\\site-packages (from pandas>=0.24->catboost) (2022.7)\n",
      "Requirement already satisfied: cycler>=0.10 in d:\\programs\\anaconda\\lib\\site-packages (from matplotlib->catboost) (0.11.0)\n",
      "Requirement already satisfied: kiwisolver>=1.0.1 in d:\\programs\\anaconda\\lib\\site-packages (from matplotlib->catboost) (1.4.4)\n",
      "Requirement already satisfied: pillow>=6.2.0 in d:\\programs\\anaconda\\lib\\site-packages (from matplotlib->catboost) (9.4.0)\n",
      "Requirement already satisfied: pyparsing!=2.0.4,!=2.1.2,!=2.1.6,>=2.0.3 in d:\\programs\\anaconda\\lib\\site-packages (from matplotlib->catboost) (3.0.9)\n",
      "Requirement already satisfied: tenacity>=6.2.0 in d:\\programs\\anaconda\\lib\\site-packages (from plotly->catboost) (8.2.2)\n",
      "Requirement already satisfied: typing-extensions in d:\\programs\\anaconda\\lib\\site-packages (from kiwisolver>=1.0.1->matplotlib->catboost) (4.4.0)\n"
     ]
    },
    {
     "name": "stderr",
     "output_type": "stream",
     "text": [
      "WARNING: Ignoring invalid distribution -andas (d:\\programs\\anaconda\\lib\\site-packages)\n",
      "WARNING: Ignoring invalid distribution -andas (d:\\programs\\anaconda\\lib\\site-packages)\n",
      "DEPRECATION: celery 5.0.2 has a non-standard dependency specifier pytz>dev. pip 24.1 will enforce this behaviour change. A possible replacement is to upgrade to a newer version of celery or contact the author to suggest that they release a version with a conforming dependency specifiers. Discussion can be found at https://github.com/pypa/pip/issues/12063\n",
      "DEPRECATION: colab 1.13.5 has a non-standard dependency specifier pytz>=2011n. pip 24.1 will enforce this behaviour change. A possible replacement is to upgrade to a newer version of colab or contact the author to suggest that they release a version with a conforming dependency specifiers. Discussion can be found at https://github.com/pypa/pip/issues/12063\n"
     ]
    }
   ],
   "source": [
    "!pip install catboost"
   ]
  },
  {
   "cell_type": "code",
   "execution_count": 3,
   "metadata": {
    "extensions": {
     "jupyter_dashboards": {
      "version": 1,
      "views": {
       "grid_default": {},
       "report_default": {}
      }
     }
    }
   },
   "outputs": [
    {
     "name": "stderr",
     "output_type": "stream",
     "text": [
      "WARNING: Ignoring invalid distribution -andas (d:\\programs\\anaconda\\lib\\site-packages)\n",
      "WARNING: Ignoring invalid distribution -andas (d:\\programs\\anaconda\\lib\\site-packages)\n",
      "DEPRECATION: celery 5.0.2 has a non-standard dependency specifier pytz>dev. pip 24.1 will enforce this behaviour change. A possible replacement is to upgrade to a newer version of celery or contact the author to suggest that they release a version with a conforming dependency specifiers. Discussion can be found at https://github.com/pypa/pip/issues/12063\n",
      "DEPRECATION: colab 1.13.5 has a non-standard dependency specifier pytz>=2011n. pip 24.1 will enforce this behaviour change. A possible replacement is to upgrade to a newer version of colab or contact the author to suggest that they release a version with a conforming dependency specifiers. Discussion can be found at https://github.com/pypa/pip/issues/12063\n"
     ]
    },
    {
     "name": "stdout",
     "output_type": "stream",
     "text": [
      "Requirement already satisfied: scikit-learn in d:\\programs\\anaconda\\lib\\site-packages (0.23.2)\n",
      "Requirement already satisfied: shap in d:\\programs\\anaconda\\lib\\site-packages (0.42.1)\n",
      "Requirement already satisfied: streamlit in c:\\users\\frany\\appdata\\roaming\\python\\python37\\site-packages (1.23.1)\n",
      "Requirement already satisfied: numpy>=1.13.3 in d:\\programs\\anaconda\\lib\\site-packages (from scikit-learn) (1.20.2)\n",
      "Requirement already satisfied: scipy>=0.19.1 in d:\\programs\\anaconda\\lib\\site-packages (from scikit-learn) (1.7.3)\n",
      "Requirement already satisfied: joblib>=0.11 in d:\\programs\\anaconda\\lib\\site-packages (from scikit-learn) (1.1.1)\n",
      "Requirement already satisfied: threadpoolctl>=2.0.0 in d:\\programs\\anaconda\\lib\\site-packages (from scikit-learn) (2.2.0)\n",
      "Requirement already satisfied: pandas in d:\\programs\\anaconda\\lib\\site-packages (from shap) (0.25.3)\n",
      "Requirement already satisfied: tqdm>=4.27.0 in d:\\programs\\anaconda\\lib\\site-packages (from shap) (4.64.1)\n",
      "Requirement already satisfied: packaging>20.9 in d:\\programs\\anaconda\\lib\\site-packages (from shap) (21.3)\n",
      "Requirement already satisfied: slicer==0.0.7 in d:\\programs\\anaconda\\lib\\site-packages (from shap) (0.0.7)\n",
      "Requirement already satisfied: numba in d:\\programs\\anaconda\\lib\\site-packages (from shap) (0.56.4)\n",
      "Requirement already satisfied: cloudpickle in d:\\programs\\anaconda\\lib\\site-packages (from shap) (2.0.0)\n",
      "Requirement already satisfied: altair<6,>=4.0 in c:\\users\\frany\\appdata\\roaming\\python\\python37\\site-packages (from streamlit) (5.0.1)\n",
      "Requirement already satisfied: blinker<2,>=1.0.0 in c:\\users\\frany\\appdata\\roaming\\python\\python37\\site-packages (from streamlit) (1.6.3)\n",
      "Requirement already satisfied: cachetools<6,>=4.0 in d:\\programs\\anaconda\\lib\\site-packages (from streamlit) (4.1.1)\n",
      "Requirement already satisfied: click<9,>=7.0 in d:\\programs\\anaconda\\lib\\site-packages (from streamlit) (8.0.4)\n",
      "Requirement already satisfied: importlib-metadata<7,>=1.4 in d:\\programs\\anaconda\\lib\\site-packages (from streamlit) (4.11.3)\n",
      "Requirement already satisfied: pillow<10,>=6.2.0 in d:\\programs\\anaconda\\lib\\site-packages (from streamlit) (9.4.0)\n",
      "Requirement already satisfied: protobuf<5,>=3.20 in c:\\users\\frany\\appdata\\roaming\\python\\python37\\site-packages (from streamlit) (4.24.4)\n",
      "Requirement already satisfied: pyarrow>=4.0 in c:\\users\\frany\\appdata\\roaming\\python\\python37\\site-packages (from streamlit) (12.0.1)\n",
      "Requirement already satisfied: pympler<2,>=0.9 in c:\\users\\frany\\appdata\\roaming\\python\\python37\\site-packages (from streamlit) (1.1)\n",
      "Requirement already satisfied: python-dateutil<3,>=2 in d:\\programs\\anaconda\\lib\\site-packages (from streamlit) (2.8.2)\n",
      "Requirement already satisfied: requests<3,>=2.4 in d:\\programs\\anaconda\\lib\\site-packages (from streamlit) (2.28.1)\n",
      "Requirement already satisfied: rich<14,>=10.11.0 in d:\\programs\\anaconda\\lib\\site-packages (from streamlit) (13.7.1)\n",
      "Requirement already satisfied: tenacity<9,>=8.0.0 in d:\\programs\\anaconda\\lib\\site-packages (from streamlit) (8.2.2)\n",
      "Requirement already satisfied: toml<2 in d:\\programs\\anaconda\\lib\\site-packages (from streamlit) (0.10.2)\n",
      "Requirement already satisfied: typing-extensions<5,>=4.0.1 in d:\\programs\\anaconda\\lib\\site-packages (from streamlit) (4.4.0)\n",
      "Requirement already satisfied: tzlocal<5,>=1.1 in d:\\programs\\anaconda\\lib\\site-packages (from streamlit) (4.3)\n",
      "Requirement already satisfied: validators<1,>=0.2 in d:\\programs\\anaconda\\lib\\site-packages (from streamlit) (0.20.0)\n",
      "Requirement already satisfied: gitpython!=3.1.19,<4,>=3 in c:\\users\\frany\\appdata\\roaming\\python\\python37\\site-packages (from streamlit) (3.1.43)\n",
      "Requirement already satisfied: pydeck<1,>=0.1.dev5 in c:\\users\\frany\\appdata\\roaming\\python\\python37\\site-packages (from streamlit) (0.8.1b1)\n",
      "Requirement already satisfied: tornado<7,>=6.0.3 in c:\\users\\frany\\appdata\\roaming\\python\\python37\\site-packages (from streamlit) (6.2)\n",
      "Requirement already satisfied: watchdog in d:\\programs\\anaconda\\lib\\site-packages (from streamlit) (2.1.6)\n",
      "Requirement already satisfied: jinja2 in d:\\programs\\anaconda\\lib\\site-packages (from altair<6,>=4.0->streamlit) (3.1.2)\n",
      "Requirement already satisfied: jsonschema>=3.0 in d:\\programs\\anaconda\\lib\\site-packages (from altair<6,>=4.0->streamlit) (4.17.3)\n",
      "Requirement already satisfied: toolz in d:\\programs\\anaconda\\lib\\site-packages (from altair<6,>=4.0->streamlit) (0.12.0)\n",
      "Requirement already satisfied: colorama in d:\\programs\\anaconda\\lib\\site-packages (from click<9,>=7.0->streamlit) (0.4.6)\n",
      "Requirement already satisfied: gitdb<5,>=4.0.1 in c:\\users\\frany\\appdata\\roaming\\python\\python37\\site-packages (from gitpython!=3.1.19,<4,>=3->streamlit) (4.0.11)\n",
      "Requirement already satisfied: zipp>=0.5 in d:\\programs\\anaconda\\lib\\site-packages (from importlib-metadata<7,>=1.4->streamlit) (3.11.0)\n",
      "Requirement already satisfied: pyparsing!=3.0.5,>=2.0.2 in d:\\programs\\anaconda\\lib\\site-packages (from packaging>20.9->shap) (3.0.9)\n",
      "Requirement already satisfied: pytz>=2017.2 in d:\\programs\\anaconda\\lib\\site-packages (from pandas->shap) (2022.7)\n",
      "Requirement already satisfied: pywin32>=226 in d:\\programs\\anaconda\\lib\\site-packages (from pympler<2,>=0.9->streamlit) (305.1)\n",
      "Requirement already satisfied: six>=1.5 in d:\\programs\\anaconda\\lib\\site-packages (from python-dateutil<3,>=2->streamlit) (1.16.0)\n",
      "Requirement already satisfied: charset-normalizer<3,>=2 in c:\\users\\frany\\appdata\\roaming\\python\\python37\\site-packages (from requests<3,>=2.4->streamlit) (2.0.4)\n",
      "Requirement already satisfied: idna<4,>=2.5 in d:\\programs\\anaconda\\lib\\site-packages (from requests<3,>=2.4->streamlit) (2.8)\n",
      "Requirement already satisfied: urllib3<1.27,>=1.21.1 in d:\\programs\\anaconda\\lib\\site-packages (from requests<3,>=2.4->streamlit) (1.26.14)\n",
      "Requirement already satisfied: certifi>=2017.4.17 in d:\\programs\\anaconda\\lib\\site-packages (from requests<3,>=2.4->streamlit) (2020.6.20)\n",
      "Requirement already satisfied: markdown-it-py>=2.2.0 in d:\\programs\\anaconda\\lib\\site-packages (from rich<14,>=10.11.0->streamlit) (2.2.0)\n",
      "Requirement already satisfied: pygments<3.0.0,>=2.13.0 in d:\\programs\\anaconda\\lib\\site-packages (from rich<14,>=10.11.0->streamlit) (2.17.2)\n",
      "Requirement already satisfied: pytz-deprecation-shim in d:\\programs\\anaconda\\lib\\site-packages (from tzlocal<5,>=1.1->streamlit) (0.1.0.post0)\n",
      "Requirement already satisfied: tzdata in d:\\programs\\anaconda\\lib\\site-packages (from tzlocal<5,>=1.1->streamlit) (2023.3)\n",
      "Requirement already satisfied: backports.zoneinfo in d:\\programs\\anaconda\\lib\\site-packages (from tzlocal<5,>=1.1->streamlit) (0.2.1)\n",
      "Requirement already satisfied: decorator>=3.4.0 in d:\\programs\\anaconda\\lib\\site-packages (from validators<1,>=0.2->streamlit) (5.1.1)\n",
      "Requirement already satisfied: llvmlite<0.40,>=0.39.0dev0 in d:\\programs\\anaconda\\lib\\site-packages (from numba->shap) (0.39.1)\n",
      "Requirement already satisfied: setuptools in d:\\programs\\anaconda\\lib\\site-packages (from numba->shap) (65.6.3)\n",
      "Requirement already satisfied: smmap<6,>=3.0.1 in c:\\users\\frany\\appdata\\roaming\\python\\python37\\site-packages (from gitdb<5,>=4.0.1->gitpython!=3.1.19,<4,>=3->streamlit) (5.0.1)\n",
      "Requirement already satisfied: MarkupSafe>=2.0 in d:\\programs\\anaconda\\lib\\site-packages (from jinja2->altair<6,>=4.0->streamlit) (2.1.1)\n",
      "Requirement already satisfied: attrs>=17.4.0 in d:\\programs\\anaconda\\lib\\site-packages (from jsonschema>=3.0->altair<6,>=4.0->streamlit) (22.1.0)\n",
      "Requirement already satisfied: importlib-resources>=1.4.0 in d:\\programs\\anaconda\\lib\\site-packages (from jsonschema>=3.0->altair<6,>=4.0->streamlit) (5.2.0)\n",
      "Requirement already satisfied: pkgutil-resolve-name>=1.3.10 in d:\\programs\\anaconda\\lib\\site-packages (from jsonschema>=3.0->altair<6,>=4.0->streamlit) (1.3.10)\n",
      "Requirement already satisfied: pyrsistent!=0.17.0,!=0.17.1,!=0.17.2,>=0.14.0 in d:\\programs\\anaconda\\lib\\site-packages (from jsonschema>=3.0->altair<6,>=4.0->streamlit) (0.18.0)\n",
      "Requirement already satisfied: mdurl~=0.1 in d:\\programs\\anaconda\\lib\\site-packages (from markdown-it-py>=2.2.0->rich<14,>=10.11.0->streamlit) (0.1.2)\n"
     ]
    }
   ],
   "source": [
    "!pip install scikit-learn shap streamlit\n",
    "import sklearn"
   ]
  },
  {
   "cell_type": "code",
   "execution_count": 4,
   "metadata": {},
   "outputs": [
    {
     "name": "stdout",
     "output_type": "stream",
     "text": [
      "Requirement already satisfied: streamlit in c:\\users\\frany\\appdata\\roaming\\python\\python37\\site-packages (1.23.1)\n",
      "Requirement already satisfied: altair<6,>=4.0 in c:\\users\\frany\\appdata\\roaming\\python\\python37\\site-packages (from streamlit) (5.0.1)\n",
      "Requirement already satisfied: blinker<2,>=1.0.0 in c:\\users\\frany\\appdata\\roaming\\python\\python37\\site-packages (from streamlit) (1.6.3)\n",
      "Requirement already satisfied: cachetools<6,>=4.0 in d:\\programs\\anaconda\\lib\\site-packages (from streamlit) (4.1.1)\n",
      "Requirement already satisfied: click<9,>=7.0 in d:\\programs\\anaconda\\lib\\site-packages (from streamlit) (8.0.4)\n",
      "Requirement already satisfied: importlib-metadata<7,>=1.4 in d:\\programs\\anaconda\\lib\\site-packages (from streamlit) (4.11.3)\n",
      "Requirement already satisfied: numpy<2,>=1 in d:\\programs\\anaconda\\lib\\site-packages (from streamlit) (1.20.2)\n",
      "Requirement already satisfied: packaging<24,>=14.1 in d:\\programs\\anaconda\\lib\\site-packages (from streamlit) (21.3)\n",
      "Requirement already satisfied: pandas<3,>=0.25 in d:\\programs\\anaconda\\lib\\site-packages (from streamlit) (0.25.3)\n",
      "Requirement already satisfied: pillow<10,>=6.2.0 in d:\\programs\\anaconda\\lib\\site-packages (from streamlit) (9.4.0)\n",
      "Requirement already satisfied: protobuf<5,>=3.20 in c:\\users\\frany\\appdata\\roaming\\python\\python37\\site-packages (from streamlit) (4.24.4)\n",
      "Requirement already satisfied: pyarrow>=4.0 in c:\\users\\frany\\appdata\\roaming\\python\\python37\\site-packages (from streamlit) (12.0.1)\n",
      "Requirement already satisfied: pympler<2,>=0.9 in c:\\users\\frany\\appdata\\roaming\\python\\python37\\site-packages (from streamlit) (1.1)\n",
      "Requirement already satisfied: python-dateutil<3,>=2 in d:\\programs\\anaconda\\lib\\site-packages (from streamlit) (2.8.2)\n",
      "Requirement already satisfied: requests<3,>=2.4 in d:\\programs\\anaconda\\lib\\site-packages (from streamlit) (2.28.1)\n",
      "Requirement already satisfied: rich<14,>=10.11.0 in d:\\programs\\anaconda\\lib\\site-packages (from streamlit) (13.7.1)\n",
      "Requirement already satisfied: tenacity<9,>=8.0.0 in d:\\programs\\anaconda\\lib\\site-packages (from streamlit) (8.2.2)\n",
      "Requirement already satisfied: toml<2 in d:\\programs\\anaconda\\lib\\site-packages (from streamlit) (0.10.2)\n",
      "Requirement already satisfied: typing-extensions<5,>=4.0.1 in d:\\programs\\anaconda\\lib\\site-packages (from streamlit) (4.4.0)\n",
      "Requirement already satisfied: tzlocal<5,>=1.1 in d:\\programs\\anaconda\\lib\\site-packages (from streamlit) (4.3)\n",
      "Requirement already satisfied: validators<1,>=0.2 in d:\\programs\\anaconda\\lib\\site-packages (from streamlit) (0.20.0)\n",
      "Requirement already satisfied: gitpython!=3.1.19,<4,>=3 in c:\\users\\frany\\appdata\\roaming\\python\\python37\\site-packages (from streamlit) (3.1.43)\n",
      "Requirement already satisfied: pydeck<1,>=0.1.dev5 in c:\\users\\frany\\appdata\\roaming\\python\\python37\\site-packages (from streamlit) (0.8.1b1)\n",
      "Requirement already satisfied: tornado<7,>=6.0.3 in c:\\users\\frany\\appdata\\roaming\\python\\python37\\site-packages (from streamlit) (6.2)\n",
      "Requirement already satisfied: watchdog in d:\\programs\\anaconda\\lib\\site-packages (from streamlit) (2.1.6)\n",
      "Requirement already satisfied: jinja2 in d:\\programs\\anaconda\\lib\\site-packages (from altair<6,>=4.0->streamlit) (3.1.2)\n",
      "Requirement already satisfied: jsonschema>=3.0 in d:\\programs\\anaconda\\lib\\site-packages (from altair<6,>=4.0->streamlit) (4.17.3)\n",
      "Requirement already satisfied: toolz in d:\\programs\\anaconda\\lib\\site-packages (from altair<6,>=4.0->streamlit) (0.12.0)\n",
      "Requirement already satisfied: colorama in d:\\programs\\anaconda\\lib\\site-packages (from click<9,>=7.0->streamlit) (0.4.6)\n",
      "Requirement already satisfied: gitdb<5,>=4.0.1 in c:\\users\\frany\\appdata\\roaming\\python\\python37\\site-packages (from gitpython!=3.1.19,<4,>=3->streamlit) (4.0.11)\n",
      "Requirement already satisfied: zipp>=0.5 in d:\\programs\\anaconda\\lib\\site-packages (from importlib-metadata<7,>=1.4->streamlit) (3.11.0)\n",
      "Requirement already satisfied: pyparsing!=3.0.5,>=2.0.2 in d:\\programs\\anaconda\\lib\\site-packages (from packaging<24,>=14.1->streamlit) (3.0.9)\n",
      "Requirement already satisfied: pytz>=2017.2 in d:\\programs\\anaconda\\lib\\site-packages (from pandas<3,>=0.25->streamlit) (2022.7)\n",
      "Requirement already satisfied: pywin32>=226 in d:\\programs\\anaconda\\lib\\site-packages (from pympler<2,>=0.9->streamlit) (305.1)\n",
      "Requirement already satisfied: six>=1.5 in d:\\programs\\anaconda\\lib\\site-packages (from python-dateutil<3,>=2->streamlit) (1.16.0)\n",
      "Requirement already satisfied: charset-normalizer<3,>=2 in c:\\users\\frany\\appdata\\roaming\\python\\python37\\site-packages (from requests<3,>=2.4->streamlit) (2.0.4)\n",
      "Requirement already satisfied: idna<4,>=2.5 in d:\\programs\\anaconda\\lib\\site-packages (from requests<3,>=2.4->streamlit) (2.8)\n",
      "Requirement already satisfied: urllib3<1.27,>=1.21.1 in d:\\programs\\anaconda\\lib\\site-packages (from requests<3,>=2.4->streamlit) (1.26.14)\n",
      "Requirement already satisfied: certifi>=2017.4.17 in d:\\programs\\anaconda\\lib\\site-packages (from requests<3,>=2.4->streamlit) (2020.6.20)\n",
      "Requirement already satisfied: markdown-it-py>=2.2.0 in d:\\programs\\anaconda\\lib\\site-packages (from rich<14,>=10.11.0->streamlit) (2.2.0)\n",
      "Requirement already satisfied: pygments<3.0.0,>=2.13.0 in d:\\programs\\anaconda\\lib\\site-packages (from rich<14,>=10.11.0->streamlit) (2.17.2)\n",
      "Requirement already satisfied: pytz-deprecation-shim in d:\\programs\\anaconda\\lib\\site-packages (from tzlocal<5,>=1.1->streamlit) (0.1.0.post0)\n",
      "Requirement already satisfied: tzdata in d:\\programs\\anaconda\\lib\\site-packages (from tzlocal<5,>=1.1->streamlit) (2023.3)\n",
      "Requirement already satisfied: backports.zoneinfo in d:\\programs\\anaconda\\lib\\site-packages (from tzlocal<5,>=1.1->streamlit) (0.2.1)\n",
      "Requirement already satisfied: decorator>=3.4.0 in d:\\programs\\anaconda\\lib\\site-packages (from validators<1,>=0.2->streamlit) (5.1.1)\n",
      "Requirement already satisfied: smmap<6,>=3.0.1 in c:\\users\\frany\\appdata\\roaming\\python\\python37\\site-packages (from gitdb<5,>=4.0.1->gitpython!=3.1.19,<4,>=3->streamlit) (5.0.1)\n",
      "Requirement already satisfied: MarkupSafe>=2.0 in d:\\programs\\anaconda\\lib\\site-packages (from jinja2->altair<6,>=4.0->streamlit) (2.1.1)\n",
      "Requirement already satisfied: attrs>=17.4.0 in d:\\programs\\anaconda\\lib\\site-packages (from jsonschema>=3.0->altair<6,>=4.0->streamlit) (22.1.0)\n",
      "Requirement already satisfied: importlib-resources>=1.4.0 in d:\\programs\\anaconda\\lib\\site-packages (from jsonschema>=3.0->altair<6,>=4.0->streamlit) (5.2.0)\n",
      "Requirement already satisfied: pkgutil-resolve-name>=1.3.10 in d:\\programs\\anaconda\\lib\\site-packages (from jsonschema>=3.0->altair<6,>=4.0->streamlit) (1.3.10)\n",
      "Requirement already satisfied: pyrsistent!=0.17.0,!=0.17.1,!=0.17.2,>=0.14.0 in d:\\programs\\anaconda\\lib\\site-packages (from jsonschema>=3.0->altair<6,>=4.0->streamlit) (0.18.0)\n",
      "Requirement already satisfied: mdurl~=0.1 in d:\\programs\\anaconda\\lib\\site-packages (from markdown-it-py>=2.2.0->rich<14,>=10.11.0->streamlit) (0.1.2)\n"
     ]
    },
    {
     "name": "stderr",
     "output_type": "stream",
     "text": [
      "WARNING: Ignoring invalid distribution -andas (d:\\programs\\anaconda\\lib\\site-packages)\n",
      "WARNING: Ignoring invalid distribution -andas (d:\\programs\\anaconda\\lib\\site-packages)\n",
      "DEPRECATION: celery 5.0.2 has a non-standard dependency specifier pytz>dev. pip 24.1 will enforce this behaviour change. A possible replacement is to upgrade to a newer version of celery or contact the author to suggest that they release a version with a conforming dependency specifiers. Discussion can be found at https://github.com/pypa/pip/issues/12063\n",
      "DEPRECATION: colab 1.13.5 has a non-standard dependency specifier pytz>=2011n. pip 24.1 will enforce this behaviour change. A possible replacement is to upgrade to a newer version of colab or contact the author to suggest that they release a version with a conforming dependency specifiers. Discussion can be found at https://github.com/pypa/pip/issues/12063\n"
     ]
    }
   ],
   "source": [
    "!pip install streamlit"
   ]
  },
  {
   "cell_type": "code",
   "execution_count": 5,
   "metadata": {
    "extensions": {
     "jupyter_dashboards": {
      "version": 1,
      "views": {
       "grid_default": {},
       "report_default": {}
      }
     }
    }
   },
   "outputs": [
    {
     "name": "stderr",
     "output_type": "stream",
     "text": [
      "Using `tqdm.autonotebook.tqdm` in notebook mode. Use `tqdm.tqdm` instead to force console mode (e.g. in jupyter console)\n"
     ]
    }
   ],
   "source": [
    "# @title Import Modules and Libraries \n",
    "# Data\n",
    "import numpy as np\n",
    "import pandas as pd\n",
    "import os\n",
    "\n",
    "# Machine learning\n",
    "import sklearn.metrics as metrics\n",
    "from sklearn.model_selection import train_test_split, StratifiedShuffleSplit\n",
    "from sklearn.metrics import (\n",
    "    accuracy_score, classification_report, recall_score, confusion_matrix,\n",
    "    roc_auc_score, precision_score, f1_score, roc_curve, auc\n",
    ")\n",
    "from sklearn.preprocessing import OrdinalEncoder\n",
    "from catboost import CatBoostClassifier, Pool\n",
    "\n",
    "# Visualization\n",
    "import shap\n",
    "import streamlit as st\n",
    "from matplotlib import pyplot as plt\n",
    "from pyarrow import parquet as pq\n",
    "import joblib"
   ]
  },
  {
   "cell_type": "code",
   "execution_count": null,
   "metadata": {},
   "outputs": [],
   "source": [
    "\n"
   ]
  },
  {
   "cell_type": "markdown",
   "metadata": {
    "extensions": {
     "jupyter_dashboards": {
      "version": 1,
      "views": {
       "grid_default": {},
       "report_default": {}
      }
     }
    }
   },
   "source": [
    "# Data Set"
   ]
  },
  {
   "cell_type": "markdown",
   "metadata": {
    "extensions": {
     "jupyter_dashboards": {
      "version": 1,
      "views": {
       "grid_default": {},
       "report_default": {}
      }
     }
    }
   },
   "source": [
    "There are many categorical variables in the dataset. By encoding them numerically, we can use different models with various preprocessing techniques. In this study, we will focus on using the proven Catboost algorithm for handling categorical variables. To enhance model development performance, consider using tools like Optuna for hyperparameter optimization."
   ]
  },
  {
   "cell_type": "code",
   "execution_count": 6,
   "metadata": {
    "extensions": {
     "jupyter_dashboards": {
      "version": 1,
      "views": {
       "grid_default": {},
       "report_default": {}
      }
     }
    }
   },
   "outputs": [],
   "source": [
    "# @title Load\n",
    "data_path = \"data/WA_Fn-UseC_-Telco-Customer-Churn.csv\"\n",
    "df = pd.read_csv(data_path, low_memory=True)"
   ]
  },
  {
   "cell_type": "code",
   "execution_count": null,
   "metadata": {
    "extensions": {
     "jupyter_dashboards": {
      "version": 1,
      "views": {
       "grid_default": {},
       "report_default": {}
      }
     }
    }
   },
   "outputs": [],
   "source": [
    "# EDA \n",
    "!pip install pandas-profiling"
   ]
  },
  {
   "cell_type": "code",
   "execution_count": null,
   "metadata": {},
   "outputs": [],
   "source": []
  },
  {
   "cell_type": "code",
   "execution_count": 8,
   "metadata": {
    "extensions": {
     "jupyter_dashboards": {
      "version": 1,
      "views": {
       "grid_default": {},
       "report_default": {}
      }
     }
    }
   },
   "outputs": [],
   "source": [
    "# @title Preprocessing \n",
    "\n",
    "# Convert TotalCharges to numeric, filling NaN values\n",
    "df['TotalCharges'] = pd.to_numeric(df['TotalCharges'], errors='coerce')\n",
    "df['TotalCharges'].fillna(df['tenure'] * df['MonthlyCharges'], inplace=True)\n",
    "\n",
    "# Convert SeniorCitizen to object\n",
    "df['SeniorCitizen'] = df['SeniorCitizen'].astype(object)\n",
    "\n",
    "# Replace 'No phone service' and 'No internet service' with 'No' for certain columns\n",
    "df['MultipleLines'] = df['MultipleLines'].replace('No phone service', 'No')\n",
    "columns_to_replace = ['OnlineSecurity', 'OnlineBackup', 'DeviceProtection', 'TechSupport', 'StreamingTV', 'StreamingMovies']\n",
    "for column in columns_to_replace:\n",
    "    df[column] = df[column].replace('No internet service', 'No')\n",
    "\n",
    "# Convert 'Churn' categorical variable to numeric\n",
    "df['Churn'] = df['Churn'].replace({'No': 0, 'Yes': 1})\n"
   ]
  },
  {
   "cell_type": "markdown",
   "metadata": {},
   "source": [
    "## StratifiedShuffleSplit Samples"
   ]
  },
  {
   "cell_type": "code",
   "execution_count": 9,
   "metadata": {
    "extensions": {
     "jupyter_dashboards": {
      "version": 1,
      "views": {
       "grid_default": {},
       "report_default": {}
      }
     }
    }
   },
   "outputs": [],
   "source": [
    "# Create the StratifiedShuffleSplit object\n",
    "strat_split = StratifiedShuffleSplit(n_splits=1, test_size=0.2, random_state=64)\n",
    "\n",
    "train_index, test_index = next(strat_split.split(df, df[\"Churn\"]))\n",
    "\n",
    "# Create train and test sets\n",
    "strat_train_set = df.loc[train_index]\n",
    "strat_test_set = df.loc[test_index]\n",
    "\n",
    "X_train = strat_train_set.drop(\"Churn\", axis=1)\n",
    "y_train = strat_train_set[\"Churn\"].copy()\n",
    "\n",
    "X_test = strat_test_set.drop(\"Churn\", axis=1)\n",
    "y_test = strat_test_set[\"Churn\"].copy()"
   ]
  },
  {
   "cell_type": "markdown",
   "metadata": {},
   "source": [
    "## CATBOOST "
   ]
  },
  {
   "cell_type": "code",
   "execution_count": 10,
   "metadata": {},
   "outputs": [
    {
     "name": "stdout",
     "output_type": "stream",
     "text": [
      "                Accuracy  Recall  Roc_Auc  Precision\n",
      "CatBoost_Model    0.7764  0.8262   0.7923     0.5528\n"
     ]
    }
   ],
   "source": [
    "# Identify categorical columns\n",
    "categorical_columns = df.select_dtypes(include=['object']).columns.tolist()\n",
    "\n",
    "# Initialize and fit CatBoostClassifier\n",
    "cat_model = CatBoostClassifier(verbose=False, random_state=0, scale_pos_weight=3)\n",
    "cat_model.fit(X_train, y_train, cat_features=categorical_columns, eval_set=(X_test, y_test))\n",
    "\n",
    "# Predict on test set\n",
    "y_pred = cat_model.predict(X_test)\n",
    "\n",
    "# Calculate evaluation metrics\n",
    "## Metrics\n",
    "accuracy, recall, roc_auc, precision = [round(metric(y_test, y_pred), 4) for metric in [accuracy_score, recall_score, roc_auc_score, precision_score]]\n",
    "# Calcular F1-score\n",
    "f1 = f1_score(y_test, y_pred)\n",
    "\n",
    "# Create a DataFrame to store results\n",
    "model_names = ['CatBoost_Model']\n",
    "result = pd.DataFrame({'Accuracy': accuracy, 'Recall': recall, 'Roc_Auc': roc_auc, 'Precision': precision, 'f1_score':f1}, index=model_names)\n",
    "\n",
    "# Print results\n",
    "print(result)\n",
    "\n",
    "# Save the model in the 'model' directory, with \n",
    "model_dir = \"../model\"\n",
    "if not os.path.exists(model_dir):\n",
    "    os.makedirs(model_dir)\n",
    "\n",
    "model_path = os.path.join(model_dir, \"catboost_model.cbm\")\n",
    "cat_model.save_model(model_path)\n",
    "\n",
    "# Confusion matrix\n",
    "conf_matrix = confusion_matrix(y_test, y_pred)\n",
    "print(\"Matriz de confusión:\")\n",
    "print(conf_matrix)\n"
   ]
  },
  {
   "cell_type": "markdown",
   "metadata": {},
   "source": [
    "## Load model"
   ]
  },
  {
   "cell_type": "code",
   "execution_count": 15,
   "metadata": {},
   "outputs": [],
   "source": [
    "# Path of the trained model and data\n",
    "MODEL_PATH = \"../model/cat_model.cbm\" \n",
    "DATA_PATH = \"../data/churn_data_regulated.parquet\""
   ]
  },
  {
   "cell_type": "code",
   "execution_count": null,
   "metadata": {},
   "outputs": [],
   "source": [
    "st.set_page_config(page_title=\"Churn Project\")"
   ]
  },
  {
   "cell_type": "code",
   "execution_count": null,
   "metadata": {},
   "outputs": [],
   "source": [
    "# @title Functions\n",
    "\n",
    "# @markdown\n",
    "@st.cache_resource\n",
    "def load_data():\n",
    "    data = pd.read_parquet(DATA_PATH)\n",
    "    return data\n",
    "\n",
    "def load_x_y(file_path):\n",
    "    data = joblib.load(file_path)\n",
    "    data.reset_index(drop=True, inplace=True)\n",
    "    return data\n",
    "\n",
    "def load_model():\n",
    "    model = CatBoostClassifier()\n",
    "    model.load_model(MODEL_PATH)\n",
    "    return model\n",
    "\n",
    "def calculate_shap(model, X_train, X_test):\n",
    "    # Calculate SHAP values\n",
    "    explainer = shap.TreeExplainer(model)\n",
    "    shap_values_cat_train = explainer.shap_values(X_train)\n",
    "    shap_values_cat_test = explainer.shap_values(X_test)\n",
    "    return explainer, shap_values_cat_train, shap_values_cat_test\n",
    "\n",
    "def plot_shap_values(model, explainer, shap_values_cat_train, shap_values_cat_test, customer_id, X_test, X_train):\n",
    "    # Visualize SHAP values for a specific customer\n",
    "    customer_index = X_test[X_test['customerID'] == customer_id].index[0]\n",
    "    fig, ax_2 = plt.subplots(figsize=(6,6), dpi=200)\n",
    "    shap.decision_plot(explainer.expected_value, shap_values_cat_test[customer_index], X_test[X_test['customerID'] == customer_id], link=\"logit\")\n",
    "    st.pyplot(fig)\n",
    "    plt.close()\n",
    "\n",
    "def display_shap_summary(shap_values_cat_train, X_train):\n",
    "    # Create the plot summarizing the SHAP values\n",
    "    shap.summary_plot(shap_values_cat_train, X_train, plot_type=\"bar\", plot_size=(12,12))\n",
    "    summary_fig, _ = plt.gcf(), plt.gca()\n",
    "    st.pyplot(summary_fig)\n",
    "    plt.close()\n",
    "\n",
    "def display_shap_waterfall_plot(explainer, expected_value, shap_values, feature_names, max_display=20):\n",
    "    # Create SHAP waterfall drawing\n",
    "    fig, ax = plt.subplots(figsize=(6, 6), dpi=150)\n",
    "    shap.plots._waterfall.waterfall_legacy(expected_value, shap_values, feature_names=feature_names, max_display=max_display, show=False)\n",
    "    st.pyplot(fig)\n",
    "    plt.close()\n",
    "\n",
    "def summary(model, data, X_train, X_test):\n",
    "    # Calculate SHAP values\n",
    "    explainer, shap_values_cat_train, shap_values_cat_test = calculate_shap(model, X_train, X_test)\n",
    "\n",
    "    # Summarize and visualize SHAP values\n",
    "    display_shap_summary(shap_values_cat_train, X_train)\n",
    "\n",
    "def plot_shap(model, data, customer_id, X_train, X_test):\n",
    "    # Calculate SHAP values\n",
    "    explainer, shap_values_cat_train, shap_values_cat_test = calculate_shap(model, X_train, X_test)\n",
    "    \n",
    "    # Visualize SHAP values\n",
    "    plot_shap_values(model, explainer, shap_values_cat_train, shap_values_cat_test, customer_id, X_test, X_train)\n",
    "\n",
    "    # Waterfall\n",
    "    customer_index = X_test[X_test['customerID'] == customer_id].index[0]\n",
    "    display_shap_waterfall_plot(explainer, explainer.expected_value, shap_values_cat_test[customer_index], feature_names=X_test.columns, max_display=20)\n"
   ]
  },
  {
   "cell_type": "code",
   "execution_count": null,
   "metadata": {},
   "outputs": [],
   "source": [
    "st.title(\"Telco Customer Churn Project\")"
   ]
  },
  {
   "cell_type": "code",
   "execution_count": null,
   "metadata": {},
   "outputs": [],
   "source": [
    "def main():\n",
    "    model = load_model()\n",
    "    data = load_data()\n",
    "\n",
    "    X_train = load_x_y(\"../data/X_train.pkl\")\n",
    "    X_test = load_x_y(\"../data/X_test.pkl\")\n",
    "    y_train = load_x_y(\"../data/y_train.pkl\")\n",
    "    y_test = load_x_y(\"../data/y_test.pkl\")\n",
    "\n",
    "    max_tenure = data['tenure'].max()\n",
    "    max_monthly_charges = data['MonthlyCharges'].max()\n",
    "    max_total_charges = data['TotalCharges'].max()\n",
    "\n",
    "    # Radio buttons for options\n",
    "    election = st.radio(\"Make Your Choice:\", (\"Feature Importance\", \"User-based SHAP\", \"Calculate the probability of CHURN\"))\n",
    "    available_customer_ids = X_test['customerID'].tolist()\n",
    "    \n",
    "    # If User-based SHAP option is selected\n",
    "    if election == \"User-based SHAP\":\n",
    "        # Customer ID text input\n",
    "        customer_id = st.selectbox(\"Choose the Customer\", available_customer_ids)\n",
    "        customer_index = X_test[X_test['customerID'] == customer_id].index[0]\n",
    "        st.write(f'Customer {customer_id}: Actual value for the Customer Churn : {y_test.iloc[customer_index]}')\n",
    "        y_pred = model.predict(X_test)\n",
    "        st.write(f\"Customer {customer_id}: CatBoost Model's prediction for the Customer Churn : {y_pred[customer_index]}\")\n",
    "        plot_shap(model, data, customer_id, X_train=X_train, X_test=X_test)\n",
    "    \n",
    "    # If Feature Importance is selected\n",
    "    elif election == \"Feature Importance\":\n",
    "        summary(model, data, X_train=X_train, X_test=X_test)\n",
    "\n",
    "    # If Calculate CHURN Probability option is selected\n",
    "    elif election == \"Calculate the probability of CHURN\":\n",
    "        # Retrieving data from the user\n",
    "        customerID = \"6464-UIAEA\"\n",
    "        gender = st.selectbox(\"Gender:\", (\"Female\", \"Male\"))\n",
    "        senior_citizen = st.number_input(\"SeniorCitizen (0: No, 1: Yes)\", min_value=0, max_value=1, step=1)\n",
    "        partner = st.selectbox(\"Partner:\", (\"No\", \"Yes\"))\n",
    "        dependents = st.selectbox(\"Dependents:\", (\"No\", \"Yes\"))\n",
    "        tenure = st.number_input(\"Tenure:\", min_value=0, max_value=max_tenure, step=1)\n",
    "        phone_service = st.selectbox(\"PhoneService:\", (\"No\", \"Yes\"))\n",
    "        multiple_lines = st.selectbox(\"MultipleLines:\", (\"No\", \"Yes\"))\n",
    "        internet_service = st.selectbox(\"InternetService:\", (\"No\", \"DSL\", \"Fiber optic\"))\n",
    "        online_security = st.selectbox(\"OnlineSecurity:\", (\"No\", \"Yes\"))\n",
    "        online_backup = st.selectbox(\"OnlineBackup:\", (\"No\", \"Yes\"))\n",
    "        device_protection = st.selectbox(\"DeviceProtection:\", (\"No\", \"Yes\"))\n",
    "        tech_support = st.selectbox(\"TechSupport:\", (\"No\", \"Yes\"))\n",
    "        streaming_tv = st.selectbox(\"StreamingTV:\", (\"No\", \"Yes\"))\n",
    "        streaming_movies = st.selectbox(\"StreamingMovies:\", (\"No\", \"Yes\"))\n",
    "        contract = st.selectbox(\"Contract:\", (\"Month-to-month\", \"One year\", \"Two year\"))\n",
    "        paperless_billing = st.selectbox(\"PaperlessBilling\", (\"No\", \"Yes\"))\n",
    "        payment_method = st.selectbox(\"PaymentMethod:\", (\"Electronic check\", \"Mailed check\", \"Bank transfer (automatic)\", \"Credit card (automatic)\"))\n",
    "        monthly_charges = st.number_input(\"Monthly Charges\", min_value=0.0, max_value=max_monthly_charges, step=0.01)\n",
    "        total_charges = st.number_input(\"Total Charges\", min_value=0.0, max_value=max_total_charges, step=0.01)\n",
    "        \n",
    "        # Confirmation button\n",
    "        confirmation_button = st.button(\"Confirm\")\n",
    "\n",
    "        # When the confirmation button is clicked\n",
    "        if confirmation_button:\n",
    "            # Convert user-entered data into a data frame\n",
    "            new_customer_data = pd.DataFrame({\n",
    "                \"customerID\": [customerID],\n",
    "                \"gender\": [gender],\n",
    "                \"SeniorCitizen\": [senior_citizen],\n",
    "                \"Partner\": [partner],\n",
    "                \"Dependents\": [dependents],\n",
    "                \"tenure\": [tenure],\n",
    "                \"PhoneService\": [phone_service],\n",
    "                \"MultipleLines\": [multiple_lines],\n",
    "                \"InternetService\": [internet_service],\n",
    "                \"OnlineSecurity\": [online_security],\n",
    "                \"OnlineBackup\": [online_backup],\n",
    "                \"DeviceProtection\": [device_protection],\n",
    "                \"TechSupport\": [tech_support],\n",
    "                \"StreamingTV\": [streaming_tv],\n",
    "                \"StreamingMovies\": [streaming_movies],\n",
    "                \"Contract\": [contract],\n",
    "                \"PaperlessBilling\": [paperless_billing],\n",
    "                \"PaymentMethod\": [payment_method],\n",
    "                \"MonthlyCharges\": [monthly_charges],\n",
    "                \"TotalCharges\": [total_charges]\n",
    "            })\n",
    "\n",
    "            # Predict churn probability using the model\n",
    "            churn_probability = model.predict_proba(new_customer_data)[:, 1]\n",
    "\n",
    "            # Format churn probability\n",
    "            formatted_churn_probability = \"{:.2%}\".format(churn_probability.item())\n",
    "\n",
    "            big_text = f\"<h1>Churn Probability: {formatted_churn_probability}</h1>\"\n",
    "            st.markdown(big_text, unsafe_allow_html=True)\n",
    "            st.write(new_customer_data.to_dict())\n",
    "\n",
    "if __name__ == \"__main__\":\n",
    "    main()"
   ]
  },
  {
   "cell_type": "code",
   "execution_count": null,
   "metadata": {},
   "outputs": [],
   "source": []
  }
 ],
 "metadata": {
  "extensions": {
   "jupyter_dashboards": {
    "activeView": "grid_default",
    "version": 1,
    "views": {
     "grid_default": {
      "cellMargin": 10,
      "defaultCellHeight": 20,
      "maxColumns": 12,
      "name": "grid",
      "type": "grid"
     },
     "report_default": {
      "name": "report",
      "type": "report"
     }
    }
   }
  },
  "kernelspec": {
   "display_name": "Python 3",
   "language": "python",
   "name": "python3"
  },
  "language_info": {
   "codemirror_mode": {
    "name": "ipython",
    "version": 3
   },
   "file_extension": ".py",
   "mimetype": "text/x-python",
   "name": "python",
   "nbconvert_exporter": "python",
   "pygments_lexer": "ipython3",
   "version": "3.7.16"
  }
 },
 "nbformat": 4,
 "nbformat_minor": 2
}

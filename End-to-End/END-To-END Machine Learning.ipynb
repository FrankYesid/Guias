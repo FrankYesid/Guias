{
 "cells": [
  {
   "cell_type": "markdown",
   "metadata": {
    "extensions": {
     "jupyter_dashboards": {
      "version": 1,
      "views": {
       "grid_default": {},
       "report_default": {}
      }
     }
    }
   },
   "source": [
    "The following tools will be used throughout the project.\n",
    "\n",
    "Catboost\n",
    "Streamlit\n",
    "FastAPI\n",
    "Docker\n",
    "Table of Contents\n",
    "- 1. Aim of the Project and Data Set \n",
    "-- Data Set\n",
    "- 2. Data Preprocessing and Model Development\n",
    "- 3. Interface (Streamlit)\n",
    "<!-- - 4. API (FastAPI) -->\n",
    "<!-- - 5. Automation (Docker) -->"
   ]
  },
  {
   "cell_type": "markdown",
   "metadata": {
    "extensions": {
     "jupyter_dashboards": {
      "version": 1,
      "views": {
       "grid_default": {},
       "report_default": {}
      }
     }
    }
   },
   "source": [
    "https://miro.medium.com/v2/resize:fit:720/format:webp/1*2se448p2nO8Sqcwq_KzrTA.png"
   ]
  },
  {
   "cell_type": "markdown",
   "metadata": {
    "extensions": {
     "jupyter_dashboards": {
      "version": 1,
      "views": {
       "grid_default": {},
       "report_default": {}
      }
     }
    }
   },
   "source": [
    "You can access the customer data to be used in the project from Kaggle. This dataset consists of 7043 customers with 21 columns (features). It contains customer account information, demographic information, and registered services. The target variable (Churn) provides information on whether the customer has churned.\n",
    "The dataset is available at the following link: https://community.ibm.com/community/user/businessanalytics/blogs/steven-macko/2019/07/11/telco-customer-churn-1113"
   ]
  },
  {
   "cell_type": "markdown",
   "metadata": {
    "extensions": {
     "jupyter_dashboards": {
      "version": 1,
      "views": {
       "grid_default": {},
       "report_default": {}
      }
     }
    }
   },
   "source": [
    "# Library"
   ]
  },
  {
   "cell_type": "code",
   "execution_count": 22,
   "metadata": {
    "extensions": {
     "jupyter_dashboards": {
      "version": 1,
      "views": {
       "grid_default": {},
       "report_default": {}
      }
     }
    }
   },
   "outputs": [
    {
     "name": "stdout",
     "output_type": "stream",
     "text": [
      "Requirement already satisfied: numpy in d:\\programs\\anaconda\\lib\\site-packages (1.20.2)\n",
      "Requirement already satisfied: pandas in d:\\programs\\anaconda\\lib\\site-packages (1.2.4)\n",
      "Requirement already satisfied: matplotlib in d:\\programs\\anaconda\\lib\\site-packages (3.3.4)\n",
      "Requirement already satisfied: tensorflow in d:\\programs\\anaconda\\lib\\site-packages (2.11.0)\n",
      "Requirement already satisfied: torch in d:\\programs\\anaconda\\lib\\site-packages (1.2.0+cu92)\n",
      "Requirement already satisfied: catboost in d:\\programs\\anaconda\\lib\\site-packages (1.2.5)\n",
      "Requirement already satisfied: scikit-learn in d:\\programs\\anaconda\\lib\\site-packages (0.23.2)\n",
      "Requirement already satisfied: shap in d:\\programs\\anaconda\\lib\\site-packages (0.42.1)\n",
      "Requirement already satisfied: streamlit in d:\\programs\\anaconda\\lib\\site-packages (1.22.0)\n",
      "Requirement already satisfied: sweetviz in d:\\programs\\anaconda\\lib\\site-packages (2.2.1)\n",
      "Requirement already satisfied: python-dateutil>=2.7.3 in d:\\programs\\anaconda\\lib\\site-packages (from pandas) (2.8.2)\n",
      "Requirement already satisfied: pytz>=2017.3 in d:\\programs\\anaconda\\lib\\site-packages (from pandas) (2022.7)\n",
      "Requirement already satisfied: cycler>=0.10 in d:\\programs\\anaconda\\lib\\site-packages (from matplotlib) (0.11.0)\n",
      "Requirement already satisfied: kiwisolver>=1.0.1 in d:\\programs\\anaconda\\lib\\site-packages (from matplotlib) (1.4.4)\n",
      "Requirement already satisfied: pillow>=6.2.0 in d:\\programs\\anaconda\\lib\\site-packages (from matplotlib) (9.4.0)\n",
      "Requirement already satisfied: pyparsing!=2.0.4,!=2.1.2,!=2.1.6,>=2.0.3 in d:\\programs\\anaconda\\lib\\site-packages (from matplotlib) (3.0.9)\n",
      "Requirement already satisfied: tensorflow-intel==2.11.0 in d:\\programs\\anaconda\\lib\\site-packages (from tensorflow) (2.11.0)\n",
      "Requirement already satisfied: absl-py>=1.0.0 in d:\\programs\\anaconda\\lib\\site-packages (from tensorflow-intel==2.11.0->tensorflow) (1.4.0)\n",
      "Requirement already satisfied: astunparse>=1.6.0 in d:\\programs\\anaconda\\lib\\site-packages (from tensorflow-intel==2.11.0->tensorflow) (1.6.3)\n",
      "Requirement already satisfied: flatbuffers>=2.0 in d:\\programs\\anaconda\\lib\\site-packages (from tensorflow-intel==2.11.0->tensorflow) (23.5.26)\n",
      "Requirement already satisfied: gast<=0.4.0,>=0.2.1 in d:\\programs\\anaconda\\lib\\site-packages (from tensorflow-intel==2.11.0->tensorflow) (0.4.0)\n",
      "Requirement already satisfied: google-pasta>=0.1.1 in d:\\programs\\anaconda\\lib\\site-packages (from tensorflow-intel==2.11.0->tensorflow) (0.2.0)\n",
      "Requirement already satisfied: h5py>=2.9.0 in d:\\programs\\anaconda\\lib\\site-packages (from tensorflow-intel==2.11.0->tensorflow) (3.7.0)\n",
      "Requirement already satisfied: libclang>=13.0.0 in d:\\programs\\anaconda\\lib\\site-packages (from tensorflow-intel==2.11.0->tensorflow) (16.0.6)\n",
      "Requirement already satisfied: opt-einsum>=2.3.2 in d:\\programs\\anaconda\\lib\\site-packages (from tensorflow-intel==2.11.0->tensorflow) (3.3.0)\n",
      "Requirement already satisfied: packaging in d:\\programs\\anaconda\\lib\\site-packages (from tensorflow-intel==2.11.0->tensorflow) (21.3)\n",
      "Requirement already satisfied: protobuf<3.20,>=3.9.2 in d:\\programs\\anaconda\\lib\\site-packages (from tensorflow-intel==2.11.0->tensorflow) (3.13.0)\n",
      "Requirement already satisfied: setuptools in d:\\programs\\anaconda\\lib\\site-packages (from tensorflow-intel==2.11.0->tensorflow) (65.6.3)\n",
      "Requirement already satisfied: six>=1.12.0 in d:\\programs\\anaconda\\lib\\site-packages (from tensorflow-intel==2.11.0->tensorflow) (1.16.0)\n",
      "Requirement already satisfied: termcolor>=1.1.0 in d:\\programs\\anaconda\\lib\\site-packages (from tensorflow-intel==2.11.0->tensorflow) (2.3.0)\n",
      "Requirement already satisfied: typing-extensions>=3.6.6 in d:\\programs\\anaconda\\lib\\site-packages (from tensorflow-intel==2.11.0->tensorflow) (4.7.1)\n",
      "Requirement already satisfied: wrapt>=1.11.0 in d:\\programs\\anaconda\\lib\\site-packages (from tensorflow-intel==2.11.0->tensorflow) (1.14.1)\n",
      "Requirement already satisfied: grpcio<2.0,>=1.24.3 in d:\\programs\\anaconda\\lib\\site-packages (from tensorflow-intel==2.11.0->tensorflow) (1.57.0)\n",
      "Requirement already satisfied: tensorboard<2.12,>=2.11 in d:\\programs\\anaconda\\lib\\site-packages (from tensorflow-intel==2.11.0->tensorflow) (2.11.2)\n",
      "Requirement already satisfied: tensorflow-estimator<2.12,>=2.11.0 in d:\\programs\\anaconda\\lib\\site-packages (from tensorflow-intel==2.11.0->tensorflow) (2.11.0)\n",
      "Requirement already satisfied: keras<2.12,>=2.11.0 in d:\\programs\\anaconda\\lib\\site-packages (from tensorflow-intel==2.11.0->tensorflow) (2.11.0)\n",
      "Requirement already satisfied: tensorflow-io-gcs-filesystem>=0.23.1 in d:\\programs\\anaconda\\lib\\site-packages (from tensorflow-intel==2.11.0->tensorflow) (0.31.0)\n",
      "Requirement already satisfied: graphviz in d:\\programs\\anaconda\\lib\\site-packages (from catboost) (0.20.1)\n",
      "Requirement already satisfied: scipy in d:\\programs\\anaconda\\lib\\site-packages (from catboost) (1.7.3)\n",
      "Requirement already satisfied: plotly in d:\\programs\\anaconda\\lib\\site-packages (from catboost) (5.13.1)\n",
      "Requirement already satisfied: joblib>=0.11 in d:\\programs\\anaconda\\lib\\site-packages (from scikit-learn) (1.1.1)\n",
      "Requirement already satisfied: threadpoolctl>=2.0.0 in d:\\programs\\anaconda\\lib\\site-packages (from scikit-learn) (2.2.0)\n",
      "Requirement already satisfied: tqdm>=4.27.0 in d:\\programs\\anaconda\\lib\\site-packages (from shap) (4.64.1)\n",
      "Requirement already satisfied: slicer==0.0.7 in d:\\programs\\anaconda\\lib\\site-packages (from shap) (0.0.7)\n",
      "Requirement already satisfied: numba in d:\\programs\\anaconda\\lib\\site-packages (from shap) (0.56.4)\n",
      "Requirement already satisfied: cloudpickle in d:\\programs\\anaconda\\lib\\site-packages (from shap) (2.0.0)\n",
      "Requirement already satisfied: altair<5,>=3.2.0 in d:\\programs\\anaconda\\lib\\site-packages (from streamlit) (4.2.2)\n",
      "Requirement already satisfied: blinker>=1.0.0 in c:\\users\\frany\\appdata\\roaming\\python\\python37\\site-packages (from streamlit) (1.6.3)\n",
      "Requirement already satisfied: cachetools>=4.0 in d:\\programs\\anaconda\\lib\\site-packages (from streamlit) (4.1.1)\n",
      "Requirement already satisfied: click>=7.0 in d:\\programs\\anaconda\\lib\\site-packages (from streamlit) (8.0.4)\n",
      "Requirement already satisfied: importlib-metadata>=1.4 in d:\\programs\\anaconda\\lib\\site-packages (from streamlit) (4.11.3)\n",
      "Requirement already satisfied: pyarrow>=4.0 in c:\\users\\frany\\appdata\\roaming\\python\\python37\\site-packages (from streamlit) (12.0.1)\n",
      "Requirement already satisfied: pympler>=0.9 in c:\\users\\frany\\appdata\\roaming\\python\\python37\\site-packages (from streamlit) (1.1)\n",
      "Requirement already satisfied: requests>=2.4 in d:\\programs\\anaconda\\lib\\site-packages (from streamlit) (2.28.1)\n",
      "Requirement already satisfied: rich>=10.11.0 in d:\\programs\\anaconda\\lib\\site-packages (from streamlit) (13.7.1)\n",
      "Requirement already satisfied: tenacity<9,>=8.0.0 in d:\\programs\\anaconda\\lib\\site-packages (from streamlit) (8.2.2)\n",
      "Requirement already satisfied: toml in d:\\programs\\anaconda\\lib\\site-packages (from streamlit) (0.10.2)\n",
      "Requirement already satisfied: tzlocal>=1.1 in d:\\programs\\anaconda\\lib\\site-packages (from streamlit) (4.3)\n",
      "Requirement already satisfied: validators>=0.2 in d:\\programs\\anaconda\\lib\\site-packages (from streamlit) (0.20.0)\n",
      "Requirement already satisfied: gitpython!=3.1.19 in c:\\users\\frany\\appdata\\roaming\\python\\python37\\site-packages (from streamlit) (3.1.43)\n",
      "Requirement already satisfied: pydeck>=0.1.dev5 in c:\\users\\frany\\appdata\\roaming\\python\\python37\\site-packages (from streamlit) (0.8.1b1)\n",
      "Requirement already satisfied: tornado>=6.0.3 in c:\\users\\frany\\appdata\\roaming\\python\\python37\\site-packages (from streamlit) (6.2)\n",
      "Requirement already satisfied: watchdog in d:\\programs\\anaconda\\lib\\site-packages (from streamlit) (2.1.6)\n",
      "Requirement already satisfied: jinja2>=2.11.1 in d:\\programs\\anaconda\\lib\\site-packages (from sweetviz) (3.1.2)\n",
      "Requirement already satisfied: importlib-resources>=1.2.0 in d:\\programs\\anaconda\\lib\\site-packages (from sweetviz) (5.2.0)\n",
      "Requirement already satisfied: entrypoints in d:\\programs\\anaconda\\lib\\site-packages (from altair<5,>=3.2.0->streamlit) (0.4)\n",
      "Requirement already satisfied: jsonschema>=3.0 in d:\\programs\\anaconda\\lib\\site-packages (from altair<5,>=3.2.0->streamlit) (4.17.3)\n",
      "Requirement already satisfied: toolz in d:\\programs\\anaconda\\lib\\site-packages (from altair<5,>=3.2.0->streamlit) (0.12.0)\n",
      "Requirement already satisfied: colorama in d:\\programs\\anaconda\\lib\\site-packages (from click>=7.0->streamlit) (0.4.6)\n",
      "Requirement already satisfied: gitdb<5,>=4.0.1 in c:\\users\\frany\\appdata\\roaming\\python\\python37\\site-packages (from gitpython!=3.1.19->streamlit) (4.0.11)\n",
      "Requirement already satisfied: zipp>=0.5 in d:\\programs\\anaconda\\lib\\site-packages (from importlib-metadata>=1.4->streamlit) (3.11.0)\n",
      "Requirement already satisfied: MarkupSafe>=2.0 in d:\\programs\\anaconda\\lib\\site-packages (from jinja2>=2.11.1->sweetviz) (2.1.1)\n",
      "Requirement already satisfied: pywin32>=226 in d:\\programs\\anaconda\\lib\\site-packages (from pympler>=0.9->streamlit) (305.1)\n",
      "Requirement already satisfied: charset-normalizer<3,>=2 in c:\\users\\frany\\appdata\\roaming\\python\\python37\\site-packages (from requests>=2.4->streamlit) (2.0.4)\n",
      "Requirement already satisfied: idna<4,>=2.5 in d:\\programs\\anaconda\\lib\\site-packages (from requests>=2.4->streamlit) (2.8)\n",
      "Requirement already satisfied: urllib3<1.27,>=1.21.1 in d:\\programs\\anaconda\\lib\\site-packages (from requests>=2.4->streamlit) (1.26.14)\n",
      "Requirement already satisfied: certifi>=2017.4.17 in d:\\programs\\anaconda\\lib\\site-packages (from requests>=2.4->streamlit) (2020.6.20)\n",
      "Requirement already satisfied: markdown-it-py>=2.2.0 in d:\\programs\\anaconda\\lib\\site-packages (from rich>=10.11.0->streamlit) (2.2.0)\n",
      "Requirement already satisfied: pygments<3.0.0,>=2.13.0 in d:\\programs\\anaconda\\lib\\site-packages (from rich>=10.11.0->streamlit) (2.17.2)\n",
      "Requirement already satisfied: pytz-deprecation-shim in d:\\programs\\anaconda\\lib\\site-packages (from tzlocal>=1.1->streamlit) (0.1.0.post0)\n",
      "Requirement already satisfied: tzdata in d:\\programs\\anaconda\\lib\\site-packages (from tzlocal>=1.1->streamlit) (2023.3)\n",
      "Requirement already satisfied: backports.zoneinfo in d:\\programs\\anaconda\\lib\\site-packages (from tzlocal>=1.1->streamlit) (0.2.1)\n",
      "Requirement already satisfied: decorator>=3.4.0 in d:\\programs\\anaconda\\lib\\site-packages (from validators>=0.2->streamlit) (5.1.1)\n",
      "Requirement already satisfied: llvmlite<0.40,>=0.39.0dev0 in d:\\programs\\anaconda\\lib\\site-packages (from numba->shap) (0.39.1)\n",
      "Requirement already satisfied: wheel<1.0,>=0.23.0 in d:\\programs\\anaconda\\lib\\site-packages (from astunparse>=1.6.0->tensorflow-intel==2.11.0->tensorflow) (0.38.4)\n",
      "Requirement already satisfied: smmap<6,>=3.0.1 in c:\\users\\frany\\appdata\\roaming\\python\\python37\\site-packages (from gitdb<5,>=4.0.1->gitpython!=3.1.19->streamlit) (5.0.1)\n",
      "Requirement already satisfied: attrs>=17.4.0 in d:\\programs\\anaconda\\lib\\site-packages (from jsonschema>=3.0->altair<5,>=3.2.0->streamlit) (22.1.0)\n",
      "Requirement already satisfied: pkgutil-resolve-name>=1.3.10 in d:\\programs\\anaconda\\lib\\site-packages (from jsonschema>=3.0->altair<5,>=3.2.0->streamlit) (1.3.10)\n",
      "Requirement already satisfied: pyrsistent!=0.17.0,!=0.17.1,!=0.17.2,>=0.14.0 in d:\\programs\\anaconda\\lib\\site-packages (from jsonschema>=3.0->altair<5,>=3.2.0->streamlit) (0.18.0)\n",
      "Requirement already satisfied: mdurl~=0.1 in d:\\programs\\anaconda\\lib\\site-packages (from markdown-it-py>=2.2.0->rich>=10.11.0->streamlit) (0.1.2)\n",
      "Requirement already satisfied: google-auth<3,>=1.6.3 in d:\\programs\\anaconda\\lib\\site-packages (from tensorboard<2.12,>=2.11->tensorflow-intel==2.11.0->tensorflow) (1.20.1)\n",
      "Requirement already satisfied: google-auth-oauthlib<0.5,>=0.4.1 in d:\\programs\\anaconda\\lib\\site-packages (from tensorboard<2.12,>=2.11->tensorflow-intel==2.11.0->tensorflow) (0.4.6)\n",
      "Requirement already satisfied: markdown>=2.6.8 in d:\\programs\\anaconda\\lib\\site-packages (from tensorboard<2.12,>=2.11->tensorflow-intel==2.11.0->tensorflow) (3.4.3)\n",
      "Requirement already satisfied: tensorboard-data-server<0.7.0,>=0.6.0 in d:\\programs\\anaconda\\lib\\site-packages (from tensorboard<2.12,>=2.11->tensorflow-intel==2.11.0->tensorflow) (0.6.1)\n",
      "Requirement already satisfied: tensorboard-plugin-wit>=1.6.0 in d:\\programs\\anaconda\\lib\\site-packages (from tensorboard<2.12,>=2.11->tensorflow-intel==2.11.0->tensorflow) (1.8.1)\n",
      "Requirement already satisfied: werkzeug>=1.0.1 in d:\\programs\\anaconda\\lib\\site-packages (from tensorboard<2.12,>=2.11->tensorflow-intel==2.11.0->tensorflow) (2.2.2)\n",
      "Requirement already satisfied: pyasn1-modules>=0.2.1 in d:\\programs\\anaconda\\lib\\site-packages (from google-auth<3,>=1.6.3->tensorboard<2.12,>=2.11->tensorflow-intel==2.11.0->tensorflow) (0.2.8)\n",
      "Requirement already satisfied: rsa<5,>=3.1.4 in d:\\programs\\anaconda\\lib\\site-packages (from google-auth<3,>=1.6.3->tensorboard<2.12,>=2.11->tensorflow-intel==2.11.0->tensorflow) (4.6)\n",
      "Requirement already satisfied: requests-oauthlib>=0.7.0 in d:\\programs\\anaconda\\lib\\site-packages (from google-auth-oauthlib<0.5,>=0.4.1->tensorboard<2.12,>=2.11->tensorflow-intel==2.11.0->tensorflow) (1.3.1)\n",
      "Requirement already satisfied: pyasn1<0.5.0,>=0.4.6 in d:\\programs\\anaconda\\lib\\site-packages (from pyasn1-modules>=0.2.1->google-auth<3,>=1.6.3->tensorboard<2.12,>=2.11->tensorflow-intel==2.11.0->tensorflow) (0.4.8)\n",
      "Requirement already satisfied: oauthlib>=3.0.0 in d:\\programs\\anaconda\\lib\\site-packages (from requests-oauthlib>=0.7.0->google-auth-oauthlib<0.5,>=0.4.1->tensorboard<2.12,>=2.11->tensorflow-intel==2.11.0->tensorflow) (3.2.2)\n"
     ]
    },
    {
     "name": "stderr",
     "output_type": "stream",
     "text": [
      "WARNING: Ignoring invalid distribution -andas (d:\\programs\\anaconda\\lib\\site-packages)\n",
      "WARNING: Ignoring invalid distribution -andas (d:\\programs\\anaconda\\lib\\site-packages)\n",
      "DEPRECATION: celery 5.0.2 has a non-standard dependency specifier pytz>dev. pip 24.1 will enforce this behaviour change. A possible replacement is to upgrade to a newer version of celery or contact the author to suggest that they release a version with a conforming dependency specifiers. Discussion can be found at https://github.com/pypa/pip/issues/12063\n",
      "DEPRECATION: colab 1.13.5 has a non-standard dependency specifier pytz>=2011n. pip 24.1 will enforce this behaviour change. A possible replacement is to upgrade to a newer version of colab or contact the author to suggest that they release a version with a conforming dependency specifiers. Discussion can be found at https://github.com/pypa/pip/issues/12063\n"
     ]
    }
   ],
   "source": [
    "# @title Install Modules\n",
    "!pip install numpy pandas matplotlib tensorflow torch catboost scikit-learn shap streamlit sweetviz"
   ]
  },
  {
   "cell_type": "code",
   "execution_count": 29,
   "metadata": {},
   "outputs": [
    {
     "name": "stderr",
     "output_type": "stream",
     "text": [
      "WARNING: Ignoring invalid distribution -andas (d:\\programs\\anaconda\\lib\\site-packages)\n",
      "ERROR: Ignored the following versions that require a different python version: 1.4.0 Requires-Python >=3.8; 1.4.0rc0 Requires-Python >=3.8; 1.4.1 Requires-Python >=3.8; 1.4.2 Requires-Python >=3.8; 1.4.3 Requires-Python >=3.8; 1.4.4 Requires-Python >=3.8; 1.5.0 Requires-Python >=3.8; 1.5.0rc0 Requires-Python >=3.8; 1.5.1 Requires-Python >=3.8; 1.5.2 Requires-Python >=3.8; 1.5.3 Requires-Python >=3.8; 2.0.0 Requires-Python >=3.8; 2.0.0rc0 Requires-Python >=3.8; 2.0.0rc1 Requires-Python >=3.8; 2.0.1 Requires-Python >=3.8; 2.0.2 Requires-Python >=3.8; 2.0.3 Requires-Python >=3.8; 2.1.0 Requires-Python >=3.9; 2.1.0rc0 Requires-Python >=3.9; 2.1.1 Requires-Python >=3.9; 2.1.2 Requires-Python >=3.9; 2.1.3 Requires-Python >=3.9; 2.1.4 Requires-Python >=3.9; 2.2.0 Requires-Python >=3.9; 2.2.0rc0 Requires-Python >=3.9; 2.2.1 Requires-Python >=3.9; 2.2.2 Requires-Python >=3.9\n",
      "ERROR: Could not find a version that satisfies the requirement pandas==2.2.2 (from versions: 0.1, 0.2, 0.3.0, 0.4.0, 0.4.1, 0.4.2, 0.4.3, 0.5.0, 0.6.0, 0.6.1, 0.7.0, 0.7.1, 0.7.2, 0.7.3, 0.8.0, 0.8.1, 0.9.0, 0.9.1, 0.10.0, 0.10.1, 0.11.0, 0.12.0, 0.13.0, 0.13.1, 0.14.0, 0.14.1, 0.15.0, 0.15.1, 0.15.2, 0.16.0, 0.16.1, 0.16.2, 0.17.0, 0.17.1, 0.18.0, 0.18.1, 0.19.0, 0.19.1, 0.19.2, 0.20.0, 0.20.1, 0.20.2, 0.20.3, 0.21.0, 0.21.1, 0.22.0, 0.23.0, 0.23.1, 0.23.2, 0.23.3, 0.23.4, 0.24.0, 0.24.1, 0.24.2, 0.25.0, 0.25.1, 0.25.2, 0.25.3, 1.0.0, 1.0.1, 1.0.2, 1.0.3, 1.0.4, 1.0.5, 1.1.0, 1.1.1, 1.1.2, 1.1.3, 1.1.4, 1.1.5, 1.2.0, 1.2.1, 1.2.2, 1.2.3, 1.2.4, 1.2.5, 1.3.0, 1.3.1, 1.3.2, 1.3.3, 1.3.4, 1.3.5)\n",
      "ERROR: No matching distribution found for pandas==2.2.2\n"
     ]
    }
   ],
   "source": [
    "!pip install pandas==2.2.2"
   ]
  },
  {
   "cell_type": "code",
   "execution_count": 23,
   "metadata": {
    "extensions": {
     "jupyter_dashboards": {
      "version": 1,
      "views": {
       "grid_default": {},
       "report_default": {}
      }
     }
    }
   },
   "outputs": [],
   "source": [
    "# @title Import Modules and Libraries \n",
    "# Data\n",
    "import numpy as np\n",
    "import pandas as pd\n",
    "import os\n",
    "\n",
    "# Machine learning\n",
    "import sklearn\n",
    "import sklearn.metrics as metrics\n",
    "from sklearn.model_selection import train_test_split, StratifiedShuffleSplit\n",
    "from sklearn.metrics import (\n",
    "    accuracy_score, classification_report, recall_score, confusion_matrix,\n",
    "    roc_auc_score, precision_score, f1_score, roc_curve, auc\n",
    ")\n",
    "from sklearn.preprocessing import OrdinalEncoder\n",
    "from catboost import CatBoostClassifier, Pool\n",
    "\n",
    "# Visualization\n",
    "import shap\n",
    "from matplotlib import pyplot as plt\n",
    "from pyarrow import parquet as pq\n",
    "import joblib\n"
   ]
  },
  {
   "cell_type": "code",
   "execution_count": 27,
   "metadata": {},
   "outputs": [
    {
     "name": "stdout",
     "output_type": "stream",
     "text": [
      "Name: pandas\n",
      "Version: 1.2.4\n",
      "Summary: Powerful data structures for data analysis, time series, and statistics\n",
      "Home-page: https://pandas.pydata.org\n",
      "Author: \n",
      "Author-email: \n",
      "License: BSD\n",
      "Location: d:\\programs\\anaconda\\lib\\site-packages\n",
      "Requires: numpy, python-dateutil, pytz\n",
      "Required-by: allensdk, altair, Braindecode, catboost, google-colab, hdmf, networkx, pandas-flavor, pdf-reports, pingouin, pynwb, seaborn, shap, statsmodels, streamlit, sweetviz, time-series-analysis, xarray\n"
     ]
    },
    {
     "name": "stderr",
     "output_type": "stream",
     "text": [
      "WARNING: Ignoring invalid distribution -andas (d:\\programs\\anaconda\\lib\\site-packages)\n"
     ]
    }
   ],
   "source": [
    "import pandas as pd\n",
    "!pip show pandas"
   ]
  },
  {
   "cell_type": "code",
   "execution_count": 20,
   "metadata": {},
   "outputs": [
    {
     "ename": "AttributeError",
     "evalue": "module 'pandas' has no attribute '__version__'",
     "output_type": "error",
     "traceback": [
      "\u001b[1;31m---------------------------------------------------------------------------\u001b[0m",
      "\u001b[1;31mAttributeError\u001b[0m                            Traceback (most recent call last)",
      "\u001b[1;32m<ipython-input-20-e03babd13561>\u001b[0m in \u001b[0;36m<module>\u001b[1;34m\u001b[0m\n\u001b[0;32m      1\u001b[0m \u001b[1;31m# import streamlit as st\u001b[0m\u001b[1;33m\u001b[0m\u001b[1;33m\u001b[0m\u001b[1;33m\u001b[0m\u001b[0m\n\u001b[1;32m----> 2\u001b[1;33m \u001b[0mpd\u001b[0m\u001b[1;33m.\u001b[0m\u001b[0m__version__\u001b[0m\u001b[1;33m\u001b[0m\u001b[1;33m\u001b[0m\u001b[0m\n\u001b[0m\u001b[0;32m      3\u001b[0m \u001b[1;31m# import sweetviz as sv\u001b[0m\u001b[1;33m\u001b[0m\u001b[1;33m\u001b[0m\u001b[1;33m\u001b[0m\u001b[0m\n",
      "\u001b[1;31mAttributeError\u001b[0m: module 'pandas' has no attribute '__version__'"
     ]
    }
   ],
   "source": [
    "# import streamlit as st\n",
    "\n",
    "# import sweetviz as sv"
   ]
  },
  {
   "cell_type": "markdown",
   "metadata": {
    "extensions": {
     "jupyter_dashboards": {
      "version": 1,
      "views": {
       "grid_default": {},
       "report_default": {}
      }
     }
    }
   },
   "source": [
    "# Data Set"
   ]
  },
  {
   "cell_type": "markdown",
   "metadata": {
    "extensions": {
     "jupyter_dashboards": {
      "version": 1,
      "views": {
       "grid_default": {},
       "report_default": {}
      }
     }
    }
   },
   "source": [
    "There are many categorical variables in the dataset. By encoding them numerically, we can use different models with various preprocessing techniques. In this study, we will focus on using the proven Catboost algorithm for handling categorical variables. To enhance model development performance, consider using tools like Optuna for hyperparameter optimization."
   ]
  },
  {
   "cell_type": "code",
   "execution_count": 25,
   "metadata": {
    "extensions": {
     "jupyter_dashboards": {
      "version": 1,
      "views": {
       "grid_default": {},
       "report_default": {}
      }
     }
    }
   },
   "outputs": [
    {
     "ename": "AttributeError",
     "evalue": "module 'pandas' has no attribute 'read_csv'",
     "output_type": "error",
     "traceback": [
      "\u001b[1;31m---------------------------------------------------------------------------\u001b[0m",
      "\u001b[1;31mAttributeError\u001b[0m                            Traceback (most recent call last)",
      "\u001b[1;32m<ipython-input-25-c42c6b0290c8>\u001b[0m in \u001b[0;36m<module>\u001b[1;34m\u001b[0m\n\u001b[0;32m      1\u001b[0m \u001b[1;31m# @title Load\u001b[0m\u001b[1;33m\u001b[0m\u001b[1;33m\u001b[0m\u001b[1;33m\u001b[0m\u001b[0m\n\u001b[0;32m      2\u001b[0m \u001b[0mdata_path\u001b[0m \u001b[1;33m=\u001b[0m \u001b[1;34m\"data/WA_Fn-UseC_-Telco-Customer-Churn.csv\"\u001b[0m\u001b[1;33m\u001b[0m\u001b[1;33m\u001b[0m\u001b[0m\n\u001b[1;32m----> 3\u001b[1;33m \u001b[0mdf\u001b[0m \u001b[1;33m=\u001b[0m \u001b[0mpd\u001b[0m\u001b[1;33m.\u001b[0m\u001b[0mread_csv\u001b[0m\u001b[1;33m(\u001b[0m\u001b[0mdata_path\u001b[0m\u001b[1;33m,\u001b[0m \u001b[0mlow_memory\u001b[0m\u001b[1;33m=\u001b[0m\u001b[1;32mTrue\u001b[0m\u001b[1;33m)\u001b[0m\u001b[1;33m\u001b[0m\u001b[1;33m\u001b[0m\u001b[0m\n\u001b[0m",
      "\u001b[1;31mAttributeError\u001b[0m: module 'pandas' has no attribute 'read_csv'"
     ]
    }
   ],
   "source": [
    "# @title Load\n",
    "data_path = \"data/WA_Fn-UseC_-Telco-Customer-Churn.csv\"\n",
    "df = pd.read_csv(data_path, low_memory=True)"
   ]
  },
  {
   "cell_type": "code",
   "execution_count": null,
   "metadata": {},
   "outputs": [],
   "source": [
    "# Inform HTML with report sweetviz\n",
    "my_report = sv.analyze([df, \"Database\"], )\n",
    "my_report.show_html()"
   ]
  },
  {
   "cell_type": "code",
   "execution_count": null,
   "metadata": {},
   "outputs": [],
   "source": [
    "my_report.show_notebook()"
   ]
  },
  {
   "cell_type": "code",
   "execution_count": null,
   "metadata": {
    "extensions": {
     "jupyter_dashboards": {
      "version": 1,
      "views": {
       "grid_default": {},
       "report_default": {}
      }
     }
    }
   },
   "outputs": [],
   "source": [
    "# @title Preprocessing \n",
    "\n",
    "# Convert TotalCharges to numeric, filling NaN values\n",
    "df['TotalCharges'] = pd.to_numeric(df['TotalCharges'], errors='coerce')\n",
    "df['TotalCharges'].fillna(df['tenure'] * df['MonthlyCharges'], inplace=True)\n",
    "\n",
    "# Convert SeniorCitizen to object\n",
    "df['SeniorCitizen'] = df['SeniorCitizen'].astype(object)\n",
    "\n",
    "# Replace 'No phone service' and 'No internet service' with 'No' for certain columns\n",
    "df['MultipleLines'] = df['MultipleLines'].replace('No phone service', 'No')\n",
    "columns_to_replace = ['OnlineSecurity', 'OnlineBackup', 'DeviceProtection', 'TechSupport', 'StreamingTV', 'StreamingMovies']\n",
    "for column in columns_to_replace:\n",
    "    df[column] = df[column].replace('No internet service', 'No')\n",
    "\n",
    "# Convert 'Churn' categorical variable to numeric\n",
    "df['Churn'] = df['Churn'].replace({'No': 0, 'Yes': 1})\n"
   ]
  },
  {
   "cell_type": "code",
   "execution_count": null,
   "metadata": {},
   "outputs": [],
   "source": [
    "df.head(2)"
   ]
  },
  {
   "cell_type": "markdown",
   "metadata": {},
   "source": [
    "## StratifiedShuffleSplit Samples"
   ]
  },
  {
   "cell_type": "code",
   "execution_count": null,
   "metadata": {
    "extensions": {
     "jupyter_dashboards": {
      "version": 1,
      "views": {
       "grid_default": {},
       "report_default": {}
      }
     }
    }
   },
   "outputs": [],
   "source": [
    "import pickle\n",
    "# Create the StratifiedShuffleSplit object\n",
    "strat_split = StratifiedShuffleSplit(n_splits=1, test_size=0.2, random_state=64)\n",
    "\n",
    "train_index, test_index = next(strat_split.split(df, df[\"Churn\"]))\n",
    "\n",
    "# Create train and test sets\n",
    "strat_train_set = df.loc[train_index]\n",
    "strat_test_set = df.loc[test_index]\n",
    "\n",
    "X_train = strat_train_set.drop(\"Churn\", axis=1)\n",
    "y_train = strat_train_set[\"Churn\"].copy()\n",
    "\n",
    "X_test = strat_test_set.drop(\"Churn\", axis=1)\n",
    "y_test = strat_test_set[\"Churn\"].copy()\n",
    "\n",
    "# Guardar el objeto en un archivo pickle\n",
    "with open('data/X_train.pkl', 'wb') as file:\n",
    "    pickle.dump(X_train, file)\n",
    "\n",
    "with open('data/y_train.pkl', 'wb') as file:\n",
    "    pickle.dump(y_train, file)\n",
    "\n",
    "with open('data/X_test.pkl', 'wb') as file:\n",
    "    pickle.dump(X_test, file)\n",
    "\n",
    "with open('data/y_test.pkl', 'wb') as file:\n",
    "    pickle.dump(y_test, file)\n",
    "\n"
   ]
  },
  {
   "cell_type": "markdown",
   "metadata": {},
   "source": [
    "## CATBOOST "
   ]
  },
  {
   "cell_type": "code",
   "execution_count": null,
   "metadata": {
    "scrolled": true
   },
   "outputs": [],
   "source": [
    "# Identify categorical columns\n",
    "categorical_columns = df.select_dtypes(include=['object']).columns.tolist()\n",
    "\n",
    "# Initialize and fit CatBoostClassifier\n",
    "cat_model = CatBoostClassifier(verbose=False, random_state=0, scale_pos_weight=3)\n",
    "cat_model.fit(X_train, y_train, cat_features=categorical_columns, eval_set=(X_test, y_test))\n",
    "\n",
    "# Predict on test set\n",
    "y_pred = cat_model.predict(X_test)\n",
    "\n",
    "# Calculate evaluation metrics\n",
    "## Metrics\n",
    "accuracy, recall, roc_auc, precision = [round(metric(y_test, y_pred), 4) for metric in [accuracy_score, recall_score, roc_auc_score, precision_score]]\n",
    "# Calcular F1-score\n",
    "f1 = f1_score(y_test, y_pred)\n",
    "\n",
    "# Create a DataFrame to store results\n",
    "model_names = ['CatBoost_Model']\n",
    "result = pd.DataFrame({'Accuracy': accuracy, 'Recall': recall, 'Roc_Auc': roc_auc, 'Precision': precision, 'f1_score':f1}, index=model_names)\n",
    "\n",
    "# Print results\n",
    "print(result)\n",
    "\n",
    "# Save the model in the 'model' directory, with \n",
    "!mkdir model\n",
    "os.chdir('D:\\GitHub\\Machine Learning (ML) Guides\\End-to-End')\n",
    "model_dir = \"model\"\n",
    "if not os.path.exists(model_dir):\n",
    "    os.makedirs(model_dir)\n",
    "\n",
    "model_path = os.path.join(model_dir, \"catboost_model.cbm\")\n",
    "cat_model.save_model(model_path)\n",
    "\n",
    "# Confusion matrix\n",
    "conf_matrix = confusion_matrix(y_test, y_pred)\n",
    "print(\"Matriz de confusión:\")\n",
    "print(conf_matrix)\n"
   ]
  },
  {
   "cell_type": "code",
   "execution_count": null,
   "metadata": {},
   "outputs": [],
   "source": [
    "X_train.head(4)"
   ]
  },
  {
   "cell_type": "code",
   "execution_count": 8,
   "metadata": {},
   "outputs": [
    {
     "ename": "NameError",
     "evalue": "name 'y_test' is not defined",
     "output_type": "error",
     "traceback": [
      "\u001b[1;31m---------------------------------------------------------------------------\u001b[0m",
      "\u001b[1;31mNameError\u001b[0m                                 Traceback (most recent call last)",
      "\u001b[1;32m<ipython-input-8-2820df361543>\u001b[0m in \u001b[0;36m<module>\u001b[1;34m\u001b[0m\n\u001b[1;32m----> 1\u001b[1;33m \u001b[0my_test\u001b[0m\u001b[1;33m.\u001b[0m\u001b[0mvalue_counts\u001b[0m\u001b[1;33m(\u001b[0m\u001b[1;33m)\u001b[0m\u001b[1;33m\u001b[0m\u001b[1;33m\u001b[0m\u001b[0m\n\u001b[0m",
      "\u001b[1;31mNameError\u001b[0m: name 'y_test' is not defined"
     ]
    }
   ],
   "source": [
    "y_test.value_counts()"
   ]
  },
  {
   "cell_type": "markdown",
   "metadata": {},
   "source": [
    "## Load model"
   ]
  },
  {
   "cell_type": "code",
   "execution_count": 83,
   "metadata": {},
   "outputs": [],
   "source": [
    "import pyarrow as pa\n",
    "# Convertir el DataFrame de pandas a una tabla de PyArrow\n",
    "table = pa.Table.from_pandas(df)\n",
    "\n",
    "# Escribir la tabla en un archivo Parquet\n",
    "pq.write_table(table, 'data/churn_data_regulated.parquet')"
   ]
  },
  {
   "cell_type": "code",
   "execution_count": 84,
   "metadata": {},
   "outputs": [],
   "source": [
    "# Path of the trained model and data\n",
    "MODEL_PATH = \"model/catboost_model.cbm\" \n",
    "DATA_PATH = \"data/churn_data_regulated.parquet\""
   ]
  },
  {
   "cell_type": "code",
   "execution_count": 85,
   "metadata": {},
   "outputs": [],
   "source": [
    "st.set_page_config(page_title=\"Churn Project\")"
   ]
  },
  {
   "cell_type": "code",
   "execution_count": 86,
   "metadata": {},
   "outputs": [],
   "source": [
    "# @title Functions\n",
    "\n",
    "# @markdown\n",
    "@st.cache_resource\n",
    "def load_data():\n",
    "    data = pd.read_parquet(DATA_PATH)\n",
    "    return data\n",
    "\n",
    "def load_x_y(file_path):\n",
    "    data = joblib.load(file_path)\n",
    "    data.reset_index(drop=True, inplace=True)\n",
    "    return data\n",
    "\n",
    "def load_model():\n",
    "    model = CatBoostClassifier()\n",
    "    model.load_model(MODEL_PATH)\n",
    "    return model\n",
    "\n",
    "def calculate_shap(model, X_train, X_test):\n",
    "    # Calculate SHAP values\n",
    "    explainer = shap.TreeExplainer(model)\n",
    "    shap_values_cat_train = explainer.shap_values(X_train)\n",
    "    shap_values_cat_test = explainer.shap_values(X_test)\n",
    "    return explainer, shap_values_cat_train, shap_values_cat_test\n",
    "\n",
    "def plot_shap_values(model, explainer, shap_values_cat_train, shap_values_cat_test, customer_id, X_test, X_train):\n",
    "    # Visualize SHAP values for a specific customer\n",
    "    customer_index = X_test[X_test['customerID'] == customer_id].index[0]\n",
    "    fig, ax_2 = plt.subplots(figsize=(6,6), dpi=200)\n",
    "    shap.decision_plot(explainer.expected_value, shap_values_cat_test[customer_index], X_test[X_test['customerID'] == customer_id], link=\"logit\")\n",
    "    st.pyplot(fig)\n",
    "    plt.close()\n",
    "\n",
    "def display_shap_summary(shap_values_cat_train, X_train):\n",
    "    # Create the plot summarizing the SHAP values\n",
    "    shap.summary_plot(shap_values_cat_train, X_train, plot_type=\"bar\", plot_size=(12,12))\n",
    "    summary_fig, _ = plt.gcf(), plt.gca()\n",
    "    st.pyplot(summary_fig)\n",
    "    plt.close()\n",
    "\n",
    "def display_shap_waterfall_plot(explainer, expected_value, shap_values, feature_names, max_display=20):\n",
    "    # Create SHAP waterfall drawing\n",
    "    fig, ax = plt.subplots(figsize=(6, 6), dpi=150)\n",
    "    shap.plots._waterfall.waterfall_legacy(expected_value, shap_values, feature_names=feature_names, max_display=max_display, show=False)\n",
    "    st.pyplot(fig)\n",
    "    plt.close()\n",
    "\n",
    "def summary(model, data, X_train, X_test):\n",
    "    # Calculate SHAP values\n",
    "    explainer, shap_values_cat_train, shap_values_cat_test = calculate_shap(model, X_train, X_test)\n",
    "\n",
    "    # Summarize and visualize SHAP values\n",
    "    display_shap_summary(shap_values_cat_train, X_train)\n",
    "\n",
    "def plot_shap(model, data, customer_id, X_train, X_test):\n",
    "    # Calculate SHAP values\n",
    "    explainer, shap_values_cat_train, shap_values_cat_test = calculate_shap(model, X_train, X_test)\n",
    "    \n",
    "    # Visualize SHAP values\n",
    "    plot_shap_values(model, explainer, shap_values_cat_train, shap_values_cat_test, customer_id, X_test, X_train)\n",
    "\n",
    "    # Waterfall\n",
    "    customer_index = X_test[X_test['customerID'] == customer_id].index[0]\n",
    "    display_shap_waterfall_plot(explainer, explainer.expected_value, shap_values_cat_test[customer_index], feature_names=X_test.columns, max_display=20)\n"
   ]
  },
  {
   "cell_type": "code",
   "execution_count": 87,
   "metadata": {},
   "outputs": [
    {
     "data": {
      "text/plain": [
       "DeltaGenerator()"
      ]
     },
     "execution_count": 87,
     "metadata": {},
     "output_type": "execute_result"
    }
   ],
   "source": [
    "st.title(\"Telco Customer Churn Project\")"
   ]
  },
  {
   "cell_type": "code",
   "execution_count": 91,
   "metadata": {},
   "outputs": [
    {
     "data": {
      "image/png": "[encoded data removed]",
      "text/plain": [
       "<Figure size 1200x1200 with 1 Axes>"
      ]
     },
     "metadata": {},
     "output_type": "display_data"
    }
   ],
   "source": [
    "def main():\n",
    "    model = load_model()\n",
    "    data = load_data()\n",
    "    \n",
    "    X_train = load_x_y(\"data/X_train.pkl\")\n",
    "    X_test = load_x_y(\"data/X_test.pkl\")\n",
    "    y_train = load_x_y(\"data/y_train.pkl\")\n",
    "    y_test = load_x_y(\"data/y_test.pkl\")\n",
    "\n",
    "    max_tenure = data['tenure'].max()\n",
    "    max_monthly_charges = data['MonthlyCharges'].max()\n",
    "    max_total_charges = data['TotalCharges'].max()\n",
    "\n",
    "    # Radio buttons for options\n",
    "    election = st.radio(\"Make Your Choice:\", (\"Feature Importance\", \"User-based SHAP\", \"Calculate the probability of CHURN\"))\n",
    "    available_customer_ids = X_test['customerID'].tolist()\n",
    "    \n",
    "    # If User-based SHAP option is selected\n",
    "    if election == \"User-based SHAP\":\n",
    "        # Customer ID text input\n",
    "        customer_id = st.selectbox(\"Choose the Customer\", available_customer_ids)\n",
    "        customer_index = X_test[X_test['customerID'] == customer_id].index[0]\n",
    "        st.write(f'Customer {customer_id}: Actual value for the Customer Churn : {y_test.iloc[customer_index]}')\n",
    "        y_pred = model.predict(X_test)\n",
    "        st.write(f\"Customer {customer_id}: CatBoost Model's prediction for the Customer Churn : {y_pred[customer_index]}\")\n",
    "        plot_shap(model, data, customer_id, X_train=X_train, X_test=X_test)\n",
    "    \n",
    "    # If Feature Importance is selected\n",
    "    elif election == \"Feature Importance\":\n",
    "        summary(model, data, X_train=X_train, X_test=X_test)\n",
    "\n",
    "    # If Calculate CHURN Probability option is selected\n",
    "    elif election == \"Calculate the probability of CHURN\":\n",
    "        # Retrieving data from the user\n",
    "        customerID = \"6464-UIAEA\"\n",
    "        gender = st.selectbox(\"Gender:\", (\"Female\", \"Male\"))\n",
    "        senior_citizen = st.number_input(\"SeniorCitizen (0: No, 1: Yes)\", min_value=0, max_value=1, step=1)\n",
    "        partner = st.selectbox(\"Partner:\", (\"No\", \"Yes\"))\n",
    "        dependents = st.selectbox(\"Dependents:\", (\"No\", \"Yes\"))\n",
    "        tenure = st.number_input(\"Tenure:\", min_value=0, max_value=max_tenure, step=1)\n",
    "        phone_service = st.selectbox(\"PhoneService:\", (\"No\", \"Yes\"))\n",
    "        multiple_lines = st.selectbox(\"MultipleLines:\", (\"No\", \"Yes\"))\n",
    "        internet_service = st.selectbox(\"InternetService:\", (\"No\", \"DSL\", \"Fiber optic\"))\n",
    "        online_security = st.selectbox(\"OnlineSecurity:\", (\"No\", \"Yes\"))\n",
    "        online_backup = st.selectbox(\"OnlineBackup:\", (\"No\", \"Yes\"))\n",
    "        device_protection = st.selectbox(\"DeviceProtection:\", (\"No\", \"Yes\"))\n",
    "        tech_support = st.selectbox(\"TechSupport:\", (\"No\", \"Yes\"))\n",
    "        streaming_tv = st.selectbox(\"StreamingTV:\", (\"No\", \"Yes\"))\n",
    "        streaming_movies = st.selectbox(\"StreamingMovies:\", (\"No\", \"Yes\"))\n",
    "        contract = st.selectbox(\"Contract:\", (\"Month-to-month\", \"One year\", \"Two year\"))\n",
    "        paperless_billing = st.selectbox(\"PaperlessBilling\", (\"No\", \"Yes\"))\n",
    "        payment_method = st.selectbox(\"PaymentMethod:\", (\"Electronic check\", \"Mailed check\", \"Bank transfer (automatic)\", \"Credit card (automatic)\"))\n",
    "        monthly_charges = st.number_input(\"Monthly Charges\", min_value=0.0, max_value=max_monthly_charges, step=0.01)\n",
    "        total_charges = st.number_input(\"Total Charges\", min_value=0.0, max_value=max_total_charges, step=0.01)\n",
    "        \n",
    "        # Confirmation button\n",
    "        confirmation_button = st.button(\"Confirm\")\n",
    "\n",
    "        # When the confirmation button is clicked\n",
    "        if confirmation_button:\n",
    "            # Convert user-entered data into a data frame\n",
    "            new_customer_data = pd.DataFrame({\n",
    "                \"customerID\": [customerID],\n",
    "                \"gender\": [gender],\n",
    "                \"SeniorCitizen\": [senior_citizen],\n",
    "                \"Partner\": [partner],\n",
    "                \"Dependents\": [dependents],\n",
    "                \"tenure\": [tenure],\n",
    "                \"PhoneService\": [phone_service],\n",
    "                \"MultipleLines\": [multiple_lines],\n",
    "                \"InternetService\": [internet_service],\n",
    "                \"OnlineSecurity\": [online_security],\n",
    "                \"OnlineBackup\": [online_backup],\n",
    "                \"DeviceProtection\": [device_protection],\n",
    "                \"TechSupport\": [tech_support],\n",
    "                \"StreamingTV\": [streaming_tv],\n",
    "                \"StreamingMovies\": [streaming_movies],\n",
    "                \"Contract\": [contract],\n",
    "                \"PaperlessBilling\": [paperless_billing],\n",
    "                \"PaymentMethod\": [payment_method],\n",
    "                \"MonthlyCharges\": [monthly_charges],\n",
    "                \"TotalCharges\": [total_charges]\n",
    "            })\n",
    "\n",
    "            # Predict churn probability using the model\n",
    "            churn_probability = model.predict_proba(new_customer_data)[:, 1]\n",
    "\n",
    "            # Format churn probability\n",
    "            formatted_churn_probability = \"{:.2%}\".format(churn_probability.item())\n",
    "\n",
    "            big_text = f\"<h1>Churn Probability: {formatted_churn_probability}</h1>\"\n",
    "            st.markdown(big_text, unsafe_allow_html=True)\n",
    "            st.write(new_customer_data.to_dict())\n",
    "\n",
    "if __name__ == \"__main__\":\n",
    "    main()"
   ]
  },
  {
   "cell_type": "code",
   "execution_count": null,
   "metadata": {},
   "outputs": [],
   "source": []
  }
 ],
 "metadata": {
  "extensions": {
   "jupyter_dashboards": {
    "activeView": "grid_default",
    "version": 1,
    "views": {
     "grid_default": {
      "cellMargin": 10,
      "defaultCellHeight": 20,
      "maxColumns": 12,
      "name": "grid",
      "type": "grid"
     },
     "report_default": {
      "name": "report",
      "type": "report"
     }
    }
   }
  },
  "kernelspec": {
   "display_name": "Python 3",
   "language": "python",
   "name": "python3"
  },
  "language_info": {
   "codemirror_mode": {
    "name": "ipython",
    "version": 3
   },
   "file_extension": ".py",
   "mimetype": "text/x-python",
   "name": "python",
   "nbconvert_exporter": "python",
   "pygments_lexer": "ipython3",
   "version": "3.7.16"
  }
 },
 "nbformat": 4,
 "nbformat_minor": 2
}

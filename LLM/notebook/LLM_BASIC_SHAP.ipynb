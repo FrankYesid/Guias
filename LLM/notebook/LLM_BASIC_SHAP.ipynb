{
 "cells": [
  {
   "cell_type": "markdown",
   "metadata": {},
   "source": [
    "Cómo Funciona\n",
    "Modelo LLM:\n",
    "\n",
    "Utilizamos un modelo de Hugging Face (distilbert-base-uncased) configurado para tareas de clasificación de texto.\n",
    "Este modelo devuelve un puntaje de similitud entre el texto procesado (consulta + texto objetivo).\n",
    "División en Palabras:\n",
    "\n",
    "La consulta se divide en palabras para que SHAP pueda evaluar la importancia de cada una.\n",
    "predict_text:\n",
    "\n",
    "Genera texto filtrado basado en las palabras activas y calcula un puntaje de similitud con el modelo LLM.\n",
    "Referencia SHAP:\n",
    "\n",
    "Una matriz aleatoria de referencia ayuda a SHAP a generar explicaciones al comparar diferentes combinaciones de palabras.\n",
    "Visualización:\n",
    "\n",
    "Se utiliza shap.force_plot para mostrar cómo cada palabra contribuye al puntaje de similitud."
   ]
  },
  {
   "cell_type": "code",
   "execution_count": null,
   "metadata": {},
   "outputs": [],
   "source": [
    "%pip install shap transformers numpy"
   ]
  },
  {
   "cell_type": "code",
   "execution_count": null,
   "metadata": {},
   "outputs": [
    {
     "ename": "",
     "evalue": "",
     "output_type": "error",
     "traceback": [
      "\u001b[1;31mFailed to start the Kernel. \n",
      "\u001b[1;31mUnable to start Kernel 'base (Python 3.12.4)' due to a timeout waiting for the ports to get used. \n",
      "\u001b[1;31mView Jupyter <a href='command:jupyter.viewOutput'>log</a> for further details."
     ]
    }
   ],
   "source": [
    "import shap\n",
    "import numpy as np\n",
    "from transformers import pipeline"
   ]
  },
  {
   "cell_type": "code",
   "execution_count": null,
   "metadata": {},
   "outputs": [
    {
     "ename": "",
     "evalue": "",
     "output_type": "error",
     "traceback": [
      "\u001b[1;31mFailed to start the Kernel. \n",
      "\u001b[1;31mUnable to start Kernel 'base (Python 3.12.4)' due to a timeout waiting for the ports to get used. \n",
      "\u001b[1;31mView Jupyter <a href='command:jupyter.viewOutput'>log</a> for further details."
     ]
    }
   ],
   "source": [
    "# 1. Cargar un modelo preentrenado de Transformers (pipeline de análisis de sentimientos)\n",
    "sentiment_analyzer = pipeline(\"sentiment-analysis\")\n",
    "\n",
    "# 2. Crear un conjunto de datos de prueba\n",
    "texts = [\n",
    "    \"I love using machine learning models!\",\n",
    "    \"The weather is terrible today.\",\n",
    "    \"This movie was okay, not the best, but not the worst.\",\n",
    "]\n",
    "\n",
    "# 3. Definir una función que adapte los datos de entrada para SHAP\n",
    "def model_predict(texts):\n",
    "    predictions = sentiment_analyzer(texts)\n",
    "    # Convertimos los resultados en probabilidades para SHAP\n",
    "    return np.array([[pred['score'] if pred['label'] == 'POSITIVE' else 1 - pred['score']] for pred in predictions])\n",
    "\n",
    "# 4. Crear un explicador SHAP con KernelExplainer\n",
    "explainer = shap.KernelExplainer(model_predict, np.array(texts, dtype=object))\n",
    "\n",
    "# 5. Generar explicaciones SHAP para un texto específico\n",
    "shap_values = explainer.shap_values([\"I am feeling great about this!\"])\n",
    "\n",
    "# 6. Visualizar los valores SHAP\n",
    "print(\"Valores SHAP para el texto:\")\n",
    "shap.force_plot(\n",
    "    explainer.expected_value[0],\n",
    "    shap_values[0],\n",
    "    feature_names=[\"I am feeling great about this!\"],\n",
    ")\n"
   ]
  },
  {
   "cell_type": "code",
   "execution_count": null,
   "metadata": {},
   "outputs": [],
   "source": []
  }
 ],
 "metadata": {
  "kernelspec": {
   "display_name": "base",
   "language": "python",
   "name": "python3"
  },
  "language_info": {
   "codemirror_mode": {
    "name": "ipython",
    "version": 3
   },
   "file_extension": ".py",
   "mimetype": "text/x-python",
   "name": "python",
   "nbconvert_exporter": "python",
   "pygments_lexer": "ipython3",
   "version": "3.12.4"
  }
 },
 "nbformat": 4,
 "nbformat_minor": 2
}

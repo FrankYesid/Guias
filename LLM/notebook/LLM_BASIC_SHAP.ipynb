{
 "cells": [
  {
   "cell_type": "markdown",
   "metadata": {},
   "source": [
    "Cómo Funciona\n",
    "Modelo LLM:\n",
    "\n",
    "Utilizamos un modelo de Hugging Face (distilbert-base-uncased) configurado para tareas de clasificación de texto.\n",
    "Este modelo devuelve un puntaje de similitud entre el texto procesado (consulta + texto objetivo).\n",
    "División en Palabras:\n",
    "\n",
    "La consulta se divide en palabras para que SHAP pueda evaluar la importancia de cada una.\n",
    "predict_text:\n",
    "\n",
    "Genera texto filtrado basado en las palabras activas y calcula un puntaje de similitud con el modelo LLM.\n",
    "Referencia SHAP:\n",
    "\n",
    "Una matriz aleatoria de referencia ayuda a SHAP a generar explicaciones al comparar diferentes combinaciones de palabras.\n",
    "Visualización:\n",
    "\n",
    "Se utiliza shap.force_plot para mostrar cómo cada palabra contribuye al puntaje de similitud."
   ]
  },
  {
   "cell_type": "code",
   "execution_count": 1,
   "metadata": {},
   "outputs": [],
   "source": [
    "import shap\n",
    "import numpy as np\n",
    "from transformers import pipeline\n"
   ]
  },
  {
   "cell_type": "code",
   "execution_count": 22,
   "metadata": {},
   "outputs": [
    {
     "name": "stdout",
     "output_type": "stream",
     "text": [
      "[[ True False False False False False False]\n",
      " [False  True False False False False False]\n",
      " [False False  True False False False False]\n",
      " [False False False  True False False False]\n",
      " [False False False False  True False False]\n",
      " [False False False False False  True False]\n",
      " [False False False False False False  True]]\n"
     ]
    },
    {
     "ename": "ValueError",
     "evalue": "operands could not be broadcast together with shapes (384,) (7,) ",
     "output_type": "error",
     "traceback": [
      "\u001b[1;31m---------------------------------------------------------------------------\u001b[0m",
      "\u001b[1;31mValueError\u001b[0m                                Traceback (most recent call last)",
      "Cell \u001b[1;32mIn[22], line 38\u001b[0m\n\u001b[0;32m     35\u001b[0m     \u001b[38;5;28;01mreturn\u001b[39;00m model\u001b[38;5;241m.\u001b[39mencode([filtered_query])[\u001b[38;5;241m0\u001b[39m]\n\u001b[0;32m     37\u001b[0m \u001b[38;5;66;03m# Crear el explicador SHAP\u001b[39;00m\n\u001b[1;32m---> 38\u001b[0m explainer \u001b[38;5;241m=\u001b[39m \u001b[43mshap\u001b[49m\u001b[38;5;241;43m.\u001b[39;49m\u001b[43mKernelExplainer\u001b[49m\u001b[43m(\u001b[49m\u001b[43mpredict_text\u001b[49m\u001b[43m,\u001b[49m\u001b[43m \u001b[49m\u001b[43mreference\u001b[49m\u001b[43m)\u001b[49m\n\u001b[0;32m     40\u001b[0m \u001b[38;5;66;03m# # Calcular los valores SHAP para la consulta completa (todas las palabras activas)\u001b[39;00m\n\u001b[0;32m     41\u001b[0m \u001b[38;5;66;03m# shap_values = explainer.shap_values(np.ones(len(words)))\u001b[39;00m\n\u001b[0;32m     42\u001b[0m \n\u001b[0;32m     43\u001b[0m \u001b[38;5;66;03m# # Visualizar los valores SHAP\u001b[39;00m\n\u001b[0;32m     44\u001b[0m \u001b[38;5;66;03m# shap.force_plot(explainer.expected_value, shap_values, words)\u001b[39;00m\n",
      "File \u001b[1;32md:\\Programs\\Anaconda3\\Lib\\site-packages\\shap\\explainers\\_kernel.py:127\u001b[0m, in \u001b[0;36mKernelExplainer.__init__\u001b[1;34m(self, model, data, feature_names, link, **kwargs)\u001b[0m\n\u001b[0;32m    125\u001b[0m \u001b[38;5;28;01melif\u001b[39;00m safe_isinstance(model_null, \u001b[38;5;124m\"\u001b[39m\u001b[38;5;124mtensorflow.python.framework.ops.SymbolicTensor\u001b[39m\u001b[38;5;124m\"\u001b[39m):\n\u001b[0;32m    126\u001b[0m     model_null \u001b[38;5;241m=\u001b[39m \u001b[38;5;28mself\u001b[39m\u001b[38;5;241m.\u001b[39m_convert_symbolic_tensor(model_null)\n\u001b[1;32m--> 127\u001b[0m \u001b[38;5;28mself\u001b[39m\u001b[38;5;241m.\u001b[39mfnull \u001b[38;5;241m=\u001b[39m np\u001b[38;5;241m.\u001b[39msum((\u001b[43mmodel_null\u001b[49m\u001b[38;5;241;43m.\u001b[39;49m\u001b[43mT\u001b[49m\u001b[43m \u001b[49m\u001b[38;5;241;43m*\u001b[39;49m\u001b[43m \u001b[49m\u001b[38;5;28;43mself\u001b[39;49m\u001b[38;5;241;43m.\u001b[39;49m\u001b[43mdata\u001b[49m\u001b[38;5;241;43m.\u001b[39;49m\u001b[43mweights\u001b[49m)\u001b[38;5;241m.\u001b[39mT, \u001b[38;5;241m0\u001b[39m)\n\u001b[0;32m    128\u001b[0m \u001b[38;5;28mself\u001b[39m\u001b[38;5;241m.\u001b[39mexpected_value \u001b[38;5;241m=\u001b[39m \u001b[38;5;28mself\u001b[39m\u001b[38;5;241m.\u001b[39mlinkfv(\u001b[38;5;28mself\u001b[39m\u001b[38;5;241m.\u001b[39mfnull)\n\u001b[0;32m    130\u001b[0m \u001b[38;5;66;03m# see if we have a vector output\u001b[39;00m\n",
      "\u001b[1;31mValueError\u001b[0m: operands could not be broadcast together with shapes (384,) (7,) "
     ]
    }
   ],
   "source": [
    "import shap\n",
    "from sentence_transformers import SentenceTransformer\n",
    "import numpy as np\n",
    "\n",
    "# Modelo de embeddings\n",
    "model = SentenceTransformer('all-MiniLM-L6-v2')\n",
    "\n",
    "# Consulta del usuario\n",
    "query = \"¿Cómo ayuda la cúrcuma a la salud?\"\n",
    "\n",
    "# Dividir la consulta en palabras\n",
    "words = query.split()\n",
    "\n",
    "# Vector de referencia para SHAP (matriz con una palabra activa por fila)\n",
    "reference = np.eye(len(words))  # Matriz identidad, activa una palabra a la vez\n",
    "\n",
    "# Definir una función de predicción para SHAP\n",
    "def predict_text(words_to_keep):\n",
    "    \"\"\"\n",
    "    Genera un vector embedding para una consulta parcial.\n",
    "    `words_to_keep` es un arreglo que indica qué palabras incluir.\n",
    "    \"\"\"\n",
    "    # Convertir `words_to_keep` a un formato binario si no lo es\n",
    "    words_to_keep = np.round(words_to_keep).astype(bool)\n",
    "    print(words_to_keep)\n",
    "    \n",
    "    # Filtrar palabras basadas en `words_to_keep`\n",
    "    filtered_query = \" \".join([words[i] for i in range(len(words)) if words_to_keep[i].all()])\n",
    "    \n",
    "    # Si no hay palabras seleccionadas, retornar un vector de ceros\n",
    "    if not filtered_query.strip():\n",
    "        return np.zeros_like(model.encode([\"\"])[0])\n",
    "    \n",
    "    # Retornar el embedding de la consulta filtrada\n",
    "    return model.encode([filtered_query])[0]\n",
    "\n",
    "# Crear el explicador SHAP\n",
    "explainer = shap.KernelExplainer(predict_text, reference)\n",
    "\n",
    "# # Calcular los valores SHAP para la consulta completa (todas las palabras activas)\n",
    "# shap_values = explainer.shap_values(np.ones(len(words)))\n",
    "\n",
    "# # Visualizar los valores SHAP\n",
    "# shap.force_plot(explainer.expected_value, shap_values, words)\n"
   ]
  },
  {
   "cell_type": "code",
   "execution_count": null,
   "metadata": {},
   "outputs": [],
   "source": []
  }
 ],
 "metadata": {
  "kernelspec": {
   "display_name": "base",
   "language": "python",
   "name": "python3"
  },
  "language_info": {
   "codemirror_mode": {
    "name": "ipython",
    "version": 3
   },
   "file_extension": ".py",
   "mimetype": "text/x-python",
   "name": "python",
   "nbconvert_exporter": "python",
   "pygments_lexer": "ipython3",
   "version": "3.12.4"
  }
 },
 "nbformat": 4,
 "nbformat_minor": 2
}

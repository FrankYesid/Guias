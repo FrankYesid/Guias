{
 "cells": [
  {
   "cell_type": "markdown",
   "id": "18bb0290",
   "metadata": {},
   "source": [
    "# 🧠 Introducción a LLM y Retrieval-Augmented Generation (RAG)"
   ]
  },
  {
   "cell_type": "markdown",
   "id": "d7ddd344",
   "metadata": {},
   "source": [
    "\n",
    "En este cuaderno, exploraremos el funcionamiento de los **Modelos de Lenguaje Grandes (LLM)** y cómo se integran con **Retrieval-Augmented Generation (RAG)** para enriquecer respuestas basadas en información externa.\n",
    "\n",
    "**Objetivos**:\n",
    "1. Entender cómo los LLM procesan texto.\n",
    "2. Implementar un sistema básico de RAG.\n",
    "3. Visualizar el flujo de datos desde la consulta hasta la respuesta.\n",
    "\n",
    "---\n",
    "**Requisitos previos**: \n",
    "- Familiaridad básica con Python.\n",
    "- Conocimiento básico de NLP y redes neuronales.\n",
    "---\n"
   ]
  },
  {
   "cell_type": "code",
   "execution_count": null,
   "id": "b341bfb2",
   "metadata": {},
   "outputs": [
    {
     "name": "stdout",
     "output_type": "stream",
     "text": [
      "^C\n",
      "Requirement already satisfied: sentence-transformers in d:\\programs\\anaconda3\\lib\\site-packages (3.3.1)\n",
      "Requirement already satisfied: transformers in d:\\programs\\anaconda3\\lib\\site-packages (4.45.2)\n",
      "Requirement already satisfied: scikit-learn in d:\\programs\\anaconda3\\lib\\site-packages (1.5.2)\n",
      "Requirement already satisfied: tqdm in d:\\programs\\anaconda3\\lib\\site-packages (from sentence-transformers) (4.66.2)\n",
      "Requirement already satisfied: torch>=1.11.0 in d:\\programs\\anaconda3\\lib\\site-packages (from sentence-transformers) (2.4.1)\n",
      "Requirement already satisfied: scipy in d:\\programs\\anaconda3\\lib\\site-packages (from sentence-transformers) (1.12.0)\n",
      "Requirement already satisfied: huggingface-hub>=0.20.0 in d:\\programs\\anaconda3\\lib\\site-packages (from sentence-transformers) (0.25.1)\n",
      "Requirement already satisfied: Pillow in d:\\programs\\anaconda3\\lib\\site-packages (from sentence-transformers) (10.2.0)\n",
      "Requirement already satisfied: filelock in d:\\programs\\anaconda3\\lib\\site-packages (from transformers) (3.13.1)\n",
      "Requirement already satisfied: numpy>=1.17 in d:\\programs\\anaconda3\\lib\\site-packages (from transformers) (1.26.0)\n",
      "Requirement already satisfied: packaging>=20.0 in d:\\programs\\anaconda3\\lib\\site-packages (from transformers) (23.2)\n",
      "Requirement already satisfied: pyyaml>=5.1 in d:\\programs\\anaconda3\\lib\\site-packages (from transformers) (6.0.1)\n",
      "Requirement already satisfied: regex!=2019.12.17 in d:\\programs\\anaconda3\\lib\\site-packages (from transformers) (2023.10.3)\n",
      "Requirement already satisfied: requests in d:\\programs\\anaconda3\\lib\\site-packages (from transformers) (2.31.0)\n",
      "Requirement already satisfied: safetensors>=0.4.1 in d:\\programs\\anaconda3\\lib\\site-packages (from transformers) (0.4.5)\n",
      "Requirement already satisfied: tokenizers<0.21,>=0.20 in d:\\programs\\anaconda3\\lib\\site-packages (from transformers) (0.20.0)\n",
      "Requirement already satisfied: joblib>=1.2.0 in d:\\programs\\anaconda3\\lib\\site-packages (from scikit-learn) (1.4.2)\n",
      "Requirement already satisfied: threadpoolctl>=3.1.0 in d:\\programs\\anaconda3\\lib\\site-packages (from scikit-learn) (3.3.0)\n",
      "Requirement already satisfied: fsspec>=2023.5.0 in d:\\programs\\anaconda3\\lib\\site-packages (from huggingface-hub>=0.20.0->sentence-transformers) (2024.3.1)\n",
      "Requirement already satisfied: typing-extensions>=3.7.4.3 in d:\\programs\\anaconda3\\lib\\site-packages (from huggingface-hub>=0.20.0->sentence-transformers) (4.9.0)\n",
      "Requirement already satisfied: sympy in d:\\programs\\anaconda3\\lib\\site-packages (from torch>=1.11.0->sentence-transformers) (1.12)\n",
      "Requirement already satisfied: networkx in d:\\programs\\anaconda3\\lib\\site-packages (from torch>=1.11.0->sentence-transformers) (3.2.1)\n",
      "Requirement already satisfied: jinja2 in d:\\programs\\anaconda3\\lib\\site-packages (from torch>=1.11.0->sentence-transformers) (3.1.3)\n",
      "Requirement already satisfied: setuptools in d:\\programs\\anaconda3\\lib\\site-packages (from torch>=1.11.0->sentence-transformers) (75.1.0)\n",
      "Requirement already satisfied: colorama in d:\\programs\\anaconda3\\lib\\site-packages (from tqdm->sentence-transformers) (0.4.6)\n",
      "Requirement already satisfied: charset-normalizer<4,>=2 in d:\\programs\\anaconda3\\lib\\site-packages (from requests->transformers) (3.3.2)\n",
      "Requirement already satisfied: idna<4,>=2.5 in d:\\programs\\anaconda3\\lib\\site-packages (from requests->transformers) (3.6)\n",
      "Requirement already satisfied: urllib3<3,>=1.21.1 in d:\\programs\\anaconda3\\lib\\site-packages (from requests->transformers) (2.2.0)\n",
      "Requirement already satisfied: certifi>=2017.4.17 in d:\\programs\\anaconda3\\lib\\site-packages (from requests->transformers) (2024.2.2)\n",
      "Requirement already satisfied: MarkupSafe>=2.0 in d:\\programs\\anaconda3\\lib\\site-packages (from jinja2->torch>=1.11.0->sentence-transformers) (2.1.5)\n",
      "Requirement already satisfied: mpmath>=0.19 in d:\\programs\\anaconda3\\lib\\site-packages (from sympy->torch>=1.11.0->sentence-transformers) (1.3.0)\n"
     ]
    },
    {
     "name": "stderr",
     "output_type": "stream",
     "text": [
      "WARNING: Ignoring invalid distribution ~andas (D:\\Programs\\Anaconda3\\Lib\\site-packages)\n",
      "WARNING: Ignoring invalid distribution ~andas (D:\\Programs\\Anaconda3\\Lib\\site-packages)\n",
      "WARNING: Ignoring invalid distribution ~andas (D:\\Programs\\Anaconda3\\Lib\\site-packages)\n"
     ]
    },
    {
     "name": "stdout",
     "output_type": "stream",
     "text": [
      "Requirement already satisfied: shap in d:\\programs\\anaconda3\\lib\\site-packages (0.46.0)\n",
      "Requirement already satisfied: numpy in d:\\programs\\anaconda3\\lib\\site-packages (from shap) (1.26.0)\n",
      "Requirement already satisfied: scipy in d:\\programs\\anaconda3\\lib\\site-packages (from shap) (1.12.0)\n",
      "Requirement already satisfied: scikit-learn in d:\\programs\\anaconda3\\lib\\site-packages (from shap) (1.5.2)\n",
      "Requirement already satisfied: pandas in d:\\programs\\anaconda3\\lib\\site-packages (from shap) (2.2.3)\n",
      "Requirement already satisfied: tqdm>=4.27.0 in d:\\programs\\anaconda3\\lib\\site-packages (from shap) (4.66.2)\n",
      "Requirement already satisfied: packaging>20.9 in d:\\programs\\anaconda3\\lib\\site-packages (from shap) (23.2)\n",
      "Requirement already satisfied: slicer==0.0.8 in d:\\programs\\anaconda3\\lib\\site-packages (from shap) (0.0.8)\n",
      "Requirement already satisfied: numba in d:\\programs\\anaconda3\\lib\\site-packages (from shap) (0.59.0)\n",
      "Requirement already satisfied: cloudpickle in d:\\programs\\anaconda3\\lib\\site-packages (from shap) (3.0.0)\n",
      "Requirement already satisfied: colorama in d:\\programs\\anaconda3\\lib\\site-packages (from tqdm>=4.27.0->shap) (0.4.6)\n",
      "Requirement already satisfied: llvmlite<0.43,>=0.42.0dev0 in d:\\programs\\anaconda3\\lib\\site-packages (from numba->shap) (0.42.0)\n",
      "Requirement already satisfied: python-dateutil>=2.8.2 in d:\\programs\\anaconda3\\lib\\site-packages (from pandas->shap) (2.8.2)\n",
      "Requirement already satisfied: pytz>=2020.1 in d:\\programs\\anaconda3\\lib\\site-packages (from pandas->shap) (2024.1)\n",
      "Requirement already satisfied: tzdata>=2022.7 in d:\\programs\\anaconda3\\lib\\site-packages (from pandas->shap) (2024.1)\n",
      "Requirement already satisfied: joblib>=1.2.0 in d:\\programs\\anaconda3\\lib\\site-packages (from scikit-learn->shap) (1.4.2)\n",
      "Requirement already satisfied: threadpoolctl>=3.1.0 in d:\\programs\\anaconda3\\lib\\site-packages (from scikit-learn->shap) (3.3.0)\n",
      "Requirement already satisfied: six>=1.5 in d:\\programs\\anaconda3\\lib\\site-packages (from python-dateutil>=2.8.2->pandas->shap) (1.16.0)\n"
     ]
    },
    {
     "name": "stderr",
     "output_type": "stream",
     "text": [
      "WARNING: Ignoring invalid distribution ~andas (D:\\Programs\\Anaconda3\\Lib\\site-packages)\n",
      "WARNING: Ignoring invalid distribution ~andas (D:\\Programs\\Anaconda3\\Lib\\site-packages)\n",
      "WARNING: Ignoring invalid distribution ~andas (D:\\Programs\\Anaconda3\\Lib\\site-packages)\n"
     ]
    }
   ],
   "source": [
    "# Instalar bibliotecas necesarias (descomentar si no están instaladas)\n",
    "# !pip install sentence-transformers transformers scikit-learn\n",
    "# !pip install shap"
   ]
  },
  {
   "cell_type": "markdown",
   "id": "06056568",
   "metadata": {},
   "source": [
    "## 🌀 Paso 1: Introducción a los LLM"
   ]
  },
  {
   "cell_type": "markdown",
   "id": "2b3453af",
   "metadata": {},
   "source": [
    "\n",
    "Los Modelos de Lenguaje Grandes (LLM) son redes neuronales entrenadas en enormes cantidades de texto para predecir palabras o generar texto.  \n",
    "Por ejemplo, dada una oración como *\"El gato está en el\"*, el modelo puede predecir *\"tejado\"* basándose en patrones aprendidos.\n",
    "\n",
    "Los LLM utilizan:\n",
    "- **Representaciones vectoriales**: Cada palabra/frase se convierte en un vector en un espacio multidimensional.\n",
    "- **Mecanismo de atención**: Ayuda al modelo a centrarse en partes relevantes del texto.\n",
    "\n",
    "A continuación, exploraremos cómo integrar un LLM con bases de datos para mejorar las respuestas usando RAG.\n"
   ]
  },
  {
   "cell_type": "markdown",
   "id": "05f11dc9",
   "metadata": {},
   "source": [
    "## 📂 Paso 2: Crear una base de datos ficticia"
   ]
  },
  {
   "cell_type": "code",
   "execution_count": 1,
   "id": "6d7ce7c2",
   "metadata": {},
   "outputs": [
    {
     "name": "stdout",
     "output_type": "stream",
     "text": [
      "Documento 1: La cúrcuma tiene propiedades antiinflamatorias.\n",
      "Documento 2: Se ha demostrado que la cúrcuma ayuda a la digestión.\n",
      "Documento 3: La cúrcuma contiene curcumina, un antioxidante.\n"
     ]
    }
   ],
   "source": [
    "# Base de datos simulada - que también se puede agregar en estructura de promts, en formato .py para ser usado como base de datos.\n",
    "documents = [\n",
    "            \"La cúrcuma tiene propiedades antiinflamatorias.\",\n",
    "            \"Se ha demostrado que la cúrcuma ayuda a la digestión.\",\n",
    "            \"La cúrcuma contiene curcumina, un antioxidante.\"\n",
    "            ]\n",
    "\n",
    "# Mostrar los documentos\n",
    "for i, doc in enumerate(documents, 1):\n",
    "    print(f\"Documento {i}: {doc}\")"
   ]
  },
  {
   "cell_type": "markdown",
   "id": "495f15a6",
   "metadata": {},
   "source": [
    "## 🔢 Paso 3: Transformar documentos en vectores"
   ]
  },
  {
   "cell_type": "code",
   "execution_count": 2,
   "id": "12588455",
   "metadata": {},
   "outputs": [
    {
     "name": "stdout",
     "output_type": "stream",
     "text": [
      "Vectores generados para los documentos (dimensiones): (3, 384)\n"
     ]
    }
   ],
   "source": [
    "import numpy as np\n",
    "import shap\n",
    "import matplotlib.pyplot as plt\n",
    "from sklearn.metrics.pairwise import cosine_similarity\n",
    "from sentence_transformers import SentenceTransformer\n",
    "from transformers import pipeline\n",
    "\n",
    "# Modelo para embeddings\n",
    "model = SentenceTransformer('all-MiniLM-L6-v2')\n",
    "\n",
    "# Generar vectores para los documentos\n",
    "document_vectors = model.encode(documents)\n",
    "print(\"Vectores generados para los documentos (dimensiones):\", document_vectors.shape)"
   ]
  },
  {
   "cell_type": "markdown",
   "id": "6dcb66bc",
   "metadata": {},
   "source": [
    "## 📝 Paso 4: Procesar la consulta del usuario"
   ]
  },
  {
   "cell_type": "code",
   "execution_count": 3,
   "id": "72a775d2",
   "metadata": {},
   "outputs": [
    {
     "name": "stdout",
     "output_type": "stream",
     "text": [
      "Vector de la consulta generado: [ 0.03837643  0.01184166 -0.06359773  0.01685266 -0.04091966] ...\n"
     ]
    }
   ],
   "source": [
    "# Consulta del usuario\n",
    "query = \"¿Cómo ayuda la cúrcuma a la salud?\"\n",
    "\n",
    "# Transformar la consulta en un vector\n",
    "query_vector = model.encode(query)\n",
    "print(\"Vector de la consulta generado:\", query_vector[:5], \"...\")"
   ]
  },
  {
   "cell_type": "markdown",
   "id": "3e36aade",
   "metadata": {},
   "source": [
    "## 🔍 Paso 5: Buscar documentos relevantes"
   ]
  },
  {
   "cell_type": "code",
   "execution_count": 4,
   "id": "d1954fb9",
   "metadata": {},
   "outputs": [
    {
     "name": "stdout",
     "output_type": "stream",
     "text": [
      "Documentos relevantes:\n",
      "- Se ha demostrado que la cúrcuma ayuda a la digestión.\n",
      "- La cúrcuma tiene propiedades antiinflamatorias.\n"
     ]
    }
   ],
   "source": [
    "# Calcular similitud coseno\n",
    "similarities = cosine_similarity([query_vector], document_vectors)[0]\n",
    "\n",
    "# Recuperar los documentos más similares\n",
    "top_indices = np.argsort(similarities)[::-1][:2]  # Los 2 más relevantes\n",
    "relevant_docs = [documents[i] for i in top_indices]\n",
    "\n",
    "# Mostrar los documentos más relevantes\n",
    "print(\"Documentos relevantes:\")\n",
    "for doc in relevant_docs:\n",
    "    print(\"-\", doc)"
   ]
  },
  {
   "cell_type": "markdown",
   "id": "198e4946",
   "metadata": {},
   "source": [
    "## 💡 Paso 6: Generar respuesta con el LLM"
   ]
  },
  {
   "cell_type": "code",
   "execution_count": 5,
   "id": "e4ace749",
   "metadata": {},
   "outputs": [
    {
     "name": "stderr",
     "output_type": "stream",
     "text": [
      "d:\\Programs\\Anaconda3\\Lib\\site-packages\\transformers\\generation\\utils.py:1220: UserWarning: Using the model-agnostic default `max_length` (=20) to control the generation length. We recommend setting `max_new_tokens` to control the maximum length of the generation.\n",
      "  warnings.warn(\n"
     ]
    },
    {
     "name": "stdout",
     "output_type": "stream",
     "text": [
      "Respuesta generada:\n",
      "ayuda la crcuma a la digesti\n"
     ]
    }
   ],
   "source": [
    "# Cargar el modelo LLM\n",
    "qa_pipeline = pipeline(\"text2text-generation\", model=\"t5-small\")\n",
    "\n",
    "# Concatenar los documentos relevantes\n",
    "context = \" \".join(relevant_docs)\n",
    "final_input = f\"Contexto: {context} Pregunta: {query}\"\n",
    "\n",
    "# Generar respuesta\n",
    "response = qa_pipeline(final_input)\n",
    "print(\"Respuesta generada:\")\n",
    "print(response[0]['generated_text'])"
   ]
  },
  {
   "cell_type": "markdown",
   "id": "355a5561",
   "metadata": {},
   "source": [
    "\n",
    "## 🎯 Conclusión\n",
    "En este cuaderno, hemos explorado cómo combinar **LLM** con una base de datos mediante **RAG**. Este enfoque permite enriquecer respuestas aprovechando tanto el conocimiento general del modelo como información específica de una base de datos. 🚀\n"
   ]
  },
  {
   "cell_type": "markdown",
   "id": "038bef34",
   "metadata": {},
   "source": []
  }
 ],
 "metadata": {
  "kernelspec": {
   "display_name": "base",
   "language": "python",
   "name": "python3"
  },
  "language_info": {
   "codemirror_mode": {
    "name": "ipython",
    "version": 3
   },
   "file_extension": ".py",
   "mimetype": "text/x-python",
   "name": "python",
   "nbconvert_exporter": "python",
   "pygments_lexer": "ipython3",
   "version": "3.12.4"
  }
 },
 "nbformat": 4,
 "nbformat_minor": 5
}

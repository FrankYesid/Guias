{
 "cells": [
  {
   "cell_type": "markdown",
   "id": "18bb0290",
   "metadata": {},
   "source": [
    "# 🧠 Introducción a LLM y Retrieval-Augmented Generation (RAG)"
   ]
  },
  {
   "cell_type": "markdown",
   "id": "d7ddd344",
   "metadata": {},
   "source": [
    "\n",
    "En este cuaderno, exploraremos el funcionamiento de los **Modelos de Lenguaje Grandes (LLM)** y cómo se integran con **Retrieval-Augmented Generation (RAG)** para enriquecer respuestas basadas en información externa.\n",
    "\n",
    "**Objetivos**:\n",
    "1. Entender cómo los LLM procesan texto.\n",
    "2. Implementar un sistema básico de RAG.\n",
    "3. Visualizar el flujo de datos desde la consulta hasta la respuesta.\n",
    "\n",
    "---\n",
    "**Requisitos previos**: \n",
    "- Familiaridad básica con Python.\n",
    "- Conocimiento básico de NLP y redes neuronales.\n",
    "---\n"
   ]
  },
  {
   "cell_type": "code",
   "execution_count": 1,
   "id": "b341bfb2",
   "metadata": {},
   "outputs": [
    {
     "name": "stdout",
     "output_type": "stream",
     "text": [
      "Collecting sentence-transformers\n",
      "  Downloading sentence_transformers-3.3.1-py3-none-any.whl.metadata (10 kB)\n",
      "Requirement already satisfied: transformers in d:\\programs\\anaconda3\\lib\\site-packages (4.45.2)\n",
      "Requirement already satisfied: scikit-learn in d:\\programs\\anaconda3\\lib\\site-packages (1.5.2)\n",
      "Requirement already satisfied: tqdm in d:\\programs\\anaconda3\\lib\\site-packages (from sentence-transformers) (4.66.2)\n",
      "Requirement already satisfied: torch>=1.11.0 in d:\\programs\\anaconda3\\lib\\site-packages (from sentence-transformers) (2.4.1)\n",
      "Requirement already satisfied: scipy in d:\\programs\\anaconda3\\lib\\site-packages (from sentence-transformers) (1.12.0)\n",
      "Requirement already satisfied: huggingface-hub>=0.20.0 in d:\\programs\\anaconda3\\lib\\site-packages (from sentence-transformers) (0.25.1)\n",
      "Requirement already satisfied: Pillow in d:\\programs\\anaconda3\\lib\\site-packages (from sentence-transformers) (10.2.0)\n",
      "Requirement already satisfied: filelock in d:\\programs\\anaconda3\\lib\\site-packages (from transformers) (3.13.1)\n",
      "Requirement already satisfied: numpy>=1.17 in d:\\programs\\anaconda3\\lib\\site-packages (from transformers) (1.26.0)\n",
      "Requirement already satisfied: packaging>=20.0 in d:\\programs\\anaconda3\\lib\\site-packages (from transformers) (23.2)\n",
      "Requirement already satisfied: pyyaml>=5.1 in d:\\programs\\anaconda3\\lib\\site-packages (from transformers) (6.0.1)\n",
      "Requirement already satisfied: regex!=2019.12.17 in d:\\programs\\anaconda3\\lib\\site-packages (from transformers) (2023.10.3)\n",
      "Requirement already satisfied: requests in d:\\programs\\anaconda3\\lib\\site-packages (from transformers) (2.31.0)\n",
      "Requirement already satisfied: safetensors>=0.4.1 in d:\\programs\\anaconda3\\lib\\site-packages (from transformers) (0.4.5)\n",
      "Requirement already satisfied: tokenizers<0.21,>=0.20 in d:\\programs\\anaconda3\\lib\\site-packages (from transformers) (0.20.0)\n",
      "Requirement already satisfied: joblib>=1.2.0 in d:\\programs\\anaconda3\\lib\\site-packages (from scikit-learn) (1.4.2)\n",
      "Requirement already satisfied: threadpoolctl>=3.1.0 in d:\\programs\\anaconda3\\lib\\site-packages (from scikit-learn) (3.3.0)\n",
      "Requirement already satisfied: fsspec>=2023.5.0 in d:\\programs\\anaconda3\\lib\\site-packages (from huggingface-hub>=0.20.0->sentence-transformers) (2024.3.1)\n",
      "Requirement already satisfied: typing-extensions>=3.7.4.3 in d:\\programs\\anaconda3\\lib\\site-packages (from huggingface-hub>=0.20.0->sentence-transformers) (4.9.0)\n",
      "Requirement already satisfied: sympy in d:\\programs\\anaconda3\\lib\\site-packages (from torch>=1.11.0->sentence-transformers) (1.12)\n",
      "Requirement already satisfied: networkx in d:\\programs\\anaconda3\\lib\\site-packages (from torch>=1.11.0->sentence-transformers) (3.2.1)\n",
      "Requirement already satisfied: jinja2 in d:\\programs\\anaconda3\\lib\\site-packages (from torch>=1.11.0->sentence-transformers) (3.1.3)\n",
      "Requirement already satisfied: setuptools in d:\\programs\\anaconda3\\lib\\site-packages (from torch>=1.11.0->sentence-transformers) (75.1.0)\n",
      "Requirement already satisfied: colorama in d:\\programs\\anaconda3\\lib\\site-packages (from tqdm->sentence-transformers) (0.4.6)\n",
      "Requirement already satisfied: charset-normalizer<4,>=2 in d:\\programs\\anaconda3\\lib\\site-packages (from requests->transformers) (3.3.2)\n",
      "Requirement already satisfied: idna<4,>=2.5 in d:\\programs\\anaconda3\\lib\\site-packages (from requests->transformers) (3.6)\n",
      "Requirement already satisfied: urllib3<3,>=1.21.1 in d:\\programs\\anaconda3\\lib\\site-packages (from requests->transformers) (2.2.0)\n",
      "Requirement already satisfied: certifi>=2017.4.17 in d:\\programs\\anaconda3\\lib\\site-packages (from requests->transformers) (2024.2.2)\n",
      "Requirement already satisfied: MarkupSafe>=2.0 in d:\\programs\\anaconda3\\lib\\site-packages (from jinja2->torch>=1.11.0->sentence-transformers) (2.1.5)\n",
      "Requirement already satisfied: mpmath>=0.19 in d:\\programs\\anaconda3\\lib\\site-packages (from sympy->torch>=1.11.0->sentence-transformers) (1.3.0)\n",
      "Downloading sentence_transformers-3.3.1-py3-none-any.whl (268 kB)\n",
      "Installing collected packages: sentence-transformers\n",
      "Successfully installed sentence-transformers-3.3.1\n"
     ]
    },
    {
     "name": "stderr",
     "output_type": "stream",
     "text": [
      "WARNING: Ignoring invalid distribution ~andas (D:\\Programs\\Anaconda3\\Lib\\site-packages)\n",
      "WARNING: Ignoring invalid distribution ~andas (D:\\Programs\\Anaconda3\\Lib\\site-packages)\n",
      "WARNING: Ignoring invalid distribution ~andas (D:\\Programs\\Anaconda3\\Lib\\site-packages)\n"
     ]
    }
   ],
   "source": [
    "\n",
    "# Instalar bibliotecas necesarias (descomentar si no están instaladas)\n",
    "!pip install sentence-transformers transformers scikit-learn\n"
   ]
  },
  {
   "cell_type": "markdown",
   "id": "06056568",
   "metadata": {},
   "source": [
    "## 🌀 Paso 1: Introducción a los LLM"
   ]
  },
  {
   "cell_type": "markdown",
   "id": "2b3453af",
   "metadata": {},
   "source": [
    "\n",
    "Los Modelos de Lenguaje Grandes (LLM) son redes neuronales entrenadas en enormes cantidades de texto para predecir palabras o generar texto.  \n",
    "Por ejemplo, dada una oración como *\"El gato está en el\"*, el modelo puede predecir *\"tejado\"* basándose en patrones aprendidos.\n",
    "\n",
    "Los LLM utilizan:\n",
    "- **Representaciones vectoriales**: Cada palabra/frase se convierte en un vector en un espacio multidimensional.\n",
    "- **Mecanismo de atención**: Ayuda al modelo a centrarse en partes relevantes del texto.\n",
    "\n",
    "A continuación, exploraremos cómo integrar un LLM con bases de datos para mejorar las respuestas usando RAG.\n"
   ]
  },
  {
   "cell_type": "markdown",
   "id": "05f11dc9",
   "metadata": {},
   "source": [
    "## 📂 Paso 2: Crear una base de datos ficticia"
   ]
  },
  {
   "cell_type": "code",
   "execution_count": 2,
   "id": "6d7ce7c2",
   "metadata": {},
   "outputs": [
    {
     "name": "stdout",
     "output_type": "stream",
     "text": [
      "Documento 1: La cúrcuma tiene propiedades antiinflamatorias.\n",
      "Documento 2: Se ha demostrado que la cúrcuma ayuda a la digestión.\n",
      "Documento 3: La cúrcuma contiene curcumina, un antioxidante.\n"
     ]
    }
   ],
   "source": [
    "\n",
    "# Base de datos simulada\n",
    "documents = [\n",
    "    \"La cúrcuma tiene propiedades antiinflamatorias.\",\n",
    "    \"Se ha demostrado que la cúrcuma ayuda a la digestión.\",\n",
    "    \"La cúrcuma contiene curcumina, un antioxidante.\"\n",
    "]\n",
    "\n",
    "# Mostrar los documentos\n",
    "for i, doc in enumerate(documents, 1):\n",
    "    print(f\"Documento {i}: {doc}\")\n"
   ]
  },
  {
   "cell_type": "markdown",
   "id": "495f15a6",
   "metadata": {},
   "source": [
    "## 🔢 Paso 3: Transformar documentos en vectores"
   ]
  },
  {
   "cell_type": "code",
   "execution_count": 3,
   "id": "12588455",
   "metadata": {},
   "outputs": [
    {
     "data": {
      "application/vnd.jupyter.widget-view+json": {
       "model_id": "3479f39d344c4495876125436bbec715",
       "version_major": 2,
       "version_minor": 0
      },
      "text/plain": [
       "modules.json:   0%|          | 0.00/349 [00:00<?, ?B/s]"
      ]
     },
     "metadata": {},
     "output_type": "display_data"
    },
    {
     "name": "stderr",
     "output_type": "stream",
     "text": [
      "d:\\Programs\\Anaconda3\\Lib\\site-packages\\huggingface_hub\\file_download.py:147: UserWarning: `huggingface_hub` cache-system uses symlinks by default to efficiently store duplicated files but your machine does not support them in C:\\Users\\frany\\.cache\\huggingface\\hub\\models--sentence-transformers--all-MiniLM-L6-v2. Caching files will still work but in a degraded version that might require more space on your disk. This warning can be disabled by setting the `HF_HUB_DISABLE_SYMLINKS_WARNING` environment variable. For more details, see https://huggingface.co/docs/huggingface_hub/how-to-cache#limitations.\n",
      "To support symlinks on Windows, you either need to activate Developer Mode or to run Python as an administrator. In order to activate developer mode, see this article: https://docs.microsoft.com/en-us/windows/apps/get-started/enable-your-device-for-development\n",
      "  warnings.warn(message)\n"
     ]
    },
    {
     "data": {
      "application/vnd.jupyter.widget-view+json": {
       "model_id": "5703e3756b114f1585c67fcb97904f5f",
       "version_major": 2,
       "version_minor": 0
      },
      "text/plain": [
       "config_sentence_transformers.json:   0%|          | 0.00/116 [00:00<?, ?B/s]"
      ]
     },
     "metadata": {},
     "output_type": "display_data"
    },
    {
     "data": {
      "application/vnd.jupyter.widget-view+json": {
       "model_id": "44331fb9d20a4caf9f6c5e30e3621867",
       "version_major": 2,
       "version_minor": 0
      },
      "text/plain": [
       "README.md:   0%|          | 0.00/10.7k [00:00<?, ?B/s]"
      ]
     },
     "metadata": {},
     "output_type": "display_data"
    },
    {
     "data": {
      "application/vnd.jupyter.widget-view+json": {
       "model_id": "ae6a327c79d8451badc82563089d4897",
       "version_major": 2,
       "version_minor": 0
      },
      "text/plain": [
       "sentence_bert_config.json:   0%|          | 0.00/53.0 [00:00<?, ?B/s]"
      ]
     },
     "metadata": {},
     "output_type": "display_data"
    },
    {
     "data": {
      "application/vnd.jupyter.widget-view+json": {
       "model_id": "4aecd0d7d3474a2d9709e222f1ff830d",
       "version_major": 2,
       "version_minor": 0
      },
      "text/plain": [
       "config.json:   0%|          | 0.00/612 [00:00<?, ?B/s]"
      ]
     },
     "metadata": {},
     "output_type": "display_data"
    },
    {
     "data": {
      "application/vnd.jupyter.widget-view+json": {
       "model_id": "8b05866ccb084919b6abe4f110b5a454",
       "version_major": 2,
       "version_minor": 0
      },
      "text/plain": [
       "model.safetensors:   0%|          | 0.00/90.9M [00:00<?, ?B/s]"
      ]
     },
     "metadata": {},
     "output_type": "display_data"
    },
    {
     "data": {
      "application/vnd.jupyter.widget-view+json": {
       "model_id": "22a79e6296d04b968394694abde57d70",
       "version_major": 2,
       "version_minor": 0
      },
      "text/plain": [
       "tokenizer_config.json:   0%|          | 0.00/350 [00:00<?, ?B/s]"
      ]
     },
     "metadata": {},
     "output_type": "display_data"
    },
    {
     "data": {
      "application/vnd.jupyter.widget-view+json": {
       "model_id": "e64a6f3c742649fea4310f7cdd70d525",
       "version_major": 2,
       "version_minor": 0
      },
      "text/plain": [
       "vocab.txt:   0%|          | 0.00/232k [00:00<?, ?B/s]"
      ]
     },
     "metadata": {},
     "output_type": "display_data"
    },
    {
     "data": {
      "application/vnd.jupyter.widget-view+json": {
       "model_id": "75a4e94149c247e282ca1eb43beac99e",
       "version_major": 2,
       "version_minor": 0
      },
      "text/plain": [
       "tokenizer.json:   0%|          | 0.00/466k [00:00<?, ?B/s]"
      ]
     },
     "metadata": {},
     "output_type": "display_data"
    },
    {
     "data": {
      "application/vnd.jupyter.widget-view+json": {
       "model_id": "f6d4e4b131654dfbb4b8342e6fe93b4b",
       "version_major": 2,
       "version_minor": 0
      },
      "text/plain": [
       "special_tokens_map.json:   0%|          | 0.00/112 [00:00<?, ?B/s]"
      ]
     },
     "metadata": {},
     "output_type": "display_data"
    },
    {
     "data": {
      "application/vnd.jupyter.widget-view+json": {
       "model_id": "d5a723671513488faf46edd709a3363f",
       "version_major": 2,
       "version_minor": 0
      },
      "text/plain": [
       "1_Pooling/config.json:   0%|          | 0.00/190 [00:00<?, ?B/s]"
      ]
     },
     "metadata": {},
     "output_type": "display_data"
    },
    {
     "name": "stdout",
     "output_type": "stream",
     "text": [
      "Vectores generados para los documentos (dimensiones): (3, 384)\n"
     ]
    }
   ],
   "source": [
    "\n",
    "from sentence_transformers import SentenceTransformer\n",
    "\n",
    "# Modelo para embeddings\n",
    "model = SentenceTransformer('all-MiniLM-L6-v2')\n",
    "\n",
    "# Generar vectores para los documentos\n",
    "document_vectors = model.encode(documents)\n",
    "\n",
    "print(\"Vectores generados para los documentos (dimensiones):\", document_vectors.shape)\n"
   ]
  },
  {
   "cell_type": "markdown",
   "id": "6dcb66bc",
   "metadata": {},
   "source": [
    "## 📝 Paso 4: Procesar la consulta del usuario"
   ]
  },
  {
   "cell_type": "code",
   "execution_count": 4,
   "id": "72a775d2",
   "metadata": {},
   "outputs": [
    {
     "name": "stdout",
     "output_type": "stream",
     "text": [
      "Vector de la consulta generado: [ 0.03837643  0.01184166 -0.06359773  0.01685266 -0.04091966] ...\n"
     ]
    }
   ],
   "source": [
    "\n",
    "# Consulta del usuario\n",
    "query = \"¿Cómo ayuda la cúrcuma a la salud?\"\n",
    "\n",
    "# Transformar la consulta en un vector\n",
    "query_vector = model.encode(query)\n",
    "print(\"Vector de la consulta generado:\", query_vector[:5], \"...\")\n"
   ]
  },
  {
   "cell_type": "code",
   "execution_count": null,
   "id": "a7e17835",
   "metadata": {},
   "outputs": [],
   "source": []
  },
  {
   "cell_type": "markdown",
   "id": "3e36aade",
   "metadata": {},
   "source": [
    "## 🔍 Paso 5: Buscar documentos relevantes"
   ]
  },
  {
   "cell_type": "code",
   "execution_count": 5,
   "id": "d1954fb9",
   "metadata": {},
   "outputs": [
    {
     "name": "stdout",
     "output_type": "stream",
     "text": [
      "Documentos relevantes:\n",
      "- Se ha demostrado que la cúrcuma ayuda a la digestión.\n",
      "- La cúrcuma tiene propiedades antiinflamatorias.\n"
     ]
    }
   ],
   "source": [
    "\n",
    "from sklearn.metrics.pairwise import cosine_similarity\n",
    "import numpy as np\n",
    "\n",
    "# Calcular similitud coseno\n",
    "similarities = cosine_similarity([query_vector], document_vectors)[0]\n",
    "\n",
    "# Recuperar los documentos más similares\n",
    "top_indices = np.argsort(similarities)[::-1][:2]  # Los 2 más relevantes\n",
    "relevant_docs = [documents[i] for i in top_indices]\n",
    "\n",
    "# Mostrar los documentos más relevantes\n",
    "print(\"Documentos relevantes:\")\n",
    "for doc in relevant_docs:\n",
    "    print(\"-\", doc)\n"
   ]
  },
  {
   "cell_type": "markdown",
   "id": "198e4946",
   "metadata": {},
   "source": [
    "## 💡 Paso 6: Generar respuesta con el LLM"
   ]
  },
  {
   "cell_type": "code",
   "execution_count": 7,
   "id": "e4ace749",
   "metadata": {},
   "outputs": [
    {
     "data": {
      "application/vnd.jupyter.widget-view+json": {
       "model_id": "ac49ea58dcde41b49dd68bb05b48be2b",
       "version_major": 2,
       "version_minor": 0
      },
      "text/plain": [
       "config.json:   0%|          | 0.00/1.21k [00:00<?, ?B/s]"
      ]
     },
     "metadata": {},
     "output_type": "display_data"
    },
    {
     "name": "stderr",
     "output_type": "stream",
     "text": [
      "d:\\Programs\\Anaconda3\\Lib\\site-packages\\huggingface_hub\\file_download.py:147: UserWarning: `huggingface_hub` cache-system uses symlinks by default to efficiently store duplicated files but your machine does not support them in C:\\Users\\frany\\.cache\\huggingface\\hub\\models--t5-small. Caching files will still work but in a degraded version that might require more space on your disk. This warning can be disabled by setting the `HF_HUB_DISABLE_SYMLINKS_WARNING` environment variable. For more details, see https://huggingface.co/docs/huggingface_hub/how-to-cache#limitations.\n",
      "To support symlinks on Windows, you either need to activate Developer Mode or to run Python as an administrator. In order to activate developer mode, see this article: https://docs.microsoft.com/en-us/windows/apps/get-started/enable-your-device-for-development\n",
      "  warnings.warn(message)\n"
     ]
    },
    {
     "data": {
      "application/vnd.jupyter.widget-view+json": {
       "model_id": "554d4e1a578f4d248e30a7c916f4b7f7",
       "version_major": 2,
       "version_minor": 0
      },
      "text/plain": [
       "model.safetensors:   0%|          | 0.00/242M [00:00<?, ?B/s]"
      ]
     },
     "metadata": {},
     "output_type": "display_data"
    },
    {
     "data": {
      "application/vnd.jupyter.widget-view+json": {
       "model_id": "15df2421b9b948408c008829155024e5",
       "version_major": 2,
       "version_minor": 0
      },
      "text/plain": [
       "generation_config.json:   0%|          | 0.00/147 [00:00<?, ?B/s]"
      ]
     },
     "metadata": {},
     "output_type": "display_data"
    },
    {
     "data": {
      "application/vnd.jupyter.widget-view+json": {
       "model_id": "8a1ce98e7b904a799c7181c59051e97e",
       "version_major": 2,
       "version_minor": 0
      },
      "text/plain": [
       "tokenizer_config.json:   0%|          | 0.00/2.32k [00:00<?, ?B/s]"
      ]
     },
     "metadata": {},
     "output_type": "display_data"
    },
    {
     "data": {
      "application/vnd.jupyter.widget-view+json": {
       "model_id": "be187965acc944589cd23abbb623f718",
       "version_major": 2,
       "version_minor": 0
      },
      "text/plain": [
       "spiece.model:   0%|          | 0.00/792k [00:00<?, ?B/s]"
      ]
     },
     "metadata": {},
     "output_type": "display_data"
    },
    {
     "data": {
      "application/vnd.jupyter.widget-view+json": {
       "model_id": "aeaa5e78fd394649bb0e6f37d68216f9",
       "version_major": 2,
       "version_minor": 0
      },
      "text/plain": [
       "tokenizer.json:   0%|          | 0.00/1.39M [00:00<?, ?B/s]"
      ]
     },
     "metadata": {},
     "output_type": "display_data"
    },
    {
     "name": "stderr",
     "output_type": "stream",
     "text": [
      "d:\\Programs\\Anaconda3\\Lib\\site-packages\\transformers\\generation\\utils.py:1220: UserWarning: Using the model-agnostic default `max_length` (=20) to control the generation length. We recommend setting `max_new_tokens` to control the maximum length of the generation.\n",
      "  warnings.warn(\n"
     ]
    },
    {
     "name": "stdout",
     "output_type": "stream",
     "text": [
      "Respuesta generada:\n",
      "ayuda la crcuma a la digesti\n"
     ]
    }
   ],
   "source": [
    "\n",
    "from transformers import pipeline\n",
    "\n",
    "# Cargar el modelo LLM\n",
    "qa_pipeline = pipeline(\"text2text-generation\", model=\"t5-small\")\n",
    "\n",
    "# Concatenar los documentos relevantes\n",
    "context = \" \".join(relevant_docs)\n",
    "final_input = f\"Contexto: {context} Pregunta: {query}\"\n",
    "\n",
    "# Generar respuesta\n",
    "response = qa_pipeline(final_input)\n",
    "print(\"Respuesta generada:\")\n",
    "print(response[0]['generated_text'])\n"
   ]
  },
  {
   "cell_type": "markdown",
   "id": "355a5561",
   "metadata": {},
   "source": [
    "\n",
    "## 🎯 Conclusión\n",
    "En este cuaderno, hemos explorado cómo combinar **LLM** con una base de datos mediante **RAG**. Este enfoque permite enriquecer respuestas aprovechando tanto el conocimiento general del modelo como información específica de una base de datos. 🚀\n"
   ]
  },
  {
   "cell_type": "markdown",
   "id": "038bef34",
   "metadata": {},
   "source": []
  }
 ],
 "metadata": {
  "kernelspec": {
   "display_name": "base",
   "language": "python",
   "name": "python3"
  },
  "language_info": {
   "codemirror_mode": {
    "name": "ipython",
    "version": 3
   },
   "file_extension": ".py",
   "mimetype": "text/x-python",
   "name": "python",
   "nbconvert_exporter": "python",
   "pygments_lexer": "ipython3",
   "version": "3.12.4"
  }
 },
 "nbformat": 4,
 "nbformat_minor": 5
}

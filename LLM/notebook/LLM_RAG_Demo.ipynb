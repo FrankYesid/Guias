{
 "cells": [
  {
   "cell_type": "markdown",
   "id": "18bb0290",
   "metadata": {},
   "source": [
    "# 🧠 Introducción a LLM y Retrieval-Augmented Generation (RAG)"
   ]
  },
  {
   "cell_type": "markdown",
   "id": "d7ddd344",
   "metadata": {},
   "source": [
    "\n",
    "En este cuaderno, exploraremos el funcionamiento de los **Modelos de Lenguaje Grandes (LLM)** y cómo se integran con **Retrieval-Augmented Generation (RAG)** para enriquecer respuestas basadas en información externa.\n",
    "\n",
    "**Objetivos**:\n",
    "1. Entender cómo los LLM procesan texto.\n",
    "2. Implementar un sistema básico de RAG.\n",
    "3. Visualizar el flujo de datos desde la consulta hasta la respuesta.\n",
    "\n",
    "---\n",
    "**Requisitos previos**: \n",
    "- Familiaridad básica con Python.\n",
    "- Conocimiento básico de NLP y redes neuronales.\n",
    "---\n"
   ]
  },
  {
   "cell_type": "code",
   "execution_count": 11,
   "id": "b341bfb2",
   "metadata": {},
   "outputs": [
    {
     "name": "stdout",
     "output_type": "stream",
     "text": [
      "^C\n",
      "Requirement already satisfied: sentence-transformers in d:\\programs\\anaconda3\\lib\\site-packages (3.3.1)\n",
      "Requirement already satisfied: transformers in d:\\programs\\anaconda3\\lib\\site-packages (4.45.2)\n",
      "Requirement already satisfied: scikit-learn in d:\\programs\\anaconda3\\lib\\site-packages (1.5.2)\n",
      "Requirement already satisfied: tqdm in d:\\programs\\anaconda3\\lib\\site-packages (from sentence-transformers) (4.66.2)\n",
      "Requirement already satisfied: torch>=1.11.0 in d:\\programs\\anaconda3\\lib\\site-packages (from sentence-transformers) (2.4.1)\n",
      "Requirement already satisfied: scipy in d:\\programs\\anaconda3\\lib\\site-packages (from sentence-transformers) (1.12.0)\n",
      "Requirement already satisfied: huggingface-hub>=0.20.0 in d:\\programs\\anaconda3\\lib\\site-packages (from sentence-transformers) (0.25.1)\n",
      "Requirement already satisfied: Pillow in d:\\programs\\anaconda3\\lib\\site-packages (from sentence-transformers) (10.2.0)\n",
      "Requirement already satisfied: filelock in d:\\programs\\anaconda3\\lib\\site-packages (from transformers) (3.13.1)\n",
      "Requirement already satisfied: numpy>=1.17 in d:\\programs\\anaconda3\\lib\\site-packages (from transformers) (1.26.0)\n",
      "Requirement already satisfied: packaging>=20.0 in d:\\programs\\anaconda3\\lib\\site-packages (from transformers) (23.2)\n",
      "Requirement already satisfied: pyyaml>=5.1 in d:\\programs\\anaconda3\\lib\\site-packages (from transformers) (6.0.1)\n",
      "Requirement already satisfied: regex!=2019.12.17 in d:\\programs\\anaconda3\\lib\\site-packages (from transformers) (2023.10.3)\n",
      "Requirement already satisfied: requests in d:\\programs\\anaconda3\\lib\\site-packages (from transformers) (2.31.0)\n",
      "Requirement already satisfied: safetensors>=0.4.1 in d:\\programs\\anaconda3\\lib\\site-packages (from transformers) (0.4.5)\n",
      "Requirement already satisfied: tokenizers<0.21,>=0.20 in d:\\programs\\anaconda3\\lib\\site-packages (from transformers) (0.20.0)\n",
      "Requirement already satisfied: joblib>=1.2.0 in d:\\programs\\anaconda3\\lib\\site-packages (from scikit-learn) (1.4.2)\n",
      "Requirement already satisfied: threadpoolctl>=3.1.0 in d:\\programs\\anaconda3\\lib\\site-packages (from scikit-learn) (3.3.0)\n",
      "Requirement already satisfied: fsspec>=2023.5.0 in d:\\programs\\anaconda3\\lib\\site-packages (from huggingface-hub>=0.20.0->sentence-transformers) (2024.3.1)\n",
      "Requirement already satisfied: typing-extensions>=3.7.4.3 in d:\\programs\\anaconda3\\lib\\site-packages (from huggingface-hub>=0.20.0->sentence-transformers) (4.9.0)\n",
      "Requirement already satisfied: sympy in d:\\programs\\anaconda3\\lib\\site-packages (from torch>=1.11.0->sentence-transformers) (1.12)\n",
      "Requirement already satisfied: networkx in d:\\programs\\anaconda3\\lib\\site-packages (from torch>=1.11.0->sentence-transformers) (3.2.1)\n",
      "Requirement already satisfied: jinja2 in d:\\programs\\anaconda3\\lib\\site-packages (from torch>=1.11.0->sentence-transformers) (3.1.3)\n",
      "Requirement already satisfied: setuptools in d:\\programs\\anaconda3\\lib\\site-packages (from torch>=1.11.0->sentence-transformers) (75.1.0)\n",
      "Requirement already satisfied: colorama in d:\\programs\\anaconda3\\lib\\site-packages (from tqdm->sentence-transformers) (0.4.6)\n",
      "Requirement already satisfied: charset-normalizer<4,>=2 in d:\\programs\\anaconda3\\lib\\site-packages (from requests->transformers) (3.3.2)\n",
      "Requirement already satisfied: idna<4,>=2.5 in d:\\programs\\anaconda3\\lib\\site-packages (from requests->transformers) (3.6)\n",
      "Requirement already satisfied: urllib3<3,>=1.21.1 in d:\\programs\\anaconda3\\lib\\site-packages (from requests->transformers) (2.2.0)\n",
      "Requirement already satisfied: certifi>=2017.4.17 in d:\\programs\\anaconda3\\lib\\site-packages (from requests->transformers) (2024.2.2)\n",
      "Requirement already satisfied: MarkupSafe>=2.0 in d:\\programs\\anaconda3\\lib\\site-packages (from jinja2->torch>=1.11.0->sentence-transformers) (2.1.5)\n",
      "Requirement already satisfied: mpmath>=0.19 in d:\\programs\\anaconda3\\lib\\site-packages (from sympy->torch>=1.11.0->sentence-transformers) (1.3.0)\n"
     ]
    },
    {
     "name": "stderr",
     "output_type": "stream",
     "text": [
      "WARNING: Ignoring invalid distribution ~andas (D:\\Programs\\Anaconda3\\Lib\\site-packages)\n",
      "WARNING: Ignoring invalid distribution ~andas (D:\\Programs\\Anaconda3\\Lib\\site-packages)\n",
      "WARNING: Ignoring invalid distribution ~andas (D:\\Programs\\Anaconda3\\Lib\\site-packages)\n"
     ]
    },
    {
     "name": "stdout",
     "output_type": "stream",
     "text": [
      "Requirement already satisfied: shap in d:\\programs\\anaconda3\\lib\\site-packages (0.46.0)\n",
      "Requirement already satisfied: numpy in d:\\programs\\anaconda3\\lib\\site-packages (from shap) (1.26.0)\n",
      "Requirement already satisfied: scipy in d:\\programs\\anaconda3\\lib\\site-packages (from shap) (1.12.0)\n",
      "Requirement already satisfied: scikit-learn in d:\\programs\\anaconda3\\lib\\site-packages (from shap) (1.5.2)\n",
      "Requirement already satisfied: pandas in d:\\programs\\anaconda3\\lib\\site-packages (from shap) (2.2.3)\n",
      "Requirement already satisfied: tqdm>=4.27.0 in d:\\programs\\anaconda3\\lib\\site-packages (from shap) (4.66.2)\n",
      "Requirement already satisfied: packaging>20.9 in d:\\programs\\anaconda3\\lib\\site-packages (from shap) (23.2)\n",
      "Requirement already satisfied: slicer==0.0.8 in d:\\programs\\anaconda3\\lib\\site-packages (from shap) (0.0.8)\n",
      "Requirement already satisfied: numba in d:\\programs\\anaconda3\\lib\\site-packages (from shap) (0.59.0)\n",
      "Requirement already satisfied: cloudpickle in d:\\programs\\anaconda3\\lib\\site-packages (from shap) (3.0.0)\n",
      "Requirement already satisfied: colorama in d:\\programs\\anaconda3\\lib\\site-packages (from tqdm>=4.27.0->shap) (0.4.6)\n",
      "Requirement already satisfied: llvmlite<0.43,>=0.42.0dev0 in d:\\programs\\anaconda3\\lib\\site-packages (from numba->shap) (0.42.0)\n",
      "Requirement already satisfied: python-dateutil>=2.8.2 in d:\\programs\\anaconda3\\lib\\site-packages (from pandas->shap) (2.8.2)\n",
      "Requirement already satisfied: pytz>=2020.1 in d:\\programs\\anaconda3\\lib\\site-packages (from pandas->shap) (2024.1)\n",
      "Requirement already satisfied: tzdata>=2022.7 in d:\\programs\\anaconda3\\lib\\site-packages (from pandas->shap) (2024.1)\n",
      "Requirement already satisfied: joblib>=1.2.0 in d:\\programs\\anaconda3\\lib\\site-packages (from scikit-learn->shap) (1.4.2)\n",
      "Requirement already satisfied: threadpoolctl>=3.1.0 in d:\\programs\\anaconda3\\lib\\site-packages (from scikit-learn->shap) (3.3.0)\n",
      "Requirement already satisfied: six>=1.5 in d:\\programs\\anaconda3\\lib\\site-packages (from python-dateutil>=2.8.2->pandas->shap) (1.16.0)\n"
     ]
    },
    {
     "name": "stderr",
     "output_type": "stream",
     "text": [
      "WARNING: Ignoring invalid distribution ~andas (D:\\Programs\\Anaconda3\\Lib\\site-packages)\n",
      "WARNING: Ignoring invalid distribution ~andas (D:\\Programs\\Anaconda3\\Lib\\site-packages)\n",
      "WARNING: Ignoring invalid distribution ~andas (D:\\Programs\\Anaconda3\\Lib\\site-packages)\n"
     ]
    }
   ],
   "source": [
    "\n",
    "# Instalar bibliotecas necesarias (descomentar si no están instaladas)\n",
    "!pip install sentence-transformers transformers scikit-learn\n",
    "!pip install shap\n"
   ]
  },
  {
   "cell_type": "markdown",
   "id": "06056568",
   "metadata": {},
   "source": [
    "## 🌀 Paso 1: Introducción a los LLM"
   ]
  },
  {
   "cell_type": "markdown",
   "id": "2b3453af",
   "metadata": {},
   "source": [
    "\n",
    "Los Modelos de Lenguaje Grandes (LLM) son redes neuronales entrenadas en enormes cantidades de texto para predecir palabras o generar texto.  \n",
    "Por ejemplo, dada una oración como *\"El gato está en el\"*, el modelo puede predecir *\"tejado\"* basándose en patrones aprendidos.\n",
    "\n",
    "Los LLM utilizan:\n",
    "- **Representaciones vectoriales**: Cada palabra/frase se convierte en un vector en un espacio multidimensional.\n",
    "- **Mecanismo de atención**: Ayuda al modelo a centrarse en partes relevantes del texto.\n",
    "\n",
    "A continuación, exploraremos cómo integrar un LLM con bases de datos para mejorar las respuestas usando RAG.\n"
   ]
  },
  {
   "cell_type": "markdown",
   "id": "05f11dc9",
   "metadata": {},
   "source": [
    "## 📂 Paso 2: Crear una base de datos ficticia"
   ]
  },
  {
   "cell_type": "code",
   "execution_count": 16,
   "id": "6d7ce7c2",
   "metadata": {},
   "outputs": [
    {
     "name": "stdout",
     "output_type": "stream",
     "text": [
      "Documento 1: La cúrcuma tiene propiedades antiinflamatorias.\n",
      "Documento 2: Se ha demostrado que la cúrcuma ayuda a la digestión.\n",
      "Documento 3: La cúrcuma contiene curcumina, un antioxidante.\n"
     ]
    }
   ],
   "source": [
    "\n",
    "# Base de datos simulada\n",
    "documents = [\n",
    "    \"La cúrcuma tiene propiedades antiinflamatorias.\",\n",
    "    \"Se ha demostrado que la cúrcuma ayuda a la digestión.\",\n",
    "    \"La cúrcuma contiene curcumina, un antioxidante.\"\n",
    "]\n",
    "\n",
    "# Mostrar los documentos\n",
    "for i, doc in enumerate(documents, 1):\n",
    "    print(f\"Documento {i}: {doc}\")\n"
   ]
  },
  {
   "cell_type": "markdown",
   "id": "495f15a6",
   "metadata": {},
   "source": [
    "## 🔢 Paso 3: Transformar documentos en vectores"
   ]
  },
  {
   "cell_type": "code",
   "execution_count": 18,
   "id": "12588455",
   "metadata": {},
   "outputs": [
    {
     "name": "stdout",
     "output_type": "stream",
     "text": [
      "Vectores generados para los documentos (dimensiones): (3, 384)\n"
     ]
    }
   ],
   "source": [
    "import numpy as np\n",
    "import shap\n",
    "import matplotlib.pyplot as plt\n",
    "from sklearn.metrics.pairwise import cosine_similarity\n",
    "from sentence_transformers import SentenceTransformer\n",
    "\n",
    "# Modelo para embeddings\n",
    "model = SentenceTransformer('all-MiniLM-L6-v2')\n",
    "\n",
    "# Generar vectores para los documentos\n",
    "document_vectors = model.encode(documents)\n",
    "\n",
    "print(\"Vectores generados para los documentos (dimensiones):\", document_vectors.shape)\n"
   ]
  },
  {
   "cell_type": "markdown",
   "id": "6dcb66bc",
   "metadata": {},
   "source": [
    "## 📝 Paso 4: Procesar la consulta del usuario"
   ]
  },
  {
   "cell_type": "code",
   "execution_count": 37,
   "id": "72a775d2",
   "metadata": {},
   "outputs": [
    {
     "name": "stdout",
     "output_type": "stream",
     "text": [
      "Vector de la consulta generado: [ 0.03837643  0.01184166 -0.06359773  0.01685266 -0.04091966] ...\n"
     ]
    }
   ],
   "source": [
    "\n",
    "# Consulta del usuario\n",
    "query = \"¿Cómo ayuda la cúrcuma a la salud?\"\n",
    "\n",
    "# Transformar la consulta en un vector\n",
    "query_vector = model.encode(query)\n",
    "print(\"Vector de la consulta generado:\", query_vector[:5], \"...\")\n"
   ]
  },
  {
   "cell_type": "code",
   "execution_count": 42,
   "id": "484de4ee",
   "metadata": {},
   "outputs": [
    {
     "name": "stderr",
     "output_type": "stream",
     "text": [
      "No model was supplied, defaulted to distilbert/distilbert-base-uncased-finetuned-sst-2-english and revision 714eb0f (https://huggingface.co/distilbert/distilbert-base-uncased-finetuned-sst-2-english).\n",
      "Using a pipeline without specifying a model name and revision in production is not recommended.\n"
     ]
    },
    {
     "data": {
      "application/vnd.jupyter.widget-view+json": {
       "model_id": "77930114181940a99f6da30728cbaaa0",
       "version_major": 2,
       "version_minor": 0
      },
      "text/plain": [
       "config.json:   0%|          | 0.00/629 [00:00<?, ?B/s]"
      ]
     },
     "metadata": {},
     "output_type": "display_data"
    },
    {
     "name": "stderr",
     "output_type": "stream",
     "text": [
      "d:\\Programs\\Anaconda3\\Lib\\site-packages\\huggingface_hub\\file_download.py:147: UserWarning: `huggingface_hub` cache-system uses symlinks by default to efficiently store duplicated files but your machine does not support them in C:\\Users\\frany\\.cache\\huggingface\\hub\\models--distilbert--distilbert-base-uncased-finetuned-sst-2-english. Caching files will still work but in a degraded version that might require more space on your disk. This warning can be disabled by setting the `HF_HUB_DISABLE_SYMLINKS_WARNING` environment variable. For more details, see https://huggingface.co/docs/huggingface_hub/how-to-cache#limitations.\n",
      "To support symlinks on Windows, you either need to activate Developer Mode or to run Python as an administrator. In order to activate developer mode, see this article: https://docs.microsoft.com/en-us/windows/apps/get-started/enable-your-device-for-development\n",
      "  warnings.warn(message)\n"
     ]
    },
    {
     "data": {
      "application/vnd.jupyter.widget-view+json": {
       "model_id": "0b8b11ff15904433964eab5c46efb974",
       "version_major": 2,
       "version_minor": 0
      },
      "text/plain": [
       "model.safetensors:   0%|          | 0.00/268M [00:00<?, ?B/s]"
      ]
     },
     "metadata": {},
     "output_type": "display_data"
    },
    {
     "data": {
      "application/vnd.jupyter.widget-view+json": {
       "model_id": "f645a4e1f7d341b3a7829858aeb57b0c",
       "version_major": 2,
       "version_minor": 0
      },
      "text/plain": [
       "tokenizer_config.json:   0%|          | 0.00/48.0 [00:00<?, ?B/s]"
      ]
     },
     "metadata": {},
     "output_type": "display_data"
    },
    {
     "data": {
      "application/vnd.jupyter.widget-view+json": {
       "model_id": "66888cbfd6fb48459e369b7c1e4dfab6",
       "version_major": 2,
       "version_minor": 0
      },
      "text/plain": [
       "vocab.txt:   0%|          | 0.00/232k [00:00<?, ?B/s]"
      ]
     },
     "metadata": {},
     "output_type": "display_data"
    },
    {
     "name": "stderr",
     "output_type": "stream",
     "text": [
      "d:\\Programs\\Anaconda3\\Lib\\site-packages\\transformers\\pipelines\\text_classification.py:104: UserWarning: `return_all_scores` is now deprecated,  if want a similar functionality use `top_k=None` instead of `return_all_scores=True` or `top_k=1` instead of `return_all_scores=False`.\n",
      "  warnings.warn(\n"
     ]
    },
    {
     "data": {
      "application/vnd.jupyter.widget-view+json": {
       "model_id": "56002e18608e4a5788eee3c0d623fbac",
       "version_major": 2,
       "version_minor": 0
      },
      "text/plain": [
       "  0%|          | 0/240 [00:00<?, ?it/s]"
      ]
     },
     "metadata": {},
     "output_type": "display_data"
    },
    {
     "name": "stderr",
     "output_type": "stream",
     "text": [
      "PartitionExplainer explainer: 2it [00:22, 22.99s/it]               \n"
     ]
    },
    {
     "data": {
      "text/html": [
       "<svg width=\"100%\" height=\"80px\"><line x1=\"0\" y1=\"33\" x2=\"100%\" y2=\"33\" style=\"stroke:rgb(150,150,150);stroke-width:1\" /><line x1=\"49.568907139587715%\" y1=\"33\" x2=\"49.568907139587715%\" y2=\"37\" style=\"stroke:rgb(150,150,150);stroke-width:1\" /><text x=\"49.568907139587715%\" y=\"27\" font-size=\"12px\" fill=\"rgb(120,120,120)\" dominant-baseline=\"bottom\" text-anchor=\"middle\">0.7</text><line x1=\"33.58358822400811%\" y1=\"33\" x2=\"33.58358822400811%\" y2=\"37\" style=\"stroke:rgb(150,150,150);stroke-width:1\" /><text x=\"33.58358822400811%\" y=\"27\" font-size=\"12px\" fill=\"rgb(120,120,120)\" dominant-baseline=\"bottom\" text-anchor=\"middle\">0.4</text><line x1=\"17.598269308428517%\" y1=\"33\" x2=\"17.598269308428517%\" y2=\"37\" style=\"stroke:rgb(150,150,150);stroke-width:1\" /><text x=\"17.598269308428517%\" y=\"27\" font-size=\"12px\" fill=\"rgb(120,120,120)\" dominant-baseline=\"bottom\" text-anchor=\"middle\">0.1</text><line x1=\"65.55422605516732%\" y1=\"33\" x2=\"65.55422605516732%\" y2=\"37\" style=\"stroke:rgb(150,150,150);stroke-width:1\" /><text x=\"65.55422605516732%\" y=\"27\" font-size=\"12px\" fill=\"rgb(120,120,120)\" dominant-baseline=\"bottom\" text-anchor=\"middle\">1</text><line x1=\"81.53954497074692%\" y1=\"33\" x2=\"81.53954497074692%\" y2=\"37\" style=\"stroke:rgb(150,150,150);stroke-width:1\" /><text x=\"81.53954497074692%\" y=\"27\" font-size=\"12px\" fill=\"rgb(120,120,120)\" dominant-baseline=\"bottom\" text-anchor=\"middle\">1.3</text><line x1=\"34.45362447785474%\" y1=\"33\" x2=\"34.45362447785474%\" y2=\"37\" style=\"stroke:rgb(150,150,150);stroke-width:1\" /><text x=\"34.45362447785474%\" y=\"27\" font-size=\"13px\" style=\"stroke:#ffffff;stroke-width:8px;\" fill=\"rgb(255,255,255)\" dominant-baseline=\"bottom\" text-anchor=\"middle\">0.416328</text><text x=\"34.45362447785474%\" y=\"27\" font-size=\"12px\" fill=\"rgb(120,120,120)\" dominant-baseline=\"bottom\" text-anchor=\"middle\">0.416328</text><text x=\"34.45362447785474%\" y=\"10\" font-size=\"12px\" fill=\"rgb(120,120,120)\" dominant-baseline=\"bottom\" text-anchor=\"middle\">base value</text><line x1=\"65.5463749893013%\" y1=\"33\" x2=\"65.5463749893013%\" y2=\"37\" style=\"stroke:rgb(150,150,150);stroke-width:1\" /><text x=\"65.5463749893013%\" y=\"27\" font-size=\"13px\" style=\"stroke:#ffffff;stroke-width:8px;\" font-weight=\"bold\" fill=\"rgb(255,255,255)\" dominant-baseline=\"bottom\" text-anchor=\"middle\">0.999853</text><text x=\"65.5463749893013%\" y=\"27\" font-size=\"13px\" font-weight=\"bold\" fill=\"rgb(0,0,0)\" dominant-baseline=\"bottom\" text-anchor=\"middle\">0.999853</text><text x=\"65.5463749893013%\" y=\"10\" font-size=\"12px\" fill=\"rgb(120,120,120)\" dominant-baseline=\"bottom\" text-anchor=\"middle\">f<tspan baseline-shift=\"sub\" font-size=\"8px\">POSITIVE</tspan>(inputs)</text><rect x=\"8.333333288929671%\" width=\"57.213041700371626%\" y=\"40\" height=\"18\" style=\"fill:rgb(255.0, 0.0, 81.08083606031792); stroke-width:0; stroke:rgb(0,0,0)\" /><line x1=\"26.109415140636273%\" x2=\"65.5463749893013%\" y1=\"60\" y2=\"60\" id=\"_fb_fwzowtttutkebzgxizqc_ind_3\" style=\"stroke:rgb(255.0, 0.0, 81.08083606031792);stroke-width:2; opacity: 0\"/><text x=\"45.827895064968786%\" y=\"71\" font-size=\"12px\" id=\"_fs_fwzowtttutkebzgxizqc_ind_3\" fill=\"rgb(255.0, 0.0, 81.08083606031792)\" style=\"opacity: 0\" dominant-baseline=\"middle\" text-anchor=\"middle\">0.74</text><svg x=\"26.109415140636273%\" y=\"40\" height=\"20\" width=\"39.436959848665026%\">  <svg x=\"0\" y=\"0\" width=\"100%\" height=\"100%\">    <text x=\"50%\" y=\"9\" font-size=\"12px\" fill=\"rgb(255,255,255)\" dominant-baseline=\"middle\" text-anchor=\"middle\">great</text>  </svg></svg><line x1=\"19.669865633632597%\" x2=\"26.109415140636273%\" y1=\"60\" y2=\"60\" id=\"_fb_fwzowtttutkebzgxizqc_ind_2\" style=\"stroke:rgb(255.0, 0.0, 81.08083606031792);stroke-width:2; opacity: 0\"/><text x=\"22.889640387134435%\" y=\"71\" font-size=\"12px\" id=\"_fs_fwzowtttutkebzgxizqc_ind_2\" fill=\"rgb(255.0, 0.0, 81.08083606031792)\" style=\"opacity: 0\" dominant-baseline=\"middle\" text-anchor=\"middle\">0.121</text><svg x=\"19.669865633632597%\" y=\"40\" height=\"20\" width=\"6.439549507003676%\">  <svg x=\"0\" y=\"0\" width=\"100%\" height=\"100%\">    <text x=\"50%\" y=\"9\" font-size=\"12px\" fill=\"rgb(255,255,255)\" dominant-baseline=\"middle\" text-anchor=\"middle\">a</text>  </svg></svg><line x1=\"13.292386392119685%\" x2=\"19.669865633632597%\" y1=\"60\" y2=\"60\" id=\"_fb_fwzowtttutkebzgxizqc_ind_10\" style=\"stroke:rgb(255.0, 0.0, 81.08083606031792);stroke-width:2; opacity: 0\"/><text x=\"16.48112601287614%\" y=\"71\" font-size=\"12px\" id=\"_fs_fwzowtttutkebzgxizqc_ind_10\" fill=\"rgb(255.0, 0.0, 81.08083606031792)\" style=\"opacity: 0\" dominant-baseline=\"middle\" text-anchor=\"middle\">0.12</text><svg x=\"13.292386392119685%\" y=\"40\" height=\"20\" width=\"6.377479241512912%\">  <svg x=\"0\" y=\"0\" width=\"100%\" height=\"100%\">    <text x=\"50%\" y=\"9\" font-size=\"12px\" fill=\"rgb(255,255,255)\" dominant-baseline=\"middle\" text-anchor=\"middle\">you</text>  </svg></svg><line x1=\"9.346846994517549%\" x2=\"13.292386392119685%\" y1=\"60\" y2=\"60\" id=\"_fb_fwzowtttutkebzgxizqc_ind_9\" style=\"stroke:rgb(255.0, 0.0, 81.08083606031792);stroke-width:2; opacity: 0\"/><text x=\"11.319616693318617%\" y=\"71\" font-size=\"12px\" id=\"_fs_fwzowtttutkebzgxizqc_ind_9\" fill=\"rgb(255.0, 0.0, 81.08083606031792)\" style=\"opacity: 0\" dominant-baseline=\"middle\" text-anchor=\"middle\">0.074</text><svg x=\"9.346846994517549%\" y=\"40\" height=\"20\" width=\"3.9455393976021362%\">  <svg x=\"0\" y=\"0\" width=\"100%\" height=\"100%\">    <text x=\"50%\" y=\"9\" font-size=\"12px\" fill=\"rgb(255,255,255)\" dominant-baseline=\"middle\" text-anchor=\"middle\">if</text>  </svg></svg><line x1=\"8.839899189670527%\" x2=\"9.346846994517549%\" y1=\"60\" y2=\"60\" id=\"_fb_fwzowtttutkebzgxizqc_ind_4\" style=\"stroke:rgb(255.0, 0.0, 81.08083606031792);stroke-width:2; opacity: 0\"/><text x=\"9.093373092094037%\" y=\"71\" font-size=\"12px\" id=\"_fs_fwzowtttutkebzgxizqc_ind_4\" fill=\"rgb(255.0, 0.0, 81.08083606031792)\" style=\"opacity: 0\" dominant-baseline=\"middle\" text-anchor=\"middle\">0.01</text><svg x=\"8.839899189670527%\" y=\"40\" height=\"20\" width=\"0.5069478048470213%\">  <svg x=\"0\" y=\"0\" width=\"100%\" height=\"100%\">    <text x=\"50%\" y=\"9\" font-size=\"12px\" fill=\"rgb(255,255,255)\" dominant-baseline=\"middle\" text-anchor=\"middle\">movie</text>  </svg></svg><line x1=\"8.333333288929671%\" x2=\"8.839899189670527%\" y1=\"60\" y2=\"60\" id=\"_fb_fwzowtttutkebzgxizqc_ind_11\" style=\"stroke:rgb(255.0, 0.0, 81.08083606031792);stroke-width:2; opacity: 0\"/><text x=\"8.586616239300099%\" y=\"71\" font-size=\"12px\" id=\"_fs_fwzowtttutkebzgxizqc_ind_11\" fill=\"rgb(255.0, 0.0, 81.08083606031792)\" style=\"opacity: 0\" dominant-baseline=\"middle\" text-anchor=\"middle\">0.01</text><svg x=\"8.333333288929671%\" y=\"40\" height=\"20\" width=\"0.5065659007408563%\">  <svg x=\"0\" y=\"0\" width=\"100%\" height=\"100%\">    <text x=\"50%\" y=\"9\" font-size=\"12px\" fill=\"rgb(255,255,255)\" dominant-baseline=\"middle\" text-anchor=\"middle\">have</text>  </svg></svg><g transform=\"translate(0,0)\">  <svg x=\"26.109415140636273%\" y=\"40\" height=\"18\" overflow=\"visible\" width=\"30\">    <path d=\"M 0 -9 l 6 18 L 0 25\" fill=\"none\" style=\"stroke:rgb(255.0, 0.0, 81.08083606031792);stroke-width:2\" />  </svg></g><g transform=\"translate(2,0)\">  <svg x=\"26.109415140636273%\" y=\"40\" height=\"18\" overflow=\"visible\" width=\"30\">    <path d=\"M 0 -9 l 6 18 L 0 25\" fill=\"none\" style=\"stroke:rgb(255.0, 0.0, 81.08083606031792);stroke-width:2\" />  </svg></g><g transform=\"translate(4,0)\">  <svg x=\"26.109415140636273%\" y=\"40\" height=\"18\" overflow=\"visible\" width=\"30\">    <path d=\"M 0 -9 l 6 18 L 0 25\" fill=\"none\" style=\"stroke:rgb(255.0, 0.0, 81.08083606031792);stroke-width:2\" />  </svg></g><g transform=\"translate(6,0)\">  <svg x=\"26.109415140636273%\" y=\"40\" height=\"18\" overflow=\"visible\" width=\"30\">    <path d=\"M 0 -9 l 6 18 L 0 25\" fill=\"none\" style=\"stroke:rgb(255.0, 0.0, 81.08083606031792);stroke-width:2\" />  </svg></g><g transform=\"translate(-8,0)\">  <svg x=\"26.109415140636273%\" y=\"40\" height=\"18\" overflow=\"visible\" width=\"30\">    <path d=\"M 0 -9 l 6 18 L 0 25\" fill=\"none\" style=\"stroke:rgb(255.0, 0.0, 81.08083606031792);stroke-width:2\" />  </svg></g><g transform=\"translate(-6,0)\">  <svg x=\"26.109415140636273%\" y=\"40\" height=\"18\" overflow=\"visible\" width=\"30\">    <path d=\"M 0 -9 l 6 18 L 0 25\" fill=\"none\" style=\"stroke:rgb(255.0, 0.0, 81.08083606031792);stroke-width:2\" />  </svg></g><g transform=\"translate(-4,0)\">  <svg x=\"26.109415140636273%\" y=\"40\" height=\"18\" overflow=\"visible\" width=\"30\">    <path d=\"M 0 -9 l 6 18 L 0 25\" fill=\"none\" style=\"stroke:rgb(255.0, 0.0, 81.08083606031792);stroke-width:2\" />  </svg></g><g transform=\"translate(-2,0)\">  <svg x=\"26.109415140636273%\" y=\"40\" height=\"18\" overflow=\"visible\" width=\"30\">    <path d=\"M 0 -9 l 6 18 L 0 25\" fill=\"none\" style=\"stroke:rgb(255.0, 0.0, 81.08083606031792);stroke-width:2\" />  </svg></g><g transform=\"translate(0,0)\">  <svg x=\"19.669865633632597%\" y=\"40\" height=\"18\" overflow=\"visible\" width=\"30\">    <path d=\"M 0 -9 l 6 18 L 0 25\" fill=\"none\" style=\"stroke:rgb(255.0, 0.0, 81.08083606031792);stroke-width:2\" />  </svg></g><g transform=\"translate(2,0)\">  <svg x=\"19.669865633632597%\" y=\"40\" height=\"18\" overflow=\"visible\" width=\"30\">    <path d=\"M 0 -9 l 6 18 L 0 25\" fill=\"none\" style=\"stroke:rgb(255.0, 0.0, 81.08083606031792);stroke-width:2\" />  </svg></g><g transform=\"translate(4,0)\">  <svg x=\"19.669865633632597%\" y=\"40\" height=\"18\" overflow=\"visible\" width=\"30\">    <path d=\"M 0 -9 l 6 18 L 0 25\" fill=\"none\" style=\"stroke:rgb(255.0, 0.0, 81.08083606031792);stroke-width:2\" />  </svg></g><g transform=\"translate(6,0)\">  <svg x=\"19.669865633632597%\" y=\"40\" height=\"18\" overflow=\"visible\" width=\"30\">    <path d=\"M 0 -9 l 6 18 L 0 25\" fill=\"none\" style=\"stroke:rgb(255.0, 0.0, 81.08083606031792);stroke-width:2\" />  </svg></g><g transform=\"translate(-8,0)\">  <svg x=\"19.669865633632597%\" y=\"40\" height=\"18\" overflow=\"visible\" width=\"30\">    <path d=\"M 0 -9 l 6 18 L 0 25\" fill=\"none\" style=\"stroke:rgb(255.0, 0.0, 81.08083606031792);stroke-width:2\" />  </svg></g><g transform=\"translate(-6,0)\">  <svg x=\"19.669865633632597%\" y=\"40\" height=\"18\" overflow=\"visible\" width=\"30\">    <path d=\"M 0 -9 l 6 18 L 0 25\" fill=\"none\" style=\"stroke:rgb(255.0, 0.0, 81.08083606031792);stroke-width:2\" />  </svg></g><g transform=\"translate(-4,0)\">  <svg x=\"19.669865633632597%\" y=\"40\" height=\"18\" overflow=\"visible\" width=\"30\">    <path d=\"M 0 -9 l 6 18 L 0 25\" fill=\"none\" style=\"stroke:rgb(255.0, 0.0, 81.08083606031792);stroke-width:2\" />  </svg></g><g transform=\"translate(-2,0)\">  <svg x=\"19.669865633632597%\" y=\"40\" height=\"18\" overflow=\"visible\" width=\"30\">    <path d=\"M 0 -9 l 6 18 L 0 25\" fill=\"none\" style=\"stroke:rgb(255.0, 0.0, 81.08083606031792);stroke-width:2\" />  </svg></g><g transform=\"translate(0,0)\">  <svg x=\"13.292386392119685%\" y=\"40\" height=\"18\" overflow=\"visible\" width=\"30\">    <path d=\"M 0 -9 l 6 18 L 0 25\" fill=\"none\" style=\"stroke:rgb(255.0, 0.0, 81.08083606031792);stroke-width:2\" />  </svg></g><g transform=\"translate(2,0)\">  <svg x=\"13.292386392119685%\" y=\"40\" height=\"18\" overflow=\"visible\" width=\"30\">    <path d=\"M 0 -9 l 6 18 L 0 25\" fill=\"none\" style=\"stroke:rgb(255.0, 0.0, 81.08083606031792);stroke-width:2\" />  </svg></g><g transform=\"translate(4,0)\">  <svg x=\"13.292386392119685%\" y=\"40\" height=\"18\" overflow=\"visible\" width=\"30\">    <path d=\"M 0 -9 l 6 18 L 0 25\" fill=\"none\" style=\"stroke:rgb(255.0, 0.0, 81.08083606031792);stroke-width:2\" />  </svg></g><g transform=\"translate(6,0)\">  <svg x=\"13.292386392119685%\" y=\"40\" height=\"18\" overflow=\"visible\" width=\"30\">    <path d=\"M 0 -9 l 6 18 L 0 25\" fill=\"none\" style=\"stroke:rgb(255.0, 0.0, 81.08083606031792);stroke-width:2\" />  </svg></g><g transform=\"translate(-8,0)\">  <svg x=\"13.292386392119685%\" y=\"40\" height=\"18\" overflow=\"visible\" width=\"30\">    <path d=\"M 0 -9 l 6 18 L 0 25\" fill=\"none\" style=\"stroke:rgb(255.0, 0.0, 81.08083606031792);stroke-width:2\" />  </svg></g><g transform=\"translate(-6,0)\">  <svg x=\"13.292386392119685%\" y=\"40\" height=\"18\" overflow=\"visible\" width=\"30\">    <path d=\"M 0 -9 l 6 18 L 0 25\" fill=\"none\" style=\"stroke:rgb(255.0, 0.0, 81.08083606031792);stroke-width:2\" />  </svg></g><g transform=\"translate(-4,0)\">  <svg x=\"13.292386392119685%\" y=\"40\" height=\"18\" overflow=\"visible\" width=\"30\">    <path d=\"M 0 -9 l 6 18 L 0 25\" fill=\"none\" style=\"stroke:rgb(255.0, 0.0, 81.08083606031792);stroke-width:2\" />  </svg></g><g transform=\"translate(-2,0)\">  <svg x=\"13.292386392119685%\" y=\"40\" height=\"18\" overflow=\"visible\" width=\"30\">    <path d=\"M 0 -9 l 6 18 L 0 25\" fill=\"none\" style=\"stroke:rgb(255.0, 0.0, 81.08083606031792);stroke-width:2\" />  </svg></g><g transform=\"translate(0,0)\">  <svg x=\"9.346846994517549%\" y=\"40\" height=\"18\" overflow=\"visible\" width=\"30\">    <path d=\"M 0 -9 l 6 18 L 0 25\" fill=\"none\" style=\"stroke:rgb(255.0, 0.0, 81.08083606031792);stroke-width:2\" />  </svg></g><g transform=\"translate(2,0)\">  <svg x=\"9.346846994517549%\" y=\"40\" height=\"18\" overflow=\"visible\" width=\"30\">    <path d=\"M 0 -9 l 6 18 L 0 25\" fill=\"none\" style=\"stroke:rgb(255.0, 0.0, 81.08083606031792);stroke-width:2\" />  </svg></g><g transform=\"translate(4,0)\">  <svg x=\"9.346846994517549%\" y=\"40\" height=\"18\" overflow=\"visible\" width=\"30\">    <path d=\"M 0 -9 l 6 18 L 0 25\" fill=\"none\" style=\"stroke:rgb(255.0, 0.0, 81.08083606031792);stroke-width:2\" />  </svg></g><g transform=\"translate(6,0)\">  <svg x=\"9.346846994517549%\" y=\"40\" height=\"18\" overflow=\"visible\" width=\"30\">    <path d=\"M 0 -9 l 6 18 L 0 25\" fill=\"none\" style=\"stroke:rgb(255.0, 0.0, 81.08083606031792);stroke-width:2\" />  </svg></g><g transform=\"translate(-8,0)\">  <svg x=\"9.346846994517549%\" y=\"40\" height=\"18\" overflow=\"visible\" width=\"30\">    <path d=\"M 0 -9 l 6 18 L 0 25\" fill=\"none\" style=\"stroke:rgb(255.0, 0.0, 81.08083606031792);stroke-width:2\" />  </svg></g><g transform=\"translate(-6,0)\">  <svg x=\"9.346846994517549%\" y=\"40\" height=\"18\" overflow=\"visible\" width=\"30\">    <path d=\"M 0 -9 l 6 18 L 0 25\" fill=\"none\" style=\"stroke:rgb(255.0, 0.0, 81.08083606031792);stroke-width:2\" />  </svg></g><g transform=\"translate(-4,0)\">  <svg x=\"9.346846994517549%\" y=\"40\" height=\"18\" overflow=\"visible\" width=\"30\">    <path d=\"M 0 -9 l 6 18 L 0 25\" fill=\"none\" style=\"stroke:rgb(255.0, 0.0, 81.08083606031792);stroke-width:2\" />  </svg></g><g transform=\"translate(-2,0)\">  <svg x=\"9.346846994517549%\" y=\"40\" height=\"18\" overflow=\"visible\" width=\"30\">    <path d=\"M 0 -9 l 6 18 L 0 25\" fill=\"none\" style=\"stroke:rgb(255.0, 0.0, 81.08083606031792);stroke-width:2\" />  </svg></g><g transform=\"translate(0,0)\">  <svg x=\"8.839899189670527%\" y=\"40\" height=\"18\" overflow=\"visible\" width=\"30\">    <path d=\"M 0 -9 l 6 18 L 0 25\" fill=\"none\" style=\"stroke:rgb(255.0, 0.0, 81.08083606031792);stroke-width:2\" />  </svg></g><g transform=\"translate(2,0)\">  <svg x=\"8.839899189670527%\" y=\"40\" height=\"18\" overflow=\"visible\" width=\"30\">    <path d=\"M 0 -9 l 6 18 L 0 25\" fill=\"none\" style=\"stroke:rgb(255.0, 0.0, 81.08083606031792);stroke-width:2\" />  </svg></g><g transform=\"translate(4,0)\">  <svg x=\"8.839899189670527%\" y=\"40\" height=\"18\" overflow=\"visible\" width=\"30\">    <path d=\"M 0 -9 l 6 18 L 0 25\" fill=\"none\" style=\"stroke:rgb(255.0, 0.0, 81.08083606031792);stroke-width:2\" />  </svg></g><g transform=\"translate(6,0)\">  <svg x=\"8.839899189670527%\" y=\"40\" height=\"18\" overflow=\"visible\" width=\"30\">    <path d=\"M 0 -9 l 6 18 L 0 25\" fill=\"none\" style=\"stroke:rgb(255.0, 0.0, 81.08083606031792);stroke-width:2\" />  </svg></g><g transform=\"translate(-8,0)\">  <svg x=\"8.839899189670527%\" y=\"40\" height=\"18\" overflow=\"visible\" width=\"30\">    <path d=\"M 0 -9 l 6 18 L 0 25\" fill=\"none\" style=\"stroke:rgb(255.0, 0.0, 81.08083606031792);stroke-width:2\" />  </svg></g><g transform=\"translate(-6,0)\">  <svg x=\"8.839899189670527%\" y=\"40\" height=\"18\" overflow=\"visible\" width=\"30\">    <path d=\"M 0 -9 l 6 18 L 0 25\" fill=\"none\" style=\"stroke:rgb(255.0, 0.0, 81.08083606031792);stroke-width:2\" />  </svg></g><g transform=\"translate(-4,0)\">  <svg x=\"8.839899189670527%\" y=\"40\" height=\"18\" overflow=\"visible\" width=\"30\">    <path d=\"M 0 -9 l 6 18 L 0 25\" fill=\"none\" style=\"stroke:rgb(255.0, 0.0, 81.08083606031792);stroke-width:2\" />  </svg></g><g transform=\"translate(-2,0)\">  <svg x=\"8.839899189670527%\" y=\"40\" height=\"18\" overflow=\"visible\" width=\"30\">    <path d=\"M 0 -9 l 6 18 L 0 25\" fill=\"none\" style=\"stroke:rgb(255.0, 0.0, 81.08083606031792);stroke-width:2\" />  </svg></g><rect transform=\"translate(-8,0)\" x=\"65.5463749893013%\" y=\"40\" width=\"8\" height=\"18\" style=\"fill:rgb(255.0, 0.0, 81.08083606031792)\"/><g transform=\"translate(-11.5,0)\">  <svg x=\"8.333333288929671%\" y=\"40\" height=\"18\" overflow=\"visible\" width=\"30\">    <path d=\"M 10 -9 l 6 18 L 10 25 L 0 25 L 0 -9\" fill=\"#ffffff\" style=\"stroke:rgb(255,255,255);stroke-width:2\" />  </svg></g><g transform=\"translate(-1.5,0)\">  <svg x=\"65.5463749893013%\" y=\"40\" height=\"18\" overflow=\"visible\" width=\"30\">    <path d=\"M 0 -9 l 6 18 L 0 25\" fill=\"none\" style=\"stroke:rgb(255, 195, 213);stroke-width:2\" />  </svg></g><rect x=\"26.109415140636273%\" y=\"40\" height=\"20\" width=\"39.436959848665026%\"      onmouseover=\"document.getElementById('_tp_fwzowtttutkebzgxizqc_ind_3').style.textDecoration = 'underline';document.getElementById('_fs_fwzowtttutkebzgxizqc_ind_3').style.opacity = 1;document.getElementById('_fb_fwzowtttutkebzgxizqc_ind_3').style.opacity = 1;\"      onmouseout=\"document.getElementById('_tp_fwzowtttutkebzgxizqc_ind_3').style.textDecoration = 'none';document.getElementById('_fs_fwzowtttutkebzgxizqc_ind_3').style.opacity = 0;document.getElementById('_fb_fwzowtttutkebzgxizqc_ind_3').style.opacity = 0;\" style=\"fill:rgb(0,0,0,0)\" /><g transform=\"translate(-1.5,0)\">  <svg x=\"26.109415140636273%\" y=\"40\" height=\"18\" overflow=\"visible\" width=\"30\">    <path d=\"M 0 -9 l 6 18 L 0 25\" fill=\"none\" style=\"stroke:rgb(255, 195, 213);stroke-width:2\" />  </svg></g><rect x=\"19.669865633632597%\" y=\"40\" height=\"20\" width=\"6.439549507003676%\"      onmouseover=\"document.getElementById('_tp_fwzowtttutkebzgxizqc_ind_2').style.textDecoration = 'underline';document.getElementById('_fs_fwzowtttutkebzgxizqc_ind_2').style.opacity = 1;document.getElementById('_fb_fwzowtttutkebzgxizqc_ind_2').style.opacity = 1;\"      onmouseout=\"document.getElementById('_tp_fwzowtttutkebzgxizqc_ind_2').style.textDecoration = 'none';document.getElementById('_fs_fwzowtttutkebzgxizqc_ind_2').style.opacity = 0;document.getElementById('_fb_fwzowtttutkebzgxizqc_ind_2').style.opacity = 0;\" style=\"fill:rgb(0,0,0,0)\" /><g transform=\"translate(-1.5,0)\">  <svg x=\"19.669865633632597%\" y=\"40\" height=\"18\" overflow=\"visible\" width=\"30\">    <path d=\"M 0 -9 l 6 18 L 0 25\" fill=\"none\" style=\"stroke:rgb(255, 195, 213);stroke-width:2\" />  </svg></g><rect x=\"13.292386392119685%\" y=\"40\" height=\"20\" width=\"6.377479241512912%\"      onmouseover=\"document.getElementById('_tp_fwzowtttutkebzgxizqc_ind_10').style.textDecoration = 'underline';document.getElementById('_fs_fwzowtttutkebzgxizqc_ind_10').style.opacity = 1;document.getElementById('_fb_fwzowtttutkebzgxizqc_ind_10').style.opacity = 1;\"      onmouseout=\"document.getElementById('_tp_fwzowtttutkebzgxizqc_ind_10').style.textDecoration = 'none';document.getElementById('_fs_fwzowtttutkebzgxizqc_ind_10').style.opacity = 0;document.getElementById('_fb_fwzowtttutkebzgxizqc_ind_10').style.opacity = 0;\" style=\"fill:rgb(0,0,0,0)\" /><g transform=\"translate(-1.5,0)\">  <svg x=\"13.292386392119685%\" y=\"40\" height=\"18\" overflow=\"visible\" width=\"30\">    <path d=\"M 0 -9 l 6 18 L 0 25\" fill=\"none\" style=\"stroke:rgb(255, 195, 213);stroke-width:2\" />  </svg></g><rect x=\"9.346846994517549%\" y=\"40\" height=\"20\" width=\"3.9455393976021362%\"      onmouseover=\"document.getElementById('_tp_fwzowtttutkebzgxizqc_ind_9').style.textDecoration = 'underline';document.getElementById('_fs_fwzowtttutkebzgxizqc_ind_9').style.opacity = 1;document.getElementById('_fb_fwzowtttutkebzgxizqc_ind_9').style.opacity = 1;\"      onmouseout=\"document.getElementById('_tp_fwzowtttutkebzgxizqc_ind_9').style.textDecoration = 'none';document.getElementById('_fs_fwzowtttutkebzgxizqc_ind_9').style.opacity = 0;document.getElementById('_fb_fwzowtttutkebzgxizqc_ind_9').style.opacity = 0;\" style=\"fill:rgb(0,0,0,0)\" /><g transform=\"translate(-1.5,0)\">  <svg x=\"9.346846994517549%\" y=\"40\" height=\"18\" overflow=\"visible\" width=\"30\">    <path d=\"M 0 -9 l 6 18 L 0 25\" fill=\"none\" style=\"stroke:rgb(255, 195, 213);stroke-width:2\" />  </svg></g><rect x=\"8.839899189670527%\" y=\"40\" height=\"20\" width=\"0.5069478048470213%\"      onmouseover=\"document.getElementById('_tp_fwzowtttutkebzgxizqc_ind_4').style.textDecoration = 'underline';document.getElementById('_fs_fwzowtttutkebzgxizqc_ind_4').style.opacity = 1;document.getElementById('_fb_fwzowtttutkebzgxizqc_ind_4').style.opacity = 1;\"      onmouseout=\"document.getElementById('_tp_fwzowtttutkebzgxizqc_ind_4').style.textDecoration = 'none';document.getElementById('_fs_fwzowtttutkebzgxizqc_ind_4').style.opacity = 0;document.getElementById('_fb_fwzowtttutkebzgxizqc_ind_4').style.opacity = 0;\" style=\"fill:rgb(0,0,0,0)\" /><rect x=\"8.333333288929671%\" y=\"40\" height=\"20\" width=\"0.5065659007408563%\"      onmouseover=\"document.getElementById('_tp_fwzowtttutkebzgxizqc_ind_11').style.textDecoration = 'underline';document.getElementById('_fs_fwzowtttutkebzgxizqc_ind_11').style.opacity = 1;document.getElementById('_fb_fwzowtttutkebzgxizqc_ind_11').style.opacity = 1;\"      onmouseout=\"document.getElementById('_tp_fwzowtttutkebzgxizqc_ind_11').style.textDecoration = 'none';document.getElementById('_fs_fwzowtttutkebzgxizqc_ind_11').style.opacity = 0;document.getElementById('_fb_fwzowtttutkebzgxizqc_ind_11').style.opacity = 0;\" style=\"fill:rgb(0,0,0,0)\" /><rect x=\"65.5463749893013%\" width=\"26.12029118892507%\" y=\"40\" height=\"18\" style=\"fill:rgb(0.0, 138.56128015770727, 250.76166088685727); stroke-width:0; stroke:rgb(0,0,0)\" /><line x1=\"65.5463749893013%\" x2=\"80.13510355547763%\" y1=\"60\" y2=\"60\" id=\"_fb_fwzowtttutkebzgxizqc_ind_12\" style=\"stroke:rgb(0.0, 138.56128015770727, 250.76166088685727);stroke-width:2; opacity: 0\"/><text x=\"72.84073927238947%\" y=\"71\" font-size=\"12px\" fill=\"rgb(0.0, 138.56128015770727, 250.76166088685727)\" id=\"_fs_fwzowtttutkebzgxizqc_ind_12\" style=\"opacity: 0\" dominant-baseline=\"middle\" text-anchor=\"middle\">-0.274</text><svg x=\"65.5463749893013%\" y=\"40\" height=\"20\" width=\"14.588728566176329%\">  <svg x=\"0\" y=\"0\" width=\"100%\" height=\"100%\">    <text x=\"50%\" y=\"9\" font-size=\"12px\" fill=\"rgb(255,255,255)\" dominant-baseline=\"middle\" text-anchor=\"middle\">no</text>  </svg></svg><line x1=\"80.13510355547763%\" x2=\"82.64239551611006%\" y1=\"60\" y2=\"60\" id=\"_fb_fwzowtttutkebzgxizqc_ind_5\" style=\"stroke:rgb(0.0, 138.56128015770727, 250.76166088685727);stroke-width:2; opacity: 0\"/><text x=\"81.38874953579383%\" y=\"71\" font-size=\"12px\" fill=\"rgb(0.0, 138.56128015770727, 250.76166088685727)\" id=\"_fs_fwzowtttutkebzgxizqc_ind_5\" style=\"opacity: 0\" dominant-baseline=\"middle\" text-anchor=\"middle\">-0.047</text><svg x=\"80.13510355547763%\" y=\"40\" height=\"20\" width=\"2.507291960632429%\">  <svg x=\"0\" y=\"0\" width=\"100%\" height=\"100%\">    <text x=\"50%\" y=\"9\" font-size=\"12px\" fill=\"rgb(255,255,255)\" dominant-baseline=\"middle\" text-anchor=\"middle\">!</text>  </svg></svg><line x1=\"82.64239551611006%\" x2=\"84.93895432210562%\" y1=\"60\" y2=\"60\" id=\"_fb_fwzowtttutkebzgxizqc_ind_1\" style=\"stroke:rgb(0.0, 138.56128015770727, 250.76166088685727);stroke-width:2; opacity: 0\"/><text x=\"83.79067491910783%\" y=\"71\" font-size=\"12px\" fill=\"rgb(0.0, 138.56128015770727, 250.76166088685727)\" id=\"_fs_fwzowtttutkebzgxizqc_ind_1\" style=\"opacity: 0\" dominant-baseline=\"middle\" text-anchor=\"middle\">-0.043</text><svg x=\"82.64239551611006%\" y=\"40\" height=\"20\" width=\"2.2965588059955593%\">  <svg x=\"0\" y=\"0\" width=\"100%\" height=\"100%\">    <text x=\"50%\" y=\"9\" font-size=\"12px\" fill=\"rgb(255,255,255)\" dominant-baseline=\"middle\" text-anchor=\"middle\">What</text>  </svg></svg><line x1=\"84.93895432210562%\" x2=\"86.81150593106113%\" y1=\"60\" y2=\"60\" id=\"_fb_fwzowtttutkebzgxizqc_ind_13\" style=\"stroke:rgb(0.0, 138.56128015770727, 250.76166088685727);stroke-width:2; opacity: 0\"/><text x=\"85.87523012658338%\" y=\"71\" font-size=\"12px\" fill=\"rgb(0.0, 138.56128015770727, 250.76166088685727)\" id=\"_fs_fwzowtttutkebzgxizqc_ind_13\" style=\"opacity: 0\" dominant-baseline=\"middle\" text-anchor=\"middle\">-0.035</text><svg x=\"84.93895432210562%\" y=\"40\" height=\"20\" width=\"1.8725516089555185%\">  <svg x=\"0\" y=\"0\" width=\"100%\" height=\"100%\">    <text x=\"50%\" y=\"9\" font-size=\"12px\" fill=\"rgb(255,255,255)\" dominant-baseline=\"middle\" text-anchor=\"middle\">taste</text>  </svg></svg><line x1=\"86.81150593106113%\" x2=\"88.36729864881217%\" y1=\"60\" y2=\"60\" id=\"_fb_fwzowtttutkebzgxizqc_ind_14\" style=\"stroke:rgb(0.0, 138.56128015770727, 250.76166088685727);stroke-width:2; opacity: 0\"/><text x=\"87.58940228993666%\" y=\"71\" font-size=\"12px\" fill=\"rgb(0.0, 138.56128015770727, 250.76166088685727)\" id=\"_fs_fwzowtttutkebzgxizqc_ind_14\" style=\"opacity: 0\" dominant-baseline=\"middle\" text-anchor=\"middle\">-0.029</text><svg x=\"86.81150593106113%\" y=\"40\" height=\"20\" width=\"1.5557927177510322%\">  <svg x=\"0\" y=\"0\" width=\"100%\" height=\"100%\">    <text x=\"50%\" y=\"9\" font-size=\"12px\" fill=\"rgb(255,255,255)\" dominant-baseline=\"middle\" text-anchor=\"middle\">.</text>  </svg></svg><line x1=\"88.36729864881217%\" x2=\"89.76051500006737%\" y1=\"60\" y2=\"60\" id=\"_fb_fwzowtttutkebzgxizqc_ind_7\" style=\"stroke:rgb(0.0, 138.56128015770727, 250.76166088685727);stroke-width:2; opacity: 0\"/><text x=\"89.06390682443977%\" y=\"71\" font-size=\"12px\" fill=\"rgb(0.0, 138.56128015770727, 250.76166088685727)\" id=\"_fs_fwzowtttutkebzgxizqc_ind_7\" style=\"opacity: 0\" dominant-baseline=\"middle\" text-anchor=\"middle\">-0.026</text><svg x=\"88.36729864881217%\" y=\"40\" height=\"20\" width=\"1.3932163512552052%\">  <svg x=\"0\" y=\"0\" width=\"100%\" height=\"100%\">    <text x=\"50%\" y=\"9\" font-size=\"12px\" fill=\"rgb(255,255,255)\" dominant-baseline=\"middle\" text-anchor=\"middle\">.</text>  </svg></svg><line x1=\"89.76051500006737%\" x2=\"91.14932833321576%\" y1=\"60\" y2=\"60\" id=\"_fb_fwzowtttutkebzgxizqc_ind_8\" style=\"stroke:rgb(0.0, 138.56128015770727, 250.76166088685727);stroke-width:2; opacity: 0\"/><text x=\"90.45492166664157%\" y=\"71\" font-size=\"12px\" fill=\"rgb(0.0, 138.56128015770727, 250.76166088685727)\" id=\"_fs_fwzowtttutkebzgxizqc_ind_8\" style=\"opacity: 0\" dominant-baseline=\"middle\" text-anchor=\"middle\">-0.026</text><svg x=\"89.76051500006737%\" y=\"40\" height=\"20\" width=\"1.3888133331483914%\">  <svg x=\"0\" y=\"0\" width=\"100%\" height=\"100%\">    <text x=\"50%\" y=\"9\" font-size=\"12px\" fill=\"rgb(255,255,255)\" dominant-baseline=\"middle\" text-anchor=\"middle\">.</text>  </svg></svg><line x1=\"91.14932833321576%\" x2=\"91.66666617822636%\" y1=\"60\" y2=\"60\" id=\"_fb_fwzowtttutkebzgxizqc_ind_6\" style=\"stroke:rgb(0.0, 138.56128015770727, 250.76166088685727);stroke-width:2; opacity: 0\"/><text x=\"91.40799725572106%\" y=\"71\" font-size=\"12px\" fill=\"rgb(0.0, 138.56128015770727, 250.76166088685727)\" id=\"_fs_fwzowtttutkebzgxizqc_ind_6\" style=\"opacity: 0\" dominant-baseline=\"middle\" text-anchor=\"middle\">-0.01</text><svg x=\"91.14932833321576%\" y=\"40\" height=\"20\" width=\"0.5173378450106014%\">  <svg x=\"0\" y=\"0\" width=\"100%\" height=\"100%\">    <text x=\"50%\" y=\"9\" font-size=\"12px\" fill=\"rgb(255,255,255)\" dominant-baseline=\"middle\" text-anchor=\"middle\">.</text>  </svg></svg><g transform=\"translate(-8,0)\">  <svg x=\"80.13510355547763%\" y=\"40\" height=\"18\" overflow=\"visible\" width=\"30\">    <path d=\"M 8 -9 l -6 18 L 8 25\" fill=\"none\" style=\"stroke:rgb(0.0, 138.56128015770727, 250.76166088685727);stroke-width:2\" />  </svg></g><g transform=\"translate(-10,0)\">  <svg x=\"80.13510355547763%\" y=\"40\" height=\"18\" overflow=\"visible\" width=\"30\">    <path d=\"M 8 -9 l -6 18 L 8 25\" fill=\"none\" style=\"stroke:rgb(0.0, 138.56128015770727, 250.76166088685727);stroke-width:2\" />  </svg></g><g transform=\"translate(-12,0)\">  <svg x=\"80.13510355547763%\" y=\"40\" height=\"18\" overflow=\"visible\" width=\"30\">    <path d=\"M 8 -9 l -6 18 L 8 25\" fill=\"none\" style=\"stroke:rgb(0.0, 138.56128015770727, 250.76166088685727);stroke-width:2\" />  </svg></g><g transform=\"translate(-14,0)\">  <svg x=\"80.13510355547763%\" y=\"40\" height=\"18\" overflow=\"visible\" width=\"30\">    <path d=\"M 8 -9 l -6 18 L 8 25\" fill=\"none\" style=\"stroke:rgb(0.0, 138.56128015770727, 250.76166088685727);stroke-width:2\" />  </svg></g><g transform=\"translate(2,0)\">  <svg x=\"80.13510355547763%\" y=\"40\" height=\"18\" overflow=\"visible\" width=\"30\">    <path d=\"M 8 -9 l -6 18 L 8 25\" fill=\"none\" style=\"stroke:rgb(0.0, 138.56128015770727, 250.76166088685727);stroke-width:2\" />  </svg></g><g transform=\"translate(0,0)\">  <svg x=\"80.13510355547763%\" y=\"40\" height=\"18\" overflow=\"visible\" width=\"30\">    <path d=\"M 8 -9 l -6 18 L 8 25\" fill=\"none\" style=\"stroke:rgb(0.0, 138.56128015770727, 250.76166088685727);stroke-width:2\" />  </svg></g><g transform=\"translate(-2,0)\">  <svg x=\"80.13510355547763%\" y=\"40\" height=\"18\" overflow=\"visible\" width=\"30\">    <path d=\"M 8 -9 l -6 18 L 8 25\" fill=\"none\" style=\"stroke:rgb(0.0, 138.56128015770727, 250.76166088685727);stroke-width:2\" />  </svg></g><g transform=\"translate(-4,0)\">  <svg x=\"80.13510355547763%\" y=\"40\" height=\"18\" overflow=\"visible\" width=\"30\">    <path d=\"M 8 -9 l -6 18 L 8 25\" fill=\"none\" style=\"stroke:rgb(0.0, 138.56128015770727, 250.76166088685727);stroke-width:2\" />  </svg></g><g transform=\"translate(-8,0)\">  <svg x=\"82.64239551611006%\" y=\"40\" height=\"18\" overflow=\"visible\" width=\"30\">    <path d=\"M 8 -9 l -6 18 L 8 25\" fill=\"none\" style=\"stroke:rgb(0.0, 138.56128015770727, 250.76166088685727);stroke-width:2\" />  </svg></g><g transform=\"translate(-10,0)\">  <svg x=\"82.64239551611006%\" y=\"40\" height=\"18\" overflow=\"visible\" width=\"30\">    <path d=\"M 8 -9 l -6 18 L 8 25\" fill=\"none\" style=\"stroke:rgb(0.0, 138.56128015770727, 250.76166088685727);stroke-width:2\" />  </svg></g><g transform=\"translate(-12,0)\">  <svg x=\"82.64239551611006%\" y=\"40\" height=\"18\" overflow=\"visible\" width=\"30\">    <path d=\"M 8 -9 l -6 18 L 8 25\" fill=\"none\" style=\"stroke:rgb(0.0, 138.56128015770727, 250.76166088685727);stroke-width:2\" />  </svg></g><g transform=\"translate(-14,0)\">  <svg x=\"82.64239551611006%\" y=\"40\" height=\"18\" overflow=\"visible\" width=\"30\">    <path d=\"M 8 -9 l -6 18 L 8 25\" fill=\"none\" style=\"stroke:rgb(0.0, 138.56128015770727, 250.76166088685727);stroke-width:2\" />  </svg></g><g transform=\"translate(2,0)\">  <svg x=\"82.64239551611006%\" y=\"40\" height=\"18\" overflow=\"visible\" width=\"30\">    <path d=\"M 8 -9 l -6 18 L 8 25\" fill=\"none\" style=\"stroke:rgb(0.0, 138.56128015770727, 250.76166088685727);stroke-width:2\" />  </svg></g><g transform=\"translate(0,0)\">  <svg x=\"82.64239551611006%\" y=\"40\" height=\"18\" overflow=\"visible\" width=\"30\">    <path d=\"M 8 -9 l -6 18 L 8 25\" fill=\"none\" style=\"stroke:rgb(0.0, 138.56128015770727, 250.76166088685727);stroke-width:2\" />  </svg></g><g transform=\"translate(-2,0)\">  <svg x=\"82.64239551611006%\" y=\"40\" height=\"18\" overflow=\"visible\" width=\"30\">    <path d=\"M 8 -9 l -6 18 L 8 25\" fill=\"none\" style=\"stroke:rgb(0.0, 138.56128015770727, 250.76166088685727);stroke-width:2\" />  </svg></g><g transform=\"translate(-4,0)\">  <svg x=\"82.64239551611006%\" y=\"40\" height=\"18\" overflow=\"visible\" width=\"30\">    <path d=\"M 8 -9 l -6 18 L 8 25\" fill=\"none\" style=\"stroke:rgb(0.0, 138.56128015770727, 250.76166088685727);stroke-width:2\" />  </svg></g><g transform=\"translate(-8,0)\">  <svg x=\"84.93895432210562%\" y=\"40\" height=\"18\" overflow=\"visible\" width=\"30\">    <path d=\"M 8 -9 l -6 18 L 8 25\" fill=\"none\" style=\"stroke:rgb(0.0, 138.56128015770727, 250.76166088685727);stroke-width:2\" />  </svg></g><g transform=\"translate(-10,0)\">  <svg x=\"84.93895432210562%\" y=\"40\" height=\"18\" overflow=\"visible\" width=\"30\">    <path d=\"M 8 -9 l -6 18 L 8 25\" fill=\"none\" style=\"stroke:rgb(0.0, 138.56128015770727, 250.76166088685727);stroke-width:2\" />  </svg></g><g transform=\"translate(-12,0)\">  <svg x=\"84.93895432210562%\" y=\"40\" height=\"18\" overflow=\"visible\" width=\"30\">    <path d=\"M 8 -9 l -6 18 L 8 25\" fill=\"none\" style=\"stroke:rgb(0.0, 138.56128015770727, 250.76166088685727);stroke-width:2\" />  </svg></g><g transform=\"translate(-14,0)\">  <svg x=\"84.93895432210562%\" y=\"40\" height=\"18\" overflow=\"visible\" width=\"30\">    <path d=\"M 8 -9 l -6 18 L 8 25\" fill=\"none\" style=\"stroke:rgb(0.0, 138.56128015770727, 250.76166088685727);stroke-width:2\" />  </svg></g><g transform=\"translate(2,0)\">  <svg x=\"84.93895432210562%\" y=\"40\" height=\"18\" overflow=\"visible\" width=\"30\">    <path d=\"M 8 -9 l -6 18 L 8 25\" fill=\"none\" style=\"stroke:rgb(0.0, 138.56128015770727, 250.76166088685727);stroke-width:2\" />  </svg></g><g transform=\"translate(0,0)\">  <svg x=\"84.93895432210562%\" y=\"40\" height=\"18\" overflow=\"visible\" width=\"30\">    <path d=\"M 8 -9 l -6 18 L 8 25\" fill=\"none\" style=\"stroke:rgb(0.0, 138.56128015770727, 250.76166088685727);stroke-width:2\" />  </svg></g><g transform=\"translate(-2,0)\">  <svg x=\"84.93895432210562%\" y=\"40\" height=\"18\" overflow=\"visible\" width=\"30\">    <path d=\"M 8 -9 l -6 18 L 8 25\" fill=\"none\" style=\"stroke:rgb(0.0, 138.56128015770727, 250.76166088685727);stroke-width:2\" />  </svg></g><g transform=\"translate(-4,0)\">  <svg x=\"84.93895432210562%\" y=\"40\" height=\"18\" overflow=\"visible\" width=\"30\">    <path d=\"M 8 -9 l -6 18 L 8 25\" fill=\"none\" style=\"stroke:rgb(0.0, 138.56128015770727, 250.76166088685727);stroke-width:2\" />  </svg></g><g transform=\"translate(-8,0)\">  <svg x=\"86.81150593106113%\" y=\"40\" height=\"18\" overflow=\"visible\" width=\"30\">    <path d=\"M 8 -9 l -6 18 L 8 25\" fill=\"none\" style=\"stroke:rgb(0.0, 138.56128015770727, 250.76166088685727);stroke-width:2\" />  </svg></g><g transform=\"translate(-10,0)\">  <svg x=\"86.81150593106113%\" y=\"40\" height=\"18\" overflow=\"visible\" width=\"30\">    <path d=\"M 8 -9 l -6 18 L 8 25\" fill=\"none\" style=\"stroke:rgb(0.0, 138.56128015770727, 250.76166088685727);stroke-width:2\" />  </svg></g><g transform=\"translate(-12,0)\">  <svg x=\"86.81150593106113%\" y=\"40\" height=\"18\" overflow=\"visible\" width=\"30\">    <path d=\"M 8 -9 l -6 18 L 8 25\" fill=\"none\" style=\"stroke:rgb(0.0, 138.56128015770727, 250.76166088685727);stroke-width:2\" />  </svg></g><g transform=\"translate(-14,0)\">  <svg x=\"86.81150593106113%\" y=\"40\" height=\"18\" overflow=\"visible\" width=\"30\">    <path d=\"M 8 -9 l -6 18 L 8 25\" fill=\"none\" style=\"stroke:rgb(0.0, 138.56128015770727, 250.76166088685727);stroke-width:2\" />  </svg></g><g transform=\"translate(2,0)\">  <svg x=\"86.81150593106113%\" y=\"40\" height=\"18\" overflow=\"visible\" width=\"30\">    <path d=\"M 8 -9 l -6 18 L 8 25\" fill=\"none\" style=\"stroke:rgb(0.0, 138.56128015770727, 250.76166088685727);stroke-width:2\" />  </svg></g><g transform=\"translate(0,0)\">  <svg x=\"86.81150593106113%\" y=\"40\" height=\"18\" overflow=\"visible\" width=\"30\">    <path d=\"M 8 -9 l -6 18 L 8 25\" fill=\"none\" style=\"stroke:rgb(0.0, 138.56128015770727, 250.76166088685727);stroke-width:2\" />  </svg></g><g transform=\"translate(-2,0)\">  <svg x=\"86.81150593106113%\" y=\"40\" height=\"18\" overflow=\"visible\" width=\"30\">    <path d=\"M 8 -9 l -6 18 L 8 25\" fill=\"none\" style=\"stroke:rgb(0.0, 138.56128015770727, 250.76166088685727);stroke-width:2\" />  </svg></g><g transform=\"translate(-4,0)\">  <svg x=\"86.81150593106113%\" y=\"40\" height=\"18\" overflow=\"visible\" width=\"30\">    <path d=\"M 8 -9 l -6 18 L 8 25\" fill=\"none\" style=\"stroke:rgb(0.0, 138.56128015770727, 250.76166088685727);stroke-width:2\" />  </svg></g><g transform=\"translate(-8,0)\">  <svg x=\"88.36729864881217%\" y=\"40\" height=\"18\" overflow=\"visible\" width=\"30\">    <path d=\"M 8 -9 l -6 18 L 8 25\" fill=\"none\" style=\"stroke:rgb(0.0, 138.56128015770727, 250.76166088685727);stroke-width:2\" />  </svg></g><g transform=\"translate(-10,0)\">  <svg x=\"88.36729864881217%\" y=\"40\" height=\"18\" overflow=\"visible\" width=\"30\">    <path d=\"M 8 -9 l -6 18 L 8 25\" fill=\"none\" style=\"stroke:rgb(0.0, 138.56128015770727, 250.76166088685727);stroke-width:2\" />  </svg></g><g transform=\"translate(-12,0)\">  <svg x=\"88.36729864881217%\" y=\"40\" height=\"18\" overflow=\"visible\" width=\"30\">    <path d=\"M 8 -9 l -6 18 L 8 25\" fill=\"none\" style=\"stroke:rgb(0.0, 138.56128015770727, 250.76166088685727);stroke-width:2\" />  </svg></g><g transform=\"translate(-14,0)\">  <svg x=\"88.36729864881217%\" y=\"40\" height=\"18\" overflow=\"visible\" width=\"30\">    <path d=\"M 8 -9 l -6 18 L 8 25\" fill=\"none\" style=\"stroke:rgb(0.0, 138.56128015770727, 250.76166088685727);stroke-width:2\" />  </svg></g><g transform=\"translate(2,0)\">  <svg x=\"88.36729864881217%\" y=\"40\" height=\"18\" overflow=\"visible\" width=\"30\">    <path d=\"M 8 -9 l -6 18 L 8 25\" fill=\"none\" style=\"stroke:rgb(0.0, 138.56128015770727, 250.76166088685727);stroke-width:2\" />  </svg></g><g transform=\"translate(0,0)\">  <svg x=\"88.36729864881217%\" y=\"40\" height=\"18\" overflow=\"visible\" width=\"30\">    <path d=\"M 8 -9 l -6 18 L 8 25\" fill=\"none\" style=\"stroke:rgb(0.0, 138.56128015770727, 250.76166088685727);stroke-width:2\" />  </svg></g><g transform=\"translate(-2,0)\">  <svg x=\"88.36729864881217%\" y=\"40\" height=\"18\" overflow=\"visible\" width=\"30\">    <path d=\"M 8 -9 l -6 18 L 8 25\" fill=\"none\" style=\"stroke:rgb(0.0, 138.56128015770727, 250.76166088685727);stroke-width:2\" />  </svg></g><g transform=\"translate(-4,0)\">  <svg x=\"88.36729864881217%\" y=\"40\" height=\"18\" overflow=\"visible\" width=\"30\">    <path d=\"M 8 -9 l -6 18 L 8 25\" fill=\"none\" style=\"stroke:rgb(0.0, 138.56128015770727, 250.76166088685727);stroke-width:2\" />  </svg></g><g transform=\"translate(-8,0)\">  <svg x=\"89.76051500006737%\" y=\"40\" height=\"18\" overflow=\"visible\" width=\"30\">    <path d=\"M 8 -9 l -6 18 L 8 25\" fill=\"none\" style=\"stroke:rgb(0.0, 138.56128015770727, 250.76166088685727);stroke-width:2\" />  </svg></g><g transform=\"translate(-10,0)\">  <svg x=\"89.76051500006737%\" y=\"40\" height=\"18\" overflow=\"visible\" width=\"30\">    <path d=\"M 8 -9 l -6 18 L 8 25\" fill=\"none\" style=\"stroke:rgb(0.0, 138.56128015770727, 250.76166088685727);stroke-width:2\" />  </svg></g><g transform=\"translate(-12,0)\">  <svg x=\"89.76051500006737%\" y=\"40\" height=\"18\" overflow=\"visible\" width=\"30\">    <path d=\"M 8 -9 l -6 18 L 8 25\" fill=\"none\" style=\"stroke:rgb(0.0, 138.56128015770727, 250.76166088685727);stroke-width:2\" />  </svg></g><g transform=\"translate(-14,0)\">  <svg x=\"89.76051500006737%\" y=\"40\" height=\"18\" overflow=\"visible\" width=\"30\">    <path d=\"M 8 -9 l -6 18 L 8 25\" fill=\"none\" style=\"stroke:rgb(0.0, 138.56128015770727, 250.76166088685727);stroke-width:2\" />  </svg></g><g transform=\"translate(2,0)\">  <svg x=\"89.76051500006737%\" y=\"40\" height=\"18\" overflow=\"visible\" width=\"30\">    <path d=\"M 8 -9 l -6 18 L 8 25\" fill=\"none\" style=\"stroke:rgb(0.0, 138.56128015770727, 250.76166088685727);stroke-width:2\" />  </svg></g><g transform=\"translate(0,0)\">  <svg x=\"89.76051500006737%\" y=\"40\" height=\"18\" overflow=\"visible\" width=\"30\">    <path d=\"M 8 -9 l -6 18 L 8 25\" fill=\"none\" style=\"stroke:rgb(0.0, 138.56128015770727, 250.76166088685727);stroke-width:2\" />  </svg></g><g transform=\"translate(-2,0)\">  <svg x=\"89.76051500006737%\" y=\"40\" height=\"18\" overflow=\"visible\" width=\"30\">    <path d=\"M 8 -9 l -6 18 L 8 25\" fill=\"none\" style=\"stroke:rgb(0.0, 138.56128015770727, 250.76166088685727);stroke-width:2\" />  </svg></g><g transform=\"translate(-4,0)\">  <svg x=\"89.76051500006737%\" y=\"40\" height=\"18\" overflow=\"visible\" width=\"30\">    <path d=\"M 8 -9 l -6 18 L 8 25\" fill=\"none\" style=\"stroke:rgb(0.0, 138.56128015770727, 250.76166088685727);stroke-width:2\" />  </svg></g><g transform=\"translate(-8,0)\">  <svg x=\"91.14932833321576%\" y=\"40\" height=\"18\" overflow=\"visible\" width=\"30\">    <path d=\"M 8 -9 l -6 18 L 8 25\" fill=\"none\" style=\"stroke:rgb(0.0, 138.56128015770727, 250.76166088685727);stroke-width:2\" />  </svg></g><g transform=\"translate(-10,0)\">  <svg x=\"91.14932833321576%\" y=\"40\" height=\"18\" overflow=\"visible\" width=\"30\">    <path d=\"M 8 -9 l -6 18 L 8 25\" fill=\"none\" style=\"stroke:rgb(0.0, 138.56128015770727, 250.76166088685727);stroke-width:2\" />  </svg></g><g transform=\"translate(-12,0)\">  <svg x=\"91.14932833321576%\" y=\"40\" height=\"18\" overflow=\"visible\" width=\"30\">    <path d=\"M 8 -9 l -6 18 L 8 25\" fill=\"none\" style=\"stroke:rgb(0.0, 138.56128015770727, 250.76166088685727);stroke-width:2\" />  </svg></g><g transform=\"translate(-14,0)\">  <svg x=\"91.14932833321576%\" y=\"40\" height=\"18\" overflow=\"visible\" width=\"30\">    <path d=\"M 8 -9 l -6 18 L 8 25\" fill=\"none\" style=\"stroke:rgb(0.0, 138.56128015770727, 250.76166088685727);stroke-width:2\" />  </svg></g><g transform=\"translate(2,0)\">  <svg x=\"91.14932833321576%\" y=\"40\" height=\"18\" overflow=\"visible\" width=\"30\">    <path d=\"M 8 -9 l -6 18 L 8 25\" fill=\"none\" style=\"stroke:rgb(0.0, 138.56128015770727, 250.76166088685727);stroke-width:2\" />  </svg></g><g transform=\"translate(0,0)\">  <svg x=\"91.14932833321576%\" y=\"40\" height=\"18\" overflow=\"visible\" width=\"30\">    <path d=\"M 8 -9 l -6 18 L 8 25\" fill=\"none\" style=\"stroke:rgb(0.0, 138.56128015770727, 250.76166088685727);stroke-width:2\" />  </svg></g><g transform=\"translate(-2,0)\">  <svg x=\"91.14932833321576%\" y=\"40\" height=\"18\" overflow=\"visible\" width=\"30\">    <path d=\"M 8 -9 l -6 18 L 8 25\" fill=\"none\" style=\"stroke:rgb(0.0, 138.56128015770727, 250.76166088685727);stroke-width:2\" />  </svg></g><g transform=\"translate(-4,0)\">  <svg x=\"91.14932833321576%\" y=\"40\" height=\"18\" overflow=\"visible\" width=\"30\">    <path d=\"M 8 -9 l -6 18 L 8 25\" fill=\"none\" style=\"stroke:rgb(0.0, 138.56128015770727, 250.76166088685727);stroke-width:2\" />  </svg></g><rect transform=\"translate(0,0)\" x=\"65.5463749893013%\" y=\"40\" width=\"8\" height=\"18\" style=\"fill:rgb(0.0, 138.56128015770727, 250.76166088685727)\"/><g transform=\"translate(-6.0,0)\">  <svg x=\"91.66666617822636%\" y=\"40\" height=\"18\" overflow=\"visible\" width=\"30\">    <path d=\"M 8 -9 l -6 18 L 8 25 L 20 25 L 20 -9\" fill=\"#ffffff\" style=\"stroke:rgb(255,255,255);stroke-width:2\" />  </svg></g><g transform=\"translate(-6.0,0)\">  <svg x=\"80.13510355547763%\" y=\"40\" height=\"18\" overflow=\"visible\" width=\"30\">    <path d=\"M 8 -9 l -6 18 L 8 25\" fill=\"none\" style=\"stroke:rgb(208, 230, 250);stroke-width:2\" />  </svg></g><rect x=\"65.5463749893013%\" y=\"40\" height=\"20\" width=\"14.588728566176329%\"      onmouseover=\"document.getElementById('_tp_fwzowtttutkebzgxizqc_ind_12').style.textDecoration = 'underline';document.getElementById('_fs_fwzowtttutkebzgxizqc_ind_12').style.opacity = 1;document.getElementById('_fb_fwzowtttutkebzgxizqc_ind_12').style.opacity = 1;\"      onmouseout=\"document.getElementById('_tp_fwzowtttutkebzgxizqc_ind_12').style.textDecoration = 'none';document.getElementById('_fs_fwzowtttutkebzgxizqc_ind_12').style.opacity = 0;document.getElementById('_fb_fwzowtttutkebzgxizqc_ind_12').style.opacity = 0;\" style=\"fill:rgb(0,0,0,0)\" /><g transform=\"translate(-6.0,0)\">  <svg x=\"82.64239551611006%\" y=\"40\" height=\"18\" overflow=\"visible\" width=\"30\">    <path d=\"M 8 -9 l -6 18 L 8 25\" fill=\"none\" style=\"stroke:rgb(208, 230, 250);stroke-width:2\" />  </svg></g><rect x=\"80.13510355547763%\" y=\"40\" height=\"20\" width=\"2.507291960632429%\"      onmouseover=\"document.getElementById('_tp_fwzowtttutkebzgxizqc_ind_5').style.textDecoration = 'underline';document.getElementById('_fs_fwzowtttutkebzgxizqc_ind_5').style.opacity = 1;document.getElementById('_fb_fwzowtttutkebzgxizqc_ind_5').style.opacity = 1;\"      onmouseout=\"document.getElementById('_tp_fwzowtttutkebzgxizqc_ind_5').style.textDecoration = 'none';document.getElementById('_fs_fwzowtttutkebzgxizqc_ind_5').style.opacity = 0;document.getElementById('_fb_fwzowtttutkebzgxizqc_ind_5').style.opacity = 0;\" style=\"fill:rgb(0,0,0,0)\" /><g transform=\"translate(-6.0,0)\">  <svg x=\"84.93895432210562%\" y=\"40\" height=\"18\" overflow=\"visible\" width=\"30\">    <path d=\"M 8 -9 l -6 18 L 8 25\" fill=\"none\" style=\"stroke:rgb(208, 230, 250);stroke-width:2\" />  </svg></g><rect x=\"82.64239551611006%\" y=\"40\" height=\"20\" width=\"2.2965588059955593%\"      onmouseover=\"document.getElementById('_tp_fwzowtttutkebzgxizqc_ind_1').style.textDecoration = 'underline';document.getElementById('_fs_fwzowtttutkebzgxizqc_ind_1').style.opacity = 1;document.getElementById('_fb_fwzowtttutkebzgxizqc_ind_1').style.opacity = 1;\"      onmouseout=\"document.getElementById('_tp_fwzowtttutkebzgxizqc_ind_1').style.textDecoration = 'none';document.getElementById('_fs_fwzowtttutkebzgxizqc_ind_1').style.opacity = 0;document.getElementById('_fb_fwzowtttutkebzgxizqc_ind_1').style.opacity = 0;\" style=\"fill:rgb(0,0,0,0)\" /><g transform=\"translate(-6.0,0)\">  <svg x=\"86.81150593106113%\" y=\"40\" height=\"18\" overflow=\"visible\" width=\"30\">    <path d=\"M 8 -9 l -6 18 L 8 25\" fill=\"none\" style=\"stroke:rgb(208, 230, 250);stroke-width:2\" />  </svg></g><rect x=\"84.93895432210562%\" y=\"40\" height=\"20\" width=\"1.8725516089555185%\"      onmouseover=\"document.getElementById('_tp_fwzowtttutkebzgxizqc_ind_13').style.textDecoration = 'underline';document.getElementById('_fs_fwzowtttutkebzgxizqc_ind_13').style.opacity = 1;document.getElementById('_fb_fwzowtttutkebzgxizqc_ind_13').style.opacity = 1;\"      onmouseout=\"document.getElementById('_tp_fwzowtttutkebzgxizqc_ind_13').style.textDecoration = 'none';document.getElementById('_fs_fwzowtttutkebzgxizqc_ind_13').style.opacity = 0;document.getElementById('_fb_fwzowtttutkebzgxizqc_ind_13').style.opacity = 0;\" style=\"fill:rgb(0,0,0,0)\" /><g transform=\"translate(-6.0,0)\">  <svg x=\"88.36729864881217%\" y=\"40\" height=\"18\" overflow=\"visible\" width=\"30\">    <path d=\"M 8 -9 l -6 18 L 8 25\" fill=\"none\" style=\"stroke:rgb(208, 230, 250);stroke-width:2\" />  </svg></g><rect x=\"86.81150593106113%\" y=\"40\" height=\"20\" width=\"1.5557927177510322%\"      onmouseover=\"document.getElementById('_tp_fwzowtttutkebzgxizqc_ind_14').style.textDecoration = 'underline';document.getElementById('_fs_fwzowtttutkebzgxizqc_ind_14').style.opacity = 1;document.getElementById('_fb_fwzowtttutkebzgxizqc_ind_14').style.opacity = 1;\"      onmouseout=\"document.getElementById('_tp_fwzowtttutkebzgxizqc_ind_14').style.textDecoration = 'none';document.getElementById('_fs_fwzowtttutkebzgxizqc_ind_14').style.opacity = 0;document.getElementById('_fb_fwzowtttutkebzgxizqc_ind_14').style.opacity = 0;\" style=\"fill:rgb(0,0,0,0)\" /><g transform=\"translate(-6.0,0)\">  <svg x=\"89.76051500006737%\" y=\"40\" height=\"18\" overflow=\"visible\" width=\"30\">    <path d=\"M 8 -9 l -6 18 L 8 25\" fill=\"none\" style=\"stroke:rgb(208, 230, 250);stroke-width:2\" />  </svg></g><rect x=\"88.36729864881217%\" y=\"40\" height=\"20\" width=\"1.3932163512552052%\"      onmouseover=\"document.getElementById('_tp_fwzowtttutkebzgxizqc_ind_7').style.textDecoration = 'underline';document.getElementById('_fs_fwzowtttutkebzgxizqc_ind_7').style.opacity = 1;document.getElementById('_fb_fwzowtttutkebzgxizqc_ind_7').style.opacity = 1;\"      onmouseout=\"document.getElementById('_tp_fwzowtttutkebzgxizqc_ind_7').style.textDecoration = 'none';document.getElementById('_fs_fwzowtttutkebzgxizqc_ind_7').style.opacity = 0;document.getElementById('_fb_fwzowtttutkebzgxizqc_ind_7').style.opacity = 0;\" style=\"fill:rgb(0,0,0,0)\" /><g transform=\"translate(-6.0,0)\">  <svg x=\"91.14932833321576%\" y=\"40\" height=\"18\" overflow=\"visible\" width=\"30\">    <path d=\"M 8 -9 l -6 18 L 8 25\" fill=\"none\" style=\"stroke:rgb(208, 230, 250);stroke-width:2\" />  </svg></g><rect x=\"89.76051500006737%\" y=\"40\" height=\"20\" width=\"1.3888133331483914%\"      onmouseover=\"document.getElementById('_tp_fwzowtttutkebzgxizqc_ind_8').style.textDecoration = 'underline';document.getElementById('_fs_fwzowtttutkebzgxizqc_ind_8').style.opacity = 1;document.getElementById('_fb_fwzowtttutkebzgxizqc_ind_8').style.opacity = 1;\"      onmouseout=\"document.getElementById('_tp_fwzowtttutkebzgxizqc_ind_8').style.textDecoration = 'none';document.getElementById('_fs_fwzowtttutkebzgxizqc_ind_8').style.opacity = 0;document.getElementById('_fb_fwzowtttutkebzgxizqc_ind_8').style.opacity = 0;\" style=\"fill:rgb(0,0,0,0)\" /><rect x=\"91.14932833321576%\" y=\"40\" height=\"20\" width=\"0.5173378450106014%\"      onmouseover=\"document.getElementById('_tp_fwzowtttutkebzgxizqc_ind_6').style.textDecoration = 'underline';document.getElementById('_fs_fwzowtttutkebzgxizqc_ind_6').style.opacity = 1;document.getElementById('_fb_fwzowtttutkebzgxizqc_ind_6').style.opacity = 1;\"      onmouseout=\"document.getElementById('_tp_fwzowtttutkebzgxizqc_ind_6').style.textDecoration = 'none';document.getElementById('_fs_fwzowtttutkebzgxizqc_ind_6').style.opacity = 0;document.getElementById('_fb_fwzowtttutkebzgxizqc_ind_6').style.opacity = 0;\" style=\"fill:rgb(0,0,0,0)\" /></svg><div align='center'><div style=\"color: rgb(120,120,120); font-size: 12px; margin-top: -15px;\">inputs</div><div style='display: inline; text-align: center;'\n",
       "    ><div style='display: none; color: #999; padding-top: 0px; font-size: 12px;'>0.0</div\n",
       "        ><div id='_tp_fwzowtttutkebzgxizqc_ind_0'\n",
       "            style='display: inline; background: rgba(230.2941176470614, 26.505882352939775, 102.59215686274348, 0.0); border-radius: 3px; padding: 0px'\n",
       "            onclick=\"\n",
       "            if (this.previousSibling.style.display == 'none') {\n",
       "                this.previousSibling.style.display = 'block';\n",
       "                this.parentNode.style.display = 'inline-block';\n",
       "            } else {\n",
       "                this.previousSibling.style.display = 'none';\n",
       "                this.parentNode.style.display = 'inline';\n",
       "            }\"\n",
       "            onmouseover=\"document.getElementById('_fb_fwzowtttutkebzgxizqc_ind_0').style.opacity = 1; document.getElementById('_fs_fwzowtttutkebzgxizqc_ind_0').style.opacity = 1;\"\n",
       "            onmouseout=\"document.getElementById('_fb_fwzowtttutkebzgxizqc_ind_0').style.opacity = 0; document.getElementById('_fs_fwzowtttutkebzgxizqc_ind_0').style.opacity = 0;\"\n",
       "        ></div></div><div style='display: inline; text-align: center;'\n",
       "    ><div style='display: none; color: #999; padding-top: 0px; font-size: 12px;'>-0.043</div\n",
       "        ><div id='_tp_fwzowtttutkebzgxizqc_ind_1'\n",
       "            style='display: inline; background: rgba(30.0, 136.0, 229.0, 0.05407011289364222); border-radius: 3px; padding: 0px'\n",
       "            onclick=\"\n",
       "            if (this.previousSibling.style.display == 'none') {\n",
       "                this.previousSibling.style.display = 'block';\n",
       "                this.parentNode.style.display = 'inline-block';\n",
       "            } else {\n",
       "                this.previousSibling.style.display = 'none';\n",
       "                this.parentNode.style.display = 'inline';\n",
       "            }\"\n",
       "            onmouseover=\"document.getElementById('_fb_fwzowtttutkebzgxizqc_ind_1').style.opacity = 1; document.getElementById('_fs_fwzowtttutkebzgxizqc_ind_1').style.opacity = 1;\"\n",
       "            onmouseout=\"document.getElementById('_fb_fwzowtttutkebzgxizqc_ind_1').style.opacity = 0; document.getElementById('_fs_fwzowtttutkebzgxizqc_ind_1').style.opacity = 0;\"\n",
       "        >What </div></div><div style='display: inline; text-align: center;'\n",
       "    ><div style='display: none; color: #999; padding-top: 0px; font-size: 12px;'>0.121</div\n",
       "        ><div id='_tp_fwzowtttutkebzgxizqc_ind_2'\n",
       "            style='display: inline; background: rgba(255.0, 13.0, 87.0, 0.15654585066349747); border-radius: 3px; padding: 0px'\n",
       "            onclick=\"\n",
       "            if (this.previousSibling.style.display == 'none') {\n",
       "                this.previousSibling.style.display = 'block';\n",
       "                this.parentNode.style.display = 'inline-block';\n",
       "            } else {\n",
       "                this.previousSibling.style.display = 'none';\n",
       "                this.parentNode.style.display = 'inline';\n",
       "            }\"\n",
       "            onmouseover=\"document.getElementById('_fb_fwzowtttutkebzgxizqc_ind_2').style.opacity = 1; document.getElementById('_fs_fwzowtttutkebzgxizqc_ind_2').style.opacity = 1;\"\n",
       "            onmouseout=\"document.getElementById('_fb_fwzowtttutkebzgxizqc_ind_2').style.opacity = 0; document.getElementById('_fs_fwzowtttutkebzgxizqc_ind_2').style.opacity = 0;\"\n",
       "        >a </div></div><div style='display: inline; text-align: center;'\n",
       "    ><div style='display: none; color: #999; padding-top: 0px; font-size: 12px;'>0.74</div\n",
       "        ><div id='_tp_fwzowtttutkebzgxizqc_ind_3'\n",
       "            style='display: inline; background: rgba(255.0, 13.0, 87.0, 1.0); border-radius: 3px; padding: 0px'\n",
       "            onclick=\"\n",
       "            if (this.previousSibling.style.display == 'none') {\n",
       "                this.previousSibling.style.display = 'block';\n",
       "                this.parentNode.style.display = 'inline-block';\n",
       "            } else {\n",
       "                this.previousSibling.style.display = 'none';\n",
       "                this.parentNode.style.display = 'inline';\n",
       "            }\"\n",
       "            onmouseover=\"document.getElementById('_fb_fwzowtttutkebzgxizqc_ind_3').style.opacity = 1; document.getElementById('_fs_fwzowtttutkebzgxizqc_ind_3').style.opacity = 1;\"\n",
       "            onmouseout=\"document.getElementById('_fb_fwzowtttutkebzgxizqc_ind_3').style.opacity = 0; document.getElementById('_fs_fwzowtttutkebzgxizqc_ind_3').style.opacity = 0;\"\n",
       "        >great </div></div><div style='display: inline; text-align: center;'\n",
       "    ><div style='display: none; color: #999; padding-top: 0px; font-size: 12px;'>0.01</div\n",
       "        ><div id='_tp_fwzowtttutkebzgxizqc_ind_4'\n",
       "            style='display: inline; background: rgba(255.0, 13.0, 87.0, 0.00677361853832443); border-radius: 3px; padding: 0px'\n",
       "            onclick=\"\n",
       "            if (this.previousSibling.style.display == 'none') {\n",
       "                this.previousSibling.style.display = 'block';\n",
       "                this.parentNode.style.display = 'inline-block';\n",
       "            } else {\n",
       "                this.previousSibling.style.display = 'none';\n",
       "                this.parentNode.style.display = 'inline';\n",
       "            }\"\n",
       "            onmouseover=\"document.getElementById('_fb_fwzowtttutkebzgxizqc_ind_4').style.opacity = 1; document.getElementById('_fs_fwzowtttutkebzgxizqc_ind_4').style.opacity = 1;\"\n",
       "            onmouseout=\"document.getElementById('_fb_fwzowtttutkebzgxizqc_ind_4').style.opacity = 0; document.getElementById('_fs_fwzowtttutkebzgxizqc_ind_4').style.opacity = 0;\"\n",
       "        >movie</div></div><div style='display: inline; text-align: center;'\n",
       "    ><div style='display: none; color: #999; padding-top: 0px; font-size: 12px;'>-0.047</div\n",
       "        ><div id='_tp_fwzowtttutkebzgxizqc_ind_5'\n",
       "            style='display: inline; background: rgba(30.0, 136.0, 229.0, 0.06195286195286191); border-radius: 3px; padding: 0px'\n",
       "            onclick=\"\n",
       "            if (this.previousSibling.style.display == 'none') {\n",
       "                this.previousSibling.style.display = 'block';\n",
       "                this.parentNode.style.display = 'inline-block';\n",
       "            } else {\n",
       "                this.previousSibling.style.display = 'none';\n",
       "                this.parentNode.style.display = 'inline';\n",
       "            }\"\n",
       "            onmouseover=\"document.getElementById('_fb_fwzowtttutkebzgxizqc_ind_5').style.opacity = 1; document.getElementById('_fs_fwzowtttutkebzgxizqc_ind_5').style.opacity = 1;\"\n",
       "            onmouseout=\"document.getElementById('_fb_fwzowtttutkebzgxizqc_ind_5').style.opacity = 0; document.getElementById('_fs_fwzowtttutkebzgxizqc_ind_5').style.opacity = 0;\"\n",
       "        >! </div></div><div style='display: inline; text-align: center;'\n",
       "    ><div style='display: none; color: #999; padding-top: 0px; font-size: 12px;'>-0.01</div\n",
       "        ><div id='_tp_fwzowtttutkebzgxizqc_ind_6'\n",
       "            style='display: inline; background: rgba(30.0, 136.0, 229.0, 0.006773618538324436); border-radius: 3px; padding: 0px'\n",
       "            onclick=\"\n",
       "            if (this.previousSibling.style.display == 'none') {\n",
       "                this.previousSibling.style.display = 'block';\n",
       "                this.parentNode.style.display = 'inline-block';\n",
       "            } else {\n",
       "                this.previousSibling.style.display = 'none';\n",
       "                this.parentNode.style.display = 'inline';\n",
       "            }\"\n",
       "            onmouseover=\"document.getElementById('_fb_fwzowtttutkebzgxizqc_ind_6').style.opacity = 1; document.getElementById('_fs_fwzowtttutkebzgxizqc_ind_6').style.opacity = 1;\"\n",
       "            onmouseout=\"document.getElementById('_fb_fwzowtttutkebzgxizqc_ind_6').style.opacity = 0; document.getElementById('_fs_fwzowtttutkebzgxizqc_ind_6').style.opacity = 0;\"\n",
       "        >.</div></div><div style='display: inline; text-align: center;'\n",
       "    ><div style='display: none; color: #999; padding-top: 0px; font-size: 12px;'>-0.026</div\n",
       "        ><div id='_tp_fwzowtttutkebzgxizqc_ind_7'\n",
       "            style='display: inline; background: rgba(30.0, 136.0, 229.0, 0.03042186571598325); border-radius: 3px; padding: 0px'\n",
       "            onclick=\"\n",
       "            if (this.previousSibling.style.display == 'none') {\n",
       "                this.previousSibling.style.display = 'block';\n",
       "                this.parentNode.style.display = 'inline-block';\n",
       "            } else {\n",
       "                this.previousSibling.style.display = 'none';\n",
       "                this.parentNode.style.display = 'inline';\n",
       "            }\"\n",
       "            onmouseover=\"document.getElementById('_fb_fwzowtttutkebzgxizqc_ind_7').style.opacity = 1; document.getElementById('_fs_fwzowtttutkebzgxizqc_ind_7').style.opacity = 1;\"\n",
       "            onmouseout=\"document.getElementById('_fb_fwzowtttutkebzgxizqc_ind_7').style.opacity = 0; document.getElementById('_fs_fwzowtttutkebzgxizqc_ind_7').style.opacity = 0;\"\n",
       "        >.</div></div><div style='display: inline; text-align: center;'\n",
       "    ><div style='display: none; color: #999; padding-top: 0px; font-size: 12px;'>-0.026</div\n",
       "        ><div id='_tp_fwzowtttutkebzgxizqc_ind_8'\n",
       "            style='display: inline; background: rgba(30.0, 136.0, 229.0, 0.03042186571598325); border-radius: 3px; padding: 0px'\n",
       "            onclick=\"\n",
       "            if (this.previousSibling.style.display == 'none') {\n",
       "                this.previousSibling.style.display = 'block';\n",
       "                this.parentNode.style.display = 'inline-block';\n",
       "            } else {\n",
       "                this.previousSibling.style.display = 'none';\n",
       "                this.parentNode.style.display = 'inline';\n",
       "            }\"\n",
       "            onmouseover=\"document.getElementById('_fb_fwzowtttutkebzgxizqc_ind_8').style.opacity = 1; document.getElementById('_fs_fwzowtttutkebzgxizqc_ind_8').style.opacity = 1;\"\n",
       "            onmouseout=\"document.getElementById('_fb_fwzowtttutkebzgxizqc_ind_8').style.opacity = 0; document.getElementById('_fs_fwzowtttutkebzgxizqc_ind_8').style.opacity = 0;\"\n",
       "        >.</div></div><div style='display: inline; text-align: center;'\n",
       "    ><div style='display: none; color: #999; padding-top: 0px; font-size: 12px;'>0.074</div\n",
       "        ><div id='_tp_fwzowtttutkebzgxizqc_ind_9'\n",
       "            style='display: inline; background: rgba(255.0, 13.0, 87.0, 0.09348385818974037); border-radius: 3px; padding: 0px'\n",
       "            onclick=\"\n",
       "            if (this.previousSibling.style.display == 'none') {\n",
       "                this.previousSibling.style.display = 'block';\n",
       "                this.parentNode.style.display = 'inline-block';\n",
       "            } else {\n",
       "                this.previousSibling.style.display = 'none';\n",
       "                this.parentNode.style.display = 'inline';\n",
       "            }\"\n",
       "            onmouseover=\"document.getElementById('_fb_fwzowtttutkebzgxizqc_ind_9').style.opacity = 1; document.getElementById('_fs_fwzowtttutkebzgxizqc_ind_9').style.opacity = 1;\"\n",
       "            onmouseout=\"document.getElementById('_fb_fwzowtttutkebzgxizqc_ind_9').style.opacity = 0; document.getElementById('_fs_fwzowtttutkebzgxizqc_ind_9').style.opacity = 0;\"\n",
       "        >if </div></div><div style='display: inline; text-align: center;'\n",
       "    ><div style='display: none; color: #999; padding-top: 0px; font-size: 12px;'>0.12</div\n",
       "        ><div id='_tp_fwzowtttutkebzgxizqc_ind_10'\n",
       "            style='display: inline; background: rgba(255.0, 13.0, 87.0, 0.15654585066349747); border-radius: 3px; padding: 0px'\n",
       "            onclick=\"\n",
       "            if (this.previousSibling.style.display == 'none') {\n",
       "                this.previousSibling.style.display = 'block';\n",
       "                this.parentNode.style.display = 'inline-block';\n",
       "            } else {\n",
       "                this.previousSibling.style.display = 'none';\n",
       "                this.parentNode.style.display = 'inline';\n",
       "            }\"\n",
       "            onmouseover=\"document.getElementById('_fb_fwzowtttutkebzgxizqc_ind_10').style.opacity = 1; document.getElementById('_fs_fwzowtttutkebzgxizqc_ind_10').style.opacity = 1;\"\n",
       "            onmouseout=\"document.getElementById('_fb_fwzowtttutkebzgxizqc_ind_10').style.opacity = 0; document.getElementById('_fs_fwzowtttutkebzgxizqc_ind_10').style.opacity = 0;\"\n",
       "        >you </div></div><div style='display: inline; text-align: center;'\n",
       "    ><div style='display: none; color: #999; padding-top: 0px; font-size: 12px;'>0.01</div\n",
       "        ><div id='_tp_fwzowtttutkebzgxizqc_ind_11'\n",
       "            style='display: inline; background: rgba(255.0, 13.0, 87.0, 0.00677361853832443); border-radius: 3px; padding: 0px'\n",
       "            onclick=\"\n",
       "            if (this.previousSibling.style.display == 'none') {\n",
       "                this.previousSibling.style.display = 'block';\n",
       "                this.parentNode.style.display = 'inline-block';\n",
       "            } else {\n",
       "                this.previousSibling.style.display = 'none';\n",
       "                this.parentNode.style.display = 'inline';\n",
       "            }\"\n",
       "            onmouseover=\"document.getElementById('_fb_fwzowtttutkebzgxizqc_ind_11').style.opacity = 1; document.getElementById('_fs_fwzowtttutkebzgxizqc_ind_11').style.opacity = 1;\"\n",
       "            onmouseout=\"document.getElementById('_fb_fwzowtttutkebzgxizqc_ind_11').style.opacity = 0; document.getElementById('_fs_fwzowtttutkebzgxizqc_ind_11').style.opacity = 0;\"\n",
       "        >have </div></div><div style='display: inline; text-align: center;'\n",
       "    ><div style='display: none; color: #999; padding-top: 0px; font-size: 12px;'>-0.274</div\n",
       "        ><div id='_tp_fwzowtttutkebzgxizqc_ind_12'\n",
       "            style='display: inline; background: rgba(30.0, 136.0, 229.0, 0.36938007526242816); border-radius: 3px; padding: 0px'\n",
       "            onclick=\"\n",
       "            if (this.previousSibling.style.display == 'none') {\n",
       "                this.previousSibling.style.display = 'block';\n",
       "                this.parentNode.style.display = 'inline-block';\n",
       "            } else {\n",
       "                this.previousSibling.style.display = 'none';\n",
       "                this.parentNode.style.display = 'inline';\n",
       "            }\"\n",
       "            onmouseover=\"document.getElementById('_fb_fwzowtttutkebzgxizqc_ind_12').style.opacity = 1; document.getElementById('_fs_fwzowtttutkebzgxizqc_ind_12').style.opacity = 1;\"\n",
       "            onmouseout=\"document.getElementById('_fb_fwzowtttutkebzgxizqc_ind_12').style.opacity = 0; document.getElementById('_fs_fwzowtttutkebzgxizqc_ind_12').style.opacity = 0;\"\n",
       "        >no </div></div><div style='display: inline; text-align: center;'\n",
       "    ><div style='display: none; color: #999; padding-top: 0px; font-size: 12px;'>-0.035</div\n",
       "        ><div id='_tp_fwzowtttutkebzgxizqc_ind_13'\n",
       "            style='display: inline; background: rgba(30.0, 136.0, 229.0, 0.04618736383442258); border-radius: 3px; padding: 0px'\n",
       "            onclick=\"\n",
       "            if (this.previousSibling.style.display == 'none') {\n",
       "                this.previousSibling.style.display = 'block';\n",
       "                this.parentNode.style.display = 'inline-block';\n",
       "            } else {\n",
       "                this.previousSibling.style.display = 'none';\n",
       "                this.parentNode.style.display = 'inline';\n",
       "            }\"\n",
       "            onmouseover=\"document.getElementById('_fb_fwzowtttutkebzgxizqc_ind_13').style.opacity = 1; document.getElementById('_fs_fwzowtttutkebzgxizqc_ind_13').style.opacity = 1;\"\n",
       "            onmouseout=\"document.getElementById('_fb_fwzowtttutkebzgxizqc_ind_13').style.opacity = 0; document.getElementById('_fs_fwzowtttutkebzgxizqc_ind_13').style.opacity = 0;\"\n",
       "        >taste</div></div><div style='display: inline; text-align: center;'\n",
       "    ><div style='display: none; color: #999; padding-top: 0px; font-size: 12px;'>-0.029</div\n",
       "        ><div id='_tp_fwzowtttutkebzgxizqc_ind_14'\n",
       "            style='display: inline; background: rgba(30.0, 136.0, 229.0, 0.03830461477520309); border-radius: 3px; padding: 0px'\n",
       "            onclick=\"\n",
       "            if (this.previousSibling.style.display == 'none') {\n",
       "                this.previousSibling.style.display = 'block';\n",
       "                this.parentNode.style.display = 'inline-block';\n",
       "            } else {\n",
       "                this.previousSibling.style.display = 'none';\n",
       "                this.parentNode.style.display = 'inline';\n",
       "            }\"\n",
       "            onmouseover=\"document.getElementById('_fb_fwzowtttutkebzgxizqc_ind_14').style.opacity = 1; document.getElementById('_fs_fwzowtttutkebzgxizqc_ind_14').style.opacity = 1;\"\n",
       "            onmouseout=\"document.getElementById('_fb_fwzowtttutkebzgxizqc_ind_14').style.opacity = 0; document.getElementById('_fs_fwzowtttutkebzgxizqc_ind_14').style.opacity = 0;\"\n",
       "        >.</div></div><div style='display: inline; text-align: center;'\n",
       "    ><div style='display: none; color: #999; padding-top: 0px; font-size: 12px;'>0.0</div\n",
       "        ><div id='_tp_fwzowtttutkebzgxizqc_ind_15'\n",
       "            style='display: inline; background: rgba(230.2941176470614, 26.505882352939775, 102.59215686274348, 0.0); border-radius: 3px; padding: 0px'\n",
       "            onclick=\"\n",
       "            if (this.previousSibling.style.display == 'none') {\n",
       "                this.previousSibling.style.display = 'block';\n",
       "                this.parentNode.style.display = 'inline-block';\n",
       "            } else {\n",
       "                this.previousSibling.style.display = 'none';\n",
       "                this.parentNode.style.display = 'inline';\n",
       "            }\"\n",
       "            onmouseover=\"document.getElementById('_fb_fwzowtttutkebzgxizqc_ind_15').style.opacity = 1; document.getElementById('_fs_fwzowtttutkebzgxizqc_ind_15').style.opacity = 1;\"\n",
       "            onmouseout=\"document.getElementById('_fb_fwzowtttutkebzgxizqc_ind_15').style.opacity = 0; document.getElementById('_fs_fwzowtttutkebzgxizqc_ind_15').style.opacity = 0;\"\n",
       "        ></div></div></div>"
      ],
      "text/plain": [
       "<IPython.core.display.HTML object>"
      ]
     },
     "metadata": {},
     "output_type": "display_data"
    }
   ],
   "source": [
    "import transformers\n",
    "import shap\n",
    "\n",
    "# load a transformers pipeline model\n",
    "model = transformers.pipeline('sentiment-analysis', return_all_scores=True)\n",
    "\n",
    "# explain the model on two sample inputs\n",
    "explainer = shap.Explainer(model)\n",
    "shap_values = explainer([\"What a great movie! ...if you have no taste.\"])\n",
    "\n",
    "# visualize the first prediction's explanation for the POSITIVE output class\n",
    "shap.plots.text(shap_values[0, :, \"POSITIVE\"])"
   ]
  },
  {
   "cell_type": "markdown",
   "id": "3e36aade",
   "metadata": {},
   "source": [
    "## 🔍 Paso 5: Buscar documentos relevantes"
   ]
  },
  {
   "cell_type": "code",
   "execution_count": null,
   "id": "d1954fb9",
   "metadata": {},
   "outputs": [
    {
     "name": "stdout",
     "output_type": "stream",
     "text": [
      "Documentos relevantes:\n",
      "- Se ha demostrado que la cúrcuma ayuda a la digestión.\n",
      "- La cúrcuma tiene propiedades antiinflamatorias.\n"
     ]
    }
   ],
   "source": [
    "\n",
    "from sklearn.metrics.pairwise import cosine_similarity\n",
    "import numpy as np\n",
    "\n",
    "# Calcular similitud coseno\n",
    "similarities = cosine_similarity([query_vector], document_vectors)[0]\n",
    "\n",
    "# Recuperar los documentos más similares\n",
    "top_indices = np.argsort(similarities)[::-1][:2]  # Los 2 más relevantes\n",
    "relevant_docs = [documents[i] for i in top_indices]\n",
    "\n",
    "# Mostrar los documentos más relevantes\n",
    "print(\"Documentos relevantes:\")\n",
    "for doc in relevant_docs:\n",
    "    print(\"-\", doc)\n"
   ]
  },
  {
   "cell_type": "markdown",
   "id": "198e4946",
   "metadata": {},
   "source": [
    "## 💡 Paso 6: Generar respuesta con el LLM"
   ]
  },
  {
   "cell_type": "code",
   "execution_count": null,
   "id": "e4ace749",
   "metadata": {},
   "outputs": [
    {
     "data": {
      "application/vnd.jupyter.widget-view+json": {
       "model_id": "ac49ea58dcde41b49dd68bb05b48be2b",
       "version_major": 2,
       "version_minor": 0
      },
      "text/plain": [
       "config.json:   0%|          | 0.00/1.21k [00:00<?, ?B/s]"
      ]
     },
     "metadata": {},
     "output_type": "display_data"
    },
    {
     "name": "stderr",
     "output_type": "stream",
     "text": [
      "d:\\Programs\\Anaconda3\\Lib\\site-packages\\huggingface_hub\\file_download.py:147: UserWarning: `huggingface_hub` cache-system uses symlinks by default to efficiently store duplicated files but your machine does not support them in C:\\Users\\frany\\.cache\\huggingface\\hub\\models--t5-small. Caching files will still work but in a degraded version that might require more space on your disk. This warning can be disabled by setting the `HF_HUB_DISABLE_SYMLINKS_WARNING` environment variable. For more details, see https://huggingface.co/docs/huggingface_hub/how-to-cache#limitations.\n",
      "To support symlinks on Windows, you either need to activate Developer Mode or to run Python as an administrator. In order to activate developer mode, see this article: https://docs.microsoft.com/en-us/windows/apps/get-started/enable-your-device-for-development\n",
      "  warnings.warn(message)\n"
     ]
    },
    {
     "data": {
      "application/vnd.jupyter.widget-view+json": {
       "model_id": "554d4e1a578f4d248e30a7c916f4b7f7",
       "version_major": 2,
       "version_minor": 0
      },
      "text/plain": [
       "model.safetensors:   0%|          | 0.00/242M [00:00<?, ?B/s]"
      ]
     },
     "metadata": {},
     "output_type": "display_data"
    },
    {
     "data": {
      "application/vnd.jupyter.widget-view+json": {
       "model_id": "15df2421b9b948408c008829155024e5",
       "version_major": 2,
       "version_minor": 0
      },
      "text/plain": [
       "generation_config.json:   0%|          | 0.00/147 [00:00<?, ?B/s]"
      ]
     },
     "metadata": {},
     "output_type": "display_data"
    },
    {
     "data": {
      "application/vnd.jupyter.widget-view+json": {
       "model_id": "8a1ce98e7b904a799c7181c59051e97e",
       "version_major": 2,
       "version_minor": 0
      },
      "text/plain": [
       "tokenizer_config.json:   0%|          | 0.00/2.32k [00:00<?, ?B/s]"
      ]
     },
     "metadata": {},
     "output_type": "display_data"
    },
    {
     "data": {
      "application/vnd.jupyter.widget-view+json": {
       "model_id": "be187965acc944589cd23abbb623f718",
       "version_major": 2,
       "version_minor": 0
      },
      "text/plain": [
       "spiece.model:   0%|          | 0.00/792k [00:00<?, ?B/s]"
      ]
     },
     "metadata": {},
     "output_type": "display_data"
    },
    {
     "data": {
      "application/vnd.jupyter.widget-view+json": {
       "model_id": "aeaa5e78fd394649bb0e6f37d68216f9",
       "version_major": 2,
       "version_minor": 0
      },
      "text/plain": [
       "tokenizer.json:   0%|          | 0.00/1.39M [00:00<?, ?B/s]"
      ]
     },
     "metadata": {},
     "output_type": "display_data"
    },
    {
     "name": "stderr",
     "output_type": "stream",
     "text": [
      "d:\\Programs\\Anaconda3\\Lib\\site-packages\\transformers\\generation\\utils.py:1220: UserWarning: Using the model-agnostic default `max_length` (=20) to control the generation length. We recommend setting `max_new_tokens` to control the maximum length of the generation.\n",
      "  warnings.warn(\n"
     ]
    },
    {
     "name": "stdout",
     "output_type": "stream",
     "text": [
      "Respuesta generada:\n",
      "ayuda la crcuma a la digesti\n"
     ]
    }
   ],
   "source": [
    "\n",
    "from transformers import pipeline\n",
    "\n",
    "# Cargar el modelo LLM\n",
    "qa_pipeline = pipeline(\"text2text-generation\", model=\"t5-small\")\n",
    "\n",
    "# Concatenar los documentos relevantes\n",
    "context = \" \".join(relevant_docs)\n",
    "final_input = f\"Contexto: {context} Pregunta: {query}\"\n",
    "\n",
    "# Generar respuesta\n",
    "response = qa_pipeline(final_input)\n",
    "print(\"Respuesta generada:\")\n",
    "print(response[0]['generated_text'])\n"
   ]
  },
  {
   "cell_type": "markdown",
   "id": "355a5561",
   "metadata": {},
   "source": [
    "\n",
    "## 🎯 Conclusión\n",
    "En este cuaderno, hemos explorado cómo combinar **LLM** con una base de datos mediante **RAG**. Este enfoque permite enriquecer respuestas aprovechando tanto el conocimiento general del modelo como información específica de una base de datos. 🚀\n"
   ]
  },
  {
   "cell_type": "markdown",
   "id": "038bef34",
   "metadata": {},
   "source": []
  }
 ],
 "metadata": {
  "kernelspec": {
   "display_name": "base",
   "language": "python",
   "name": "python3"
  },
  "language_info": {
   "codemirror_mode": {
    "name": "ipython",
    "version": 3
   },
   "file_extension": ".py",
   "mimetype": "text/x-python",
   "name": "python",
   "nbconvert_exporter": "python",
   "pygments_lexer": "ipython3",
   "version": "3.12.4"
  }
 },
 "nbformat": 4,
 "nbformat_minor": 5
}

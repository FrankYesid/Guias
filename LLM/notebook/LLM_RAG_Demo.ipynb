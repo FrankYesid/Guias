{
 "cells": [
  {
   "cell_type": "markdown",
   "id": "18bb0290",
   "metadata": {},
   "source": [
    "# 🧠 Introducción a LLM y Retrieval-Augmented Generation (RAG)"
   ]
  },
  {
   "cell_type": "markdown",
   "id": "d7ddd344",
   "metadata": {},
   "source": [
    "\n",
    "En este cuaderno, exploraremos el funcionamiento de los **Modelos de Lenguaje Grandes (LLM)** y cómo se integran con **Retrieval-Augmented Generation (RAG)** para enriquecer respuestas basadas en información externa.\n",
    "\n",
    "**Objetivos**:\n",
    "1. Entender cómo los LLM procesan texto.\n",
    "2. Implementar un sistema básico de RAG.\n",
    "3. Visualizar el flujo de datos desde la consulta hasta la respuesta.\n",
    "\n",
    "---\n",
    "**Requisitos previos**: \n",
    "- Familiaridad básica con Python.\n",
    "- Conocimiento básico de NLP y redes neuronales.\n",
    "---\n"
   ]
  },
  {
   "cell_type": "code",
   "execution_count": null,
   "id": "b341bfb2",
   "metadata": {},
   "outputs": [
    {
     "name": "stdout",
     "output_type": "stream",
     "text": [
      "^C\n",
      "Requirement already satisfied: sentence-transformers in d:\\programs\\anaconda3\\lib\\site-packages (3.3.1)\n",
      "Requirement already satisfied: transformers in d:\\programs\\anaconda3\\lib\\site-packages (4.45.2)\n",
      "Requirement already satisfied: scikit-learn in d:\\programs\\anaconda3\\lib\\site-packages (1.5.2)\n",
      "Requirement already satisfied: tqdm in d:\\programs\\anaconda3\\lib\\site-packages (from sentence-transformers) (4.66.2)\n",
      "Requirement already satisfied: torch>=1.11.0 in d:\\programs\\anaconda3\\lib\\site-packages (from sentence-transformers) (2.4.1)\n",
      "Requirement already satisfied: scipy in d:\\programs\\anaconda3\\lib\\site-packages (from sentence-transformers) (1.12.0)\n",
      "Requirement already satisfied: huggingface-hub>=0.20.0 in d:\\programs\\anaconda3\\lib\\site-packages (from sentence-transformers) (0.25.1)\n",
      "Requirement already satisfied: Pillow in d:\\programs\\anaconda3\\lib\\site-packages (from sentence-transformers) (10.2.0)\n",
      "Requirement already satisfied: filelock in d:\\programs\\anaconda3\\lib\\site-packages (from transformers) (3.13.1)\n",
      "Requirement already satisfied: numpy>=1.17 in d:\\programs\\anaconda3\\lib\\site-packages (from transformers) (1.26.0)\n",
      "Requirement already satisfied: packaging>=20.0 in d:\\programs\\anaconda3\\lib\\site-packages (from transformers) (23.2)\n",
      "Requirement already satisfied: pyyaml>=5.1 in d:\\programs\\anaconda3\\lib\\site-packages (from transformers) (6.0.1)\n",
      "Requirement already satisfied: regex!=2019.12.17 in d:\\programs\\anaconda3\\lib\\site-packages (from transformers) (2023.10.3)\n",
      "Requirement already satisfied: requests in d:\\programs\\anaconda3\\lib\\site-packages (from transformers) (2.31.0)\n",
      "Requirement already satisfied: safetensors>=0.4.1 in d:\\programs\\anaconda3\\lib\\site-packages (from transformers) (0.4.5)\n",
      "Requirement already satisfied: tokenizers<0.21,>=0.20 in d:\\programs\\anaconda3\\lib\\site-packages (from transformers) (0.20.0)\n",
      "Requirement already satisfied: joblib>=1.2.0 in d:\\programs\\anaconda3\\lib\\site-packages (from scikit-learn) (1.4.2)\n",
      "Requirement already satisfied: threadpoolctl>=3.1.0 in d:\\programs\\anaconda3\\lib\\site-packages (from scikit-learn) (3.3.0)\n",
      "Requirement already satisfied: fsspec>=2023.5.0 in d:\\programs\\anaconda3\\lib\\site-packages (from huggingface-hub>=0.20.0->sentence-transformers) (2024.3.1)\n",
      "Requirement already satisfied: typing-extensions>=3.7.4.3 in d:\\programs\\anaconda3\\lib\\site-packages (from huggingface-hub>=0.20.0->sentence-transformers) (4.9.0)\n",
      "Requirement already satisfied: sympy in d:\\programs\\anaconda3\\lib\\site-packages (from torch>=1.11.0->sentence-transformers) (1.12)\n",
      "Requirement already satisfied: networkx in d:\\programs\\anaconda3\\lib\\site-packages (from torch>=1.11.0->sentence-transformers) (3.2.1)\n",
      "Requirement already satisfied: jinja2 in d:\\programs\\anaconda3\\lib\\site-packages (from torch>=1.11.0->sentence-transformers) (3.1.3)\n",
      "Requirement already satisfied: setuptools in d:\\programs\\anaconda3\\lib\\site-packages (from torch>=1.11.0->sentence-transformers) (75.1.0)\n",
      "Requirement already satisfied: colorama in d:\\programs\\anaconda3\\lib\\site-packages (from tqdm->sentence-transformers) (0.4.6)\n",
      "Requirement already satisfied: charset-normalizer<4,>=2 in d:\\programs\\anaconda3\\lib\\site-packages (from requests->transformers) (3.3.2)\n",
      "Requirement already satisfied: idna<4,>=2.5 in d:\\programs\\anaconda3\\lib\\site-packages (from requests->transformers) (3.6)\n",
      "Requirement already satisfied: urllib3<3,>=1.21.1 in d:\\programs\\anaconda3\\lib\\site-packages (from requests->transformers) (2.2.0)\n",
      "Requirement already satisfied: certifi>=2017.4.17 in d:\\programs\\anaconda3\\lib\\site-packages (from requests->transformers) (2024.2.2)\n",
      "Requirement already satisfied: MarkupSafe>=2.0 in d:\\programs\\anaconda3\\lib\\site-packages (from jinja2->torch>=1.11.0->sentence-transformers) (2.1.5)\n",
      "Requirement already satisfied: mpmath>=0.19 in d:\\programs\\anaconda3\\lib\\site-packages (from sympy->torch>=1.11.0->sentence-transformers) (1.3.0)\n"
     ]
    },
    {
     "name": "stderr",
     "output_type": "stream",
     "text": [
      "WARNING: Ignoring invalid distribution ~andas (D:\\Programs\\Anaconda3\\Lib\\site-packages)\n",
      "WARNING: Ignoring invalid distribution ~andas (D:\\Programs\\Anaconda3\\Lib\\site-packages)\n",
      "WARNING: Ignoring invalid distribution ~andas (D:\\Programs\\Anaconda3\\Lib\\site-packages)\n"
     ]
    },
    {
     "name": "stdout",
     "output_type": "stream",
     "text": [
      "Requirement already satisfied: shap in d:\\programs\\anaconda3\\lib\\site-packages (0.46.0)\n",
      "Requirement already satisfied: numpy in d:\\programs\\anaconda3\\lib\\site-packages (from shap) (1.26.0)\n",
      "Requirement already satisfied: scipy in d:\\programs\\anaconda3\\lib\\site-packages (from shap) (1.12.0)\n",
      "Requirement already satisfied: scikit-learn in d:\\programs\\anaconda3\\lib\\site-packages (from shap) (1.5.2)\n",
      "Requirement already satisfied: pandas in d:\\programs\\anaconda3\\lib\\site-packages (from shap) (2.2.3)\n",
      "Requirement already satisfied: tqdm>=4.27.0 in d:\\programs\\anaconda3\\lib\\site-packages (from shap) (4.66.2)\n",
      "Requirement already satisfied: packaging>20.9 in d:\\programs\\anaconda3\\lib\\site-packages (from shap) (23.2)\n",
      "Requirement already satisfied: slicer==0.0.8 in d:\\programs\\anaconda3\\lib\\site-packages (from shap) (0.0.8)\n",
      "Requirement already satisfied: numba in d:\\programs\\anaconda3\\lib\\site-packages (from shap) (0.59.0)\n",
      "Requirement already satisfied: cloudpickle in d:\\programs\\anaconda3\\lib\\site-packages (from shap) (3.0.0)\n",
      "Requirement already satisfied: colorama in d:\\programs\\anaconda3\\lib\\site-packages (from tqdm>=4.27.0->shap) (0.4.6)\n",
      "Requirement already satisfied: llvmlite<0.43,>=0.42.0dev0 in d:\\programs\\anaconda3\\lib\\site-packages (from numba->shap) (0.42.0)\n",
      "Requirement already satisfied: python-dateutil>=2.8.2 in d:\\programs\\anaconda3\\lib\\site-packages (from pandas->shap) (2.8.2)\n",
      "Requirement already satisfied: pytz>=2020.1 in d:\\programs\\anaconda3\\lib\\site-packages (from pandas->shap) (2024.1)\n",
      "Requirement already satisfied: tzdata>=2022.7 in d:\\programs\\anaconda3\\lib\\site-packages (from pandas->shap) (2024.1)\n",
      "Requirement already satisfied: joblib>=1.2.0 in d:\\programs\\anaconda3\\lib\\site-packages (from scikit-learn->shap) (1.4.2)\n",
      "Requirement already satisfied: threadpoolctl>=3.1.0 in d:\\programs\\anaconda3\\lib\\site-packages (from scikit-learn->shap) (3.3.0)\n",
      "Requirement already satisfied: six>=1.5 in d:\\programs\\anaconda3\\lib\\site-packages (from python-dateutil>=2.8.2->pandas->shap) (1.16.0)\n"
     ]
    },
    {
     "name": "stderr",
     "output_type": "stream",
     "text": [
      "WARNING: Ignoring invalid distribution ~andas (D:\\Programs\\Anaconda3\\Lib\\site-packages)\n",
      "WARNING: Ignoring invalid distribution ~andas (D:\\Programs\\Anaconda3\\Lib\\site-packages)\n",
      "WARNING: Ignoring invalid distribution ~andas (D:\\Programs\\Anaconda3\\Lib\\site-packages)\n"
     ]
    }
   ],
   "source": [
    "# Instalar bibliotecas necesarias (descomentar si no están instaladas)\n",
    "# !pip install sentence-transformers transformers scikit-learn\n",
    "# !pip install shap"
   ]
  },
  {
   "cell_type": "code",
   "execution_count": 8,
   "id": "4234f00b",
   "metadata": {},
   "outputs": [],
   "source": [
    "# Importar librerias necesarias\n",
    "import numpy as np\n",
    "import shap\n",
    "from sklearn.metrics.pairwise import cosine_similarity\n",
    "from sentence_transformers import SentenceTransformer\n",
    "from transformers import pipeline"
   ]
  },
  {
   "cell_type": "markdown",
   "id": "06056568",
   "metadata": {},
   "source": [
    "## 🌀 Paso 1: Introducción a los LLM"
   ]
  },
  {
   "cell_type": "markdown",
   "id": "2b3453af",
   "metadata": {},
   "source": [
    "\n",
    "Los Modelos de Lenguaje Grandes (LLM) son redes neuronales entrenadas en enormes cantidades de texto para predecir palabras o generar texto.  \n",
    "Por ejemplo, dada una oración como *\"El gato está en el\"*, el modelo puede predecir *\"tejado\"* basándose en patrones aprendidos.\n",
    "\n",
    "Los LLM utilizan:\n",
    "- **Representaciones vectoriales**: Cada palabra/frase se convierte en un vector en un espacio multidimensional.\n",
    "- **Mecanismo de atención**: Ayuda al modelo a centrarse en partes relevantes del texto.\n",
    "\n",
    "A continuación, exploraremos cómo integrar un LLM con bases de datos para mejorar las respuestas usando RAG.\n"
   ]
  },
  {
   "cell_type": "markdown",
   "id": "05f11dc9",
   "metadata": {},
   "source": [
    "## 📂 Paso 2: Crear una base de datos ficticia"
   ]
  },
  {
   "cell_type": "code",
   "execution_count": 1,
   "id": "6d7ce7c2",
   "metadata": {},
   "outputs": [
    {
     "name": "stdout",
     "output_type": "stream",
     "text": [
      "Documento 1: La cúrcuma tiene propiedades antiinflamatorias.\n",
      "Documento 2: Se ha demostrado que la cúrcuma ayuda a la digestión.\n",
      "Documento 3: La cúrcuma contiene curcumina, un antioxidante.\n"
     ]
    }
   ],
   "source": [
    "# Base de datos simulada - que también se puede agregar en estructura de promts, en formato .py para ser usado como base de datos.\n",
    "documents = [\n",
    "            \"La cúrcuma tiene propiedades antiinflamatorias.\",\n",
    "            \"Se ha demostrado que la cúrcuma ayuda a la digestión.\",\n",
    "            \"La cúrcuma contiene curcumina, un antioxidante.\"\n",
    "            ]\n",
    "\n",
    "# Mostrar los documentos\n",
    "for i, doc in enumerate(documents, 1):\n",
    "    print(f\"Documento {i}: {doc}\")"
   ]
  },
  {
   "cell_type": "markdown",
   "id": "495f15a6",
   "metadata": {},
   "source": [
    "## 🔢 Paso 3: Transformar documentos en vectores"
   ]
  },
  {
   "cell_type": "code",
   "execution_count": 9,
   "id": "12588455",
   "metadata": {},
   "outputs": [
    {
     "name": "stdout",
     "output_type": "stream",
     "text": [
      "Vectores generados para los documentos (dimensiones): (3, 384)\n"
     ]
    }
   ],
   "source": [
    "# Modelo para embeddings\n",
    "model = SentenceTransformer('all-MiniLM-L6-v2')\n",
    "\n",
    "# Generar vectores para los documentos\n",
    "document_vectors = model.encode(documents)\n",
    "print(\"Vectores generados para los documentos (dimensiones):\", document_vectors.shape)"
   ]
  },
  {
   "cell_type": "markdown",
   "id": "6dcb66bc",
   "metadata": {},
   "source": [
    "## 📝 Paso 4: Procesar la consulta del usuario"
   ]
  },
  {
   "cell_type": "code",
   "execution_count": 10,
   "id": "72a775d2",
   "metadata": {},
   "outputs": [
    {
     "name": "stdout",
     "output_type": "stream",
     "text": [
      "Vector de la consulta generado: [ 0.03837643  0.01184166 -0.06359773  0.01685266 -0.04091966] ...\n"
     ]
    }
   ],
   "source": [
    "# Consulta del usuario\n",
    "query = \"¿Cómo ayuda la cúrcuma a la salud?\"\n",
    "\n",
    "# Transformar la consulta en un vector\n",
    "query_vector = model.encode(query)\n",
    "print(\"Vector de la consulta generado:\", query_vector[:5], \"...\")"
   ]
  },
  {
   "cell_type": "code",
   "execution_count": 11,
   "id": "fae3c247",
   "metadata": {},
   "outputs": [
    {
     "data": {
      "text/plain": [
       "(384,)"
      ]
     },
     "execution_count": 11,
     "metadata": {},
     "output_type": "execute_result"
    }
   ],
   "source": [
    "query_vector.shape"
   ]
  },
  {
   "cell_type": "markdown",
   "id": "3e36aade",
   "metadata": {},
   "source": [
    "## 🔍 Paso 5: Buscar documentos relevantes"
   ]
  },
  {
   "cell_type": "code",
   "execution_count": 12,
   "id": "d1954fb9",
   "metadata": {},
   "outputs": [
    {
     "name": "stdout",
     "output_type": "stream",
     "text": [
      "Documentos relevantes:\n",
      "- Se ha demostrado que la cúrcuma ayuda a la digestión.\n",
      "- La cúrcuma tiene propiedades antiinflamatorias.\n"
     ]
    }
   ],
   "source": [
    "# Calcular similitud coseno\n",
    "similarities = cosine_similarity([query_vector], document_vectors)[0]\n",
    "\n",
    "# Recuperar los documentos más similares\n",
    "top_indices = np.argsort(similarities)[::-1][:2]  # Los 2 más relevantes\n",
    "relevant_docs = [documents[i] for i in top_indices]\n",
    "\n",
    "# Mostrar los documentos más relevantes\n",
    "print(\"Documentos relevantes:\")\n",
    "for doc in relevant_docs:\n",
    "    print(\"-\", doc)"
   ]
  },
  {
   "cell_type": "markdown",
   "id": "198e4946",
   "metadata": {},
   "source": [
    "## 💡 Paso 6: Generar respuesta con el LLM"
   ]
  },
  {
   "cell_type": "code",
   "execution_count": 13,
   "id": "e4ace749",
   "metadata": {},
   "outputs": [
    {
     "name": "stderr",
     "output_type": "stream",
     "text": [
      "d:\\Programs\\Anaconda3\\Lib\\site-packages\\transformers\\generation\\utils.py:1220: UserWarning: Using the model-agnostic default `max_length` (=20) to control the generation length. We recommend setting `max_new_tokens` to control the maximum length of the generation.\n",
      "  warnings.warn(\n"
     ]
    },
    {
     "name": "stdout",
     "output_type": "stream",
     "text": [
      "Respuesta generada:\n",
      "ayuda la crcuma a la digesti\n"
     ]
    }
   ],
   "source": [
    "# Cargar el modelo LLM\n",
    "qa_pipeline = pipeline(\"text2text-generation\", model=\"t5-small\")\n",
    "\n",
    "# Concatenar los documentos relevantes\n",
    "context = \" \".join(relevant_docs)\n",
    "final_input = f\"Contexto: {context} Pregunta: {query}\"\n",
    "\n",
    "# Generar respuesta\n",
    "response = qa_pipeline(final_input)\n",
    "print(\"Respuesta generada:\")\n",
    "print(response[0]['generated_text'])"
   ]
  },
  {
   "cell_type": "markdown",
   "id": "355a5561",
   "metadata": {},
   "source": [
    "\n",
    "## 🎯 Conclusión\n",
    "En este cuaderno, hemos explorado cómo combinar **LLM** con una base de datos mediante **RAG**. Este enfoque permite enriquecer respuestas aprovechando tanto el conocimiento general del modelo como información específica de una base de datos. 🚀\n"
   ]
  },
  {
   "cell_type": "code",
   "execution_count": 15,
   "id": "5e6fe3e1",
   "metadata": {},
   "outputs": [
    {
     "name": "stdout",
     "output_type": "stream",
     "text": [
      "[[ True False False False False False False]\n",
      " [False  True False False False False False]\n",
      " [False False  True False False False False]\n",
      " [False False False  True False False False]\n",
      " [False False False False  True False False]\n",
      " [False False False False False  True False]\n",
      " [False False False False False False  True]]\n"
     ]
    },
    {
     "ename": "ValueError",
     "evalue": "operands could not be broadcast together with shapes (384,) (7,) ",
     "output_type": "error",
     "traceback": [
      "\u001b[1;31m---------------------------------------------------------------------------\u001b[0m",
      "\u001b[1;31mValueError\u001b[0m                                Traceback (most recent call last)",
      "Cell \u001b[1;32mIn[15], line 28\u001b[0m\n\u001b[0;32m     25\u001b[0m     \u001b[38;5;28;01mreturn\u001b[39;00m model\u001b[38;5;241m.\u001b[39mencode([filtered_query])[\u001b[38;5;241m0\u001b[39m]\n\u001b[0;32m     27\u001b[0m \u001b[38;5;66;03m# Crear el explicador SHAP\u001b[39;00m\n\u001b[1;32m---> 28\u001b[0m explainer \u001b[38;5;241m=\u001b[39m \u001b[43mshap\u001b[49m\u001b[38;5;241;43m.\u001b[39;49m\u001b[43mKernelExplainer\u001b[49m\u001b[43m(\u001b[49m\u001b[43mpredict_text\u001b[49m\u001b[43m,\u001b[49m\u001b[43m \u001b[49m\u001b[43mreference\u001b[49m\u001b[43m)\u001b[49m\n\u001b[0;32m     30\u001b[0m \u001b[38;5;66;03m# # Calcular los valores SHAP para la consulta completa (todas las palabras activas)\u001b[39;00m\n\u001b[0;32m     31\u001b[0m \u001b[38;5;66;03m# shap_values = explainer.shap_values(np.ones(len(words)))\u001b[39;00m\n\u001b[0;32m     32\u001b[0m \n\u001b[0;32m     33\u001b[0m \u001b[38;5;66;03m# # Visualizar los valores SHAP\u001b[39;00m\n\u001b[0;32m     34\u001b[0m \u001b[38;5;66;03m# shap.force_plot(explainer.expected_value, shap_values, words)\u001b[39;00m\n",
      "File \u001b[1;32md:\\Programs\\Anaconda3\\Lib\\site-packages\\shap\\explainers\\_kernel.py:127\u001b[0m, in \u001b[0;36mKernelExplainer.__init__\u001b[1;34m(self, model, data, feature_names, link, **kwargs)\u001b[0m\n\u001b[0;32m    125\u001b[0m \u001b[38;5;28;01melif\u001b[39;00m safe_isinstance(model_null, \u001b[38;5;124m\"\u001b[39m\u001b[38;5;124mtensorflow.python.framework.ops.SymbolicTensor\u001b[39m\u001b[38;5;124m\"\u001b[39m):\n\u001b[0;32m    126\u001b[0m     model_null \u001b[38;5;241m=\u001b[39m \u001b[38;5;28mself\u001b[39m\u001b[38;5;241m.\u001b[39m_convert_symbolic_tensor(model_null)\n\u001b[1;32m--> 127\u001b[0m \u001b[38;5;28mself\u001b[39m\u001b[38;5;241m.\u001b[39mfnull \u001b[38;5;241m=\u001b[39m np\u001b[38;5;241m.\u001b[39msum((\u001b[43mmodel_null\u001b[49m\u001b[38;5;241;43m.\u001b[39;49m\u001b[43mT\u001b[49m\u001b[43m \u001b[49m\u001b[38;5;241;43m*\u001b[39;49m\u001b[43m \u001b[49m\u001b[38;5;28;43mself\u001b[39;49m\u001b[38;5;241;43m.\u001b[39;49m\u001b[43mdata\u001b[49m\u001b[38;5;241;43m.\u001b[39;49m\u001b[43mweights\u001b[49m)\u001b[38;5;241m.\u001b[39mT, \u001b[38;5;241m0\u001b[39m)\n\u001b[0;32m    128\u001b[0m \u001b[38;5;28mself\u001b[39m\u001b[38;5;241m.\u001b[39mexpected_value \u001b[38;5;241m=\u001b[39m \u001b[38;5;28mself\u001b[39m\u001b[38;5;241m.\u001b[39mlinkfv(\u001b[38;5;28mself\u001b[39m\u001b[38;5;241m.\u001b[39mfnull)\n\u001b[0;32m    130\u001b[0m \u001b[38;5;66;03m# see if we have a vector output\u001b[39;00m\n",
      "\u001b[1;31mValueError\u001b[0m: operands could not be broadcast together with shapes (384,) (7,) "
     ]
    }
   ],
   "source": [
    "# Dividir la consulta en palabras\n",
    "words = query.split()\n",
    "\n",
    "# Vector de referencia para SHAP (matriz con una palabra activa por fila)\n",
    "reference = np.eye(len(words))  # Matriz identidad, activa una palabra a la vez\n",
    "\n",
    "# Definir una función de predicción para SHAP\n",
    "def predict_text(words_to_keep):\n",
    "    \"\"\"\n",
    "    Genera un vector embedding para una consulta parcial.\n",
    "    `words_to_keep` es un arreglo que indica qué palabras incluir.\n",
    "    \"\"\"\n",
    "    # Convertir `words_to_keep` a un formato binario si no lo es\n",
    "    words_to_keep = np.round(words_to_keep).astype(bool)\n",
    "    print(words_to_keep)\n",
    "    \n",
    "    # Filtrar palabras basadas en `words_to_keep`\n",
    "    filtered_query = \" \".join([words[i] for i in range(len(words)) if words_to_keep[i].all()])\n",
    "    \n",
    "    # Si no hay palabras seleccionadas, retornar un vector de ceros\n",
    "    if not filtered_query.strip():\n",
    "        return np.zeros_like(model.encode([\"\"])[0])\n",
    "    \n",
    "    # Retornar el embedding de la consulta filtrada\n",
    "    return model.encode([filtered_query])[0]\n",
    "\n",
    "# Crear el explicador SHAP\n",
    "explainer = shap.KernelExplainer(predict_text, reference)\n",
    "\n",
    "# # Calcular los valores SHAP para la consulta completa (todas las palabras activas)\n",
    "# shap_values = explainer.shap_values(np.ones(len(words)))\n",
    "\n",
    "# # Visualizar los valores SHAP\n",
    "# shap.force_plot(explainer.expected_value, shap_values, words)\n"
   ]
  },
  {
   "cell_type": "markdown",
   "id": "038bef34",
   "metadata": {},
   "source": []
  }
 ],
 "metadata": {
  "kernelspec": {
   "display_name": "base",
   "language": "python",
   "name": "python3"
  },
  "language_info": {
   "codemirror_mode": {
    "name": "ipython",
    "version": 3
   },
   "file_extension": ".py",
   "mimetype": "text/x-python",
   "name": "python",
   "nbconvert_exporter": "python",
   "pygments_lexer": "ipython3",
   "version": "3.12.4"
  }
 },
 "nbformat": 4,
 "nbformat_minor": 5
}

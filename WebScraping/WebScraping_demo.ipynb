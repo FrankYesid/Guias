{
 "cells": [
  {
   "attachments": {},
   "cell_type": "markdown",
   "id": "800b4c24",
   "metadata": {},
   "source": [
    "# Ejemplo de WebScraping con Python\n",
    "## Obtener Ibex35 bolsa de Madrid"
   ]
  },
  {
   "cell_type": "code",
   "execution_count": null,
   "id": "d216c7a6",
   "metadata": {},
   "outputs": [],
   "source": [
    "# import libraries\n",
    "import csv                    # \n",
    "import requests               # \n",
    "from bs4 import BeautifulSoup # \n",
    "from datetime import datetime # "
   ]
  },
  {
   "cell_type": "code",
   "execution_count": null,
   "id": "87881512",
   "metadata": {},
   "outputs": [],
   "source": [
    "#@markdown indicar la ruta, para este ejemplo tomamos como base el directorio en donde se encuentra el archivo con la información\n",
    "link_page = 'http://www.bolsamadrid.es/esp/aspx/Indices/Resumen.aspx'"
   ]
  },
  {
   "cell_type": "code",
   "execution_count": null,
   "id": "f547858c",
   "metadata": {},
   "outputs": [],
   "source": [
    "# @markdown al verificar la carga, tenemos presente el tiempo de carga el cual tarda 480 milisegundos.\n",
    "page = requests.get(link_page).text\n",
    "soup = BeautifulSoup(page, \"lxml\")"
   ]
  },
  {
   "cell_type": "code",
   "execution_count": null,
   "id": "f7ea1f18",
   "metadata": {},
   "outputs": [],
   "source": [
    "# @markdown Obtenemos la tabla por un ID específico que contiene la información\n",
    "tabla = soup.find('table', attrs={'id': 'ctl00_Contenido_tblÍndices'})\n",
    "tabla\n"
   ]
  },
  {
   "cell_type": "code",
   "execution_count": null,
   "id": "b202c210",
   "metadata": {},
   "outputs": [],
   "source": [
    "# @title ciclo que recorre la información almacenada en una estructura\n",
    "name=\"\"\n",
    "price=\"\"\n",
    "nroFila=0\n",
    "for fila in tabla.find_all(\"tr\"):\n",
    "    if nroFila==1:\n",
    "        nroCelda=0\n",
    "        for celda in fila.find_all('td'):\n",
    "            if nroCelda==0:\n",
    "                name=celda.text\n",
    "                print(\"Indice:\", name)\n",
    "            if nroCelda==2:\n",
    "                price=celda.text\n",
    "                print(\"Valor:\", price)\n",
    "            nroCelda=nroCelda+1\n",
    "    nroFila=nroFila+1"
   ]
  },
  {
   "cell_type": "code",
   "execution_count": null,
   "id": "c19eaac7",
   "metadata": {},
   "outputs": [],
   "source": [
    "# @markdown Abrimos el csv con append para que pueda agregar contenidos al final del archivo\n",
    "with open('bolsa_ibex35.csv', 'a') as csv_file:\n",
    "    writer = csv.writer(csv_file)\n",
    "    writer.writerow([name, price, datetime.now()])\n"
   ]
  },
  {
   "cell_type": "code",
   "execution_count": null,
   "id": "f1567858",
   "metadata": {},
   "outputs": [],
   "source": [
    "# @title Segundo ejemplo\n",
    "# Obtener resultados de Futbol\n",
    "# Ejemplo Liga BBVA - España - Primera -  desde marcadores.com\n",
    "url_info = 'https://www.marcadores.com/futbol/espana/liga-bbva/?competitionRoundId=486942'  # Información almacenada con la Jornada número 20\n"
   ]
  },
  {
   "cell_type": "code",
   "execution_count": null,
   "id": "ff98c99c",
   "metadata": {},
   "outputs": [],
   "source": [
    "# @markdown Timepo de carga - tarda 1500 milisegundos\n",
    "page = requests.get(url_info).text\n",
    "soup = BeautifulSoup(page, \"lxml\")\n"
   ]
  },
  {
   "cell_type": "code",
   "execution_count": null,
   "id": "8873e55e",
   "metadata": {},
   "outputs": [],
   "source": [
    "# Obtenemos la tabla por un ID específico\n",
    "tabla = soup.find('table', attrs={'class': 'matches'})\n",
    "tabla\n"
   ]
  },
  {
   "cell_type": "code",
   "execution_count": null,
   "id": "a54c1227",
   "metadata": {},
   "outputs": [],
   "source": [
    "data = []\n",
    "equipo1=\"\"\n",
    "equipo2=\"\"\n",
    "resultado=\"\"\n",
    "nroFila=0\n",
    "for fila in tabla.find_all(\"tr\"):\n",
    "    if nroFila>0:\n",
    "        nroCelda=0\n",
    "        capturar=False\n",
    "        for celda in fila.find_all('td'):\n",
    "            if nroCelda==1 and celda.text=='Fin.':\n",
    "                capturar=True\n",
    "            if capturar and nroCelda==2:\n",
    "                equipo1=celda.text\n",
    "            if capturar and nroCelda==4:\n",
    "                equipo2=celda.text\n",
    "            if capturar and nroCelda==5:\n",
    "                resultado=celda.text\n",
    "                print(\"Partido:\", equipo1,'vs',equipo2,resultado)\n",
    "                data.append((equipo1,equipo2,resultado))\n",
    "            nroCelda=nroCelda+1\n",
    "    nroFila=nroFila+1"
   ]
  },
  {
   "cell_type": "code",
   "execution_count": null,
   "id": "f0563716",
   "metadata": {},
   "outputs": [],
   "source": [
    "# Abrimos el csv con append para que pueda agregar contenidos al final del archivo\n",
    "with open('partidos_liga_primera.csv', 'a') as csv_file:\n",
    "    writer = csv.writer(csv_file)\n",
    "    for equipo1, equipo2,resultado in data:\n",
    "        writer.writerow([equipo1, equipo2, resultado,datetime.now()])"
   ]
  },
  {
   "attachments": {},
   "cell_type": "markdown",
   "id": "bfa5714b",
   "metadata": {},
   "source": [
    "# Para completar\n",
    "## Otros ejemplos de WebScaping"
   ]
  },
  {
   "cell_type": "code",
   "execution_count": null,
   "id": "153706d4",
   "metadata": {},
   "outputs": [],
   "source": [
    "# @markdown supongamos tenemos el siguiente HTML\n",
    "pagina = \"<html>\" \\\n",
    "    + \"<head></head>\" \\\n",
    "    + \"<body>\" \\\n",
    "    + \"<div class='contenedor'>\" \\\n",
    "    + \"<div id='123' name='bloque_bienvenida' class='verde'>\" \\\n",
    "    + \"Bienvenido a mi web\" \\\n",
    "    + \"</div>\" \\\n",
    "    + \"</div>\" \\\n",
    "    + \"</body>\" \\\n",
    "    + \"</html>\""
   ]
  },
  {
   "cell_type": "code",
   "execution_count": null,
   "id": "141f4e91",
   "metadata": {},
   "outputs": [],
   "source": [
    "# Realiza la lectura de parte de la página\n",
    "soup = BeautifulSoup(pagina, \"lxml\")"
   ]
  },
  {
   "cell_type": "code",
   "execution_count": null,
   "id": "362610cf",
   "metadata": {},
   "outputs": [],
   "source": [
    "# Obtener por ID:\n",
    "elTexto = soup.find('div', attrs={'id': '123'}).getText()\n",
    "print(elTexto)\n"
   ]
  },
  {
   "cell_type": "code",
   "execution_count": null,
   "id": "ca09e1ff",
   "metadata": {},
   "outputs": [],
   "source": [
    "# Obtener por Clase CSS:\n",
    "elTexto = soup.find('div', attrs={'class': 'verde'}).getText()\n",
    "print(elTexto)\n"
   ]
  },
  {
   "cell_type": "code",
   "execution_count": null,
   "id": "de16d2aa",
   "metadata": {},
   "outputs": [],
   "source": [
    "# Obtener dentro de otra etiqueta anidado:\n",
    "elTexto = next(soup.div.children).getText()  # con next obtiene primer \"hijo\"\n",
    "print(elTexto)\n"
   ]
  },
  {
   "attachments": {},
   "cell_type": "markdown",
   "id": "2707a324",
   "metadata": {},
   "source": [
    "## Obtener items de un listado"
   ]
  },
  {
   "cell_type": "code",
   "execution_count": null,
   "id": "bb69d8a3",
   "metadata": {},
   "outputs": [],
   "source": [
    "# @markdown supongamos tenemos el siguiente HTML\n",
    "pagina_web = \"<html>\" \\\n",
    "    + \"<head></head>\" \\\n",
    "    + \"<body>\" \\\n",
    "    + \"<div class='contenedor'>\" \\\n",
    "    + \"<ul>\" \\\n",
    "    + \"<li>Perro</li>\" \\\n",
    "    + \"<li>Gato</li>\" \\\n",
    "    + \"<li>Tortuga</li>\" \\\n",
    "    + \"</ul>\" \\\n",
    "    + \"</div>\" \\\n",
    "    + \"</body>\" \\\n",
    "    + \"</html>\"\n"
   ]
  },
  {
   "cell_type": "code",
   "execution_count": null,
   "id": "db3005c9",
   "metadata": {},
   "outputs": [],
   "source": [
    "soup = BeautifulSoup(pagina_web, \"lxml\")\n"
   ]
  },
  {
   "cell_type": "code",
   "execution_count": null,
   "id": "0424bf5f",
   "metadata": {},
   "outputs": [],
   "source": [
    "for child in soup.ul.children:\n",
    "    print(child.getText())\n"
   ]
  },
  {
   "cell_type": "code",
   "execution_count": null,
   "id": "6b1bbe94",
   "metadata": {},
   "outputs": [],
   "source": [
    "items = soup.find_all('li')\n",
    "for item in items:\n",
    "    print(item.getText())\n"
   ]
  },
  {
   "attachments": {},
   "cell_type": "markdown",
   "id": "9e314216",
   "metadata": {},
   "source": [
    "## Obtener Enlaces"
   ]
  },
  {
   "cell_type": "code",
   "execution_count": null,
   "id": "4d9772c7",
   "metadata": {},
   "outputs": [],
   "source": [
    "# supongamos tenemos el siguiente HTML\n",
    "pagina_web = \"<html>\" \\\n",
    "    + \"<head></head>\" \\\n",
    "    + \"<body>\" \\\n",
    "    + \"<div class='contenedor'>\" \\\n",
    "    + \"<ul>\" \\\n",
    "    + \"<li><a href='http://www.google.com'>Google</a></li>\" \\\n",
    "    + \"<li><a href='http://www.yahoo.com'>Yahoo</a></li>\" \\\n",
    "    + \"<li><a href='http://www.bing.com'>Bing</a></li>\" \\\n",
    "    + \"</ul>\" \\\n",
    "    + \"</div>\" \\\n",
    "    + \"</body>\" \\\n",
    "    + \"</html>\"\n"
   ]
  },
  {
   "cell_type": "code",
   "execution_count": null,
   "id": "853278f9",
   "metadata": {},
   "outputs": [],
   "source": [
    "soup = BeautifulSoup(pagina_web, \"lxml\")"
   ]
  },
  {
   "cell_type": "code",
   "execution_count": null,
   "id": "de3b3ed5",
   "metadata": {},
   "outputs": [],
   "source": [
    "items = soup.find_all('a')\n",
    "for item in items:\n",
    "    print(item['href'])"
   ]
  },
  {
   "attachments": {},
   "cell_type": "markdown",
   "id": "91fc4faa",
   "metadata": {},
   "source": [
    "## Ejemplo completo Extraer enlaces"
   ]
  },
  {
   "cell_type": "code",
   "execution_count": null,
   "id": "5ba3a152",
   "metadata": {},
   "outputs": [],
   "source": [
    "url_page = 'https://www.lifeder.com/cientificos-famosos/'\n",
    "page = requests.get(url_page).text\n",
    "soup = BeautifulSoup(page, \"lxml\")\n",
    "contenido = soup.find('div', attrs={'class': 'td-post-content'})\n",
    "items = contenido.find_all('a')\n",
    "for item in items:\n",
    "    print(item['href'])"
   ]
  },
  {
   "attachments": {},
   "cell_type": "markdown",
   "id": "59439343",
   "metadata": {},
   "source": [
    "## Pendiente actualizar con otros ejemplos... Proximamente..."
   ]
  }
 ],
 "metadata": {
  "kernelspec": {
   "display_name": "Python 3",
   "language": "python",
   "name": "python3"
  },
  "language_info": {
   "codemirror_mode": {
    "name": "ipython",
    "version": 3
   },
   "file_extension": ".py",
   "mimetype": "text/x-python",
   "name": "python",
   "nbconvert_exporter": "python",
   "pygments_lexer": "ipython3",
   "version": "3.7.10"
  }
 },
 "nbformat": 4,
 "nbformat_minor": 5
}

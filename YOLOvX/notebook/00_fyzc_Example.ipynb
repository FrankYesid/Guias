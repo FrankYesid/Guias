{
 "cells": [
  {
   "cell_type": "markdown",
   "metadata": {},
   "source": [
    "# 1. Introducción\n",
    "Objetivo del cuaderno\n",
    "\n",
    "Cargar imágenes del dataset.\n",
    "Visualizar anotaciones (bounding boxes) asociadas a cada imagen.\n",
    "Preparar los datos para modelos YOLOvX.\n",
    "Código de introducción:"
   ]
  },
  {
   "cell_type": "markdown",
   "metadata": {},
   "source": [
    "# Manipulación del Dataset para YOLOvX\n",
    "\n",
    "Este cuaderno guía el proceso de carga, visualización y preparación del dataset para usar con la librería YOLOvX.\n",
    "\n",
    "**Estructura esperada del dataset:**\n",
    "\n",
    "dataset/ \n",
    "├── images/ \n",
    "│ ├── train/ \n",
    "│ ├── val/ \n",
    "├── labels/ \n",
    "│ ├── train/ \n",
    "  ├── val/"
   ]
  },
  {
   "cell_type": "markdown",
   "metadata": {},
   "source": [
    "\n",
    "**Tareas:**\n",
    "1. Cargar imágenes desde el disco.\n",
    "2. Visualizar las cajas delimitadoras (bounding boxes) basadas en etiquetas YOLO.\n",
    "3. Preparar los datos para entrenamiento con YOLOvX.\n"
   ]
  },
  {
   "cell_type": "markdown",
   "metadata": {},
   "source": [
    "# 2. Importar bibliotecas necesarias"
   ]
  },
  {
   "cell_type": "code",
   "execution_count": null,
   "metadata": {},
   "outputs": [],
   "source": [
    "# Importar bibliotecas\n",
    "import os\n",
    "import matplotlib.pyplot as plt\n",
    "from matplotlib.patches import Rectangle\n",
    "from PIL import Image\n"
   ]
  },
  {
   "cell_type": "markdown",
   "metadata": {},
   "source": [
    "# 3. Definir funciones de utilidad"
   ]
  },
  {
   "cell_type": "code",
   "execution_count": null,
   "metadata": {},
   "outputs": [],
   "source": [
    "# Función para cargar imágenes\n",
    "def load_image(image_path):\n",
    "    \"\"\"Carga una imagen desde el archivo especificado.\"\"\"\n",
    "    return Image.open(image_path)\n",
    "\n",
    "# Función para parsear etiquetas YOLO\n",
    "def parse_yolo_label(label_path, image_width, image_height):\n",
    "    \"\"\"Convierte etiquetas YOLO en coordenadas de bounding boxes.\"\"\"\n",
    "    boxes = []\n",
    "    with open(label_path, 'r') as file:\n",
    "        lines = file.readlines()\n",
    "        for line in lines:\n",
    "            class_id, x_center, y_center, width, height = map(float, line.split())\n",
    "            x_min = int((x_center - width / 2) * image_width)\n",
    "            y_min = int((y_center - height / 2) * image_height)\n",
    "            x_max = int((x_center + width / 2) * image_width)\n",
    "            y_max = int((y_center + height / 2) * image_height)\n",
    "            boxes.append((class_id, x_min, y_min, x_max, y_max))\n",
    "    return boxes\n",
    "\n",
    "# Función para visualizar una imagen con sus bounding boxes\n",
    "def visualize_image_with_boxes(image_path, label_path):\n",
    "    \"\"\"Visualiza una imagen junto con sus bounding boxes.\"\"\"\n",
    "    img = load_image(image_path)\n",
    "    boxes = parse_yolo_label(label_path, img.width, img.height)\n",
    "\n",
    "    # Mostrar la imagen\n",
    "    fig, ax = plt.subplots(1, figsize=(8, 8))\n",
    "    ax.imshow(img)\n",
    "\n",
    "    # Dibujar las bounding boxes\n",
    "    for box in boxes:\n",
    "        class_id, x_min, y_min, x_max, y_max = box\n",
    "        rect = Rectangle((x_min, y_min), x_max - x_min, y_max - y_min,\n",
    "                         linewidth=2, edgecolor='red', facecolor='none')\n",
    "        ax.add_patch(rect)\n",
    "        ax.text(x_min, y_min - 5, f\"Class: {int(class_id)}\", color='red', fontsize=10)\n",
    "\n",
    "    plt.show()\n"
   ]
  },
  {
   "cell_type": "markdown",
   "metadata": {},
   "source": [
    "# 4. Cargar y visualizar una imagen del conjunto de entrenamiento"
   ]
  },
  {
   "cell_type": "code",
   "execution_count": null,
   "metadata": {},
   "outputs": [],
   "source": [
    "# Definir rutas del dataset\n",
    "dataset_path = \"dataset\"\n",
    "image_file = os.path.join(dataset_path, \"images/train/image_0.jpg\")\n",
    "label_file = os.path.join(dataset_path, \"labels/train/image_0.txt\")\n",
    "\n",
    "# Visualizar la imagen con sus bounding boxes\n",
    "visualize_image_with_boxes(image_file, label_file)\n"
   ]
  },
  {
   "cell_type": "markdown",
   "metadata": {},
   "source": [
    "# 5. Visualizar múltiples imágenes"
   ]
  },
  {
   "cell_type": "code",
   "execution_count": null,
   "metadata": {},
   "outputs": [],
   "source": [
    "# Visualizar las primeras 3 imágenes del conjunto de entrenamiento\n",
    "train_images_path = os.path.join(dataset_path, \"images/train/\")\n",
    "train_labels_path = os.path.join(dataset_path, \"labels/train/\")\n",
    "\n",
    "for i in range(3):\n",
    "    image_file = os.path.join(train_images_path, f\"image_{i}.jpg\")\n",
    "    label_file = os.path.join(train_labels_path, f\"image_{i}.txt\")\n",
    "    print(f\"Visualizando {image_file}\")\n",
    "    visualize_image_with_boxes(image_file, label_file)\n"
   ]
  },
  {
   "cell_type": "markdown",
   "metadata": {},
   "source": [
    "# 6. Preparar los datos para YOLOvX"
   ]
  },
  {
   "cell_type": "code",
   "execution_count": null,
   "metadata": {},
   "outputs": [],
   "source": [
    "# Crear archivo de configuración YOLOvX\n",
    "train_path = os.path.join(dataset_path, \"images/train\")\n",
    "val_path = os.path.join(dataset_path, \"images/val\")\n",
    "\n",
    "config_content = f\"\"\"\n",
    "train: {train_path}\n",
    "val: {val_path}\n",
    "\n",
    "# Número de clases\n",
    "nc: 1\n",
    "\n",
    "# Nombres de las clases\n",
    "names: ['class_name']\n",
    "\"\"\"\n",
    "\n",
    "config_file = os.path.join(dataset_path, \"dataset.yaml\")\n",
    "with open(config_file, \"w\") as file:\n",
    "    file.write(config_content)\n",
    "\n",
    "print(f\"Archivo de configuración guardado en: {config_file}\")\n"
   ]
  }
 ],
 "metadata": {
  "kernelspec": {
   "display_name": "base",
   "language": "python",
   "name": "python3"
  },
  "language_info": {
   "name": "python",
   "version": "3.12.4"
  }
 },
 "nbformat": 4,
 "nbformat_minor": 2
}

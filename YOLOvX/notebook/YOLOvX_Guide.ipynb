{
 "cells": [
  {
   "cell_type": "markdown",
   "id": "22831423",
   "metadata": {},
   "source": [
    "# **Guía Detallada para Usar YOLOvX en Python**"
   ]
  },
  {
   "cell_type": "markdown",
   "id": "93fd7303",
   "metadata": {},
   "source": [
    "## **1. Introducción a YOLOvX**\n",
    "YOLOvX es una versión avanzada de la familia YOLO (You Only Look Once), diseñada para detección de objetos en tiempo real. \n",
    "YOLOvX ofrece alta precisión y velocidad, con múltiples configuraciones para diferentes necesidades (p. ej., `YOLOv5s` para velocidad, `YOLOv5x` para precisión).\n"
   ]
  },
  {
   "cell_type": "markdown",
   "id": "2348c4c0",
   "metadata": {},
   "source": [
    "## **2. Requisitos previos**\n",
    "### **Hardware**\n",
    "- GPU compatible con CUDA (opcional pero recomendado).\n",
    "- Al menos 8 GB de RAM.\n",
    "\n",
    "### **Software**\n",
    "- Python 3.8 o superior.\n",
    "- CUDA Toolkit y cuDNN instalados para aceleración por GPU (opcional).\n",
    "- Dependencias específicas de YOLOvX.\n"
   ]
  },
  {
   "cell_type": "code",
   "execution_count": null,
   "id": "cc9de2a2",
   "metadata": {},
   "outputs": [],
   "source": [
    "# **3. Instalación**\n",
    "# Paso 1: Clonar el repositorio YOLOvX\n",
    "!git clone https://github.com/ultralytics/yolov5\n",
    "%cd yolov5\n",
    "\n",
    "# Paso 2: Crear un entorno virtual (opcional)\n",
    "# En sistemas UNIX/Linux\n",
    "#!python -m venv yolovx_env\n",
    "#!source yolovx_env/bin/activate\n",
    "\n",
    "# En Windows\n",
    "#!python -m venv yolovx_env\n",
    "#!yolovx_env\\Scripts\\activate\n",
    "\n",
    "# Paso 3: Instalar dependencias\n",
    "!pip install -r requirements.txt\n"
   ]
  },
  {
   "cell_type": "markdown",
   "id": "c598ce4a",
   "metadata": {},
   "source": [
    "## **4. Uso básico de YOLOvX**\n",
    "### Paso 4.1: Realizar inferencia en una imagen\n",
    "Utiliza YOLOvX para detectar objetos en una imagen:\n",
    "```python\n",
    "!python detect.py --source path/to/image.jpg --weights yolov5s.pt --conf 0.4\n",
    "```\n",
    "### Paso 4.2: Inferencia en video\n",
    "```python\n",
    "!python detect.py --source path/to/video.mp4 --weights yolov5s.pt --conf 0.4\n",
    "```\n",
    "### Paso 4.3: Usar la cámara\n",
    "```python\n",
    "!python detect.py --source 0 --weights yolov5s.pt --conf 0.4\n",
    "```\n",
    "Los resultados se guardan en la carpeta `runs/detect`.\n"
   ]
  },
  {
   "cell_type": "markdown",
   "id": "5fb33feb",
   "metadata": {},
   "source": [
    "## **5. Entrenamiento de un modelo personalizado**\n",
    "\n",
    "### **Paso 5.1: Recolectar y anotar datos**\n",
    "- Utiliza herramientas como [LabelImg](https://github.com/heartexlabs/labelImg) para anotar imágenes.\n",
    "- Organiza tus datos de entrenamiento de la siguiente manera:\n",
    "```plaintext\n",
    "dataset/\n",
    "├── images/\n",
    "│   ├── train/\n",
    "│   ├── val/\n",
    "├── labels/\n",
    "│   ├── train/\n",
    "│   ├── val/\n",
    "```\n",
    "\n",
    "### **Paso 5.2: Crear archivo YAML**\n",
    "Crea un archivo YAML (por ejemplo, `custom_dataset.yaml`) con:\n",
    "```yaml\n",
    "train: path/to/dataset/images/train\n",
    "val: path/to/dataset/images/val\n",
    "nc: 3  # Número de clases\n",
    "names: ['clase1', 'clase2', 'clase3']\n",
    "```\n",
    "\n",
    "### **Paso 5.3: Entrenamiento**\n",
    "```python\n",
    "!python train.py --data custom_dataset.yaml --cfg yolov5s.yaml --weights yolov5s.pt --epochs 50 --batch-size 16\n",
    "```\n",
    "\n",
    "### **Paso 5.4: Inferencia usando el modelo entrenado**\n",
    "```python\n",
    "!python detect.py --weights runs/train/exp/weights/best.pt --source path/to/image.jpg\n",
    "```\n"
   ]
  },
  {
   "cell_type": "markdown",
   "id": "fe7fbf85",
   "metadata": {},
   "source": [
    "## **6. Optimización avanzada**\n",
    "### Convertir a formato ONNX o TensorRT\n",
    "```python\n",
    "!python export.py --weights runs/train/exp/weights/best.pt --img 640 --batch 1\n",
    "```\n",
    "Esta funcionalidad es útil para desplegar modelos en sistemas de producción.\n"
   ]
  }
 ],
 "metadata": {
  "language_info": {
   "name": "python"
  }
 },
 "nbformat": 4,
 "nbformat_minor": 5
}
